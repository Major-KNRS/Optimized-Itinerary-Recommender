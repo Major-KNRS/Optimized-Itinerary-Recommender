{
 "cells": [
  {
   "cell_type": "markdown",
   "metadata": {},
   "source": [
    "# Destinations Recommender based on Content-Based Filtering\n",
    "\n",
    "Collaborative filtering relies solely on user-item interactions within the utility matrix. The issue with this approach is that brand new users or items with no interactions get excluded from the recommendation system. This is called the \"cold start\" problem. Content-based filtering is a way to handle this problem by generating recommendations based on user and item features."
   ]
  },
  {
   "cell_type": "markdown",
   "metadata": {},
   "source": [
    "### Step 1: Import Dependencies"
   ]
  },
  {
   "cell_type": "code",
   "execution_count": 63,
   "metadata": {},
   "outputs": [],
   "source": [
    "import numpy as np\n",
    "import pandas as pd\n",
    "import sklearn\n",
    "import matplotlib.pyplot as plt"
   ]
  },
  {
   "cell_type": "markdown",
   "metadata": {},
   "source": [
    "### Step 2: Load the Data"
   ]
  },
  {
   "cell_type": "code",
   "execution_count": 64,
   "metadata": {},
   "outputs": [
    {
     "data": {
      "text/html": [
       "<div>\n",
       "<style scoped>\n",
       "    .dataframe tbody tr th:only-of-type {\n",
       "        vertical-align: middle;\n",
       "    }\n",
       "\n",
       "    .dataframe tbody tr th {\n",
       "        vertical-align: top;\n",
       "    }\n",
       "\n",
       "    .dataframe thead th {\n",
       "        text-align: right;\n",
       "    }\n",
       "</style>\n",
       "<table border=\"1\" class=\"dataframe\">\n",
       "  <thead>\n",
       "    <tr style=\"text-align: right;\">\n",
       "      <th></th>\n",
       "      <th>dest_id</th>\n",
       "      <th>title</th>\n",
       "      <th>genre</th>\n",
       "      <th>latitude</th>\n",
       "      <th>longitude</th>\n",
       "      <th>img_url</th>\n",
       "      <th>genre_updated</th>\n",
       "      <th>history</th>\n",
       "      <th>art_and_architecture</th>\n",
       "      <th>nature</th>\n",
       "      <th>adventure</th>\n",
       "      <th>entertainment</th>\n",
       "      <th>health_and_lifestyle</th>\n",
       "      <th>food</th>\n",
       "      <th>industries</th>\n",
       "      <th>religious</th>\n",
       "    </tr>\n",
       "  </thead>\n",
       "  <tbody>\n",
       "    <tr>\n",
       "      <th>0</th>\n",
       "      <td>0</td>\n",
       "      <td>Boudhanath Stupa</td>\n",
       "      <td>history:art_and_architecture:religious</td>\n",
       "      <td>27.721506</td>\n",
       "      <td>85.359809</td>\n",
       "      <td>data:image/jpeg;base64,/9j/4AAQSkZJRgABAQAAAQA...</td>\n",
       "      <td>['history', 'art_and_architecture', 'religious']</td>\n",
       "      <td>True</td>\n",
       "      <td>True</td>\n",
       "      <td>False</td>\n",
       "      <td>False</td>\n",
       "      <td>False</td>\n",
       "      <td>False</td>\n",
       "      <td>False</td>\n",
       "      <td>False</td>\n",
       "      <td>True</td>\n",
       "    </tr>\n",
       "    <tr>\n",
       "      <th>1</th>\n",
       "      <td>1</td>\n",
       "      <td>Phewa Tal (Fewa Lake)</td>\n",
       "      <td>nature</td>\n",
       "      <td>28.211627</td>\n",
       "      <td>83.932296</td>\n",
       "      <td>data:image/jpeg;base64,/9j/4AAQSkZJRgABAQAAAQA...</td>\n",
       "      <td>['nature']</td>\n",
       "      <td>False</td>\n",
       "      <td>False</td>\n",
       "      <td>True</td>\n",
       "      <td>False</td>\n",
       "      <td>False</td>\n",
       "      <td>False</td>\n",
       "      <td>False</td>\n",
       "      <td>False</td>\n",
       "      <td>False</td>\n",
       "    </tr>\n",
       "    <tr>\n",
       "      <th>2</th>\n",
       "      <td>2</td>\n",
       "      <td>Sarangkot</td>\n",
       "      <td>nature</td>\n",
       "      <td>28.244376</td>\n",
       "      <td>83.944564</td>\n",
       "      <td>data:image/jpeg;base64,/9j/4AAQSkZJRgABAQAAAQA...</td>\n",
       "      <td>['nature']</td>\n",
       "      <td>False</td>\n",
       "      <td>False</td>\n",
       "      <td>True</td>\n",
       "      <td>False</td>\n",
       "      <td>False</td>\n",
       "      <td>False</td>\n",
       "      <td>False</td>\n",
       "      <td>False</td>\n",
       "      <td>False</td>\n",
       "    </tr>\n",
       "    <tr>\n",
       "      <th>3</th>\n",
       "      <td>3</td>\n",
       "      <td>Swayambhunath Temple</td>\n",
       "      <td>history:art_and_architecture:religious</td>\n",
       "      <td>27.714930</td>\n",
       "      <td>85.288146</td>\n",
       "      <td>data:image/jpeg;base64,/9j/4AAQSkZJRgABAQAAAQA...</td>\n",
       "      <td>['history', 'art_and_architecture', 'religious']</td>\n",
       "      <td>True</td>\n",
       "      <td>True</td>\n",
       "      <td>False</td>\n",
       "      <td>False</td>\n",
       "      <td>False</td>\n",
       "      <td>False</td>\n",
       "      <td>False</td>\n",
       "      <td>False</td>\n",
       "      <td>True</td>\n",
       "    </tr>\n",
       "    <tr>\n",
       "      <th>4</th>\n",
       "      <td>4</td>\n",
       "      <td>Poon Hill</td>\n",
       "      <td>nature</td>\n",
       "      <td>28.400195</td>\n",
       "      <td>83.671789</td>\n",
       "      <td>data:image/jpeg;base64,/9j/4AAQSkZJRgABAQAAAQA...</td>\n",
       "      <td>['nature']</td>\n",
       "      <td>False</td>\n",
       "      <td>False</td>\n",
       "      <td>True</td>\n",
       "      <td>False</td>\n",
       "      <td>False</td>\n",
       "      <td>False</td>\n",
       "      <td>False</td>\n",
       "      <td>False</td>\n",
       "      <td>False</td>\n",
       "    </tr>\n",
       "  </tbody>\n",
       "</table>\n",
       "</div>"
      ],
      "text/plain": [
       "   dest_id                  title                                   genre  \\\n",
       "0        0       Boudhanath Stupa  history:art_and_architecture:religious   \n",
       "1        1  Phewa Tal (Fewa Lake)                                  nature   \n",
       "2        2              Sarangkot                                  nature   \n",
       "3        3   Swayambhunath Temple  history:art_and_architecture:religious   \n",
       "4        4              Poon Hill                                  nature   \n",
       "\n",
       "    latitude  longitude                                            img_url  \\\n",
       "0  27.721506  85.359809  data:image/jpeg;base64,/9j/4AAQSkZJRgABAQAAAQA...   \n",
       "1  28.211627  83.932296  data:image/jpeg;base64,/9j/4AAQSkZJRgABAQAAAQA...   \n",
       "2  28.244376  83.944564  data:image/jpeg;base64,/9j/4AAQSkZJRgABAQAAAQA...   \n",
       "3  27.714930  85.288146  data:image/jpeg;base64,/9j/4AAQSkZJRgABAQAAAQA...   \n",
       "4  28.400195  83.671789  data:image/jpeg;base64,/9j/4AAQSkZJRgABAQAAAQA...   \n",
       "\n",
       "                                      genre_updated  history  \\\n",
       "0  ['history', 'art_and_architecture', 'religious']     True   \n",
       "1                                        ['nature']    False   \n",
       "2                                        ['nature']    False   \n",
       "3  ['history', 'art_and_architecture', 'religious']     True   \n",
       "4                                        ['nature']    False   \n",
       "\n",
       "   art_and_architecture  nature  adventure  entertainment  \\\n",
       "0                  True   False      False          False   \n",
       "1                 False    True      False          False   \n",
       "2                 False    True      False          False   \n",
       "3                  True   False      False          False   \n",
       "4                 False    True      False          False   \n",
       "\n",
       "   health_and_lifestyle   food  industries  religious  \n",
       "0                 False  False       False       True  \n",
       "1                 False  False       False      False  \n",
       "2                 False  False       False      False  \n",
       "3                 False  False       False       True  \n",
       "4                 False  False       False      False  "
      ]
     },
     "execution_count": 64,
     "metadata": {},
     "output_type": "execute_result"
    }
   ],
   "source": [
    "destinations = pd.read_csv(\"../../Datasets/reindexed_nepal_destinations_with_added_genre_columns.csv\")\n",
    "destinations.head()"
   ]
  },
  {
   "cell_type": "code",
   "execution_count": 65,
   "metadata": {},
   "outputs": [
    {
     "data": {
      "text/plain": [
       "Index(['dest_id', 'title', 'genre', 'latitude', 'longitude', 'img_url',\n",
       "       'genre_updated', 'history', 'art_and_architecture', 'nature',\n",
       "       'adventure', 'entertainment', 'health_and_lifestyle', 'food',\n",
       "       'industries', 'religious'],\n",
       "      dtype='object')"
      ]
     },
     "execution_count": 65,
     "metadata": {},
     "output_type": "execute_result"
    }
   ],
   "source": [
    "destinations.columns"
   ]
  },
  {
   "cell_type": "markdown",
   "metadata": {},
   "source": [
    "### Step 3: Data Cleaning and Exploration\n"
   ]
  },
  {
   "cell_type": "code",
   "execution_count": 66,
   "metadata": {},
   "outputs": [],
   "source": [
    "#convert True/False categories to 1/0\n",
    "# converted=destinations.iloc[:,3:12].astype(int)"
   ]
  },
  {
   "cell_type": "code",
   "execution_count": 67,
   "metadata": {},
   "outputs": [],
   "source": [
    "# drop columns in dataframe \n",
    "# destinations.drop(destinations.columns[2:12],axis=1,inplace=True)"
   ]
  },
  {
   "cell_type": "code",
   "execution_count": 68,
   "metadata": {},
   "outputs": [],
   "source": [
    "# destinations.head()"
   ]
  },
  {
   "cell_type": "code",
   "execution_count": 69,
   "metadata": {},
   "outputs": [],
   "source": [
    "#concat the converted and original dataframe \n",
    "# new_df=pd.concat([destinations,converted],axis=1)\n",
    "# new_df"
   ]
  },
  {
   "cell_type": "code",
   "execution_count": 70,
   "metadata": {},
   "outputs": [
    {
     "data": {
      "text/html": [
       "<div>\n",
       "<style scoped>\n",
       "    .dataframe tbody tr th:only-of-type {\n",
       "        vertical-align: middle;\n",
       "    }\n",
       "\n",
       "    .dataframe tbody tr th {\n",
       "        vertical-align: top;\n",
       "    }\n",
       "\n",
       "    .dataframe thead th {\n",
       "        text-align: right;\n",
       "    }\n",
       "</style>\n",
       "<table border=\"1\" class=\"dataframe\">\n",
       "  <thead>\n",
       "    <tr style=\"text-align: right;\">\n",
       "      <th></th>\n",
       "      <th>history</th>\n",
       "      <th>art_and_architecture</th>\n",
       "      <th>nature</th>\n",
       "      <th>adventure</th>\n",
       "      <th>entertainment</th>\n",
       "      <th>health_and_lifestyle</th>\n",
       "      <th>food</th>\n",
       "      <th>industries</th>\n",
       "      <th>religious</th>\n",
       "    </tr>\n",
       "  </thead>\n",
       "  <tbody>\n",
       "    <tr>\n",
       "      <th>0</th>\n",
       "      <td>True</td>\n",
       "      <td>True</td>\n",
       "      <td>False</td>\n",
       "      <td>False</td>\n",
       "      <td>False</td>\n",
       "      <td>False</td>\n",
       "      <td>False</td>\n",
       "      <td>False</td>\n",
       "      <td>True</td>\n",
       "    </tr>\n",
       "    <tr>\n",
       "      <th>1</th>\n",
       "      <td>False</td>\n",
       "      <td>False</td>\n",
       "      <td>True</td>\n",
       "      <td>False</td>\n",
       "      <td>False</td>\n",
       "      <td>False</td>\n",
       "      <td>False</td>\n",
       "      <td>False</td>\n",
       "      <td>False</td>\n",
       "    </tr>\n",
       "    <tr>\n",
       "      <th>2</th>\n",
       "      <td>False</td>\n",
       "      <td>False</td>\n",
       "      <td>True</td>\n",
       "      <td>False</td>\n",
       "      <td>False</td>\n",
       "      <td>False</td>\n",
       "      <td>False</td>\n",
       "      <td>False</td>\n",
       "      <td>False</td>\n",
       "    </tr>\n",
       "    <tr>\n",
       "      <th>3</th>\n",
       "      <td>True</td>\n",
       "      <td>True</td>\n",
       "      <td>False</td>\n",
       "      <td>False</td>\n",
       "      <td>False</td>\n",
       "      <td>False</td>\n",
       "      <td>False</td>\n",
       "      <td>False</td>\n",
       "      <td>True</td>\n",
       "    </tr>\n",
       "    <tr>\n",
       "      <th>4</th>\n",
       "      <td>False</td>\n",
       "      <td>False</td>\n",
       "      <td>True</td>\n",
       "      <td>False</td>\n",
       "      <td>False</td>\n",
       "      <td>False</td>\n",
       "      <td>False</td>\n",
       "      <td>False</td>\n",
       "      <td>False</td>\n",
       "    </tr>\n",
       "  </tbody>\n",
       "</table>\n",
       "</div>"
      ],
      "text/plain": [
       "   history  art_and_architecture  nature  adventure  entertainment  \\\n",
       "0     True                  True   False      False          False   \n",
       "1    False                 False    True      False          False   \n",
       "2    False                 False    True      False          False   \n",
       "3     True                  True   False      False          False   \n",
       "4    False                 False    True      False          False   \n",
       "\n",
       "   health_and_lifestyle   food  industries  religious  \n",
       "0                 False  False       False       True  \n",
       "1                 False  False       False      False  \n",
       "2                 False  False       False      False  \n",
       "3                 False  False       False       True  \n",
       "4                 False  False       False      False  "
      ]
     },
     "execution_count": 70,
     "metadata": {},
     "output_type": "execute_result"
    }
   ],
   "source": [
    "destination_features=destinations[['history', 'art_and_architecture', 'nature','adventure', 'entertainment',\\\n",
    "                                   'health_and_lifestyle', 'food','industries', 'religious']]\n",
    "destination_features.head()"
   ]
  },
  {
   "cell_type": "markdown",
   "metadata": {},
   "source": [
    "### Step 4: Building a \"Similar Destinations\" Recommender Using Cosine Similarity\n",
    "\n",
    "We're going to build our item-item recommender using a similarity metric called [cosine similarity](https://en.wikipedia.org/wiki/Cosine_similarity). \n",
    "\n",
    "Cosine similarity looks at the cosine angle between two vectors (e.g., $A$ and $B$). The smaller the cosine angle, the higher the degree of similarity between $A$ and $B$. You can calculate the similarity between $A$ and $B$ with this equation:\n",
    "\n",
    "$$\\cos(\\theta) = \\frac{A\\cdot B}{||A|| ||B||}$$\n",
    "\n",
    "In this tutorial, we're going to use scikit-learn's cosine similarity [function](https://scikit-learn.org/stable/modules/generated/sklearn.metrics.pairwise.cosine_similarity.html) to generate a cosine similarity matrix of shape $(n_{\\text{movies}}, n_{\\text{movies}})$. With this cosine similarity matrix, we'll be able to extract movies that are most similar to the movie of interest."
   ]
  },
  {
   "cell_type": "code",
   "execution_count": 71,
   "metadata": {},
   "outputs": [
    {
     "name": "stdout",
     "output_type": "stream",
     "text": [
      "Dimensions of our destination features cosine similarity matrix: (442, 442)\n"
     ]
    }
   ],
   "source": [
    "from sklearn.metrics.pairwise import cosine_similarity\n",
    "\n",
    "cosine_sim = cosine_similarity(destination_features, destination_features)\n",
    "print(f\"Dimensions of our destination features cosine similarity matrix: {cosine_sim.shape}\")"
   ]
  },
  {
   "cell_type": "markdown",
   "metadata": {},
   "source": [
    "As expected, after passing the `destination_features` dataframe into the `cosine_similarity()` function, we get a cosine similarity matrix of shape $(n_{\\text{destinations}}, n_{\\text{destinations}})$.\n",
    "\n",
    "This matrix is populated with values between 0 and 1 which represent the degree of similarity between destinations along the x and y axes."
   ]
  },
  {
   "cell_type": "markdown",
   "metadata": {},
   "source": [
    "### Let's create a movie finder function\n",
    "\n",
    "Use [fuzzywuzzy](https://pypi.org/project/fuzzywuzzy/) so the exact names of the destinations do not have to be typed."
   ]
  },
  {
   "cell_type": "code",
   "execution_count": 72,
   "metadata": {},
   "outputs": [],
   "source": [
    "from fuzzywuzzy import process\n",
    "\n",
    "def destination_finder(title):\n",
    "    all_titles = destinations['title'].tolist()\n",
    "    closest_match = process.extractOne(title,all_titles)\n",
    "    return closest_match[0]"
   ]
  },
  {
   "cell_type": "markdown",
   "metadata": {},
   "source": [
    "Let's test this out with our Bouddhanath example. "
   ]
  },
  {
   "cell_type": "code",
   "execution_count": 73,
   "metadata": {},
   "outputs": [
    {
     "data": {
      "text/plain": [
       "'Boudhanath Stupa'"
      ]
     },
     "execution_count": 73,
     "metadata": {},
     "output_type": "execute_result"
    }
   ],
   "source": [
    "title = destination_finder('boudhanath')\n",
    "title"
   ]
  },
  {
   "cell_type": "markdown",
   "metadata": {},
   "source": [
    "To get relevant recommendations for Jumanji, we need to find its index in the cosine simialrity matrix. To identify which row we should be looking at, we can create a movie index mapper which maps a movie title to the index that it represents in our matrix. \n",
    "\n",
    "Let's create a destination index dictionary called `destination_idx` where the keys are destination titles and values are destination indices:"
   ]
  },
  {
   "cell_type": "code",
   "execution_count": 74,
   "metadata": {},
   "outputs": [
    {
     "data": {
      "text/plain": [
       "0"
      ]
     },
     "execution_count": 74,
     "metadata": {},
     "output_type": "execute_result"
    }
   ],
   "source": [
    "destination_idx = dict(zip(destinations['title'], list(destinations.index)))\n",
    "idx = destination_idx[title]\n",
    "idx"
   ]
  },
  {
   "cell_type": "markdown",
   "metadata": {},
   "source": [
    "Using this handy `destination_idx` dictionary, we know that Boudhanath Stupa is represented by index 0 in our matrix. Let's get the top 10 most similar sites to Boudhanath Stupa."
   ]
  },
  {
   "cell_type": "code",
   "execution_count": 75,
   "metadata": {},
   "outputs": [],
   "source": [
    "n_recommendations=10\n",
    "sim_scores = list(enumerate(cosine_sim[idx]))\n",
    "sim_scores = sorted(sim_scores, key=lambda x: x[1], reverse=True)\n",
    "sim_scores = sim_scores[1:(n_recommendations+1)]\n",
    "similar_destinations = [i[0] for i in sim_scores]"
   ]
  },
  {
   "cell_type": "markdown",
   "metadata": {},
   "source": [
    "`similar_movies` is an array of indices that represents boudhanath stupa's top 10 recommendations. We can get the corresponding destination titles by either creating an inverse `destination_idx` mapper or using `iloc` on the title column of the `destinations` dataframe."
   ]
  },
  {
   "cell_type": "code",
   "execution_count": 76,
   "metadata": {},
   "outputs": [
    {
     "name": "stdout",
     "output_type": "stream",
     "text": [
      "Because you watched Boudhanath Stupa:\n"
     ]
    },
    {
     "data": {
      "text/plain": [
       "3                        Swayambhunath Temple\n",
       "5                                Peace Temple\n",
       "6                        Pashupatinath Temple\n",
       "11    Golden Temple (Hiranya Varna Mahavihar)\n",
       "16                            Kopan Monastery\n",
       "30                           Muktinath Temple\n",
       "31                              Barahi temple\n",
       "32                           Maya Devi Temple\n",
       "35                      Bindhya Basini Temple\n",
       "41                          Mahaboudha Temple\n",
       "Name: title, dtype: object"
      ]
     },
     "execution_count": 76,
     "metadata": {},
     "output_type": "execute_result"
    }
   ],
   "source": [
    "print(f\"Because you watched {title}:\")\n",
    "destinations['title'].iloc[similar_destinations]"
   ]
  },
  {
   "cell_type": "markdown",
   "metadata": {},
   "source": [
    "Now, create a single function to accomodate all these steps."
   ]
  },
  {
   "cell_type": "code",
   "execution_count": 77,
   "metadata": {},
   "outputs": [],
   "source": [
    "# def get_content_based_recommendations(title_string, n_recommendations=10):\n",
    "#     title = destination_finder(title_string)\n",
    "#     idx = destination_idx[title]\n",
    "#     sim_scores = list(enumerate(cosine_sim[idx]))\n",
    "#     sim_scores = sorted(sim_scores, key=lambda x: x[1], reverse=True)\n",
    "#     sim_scores = sim_scores[1:(n_recommendations+1)]\n",
    "#     similar_destinations = [i[0] for i in sim_scores]\n",
    "#     print(f\"Recommendations for {title}:\")\n",
    "#     print(destinations['title'].iloc[similar_destinations])\n",
    "#     return similar_destinations\n",
    "def get_content_based_recommendations(idx, n_recommendations=10):\n",
    "    sim_scores = list(enumerate(cosine_sim[idx]))\n",
    "    sim_scores = sorted(sim_scores, key=lambda x: x[1], reverse=True)\n",
    "    sim_scores = sim_scores[1:(n_recommendations+1)]\n",
    "    similar_destinations = [i[0] for i in sim_scores]\n",
    "#     print(f\"Recommendations for {title}:\")\n",
    "#     print(destinations['title'].iloc[similar_destinations])\n",
    "    return similar_destinations"
   ]
  },
  {
   "cell_type": "code",
   "execution_count": 78,
   "metadata": {},
   "outputs": [
    {
     "name": "stdout",
     "output_type": "stream",
     "text": [
      "[2, 4, 8, 9, 10, 15, 19, 25, 27, 28]\n"
     ]
    }
   ],
   "source": [
    "print(get_content_based_recommendations(1,10))"
   ]
  },
  {
   "cell_type": "markdown",
   "metadata": {},
   "source": [
    "## Evaluation"
   ]
  },
  {
   "cell_type": "code",
   "execution_count": 79,
   "metadata": {},
   "outputs": [
    {
     "data": {
      "text/html": [
       "<div>\n",
       "<style scoped>\n",
       "    .dataframe tbody tr th:only-of-type {\n",
       "        vertical-align: middle;\n",
       "    }\n",
       "\n",
       "    .dataframe tbody tr th {\n",
       "        vertical-align: top;\n",
       "    }\n",
       "\n",
       "    .dataframe thead th {\n",
       "        text-align: right;\n",
       "    }\n",
       "</style>\n",
       "<table border=\"1\" class=\"dataframe\">\n",
       "  <thead>\n",
       "    <tr style=\"text-align: right;\">\n",
       "      <th></th>\n",
       "      <th>dest_id</th>\n",
       "      <th>title</th>\n",
       "      <th>genre</th>\n",
       "      <th>latitude</th>\n",
       "      <th>longitude</th>\n",
       "      <th>img_url</th>\n",
       "      <th>genre_updated</th>\n",
       "      <th>history</th>\n",
       "      <th>art_and_architecture</th>\n",
       "      <th>nature</th>\n",
       "      <th>adventure</th>\n",
       "      <th>entertainment</th>\n",
       "      <th>health_and_lifestyle</th>\n",
       "      <th>food</th>\n",
       "      <th>industries</th>\n",
       "      <th>religious</th>\n",
       "    </tr>\n",
       "  </thead>\n",
       "  <tbody>\n",
       "    <tr>\n",
       "      <th>0</th>\n",
       "      <td>0</td>\n",
       "      <td>Boudhanath Stupa</td>\n",
       "      <td>history:art_and_architecture:religious</td>\n",
       "      <td>27.721506</td>\n",
       "      <td>85.359809</td>\n",
       "      <td>data:image/jpeg;base64,/9j/4AAQSkZJRgABAQAAAQA...</td>\n",
       "      <td>['history', 'art_and_architecture', 'religious']</td>\n",
       "      <td>True</td>\n",
       "      <td>True</td>\n",
       "      <td>False</td>\n",
       "      <td>False</td>\n",
       "      <td>False</td>\n",
       "      <td>False</td>\n",
       "      <td>False</td>\n",
       "      <td>False</td>\n",
       "      <td>True</td>\n",
       "    </tr>\n",
       "    <tr>\n",
       "      <th>1</th>\n",
       "      <td>1</td>\n",
       "      <td>Phewa Tal (Fewa Lake)</td>\n",
       "      <td>nature</td>\n",
       "      <td>28.211627</td>\n",
       "      <td>83.932296</td>\n",
       "      <td>data:image/jpeg;base64,/9j/4AAQSkZJRgABAQAAAQA...</td>\n",
       "      <td>['nature']</td>\n",
       "      <td>False</td>\n",
       "      <td>False</td>\n",
       "      <td>True</td>\n",
       "      <td>False</td>\n",
       "      <td>False</td>\n",
       "      <td>False</td>\n",
       "      <td>False</td>\n",
       "      <td>False</td>\n",
       "      <td>False</td>\n",
       "    </tr>\n",
       "    <tr>\n",
       "      <th>2</th>\n",
       "      <td>2</td>\n",
       "      <td>Sarangkot</td>\n",
       "      <td>nature</td>\n",
       "      <td>28.244376</td>\n",
       "      <td>83.944564</td>\n",
       "      <td>data:image/jpeg;base64,/9j/4AAQSkZJRgABAQAAAQA...</td>\n",
       "      <td>['nature']</td>\n",
       "      <td>False</td>\n",
       "      <td>False</td>\n",
       "      <td>True</td>\n",
       "      <td>False</td>\n",
       "      <td>False</td>\n",
       "      <td>False</td>\n",
       "      <td>False</td>\n",
       "      <td>False</td>\n",
       "      <td>False</td>\n",
       "    </tr>\n",
       "    <tr>\n",
       "      <th>3</th>\n",
       "      <td>3</td>\n",
       "      <td>Swayambhunath Temple</td>\n",
       "      <td>history:art_and_architecture:religious</td>\n",
       "      <td>27.714930</td>\n",
       "      <td>85.288146</td>\n",
       "      <td>data:image/jpeg;base64,/9j/4AAQSkZJRgABAQAAAQA...</td>\n",
       "      <td>['history', 'art_and_architecture', 'religious']</td>\n",
       "      <td>True</td>\n",
       "      <td>True</td>\n",
       "      <td>False</td>\n",
       "      <td>False</td>\n",
       "      <td>False</td>\n",
       "      <td>False</td>\n",
       "      <td>False</td>\n",
       "      <td>False</td>\n",
       "      <td>True</td>\n",
       "    </tr>\n",
       "    <tr>\n",
       "      <th>4</th>\n",
       "      <td>4</td>\n",
       "      <td>Poon Hill</td>\n",
       "      <td>nature</td>\n",
       "      <td>28.400195</td>\n",
       "      <td>83.671789</td>\n",
       "      <td>data:image/jpeg;base64,/9j/4AAQSkZJRgABAQAAAQA...</td>\n",
       "      <td>['nature']</td>\n",
       "      <td>False</td>\n",
       "      <td>False</td>\n",
       "      <td>True</td>\n",
       "      <td>False</td>\n",
       "      <td>False</td>\n",
       "      <td>False</td>\n",
       "      <td>False</td>\n",
       "      <td>False</td>\n",
       "      <td>False</td>\n",
       "    </tr>\n",
       "    <tr>\n",
       "      <th>...</th>\n",
       "      <td>...</td>\n",
       "      <td>...</td>\n",
       "      <td>...</td>\n",
       "      <td>...</td>\n",
       "      <td>...</td>\n",
       "      <td>...</td>\n",
       "      <td>...</td>\n",
       "      <td>...</td>\n",
       "      <td>...</td>\n",
       "      <td>...</td>\n",
       "      <td>...</td>\n",
       "      <td>...</td>\n",
       "      <td>...</td>\n",
       "      <td>...</td>\n",
       "      <td>...</td>\n",
       "      <td>...</td>\n",
       "    </tr>\n",
       "    <tr>\n",
       "      <th>437</th>\n",
       "      <td>437</td>\n",
       "      <td>Travel Maker South Asia</td>\n",
       "      <td>art_and_architecture:religious</td>\n",
       "      <td>27.713420</td>\n",
       "      <td>85.311246</td>\n",
       "      <td>NaN</td>\n",
       "      <td>['art_and_architecture', 'religious']</td>\n",
       "      <td>False</td>\n",
       "      <td>True</td>\n",
       "      <td>False</td>\n",
       "      <td>False</td>\n",
       "      <td>False</td>\n",
       "      <td>False</td>\n",
       "      <td>False</td>\n",
       "      <td>False</td>\n",
       "      <td>True</td>\n",
       "    </tr>\n",
       "    <tr>\n",
       "      <th>438</th>\n",
       "      <td>438</td>\n",
       "      <td>Nepal Alibaba Treks &amp; Tours Pvt Ltd</td>\n",
       "      <td>history</td>\n",
       "      <td>27.737544</td>\n",
       "      <td>85.302841</td>\n",
       "      <td>NaN</td>\n",
       "      <td>['history']</td>\n",
       "      <td>True</td>\n",
       "      <td>False</td>\n",
       "      <td>False</td>\n",
       "      <td>False</td>\n",
       "      <td>False</td>\n",
       "      <td>False</td>\n",
       "      <td>False</td>\n",
       "      <td>False</td>\n",
       "      <td>False</td>\n",
       "    </tr>\n",
       "    <tr>\n",
       "      <th>439</th>\n",
       "      <td>439</td>\n",
       "      <td>Alpine Ramble Treks</td>\n",
       "      <td>history</td>\n",
       "      <td>27.719162</td>\n",
       "      <td>85.306492</td>\n",
       "      <td>NaN</td>\n",
       "      <td>['history']</td>\n",
       "      <td>True</td>\n",
       "      <td>False</td>\n",
       "      <td>False</td>\n",
       "      <td>False</td>\n",
       "      <td>False</td>\n",
       "      <td>False</td>\n",
       "      <td>False</td>\n",
       "      <td>False</td>\n",
       "      <td>False</td>\n",
       "    </tr>\n",
       "    <tr>\n",
       "      <th>440</th>\n",
       "      <td>440</td>\n",
       "      <td>Info Nepal Treks and Expedition</td>\n",
       "      <td>history:art_and_architecture:entertainment</td>\n",
       "      <td>27.716730</td>\n",
       "      <td>85.307607</td>\n",
       "      <td>NaN</td>\n",
       "      <td>['history', 'art_and_architecture', 'entertain...</td>\n",
       "      <td>True</td>\n",
       "      <td>True</td>\n",
       "      <td>False</td>\n",
       "      <td>False</td>\n",
       "      <td>True</td>\n",
       "      <td>False</td>\n",
       "      <td>False</td>\n",
       "      <td>False</td>\n",
       "      <td>False</td>\n",
       "    </tr>\n",
       "    <tr>\n",
       "      <th>441</th>\n",
       "      <td>441</td>\n",
       "      <td>Mountain Overview Paragliding</td>\n",
       "      <td>adventure</td>\n",
       "      <td>27.964449</td>\n",
       "      <td>84.075089</td>\n",
       "      <td>NaN</td>\n",
       "      <td>['adventure']</td>\n",
       "      <td>False</td>\n",
       "      <td>False</td>\n",
       "      <td>False</td>\n",
       "      <td>True</td>\n",
       "      <td>False</td>\n",
       "      <td>False</td>\n",
       "      <td>False</td>\n",
       "      <td>False</td>\n",
       "      <td>False</td>\n",
       "    </tr>\n",
       "  </tbody>\n",
       "</table>\n",
       "<p>442 rows × 16 columns</p>\n",
       "</div>"
      ],
      "text/plain": [
       "     dest_id                                title  \\\n",
       "0          0                     Boudhanath Stupa   \n",
       "1          1                Phewa Tal (Fewa Lake)   \n",
       "2          2                            Sarangkot   \n",
       "3          3                 Swayambhunath Temple   \n",
       "4          4                            Poon Hill   \n",
       "..       ...                                  ...   \n",
       "437      437              Travel Maker South Asia   \n",
       "438      438  Nepal Alibaba Treks & Tours Pvt Ltd   \n",
       "439      439                  Alpine Ramble Treks   \n",
       "440      440      Info Nepal Treks and Expedition   \n",
       "441      441        Mountain Overview Paragliding   \n",
       "\n",
       "                                          genre   latitude  longitude  \\\n",
       "0        history:art_and_architecture:religious  27.721506  85.359809   \n",
       "1                                        nature  28.211627  83.932296   \n",
       "2                                        nature  28.244376  83.944564   \n",
       "3        history:art_and_architecture:religious  27.714930  85.288146   \n",
       "4                                        nature  28.400195  83.671789   \n",
       "..                                          ...        ...        ...   \n",
       "437              art_and_architecture:religious  27.713420  85.311246   \n",
       "438                                     history  27.737544  85.302841   \n",
       "439                                     history  27.719162  85.306492   \n",
       "440  history:art_and_architecture:entertainment  27.716730  85.307607   \n",
       "441                                   adventure  27.964449  84.075089   \n",
       "\n",
       "                                               img_url  \\\n",
       "0    data:image/jpeg;base64,/9j/4AAQSkZJRgABAQAAAQA...   \n",
       "1    data:image/jpeg;base64,/9j/4AAQSkZJRgABAQAAAQA...   \n",
       "2    data:image/jpeg;base64,/9j/4AAQSkZJRgABAQAAAQA...   \n",
       "3    data:image/jpeg;base64,/9j/4AAQSkZJRgABAQAAAQA...   \n",
       "4    data:image/jpeg;base64,/9j/4AAQSkZJRgABAQAAAQA...   \n",
       "..                                                 ...   \n",
       "437                                                NaN   \n",
       "438                                                NaN   \n",
       "439                                                NaN   \n",
       "440                                                NaN   \n",
       "441                                                NaN   \n",
       "\n",
       "                                         genre_updated  history  \\\n",
       "0     ['history', 'art_and_architecture', 'religious']     True   \n",
       "1                                           ['nature']    False   \n",
       "2                                           ['nature']    False   \n",
       "3     ['history', 'art_and_architecture', 'religious']     True   \n",
       "4                                           ['nature']    False   \n",
       "..                                                 ...      ...   \n",
       "437              ['art_and_architecture', 'religious']    False   \n",
       "438                                        ['history']     True   \n",
       "439                                        ['history']     True   \n",
       "440  ['history', 'art_and_architecture', 'entertain...     True   \n",
       "441                                      ['adventure']    False   \n",
       "\n",
       "     art_and_architecture  nature  adventure  entertainment  \\\n",
       "0                    True   False      False          False   \n",
       "1                   False    True      False          False   \n",
       "2                   False    True      False          False   \n",
       "3                    True   False      False          False   \n",
       "4                   False    True      False          False   \n",
       "..                    ...     ...        ...            ...   \n",
       "437                  True   False      False          False   \n",
       "438                 False   False      False          False   \n",
       "439                 False   False      False          False   \n",
       "440                  True   False      False           True   \n",
       "441                 False   False       True          False   \n",
       "\n",
       "     health_and_lifestyle   food  industries  religious  \n",
       "0                   False  False       False       True  \n",
       "1                   False  False       False      False  \n",
       "2                   False  False       False      False  \n",
       "3                   False  False       False       True  \n",
       "4                   False  False       False      False  \n",
       "..                    ...    ...         ...        ...  \n",
       "437                 False  False       False       True  \n",
       "438                 False  False       False      False  \n",
       "439                 False  False       False      False  \n",
       "440                 False  False       False      False  \n",
       "441                 False  False       False      False  \n",
       "\n",
       "[442 rows x 16 columns]"
      ]
     },
     "execution_count": 79,
     "metadata": {},
     "output_type": "execute_result"
    }
   ],
   "source": [
    "destinations"
   ]
  },
  {
   "cell_type": "code",
   "execution_count": 80,
   "metadata": {},
   "outputs": [
    {
     "name": "stdout",
     "output_type": "stream",
     "text": [
      "   user_id  destination_id       destination_name  rating\n",
      "0        0               1  Phewa Tal (Fewa Lake)     5.0\n",
      "1        0               2              Sarangkot     5.0\n",
      "2        0               3   Swayambhunath Temple     5.0\n",
      "3        0               4              Poon Hill     5.0\n",
      "4        0               5           Peace Temple     5.0\n",
      "Shape: (6169, 4)\n"
     ]
    }
   ],
   "source": [
    "ratings=pd.read_csv(\"../../Datasets/final_sample_user_ratings_corrected.csv\")\n",
    "ratings.dropna(inplace=True)\n",
    "\n",
    "ratings['user_id']=ratings['user_id'].astype(int)\n",
    "ratings['destination_id']=ratings['destination_id'].astype(int)\n",
    "\n",
    "print(ratings.head())\n",
    "print(\"Shape:\",ratings.shape)"
   ]
  },
  {
   "cell_type": "code",
   "execution_count": 81,
   "metadata": {},
   "outputs": [
    {
     "name": "stdout",
     "output_type": "stream",
     "text": [
      "(6140, 4)\n",
      "   user_id  destination_id       destination_name  rating\n",
      "0        0               1  Phewa Tal (Fewa Lake)     5.0\n",
      "1        0               2              Sarangkot     5.0\n",
      "2        0               3   Swayambhunath Temple     5.0\n"
     ]
    }
   ],
   "source": [
    "#only consider ratings from users who have rated over n movies\n",
    "n=10\n",
    "users = ratings[\"user_id\"].value_counts()\n",
    "users = users[users>n].index.tolist()\n",
    "\n",
    "ratings = ratings.query('user_id in @users')\n",
    "print(ratings.shape)\n",
    "print(ratings.head(3))"
   ]
  },
  {
   "cell_type": "code",
   "execution_count": 82,
   "metadata": {},
   "outputs": [],
   "source": [
    "import matplotlib.pyplot as plt\n",
    "import numpy as np\n",
    "import pandas as pd\n",
    "from surprise import SVD, Dataset, Reader\n",
    "# from surprise.model_selection import train_test_split\n",
    "\n",
    "import recmetrics"
   ]
  },
  {
   "cell_type": "code",
   "execution_count": 83,
   "metadata": {},
   "outputs": [],
   "source": [
    "# reader = Reader(rating_scale=(0, 5))\n",
    "# data = Dataset.load_from_df(ratings[['user_id', 'destination_id', 'rating']], reader)\n",
    "# trainset, testset = train_test_split(data, test_size=0.25)\n",
    "test_ratings=ratings[['user_id', 'destination_id', 'rating']]\n",
    "testset=pd.DataFrame(test_ratings)"
   ]
  },
  {
   "cell_type": "code",
   "execution_count": 84,
   "metadata": {},
   "outputs": [
    {
     "data": {
      "text/html": [
       "<div>\n",
       "<style scoped>\n",
       "    .dataframe tbody tr th:only-of-type {\n",
       "        vertical-align: middle;\n",
       "    }\n",
       "\n",
       "    .dataframe tbody tr th {\n",
       "        vertical-align: top;\n",
       "    }\n",
       "\n",
       "    .dataframe thead th {\n",
       "        text-align: right;\n",
       "    }\n",
       "</style>\n",
       "<table border=\"1\" class=\"dataframe\">\n",
       "  <thead>\n",
       "    <tr style=\"text-align: right;\">\n",
       "      <th></th>\n",
       "      <th>user_id</th>\n",
       "      <th>destination_id</th>\n",
       "      <th>actual</th>\n",
       "    </tr>\n",
       "  </thead>\n",
       "  <tbody>\n",
       "    <tr>\n",
       "      <th>0</th>\n",
       "      <td>0</td>\n",
       "      <td>1</td>\n",
       "      <td>5.0</td>\n",
       "    </tr>\n",
       "    <tr>\n",
       "      <th>1</th>\n",
       "      <td>0</td>\n",
       "      <td>2</td>\n",
       "      <td>5.0</td>\n",
       "    </tr>\n",
       "    <tr>\n",
       "      <th>2</th>\n",
       "      <td>0</td>\n",
       "      <td>3</td>\n",
       "      <td>5.0</td>\n",
       "    </tr>\n",
       "    <tr>\n",
       "      <th>3</th>\n",
       "      <td>0</td>\n",
       "      <td>4</td>\n",
       "      <td>5.0</td>\n",
       "    </tr>\n",
       "    <tr>\n",
       "      <th>4</th>\n",
       "      <td>0</td>\n",
       "      <td>5</td>\n",
       "      <td>5.0</td>\n",
       "    </tr>\n",
       "  </tbody>\n",
       "</table>\n",
       "</div>"
      ],
      "text/plain": [
       "   user_id  destination_id  actual\n",
       "0        0               1     5.0\n",
       "1        0               2     5.0\n",
       "2        0               3     5.0\n",
       "3        0               4     5.0\n",
       "4        0               5     5.0"
      ]
     },
     "execution_count": 84,
     "metadata": {},
     "output_type": "execute_result"
    }
   ],
   "source": [
    "test = pd.DataFrame(testset)\n",
    "test.columns = ['user_id', 'destination_id', 'actual']\n",
    "test.head()"
   ]
  },
  {
   "cell_type": "code",
   "execution_count": 85,
   "metadata": {},
   "outputs": [
    {
     "data": {
      "text/html": [
       "<div>\n",
       "<style scoped>\n",
       "    .dataframe tbody tr th:only-of-type {\n",
       "        vertical-align: middle;\n",
       "    }\n",
       "\n",
       "    .dataframe tbody tr th {\n",
       "        vertical-align: top;\n",
       "    }\n",
       "\n",
       "    .dataframe thead th {\n",
       "        text-align: right;\n",
       "    }\n",
       "</style>\n",
       "<table border=\"1\" class=\"dataframe\">\n",
       "  <thead>\n",
       "    <tr style=\"text-align: right;\">\n",
       "      <th></th>\n",
       "      <th>user_id</th>\n",
       "      <th>actual</th>\n",
       "    </tr>\n",
       "  </thead>\n",
       "  <tbody>\n",
       "    <tr>\n",
       "      <th>0</th>\n",
       "      <td>0</td>\n",
       "      <td>[0, 1, 2, 3, 4, 5, 6, 7, 8, 9, 10, 44, 55, 185...</td>\n",
       "    </tr>\n",
       "    <tr>\n",
       "      <th>1</th>\n",
       "      <td>1</td>\n",
       "      <td>[0, 1, 2, 3, 4, 5, 6, 7, 8, 9, 10, 154, 291, 1...</td>\n",
       "    </tr>\n",
       "    <tr>\n",
       "      <th>2</th>\n",
       "      <td>2</td>\n",
       "      <td>[128, 1, 2, 3, 4, 5, 6, 7, 8, 9, 10, 267, 0, 1...</td>\n",
       "    </tr>\n",
       "    <tr>\n",
       "      <th>3</th>\n",
       "      <td>3</td>\n",
       "      <td>[0, 1, 2, 3, 4, 5, 6, 7, 8, 9, 10, 259, 143, 2...</td>\n",
       "    </tr>\n",
       "    <tr>\n",
       "      <th>4</th>\n",
       "      <td>4</td>\n",
       "      <td>[0, 1, 2, 3, 4, 5, 6, 7, 8, 9, 10, 137, 13, 14...</td>\n",
       "    </tr>\n",
       "    <tr>\n",
       "      <th>...</th>\n",
       "      <td>...</td>\n",
       "      <td>...</td>\n",
       "    </tr>\n",
       "    <tr>\n",
       "      <th>239</th>\n",
       "      <td>245</td>\n",
       "      <td>[0, 1, 2, 3, 4, 5, 6, 7, 8, 9, 10, 133, 135, 2...</td>\n",
       "    </tr>\n",
       "    <tr>\n",
       "      <th>240</th>\n",
       "      <td>246</td>\n",
       "      <td>[256, 1, 2, 3, 4, 5, 6, 7, 8, 9, 10, 131, 260,...</td>\n",
       "    </tr>\n",
       "    <tr>\n",
       "      <th>241</th>\n",
       "      <td>247</td>\n",
       "      <td>[0, 1, 2, 3, 4, 5, 6, 7, 8, 9, 10, 271, 151, 2...</td>\n",
       "    </tr>\n",
       "    <tr>\n",
       "      <th>242</th>\n",
       "      <td>248</td>\n",
       "      <td>[0, 1, 2, 3, 4, 5, 6, 7, 8, 9, 10, 264, 266, 1...</td>\n",
       "    </tr>\n",
       "    <tr>\n",
       "      <th>243</th>\n",
       "      <td>249</td>\n",
       "      <td>[0, 1, 2, 3, 4, 5, 6, 7, 8, 9, 10, 130, 257, 1...</td>\n",
       "    </tr>\n",
       "  </tbody>\n",
       "</table>\n",
       "<p>244 rows × 2 columns</p>\n",
       "</div>"
      ],
      "text/plain": [
       "     user_id                                             actual\n",
       "0          0  [0, 1, 2, 3, 4, 5, 6, 7, 8, 9, 10, 44, 55, 185...\n",
       "1          1  [0, 1, 2, 3, 4, 5, 6, 7, 8, 9, 10, 154, 291, 1...\n",
       "2          2  [128, 1, 2, 3, 4, 5, 6, 7, 8, 9, 10, 267, 0, 1...\n",
       "3          3  [0, 1, 2, 3, 4, 5, 6, 7, 8, 9, 10, 259, 143, 2...\n",
       "4          4  [0, 1, 2, 3, 4, 5, 6, 7, 8, 9, 10, 137, 13, 14...\n",
       "..       ...                                                ...\n",
       "239      245  [0, 1, 2, 3, 4, 5, 6, 7, 8, 9, 10, 133, 135, 2...\n",
       "240      246  [256, 1, 2, 3, 4, 5, 6, 7, 8, 9, 10, 131, 260,...\n",
       "241      247  [0, 1, 2, 3, 4, 5, 6, 7, 8, 9, 10, 271, 151, 2...\n",
       "242      248  [0, 1, 2, 3, 4, 5, 6, 7, 8, 9, 10, 264, 266, 1...\n",
       "243      249  [0, 1, 2, 3, 4, 5, 6, 7, 8, 9, 10, 130, 257, 1...\n",
       "\n",
       "[244 rows x 2 columns]"
      ]
     },
     "execution_count": 85,
     "metadata": {},
     "output_type": "execute_result"
    }
   ],
   "source": [
    "test = test.copy().groupby('user_id', as_index=False)['destination_id'].agg({'actual': (lambda x: list(set(x)))})\n",
    "test"
   ]
  },
  {
   "cell_type": "code",
   "execution_count": 86,
   "metadata": {},
   "outputs": [
    {
     "data": {
      "text/html": [
       "<div>\n",
       "<style scoped>\n",
       "    .dataframe tbody tr th:only-of-type {\n",
       "        vertical-align: middle;\n",
       "    }\n",
       "\n",
       "    .dataframe tbody tr th {\n",
       "        vertical-align: top;\n",
       "    }\n",
       "\n",
       "    .dataframe thead th {\n",
       "        text-align: right;\n",
       "    }\n",
       "</style>\n",
       "<table border=\"1\" class=\"dataframe\">\n",
       "  <thead>\n",
       "    <tr style=\"text-align: right;\">\n",
       "      <th></th>\n",
       "      <th>actual</th>\n",
       "    </tr>\n",
       "    <tr>\n",
       "      <th>user_id</th>\n",
       "      <th></th>\n",
       "    </tr>\n",
       "  </thead>\n",
       "  <tbody>\n",
       "    <tr>\n",
       "      <th>0</th>\n",
       "      <td>[0, 1, 2, 3, 4, 5, 6, 7, 8, 9, 10, 44, 55, 185...</td>\n",
       "    </tr>\n",
       "    <tr>\n",
       "      <th>1</th>\n",
       "      <td>[0, 1, 2, 3, 4, 5, 6, 7, 8, 9, 10, 154, 291, 1...</td>\n",
       "    </tr>\n",
       "    <tr>\n",
       "      <th>2</th>\n",
       "      <td>[128, 1, 2, 3, 4, 5, 6, 7, 8, 9, 10, 267, 0, 1...</td>\n",
       "    </tr>\n",
       "    <tr>\n",
       "      <th>3</th>\n",
       "      <td>[0, 1, 2, 3, 4, 5, 6, 7, 8, 9, 10, 259, 143, 2...</td>\n",
       "    </tr>\n",
       "    <tr>\n",
       "      <th>4</th>\n",
       "      <td>[0, 1, 2, 3, 4, 5, 6, 7, 8, 9, 10, 137, 13, 14...</td>\n",
       "    </tr>\n",
       "    <tr>\n",
       "      <th>...</th>\n",
       "      <td>...</td>\n",
       "    </tr>\n",
       "    <tr>\n",
       "      <th>245</th>\n",
       "      <td>[0, 1, 2, 3, 4, 5, 6, 7, 8, 9, 10, 133, 135, 2...</td>\n",
       "    </tr>\n",
       "    <tr>\n",
       "      <th>246</th>\n",
       "      <td>[256, 1, 2, 3, 4, 5, 6, 7, 8, 9, 10, 131, 260,...</td>\n",
       "    </tr>\n",
       "    <tr>\n",
       "      <th>247</th>\n",
       "      <td>[0, 1, 2, 3, 4, 5, 6, 7, 8, 9, 10, 271, 151, 2...</td>\n",
       "    </tr>\n",
       "    <tr>\n",
       "      <th>248</th>\n",
       "      <td>[0, 1, 2, 3, 4, 5, 6, 7, 8, 9, 10, 264, 266, 1...</td>\n",
       "    </tr>\n",
       "    <tr>\n",
       "      <th>249</th>\n",
       "      <td>[0, 1, 2, 3, 4, 5, 6, 7, 8, 9, 10, 130, 257, 1...</td>\n",
       "    </tr>\n",
       "  </tbody>\n",
       "</table>\n",
       "<p>244 rows × 1 columns</p>\n",
       "</div>"
      ],
      "text/plain": [
       "                                                    actual\n",
       "user_id                                                   \n",
       "0        [0, 1, 2, 3, 4, 5, 6, 7, 8, 9, 10, 44, 55, 185...\n",
       "1        [0, 1, 2, 3, 4, 5, 6, 7, 8, 9, 10, 154, 291, 1...\n",
       "2        [128, 1, 2, 3, 4, 5, 6, 7, 8, 9, 10, 267, 0, 1...\n",
       "3        [0, 1, 2, 3, 4, 5, 6, 7, 8, 9, 10, 259, 143, 2...\n",
       "4        [0, 1, 2, 3, 4, 5, 6, 7, 8, 9, 10, 137, 13, 14...\n",
       "...                                                    ...\n",
       "245      [0, 1, 2, 3, 4, 5, 6, 7, 8, 9, 10, 133, 135, 2...\n",
       "246      [256, 1, 2, 3, 4, 5, 6, 7, 8, 9, 10, 131, 260,...\n",
       "247      [0, 1, 2, 3, 4, 5, 6, 7, 8, 9, 10, 271, 151, 2...\n",
       "248      [0, 1, 2, 3, 4, 5, 6, 7, 8, 9, 10, 264, 266, 1...\n",
       "249      [0, 1, 2, 3, 4, 5, 6, 7, 8, 9, 10, 130, 257, 1...\n",
       "\n",
       "[244 rows x 1 columns]"
      ]
     },
     "execution_count": 86,
     "metadata": {},
     "output_type": "execute_result"
    }
   ],
   "source": [
    "test = test.set_index(\"user_id\")\n",
    "test"
   ]
  },
  {
   "cell_type": "code",
   "execution_count": 87,
   "metadata": {},
   "outputs": [],
   "source": [
    "# find the recommended 10 destinations to the users of the test dataset\n",
    "# and add them to a superlist\n",
    "super_recommended_ids=[]\n",
    "for user in test.index:\n",
    "    most_recent_destination_id=test.loc[user]['actual'][-1] #extract the most recently rated destination id\n",
    "    recommeneded_ids = get_content_based_recommendations(most_recent_destination_id,10)\n",
    "    super_recommended_ids.append(recommeneded_ids)\n",
    "# print(super_recommended_ids)"
   ]
  },
  {
   "cell_type": "code",
   "execution_count": 88,
   "metadata": {},
   "outputs": [
    {
     "data": {
      "text/html": [
       "<div>\n",
       "<style scoped>\n",
       "    .dataframe tbody tr th:only-of-type {\n",
       "        vertical-align: middle;\n",
       "    }\n",
       "\n",
       "    .dataframe tbody tr th {\n",
       "        vertical-align: top;\n",
       "    }\n",
       "\n",
       "    .dataframe thead th {\n",
       "        text-align: right;\n",
       "    }\n",
       "</style>\n",
       "<table border=\"1\" class=\"dataframe\">\n",
       "  <thead>\n",
       "    <tr style=\"text-align: right;\">\n",
       "      <th></th>\n",
       "      <th>actual</th>\n",
       "      <th>content_predictions</th>\n",
       "    </tr>\n",
       "    <tr>\n",
       "      <th>user_id</th>\n",
       "      <th></th>\n",
       "      <th></th>\n",
       "    </tr>\n",
       "  </thead>\n",
       "  <tbody>\n",
       "    <tr>\n",
       "      <th>0</th>\n",
       "      <td>[0, 1, 2, 3, 4, 5, 6, 7, 8, 9, 10, 44, 55, 185...</td>\n",
       "      <td>[26, 50, 136, 7, 20, 22, 48, 49, 64, 67]</td>\n",
       "    </tr>\n",
       "    <tr>\n",
       "      <th>1</th>\n",
       "      <td>[0, 1, 2, 3, 4, 5, 6, 7, 8, 9, 10, 154, 291, 1...</td>\n",
       "      <td>[20, 22, 48, 49, 64, 74, 76, 96, 97, 103]</td>\n",
       "    </tr>\n",
       "    <tr>\n",
       "      <th>2</th>\n",
       "      <td>[128, 1, 2, 3, 4, 5, 6, 7, 8, 9, 10, 267, 0, 1...</td>\n",
       "      <td>[3, 5, 6, 11, 16, 30, 31, 32, 35, 41]</td>\n",
       "    </tr>\n",
       "    <tr>\n",
       "      <th>3</th>\n",
       "      <td>[0, 1, 2, 3, 4, 5, 6, 7, 8, 9, 10, 259, 143, 2...</td>\n",
       "      <td>[20, 22, 48, 49, 64, 74, 76, 96, 97, 103]</td>\n",
       "    </tr>\n",
       "    <tr>\n",
       "      <th>4</th>\n",
       "      <td>[0, 1, 2, 3, 4, 5, 6, 7, 8, 9, 10, 137, 13, 14...</td>\n",
       "      <td>[89, 93, 120, 129, 130, 151, 183, 219, 252, 271]</td>\n",
       "    </tr>\n",
       "  </tbody>\n",
       "</table>\n",
       "</div>"
      ],
      "text/plain": [
       "                                                    actual  \\\n",
       "user_id                                                      \n",
       "0        [0, 1, 2, 3, 4, 5, 6, 7, 8, 9, 10, 44, 55, 185...   \n",
       "1        [0, 1, 2, 3, 4, 5, 6, 7, 8, 9, 10, 154, 291, 1...   \n",
       "2        [128, 1, 2, 3, 4, 5, 6, 7, 8, 9, 10, 267, 0, 1...   \n",
       "3        [0, 1, 2, 3, 4, 5, 6, 7, 8, 9, 10, 259, 143, 2...   \n",
       "4        [0, 1, 2, 3, 4, 5, 6, 7, 8, 9, 10, 137, 13, 14...   \n",
       "\n",
       "                                      content_predictions  \n",
       "user_id                                                    \n",
       "0                [26, 50, 136, 7, 20, 22, 48, 49, 64, 67]  \n",
       "1               [20, 22, 48, 49, 64, 74, 76, 96, 97, 103]  \n",
       "2                   [3, 5, 6, 11, 16, 30, 31, 32, 35, 41]  \n",
       "3               [20, 22, 48, 49, 64, 74, 76, 96, 97, 103]  \n",
       "4        [89, 93, 120, 129, 130, 151, 183, 219, 252, 271]  "
      ]
     },
     "execution_count": 88,
     "metadata": {},
     "output_type": "execute_result"
    }
   ],
   "source": [
    "# update the recommended ids as a new column\n",
    "test['content_predictions']=super_recommended_ids\n",
    "test.head()"
   ]
  },
  {
   "cell_type": "code",
   "execution_count": 89,
   "metadata": {},
   "outputs": [],
   "source": [
    "actual=test['actual'].values.tolist()\n",
    "content_predictions=test['content_predictions'].values.tolist()\n",
    "# print(actual)\n",
    "# print(content_predictions)"
   ]
  },
  {
   "cell_type": "markdown",
   "metadata": {},
   "source": [
    "### Confusion Matrix"
   ]
  },
  {
   "cell_type": "code",
   "execution_count": 1,
   "metadata": {},
   "outputs": [],
   "source": [
    "# from sklearn.preprocessing import MultiLabelBinarizer"
   ]
  },
  {
   "cell_type": "code",
   "execution_count": 2,
   "metadata": {},
   "outputs": [],
   "source": [
    "# a=MultiLabelBinarizer().fit_transform(actual)\n",
    "# b=MultiLabelBinarizer().fit_transform(content_predictions)\n",
    "# recmetrics.make_confusion_matrix(a.argmax(axis=1), b.argmax(axis=1))"
   ]
  },
  {
   "cell_type": "code",
   "execution_count": 92,
   "metadata": {},
   "outputs": [],
   "source": [
    "# actual"
   ]
  },
  {
   "cell_type": "code",
   "execution_count": 93,
   "metadata": {},
   "outputs": [],
   "source": [
    "# content_predictions"
   ]
  },
  {
   "cell_type": "code",
   "execution_count": 94,
   "metadata": {},
   "outputs": [
    {
     "data": {
      "text/plain": [
       "[0.01924076704907312,\n",
       " 0.03753622652920566,\n",
       " 0.054485699120431254,\n",
       " 0.0637278487933124,\n",
       " 0.07250876491530778,\n",
       " 0.0748004472774056,\n",
       " 0.0772361474475013,\n",
       " 0.07790745863239158,\n",
       " 0.07912699181976905,\n",
       " 0.07979520938764327]"
      ]
     },
     "execution_count": 94,
     "metadata": {},
     "output_type": "execute_result"
    }
   ],
   "source": [
    "# calculate the mark score\n",
    "content_mark = []\n",
    "for K in np.arange(1, 11):\n",
    "    content_mark.extend([recmetrics.mark(actual, content_predictions, k=K)])\n",
    "content_mark"
   ]
  },
  {
   "cell_type": "code",
   "execution_count": 95,
   "metadata": {},
   "outputs": [
    {
     "data": {
      "image/png": "[encoded data removed]",
      "text/plain": [
       "<Figure size 1080x504 with 1 Axes>"
      ]
     },
     "metadata": {
      "needs_background": "light"
     },
     "output_type": "display_data"
    }
   ],
   "source": [
    "# generate a mark plot\n",
    "mark_scores = [content_mark]\n",
    "index = range(1,10+1)\n",
    "names = ['Content Filter']\n",
    "\n",
    "fig = plt.figure(figsize=(15, 7))\n",
    "recmetrics.mark_plot(mark_scores, model_names=names, k_range=index)"
   ]
  },
  {
   "cell_type": "code",
   "execution_count": 96,
   "metadata": {},
   "outputs": [],
   "source": [
    "import ml_metrics as metrics"
   ]
  },
  {
   "cell_type": "code",
   "execution_count": 97,
   "metadata": {},
   "outputs": [
    {
     "data": {
      "text/plain": [
       "[0.45491803278688525,\n",
       " 0.4426229508196721,\n",
       " 0.4307832422586521,\n",
       " 0.3807206284153006,\n",
       " 0.3480191256830601,\n",
       " 0.2999203096539162,\n",
       " 0.2663585926173748,\n",
       " 0.23536909640905543,\n",
       " 0.2128093647902391,\n",
       " 0.19324973978662502]"
      ]
     },
     "execution_count": 97,
     "metadata": {},
     "output_type": "execute_result"
    }
   ],
   "source": [
    "# for MAPK scpre\n",
    "content_mapk = []\n",
    "for K in np.arange(1, 11):\n",
    "    content_mapk.extend([metrics.mapk(actual, content_predictions, k=K)])\n",
    "content_mapk"
   ]
  },
  {
   "cell_type": "code",
   "execution_count": 98,
   "metadata": {},
   "outputs": [
    {
     "data": {
      "image/png": "[encoded data removed]",
      "text/plain": [
       "<Figure size 1080x504 with 1 Axes>"
      ]
     },
     "metadata": {
      "needs_background": "light"
     },
     "output_type": "display_data"
    }
   ],
   "source": [
    "# generate a mapk plot\n",
    "mapk_scores = [content_mapk]\n",
    "index = range(1,10+1)\n",
    "names = ['Content Filter']\n",
    "\n",
    "fig = plt.figure(figsize=(15, 7))\n",
    "recmetrics.mapk_plot(mapk_scores, model_names=names, k_range=index)"
   ]
  },
  {
   "cell_type": "code",
   "execution_count": 99,
   "metadata": {},
   "outputs": [
    {
     "data": {
      "text/plain": [
       "26.0"
      ]
     },
     "execution_count": 99,
     "metadata": {},
     "output_type": "execute_result"
    }
   ],
   "source": [
    "# prediction coverage\n",
    "catalog = ratings.destination_id.unique().tolist()\n",
    "content_coverage = recmetrics.prediction_coverage(content_predictions, catalog)\n",
    "content_coverage"
   ]
  },
  {
   "cell_type": "code",
   "execution_count": 100,
   "metadata": {},
   "outputs": [
    {
     "data": {
      "image/png": "[encoded data removed]",
      "text/plain": [
       "<Figure size 504x360 with 1 Axes>"
      ]
     },
     "metadata": {
      "needs_background": "light"
     },
     "output_type": "display_data"
    }
   ],
   "source": [
    "# plot of prediction coverage\n",
    "coverage_scores = [content_coverage]\n",
    "model_names = ['Content Filter']\n",
    "\n",
    "fig = plt.figure(figsize=(7, 5))\n",
    "recmetrics.coverage_plot(coverage_scores, model_names)"
   ]
  },
  {
   "cell_type": "code",
   "execution_count": 101,
   "metadata": {},
   "outputs": [
    {
     "data": {
      "text/html": [
       "<div>\n",
       "<style scoped>\n",
       "    .dataframe tbody tr th:only-of-type {\n",
       "        vertical-align: middle;\n",
       "    }\n",
       "\n",
       "    .dataframe tbody tr th {\n",
       "        vertical-align: top;\n",
       "    }\n",
       "\n",
       "    .dataframe thead th {\n",
       "        text-align: right;\n",
       "    }\n",
       "</style>\n",
       "<table border=\"1\" class=\"dataframe\">\n",
       "  <thead>\n",
       "    <tr style=\"text-align: right;\">\n",
       "      <th></th>\n",
       "      <th>history</th>\n",
       "      <th>art_and_architecture</th>\n",
       "      <th>nature</th>\n",
       "      <th>adventure</th>\n",
       "      <th>entertainment</th>\n",
       "      <th>health_and_lifestyle</th>\n",
       "      <th>food</th>\n",
       "      <th>industries</th>\n",
       "      <th>religious</th>\n",
       "    </tr>\n",
       "  </thead>\n",
       "  <tbody>\n",
       "    <tr>\n",
       "      <th>0</th>\n",
       "      <td>True</td>\n",
       "      <td>True</td>\n",
       "      <td>False</td>\n",
       "      <td>False</td>\n",
       "      <td>False</td>\n",
       "      <td>False</td>\n",
       "      <td>False</td>\n",
       "      <td>False</td>\n",
       "      <td>True</td>\n",
       "    </tr>\n",
       "    <tr>\n",
       "      <th>1</th>\n",
       "      <td>False</td>\n",
       "      <td>False</td>\n",
       "      <td>True</td>\n",
       "      <td>False</td>\n",
       "      <td>False</td>\n",
       "      <td>False</td>\n",
       "      <td>False</td>\n",
       "      <td>False</td>\n",
       "      <td>False</td>\n",
       "    </tr>\n",
       "    <tr>\n",
       "      <th>2</th>\n",
       "      <td>False</td>\n",
       "      <td>False</td>\n",
       "      <td>True</td>\n",
       "      <td>False</td>\n",
       "      <td>False</td>\n",
       "      <td>False</td>\n",
       "      <td>False</td>\n",
       "      <td>False</td>\n",
       "      <td>False</td>\n",
       "    </tr>\n",
       "    <tr>\n",
       "      <th>3</th>\n",
       "      <td>True</td>\n",
       "      <td>True</td>\n",
       "      <td>False</td>\n",
       "      <td>False</td>\n",
       "      <td>False</td>\n",
       "      <td>False</td>\n",
       "      <td>False</td>\n",
       "      <td>False</td>\n",
       "      <td>True</td>\n",
       "    </tr>\n",
       "    <tr>\n",
       "      <th>4</th>\n",
       "      <td>False</td>\n",
       "      <td>False</td>\n",
       "      <td>True</td>\n",
       "      <td>False</td>\n",
       "      <td>False</td>\n",
       "      <td>False</td>\n",
       "      <td>False</td>\n",
       "      <td>False</td>\n",
       "      <td>False</td>\n",
       "    </tr>\n",
       "    <tr>\n",
       "      <th>...</th>\n",
       "      <td>...</td>\n",
       "      <td>...</td>\n",
       "      <td>...</td>\n",
       "      <td>...</td>\n",
       "      <td>...</td>\n",
       "      <td>...</td>\n",
       "      <td>...</td>\n",
       "      <td>...</td>\n",
       "      <td>...</td>\n",
       "    </tr>\n",
       "    <tr>\n",
       "      <th>437</th>\n",
       "      <td>False</td>\n",
       "      <td>True</td>\n",
       "      <td>False</td>\n",
       "      <td>False</td>\n",
       "      <td>False</td>\n",
       "      <td>False</td>\n",
       "      <td>False</td>\n",
       "      <td>False</td>\n",
       "      <td>True</td>\n",
       "    </tr>\n",
       "    <tr>\n",
       "      <th>438</th>\n",
       "      <td>True</td>\n",
       "      <td>False</td>\n",
       "      <td>False</td>\n",
       "      <td>False</td>\n",
       "      <td>False</td>\n",
       "      <td>False</td>\n",
       "      <td>False</td>\n",
       "      <td>False</td>\n",
       "      <td>False</td>\n",
       "    </tr>\n",
       "    <tr>\n",
       "      <th>439</th>\n",
       "      <td>True</td>\n",
       "      <td>False</td>\n",
       "      <td>False</td>\n",
       "      <td>False</td>\n",
       "      <td>False</td>\n",
       "      <td>False</td>\n",
       "      <td>False</td>\n",
       "      <td>False</td>\n",
       "      <td>False</td>\n",
       "    </tr>\n",
       "    <tr>\n",
       "      <th>440</th>\n",
       "      <td>True</td>\n",
       "      <td>True</td>\n",
       "      <td>False</td>\n",
       "      <td>False</td>\n",
       "      <td>True</td>\n",
       "      <td>False</td>\n",
       "      <td>False</td>\n",
       "      <td>False</td>\n",
       "      <td>False</td>\n",
       "    </tr>\n",
       "    <tr>\n",
       "      <th>441</th>\n",
       "      <td>False</td>\n",
       "      <td>False</td>\n",
       "      <td>False</td>\n",
       "      <td>True</td>\n",
       "      <td>False</td>\n",
       "      <td>False</td>\n",
       "      <td>False</td>\n",
       "      <td>False</td>\n",
       "      <td>False</td>\n",
       "    </tr>\n",
       "  </tbody>\n",
       "</table>\n",
       "<p>442 rows × 9 columns</p>\n",
       "</div>"
      ],
      "text/plain": [
       "     history  art_and_architecture  nature  adventure  entertainment  \\\n",
       "0       True                  True   False      False          False   \n",
       "1      False                 False    True      False          False   \n",
       "2      False                 False    True      False          False   \n",
       "3       True                  True   False      False          False   \n",
       "4      False                 False    True      False          False   \n",
       "..       ...                   ...     ...        ...            ...   \n",
       "437    False                  True   False      False          False   \n",
       "438     True                 False   False      False          False   \n",
       "439     True                 False   False      False          False   \n",
       "440     True                  True   False      False           True   \n",
       "441    False                 False   False       True          False   \n",
       "\n",
       "     health_and_lifestyle   food  industries  religious  \n",
       "0                   False  False       False       True  \n",
       "1                   False  False       False      False  \n",
       "2                   False  False       False      False  \n",
       "3                   False  False       False       True  \n",
       "4                   False  False       False      False  \n",
       "..                    ...    ...         ...        ...  \n",
       "437                 False  False       False       True  \n",
       "438                 False  False       False      False  \n",
       "439                 False  False       False      False  \n",
       "440                 False  False       False      False  \n",
       "441                 False  False       False      False  \n",
       "\n",
       "[442 rows x 9 columns]"
      ]
     },
     "execution_count": 101,
     "metadata": {},
     "output_type": "execute_result"
    }
   ],
   "source": [
    "feature_df=destination_features[['history','art_and_architecture','nature','adventure', 'entertainment','health_and_lifestyle',\\\n",
    "                        'food','industries','religious']]\n",
    "feature_df\n"
   ]
  },
  {
   "cell_type": "code",
   "execution_count": 102,
   "metadata": {},
   "outputs": [
    {
     "data": {
      "text/plain": [
       "0.9870645623552893"
      ]
     },
     "execution_count": 102,
     "metadata": {},
     "output_type": "execute_result"
    }
   ],
   "source": [
    "recmetrics.intra_list_similarity(content_predictions, feature_df)"
   ]
  },
  {
   "cell_type": "code",
   "execution_count": null,
   "metadata": {},
   "outputs": [],
   "source": []
  }
 ],
 "metadata": {
  "kernelspec": {
   "display_name": "Python 3 (ipykernel)",
   "language": "python",
   "name": "python3"
  },
  "language_info": {
   "codemirror_mode": {
    "name": "ipython",
    "version": 3
   },
   "file_extension": ".py",
   "mimetype": "text/x-python",
   "name": "python",
   "nbconvert_exporter": "python",
   "pygments_lexer": "ipython3",
   "version": "3.9.7"
  }
 },
 "nbformat": 4,
 "nbformat_minor": 2
}
