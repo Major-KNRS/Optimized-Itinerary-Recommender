{
 "cells": [
  {
   "cell_type": "markdown",
   "metadata": {},
   "source": [
    "# ALS collaborative method evaluation"
   ]
  },
  {
   "cell_type": "code",
   "execution_count": 169,
   "metadata": {},
   "outputs": [],
   "source": [
    "import matplotlib.pyplot as plt\n",
    "import numpy as np\n",
    "import pandas as pd\n",
    "from surprise import BaselineOnly, Dataset, Reader, SVD\n",
    "from surprise.model_selection import train_test_split\n",
    "\n",
    "import recmetrics"
   ]
  },
  {
   "cell_type": "code",
   "execution_count": 170,
   "metadata": {},
   "outputs": [
    {
     "name": "stdout",
     "output_type": "stream",
     "text": [
      "   user_id  destination_id       destination_name  rating\n",
      "0        0               1  Phewa Tal (Fewa Lake)     5.0\n",
      "1        0               2              Sarangkot     5.0\n",
      "2        0               3   Swayambhunath Temple     5.0\n",
      "3        0               4              Poon Hill     5.0\n",
      "4        0               5           Peace Temple     5.0\n"
     ]
    },
    {
     "data": {
      "text/plain": [
       "(6169, 4)"
      ]
     },
     "execution_count": 170,
     "metadata": {},
     "output_type": "execute_result"
    }
   ],
   "source": [
    "ratings = pd.read_csv('../Datasets/final_sample_user_ratings_corrected.csv')\n",
    "# drop the rows with NaN values \n",
    "ratings.dropna(inplace=True)\n",
    "\n",
    "ratings['user_id']=ratings['user_id'].astype(int)\n",
    "ratings['destination_id']=ratings['destination_id'].astype(int)\n",
    "\n",
    "print(ratings.head())\n",
    "ratings.shape"
   ]
  },
  {
   "cell_type": "code",
   "execution_count": 171,
   "metadata": {},
   "outputs": [
    {
     "data": {
      "text/html": [
       "<div>\n",
       "<style scoped>\n",
       "    .dataframe tbody tr th:only-of-type {\n",
       "        vertical-align: middle;\n",
       "    }\n",
       "\n",
       "    .dataframe tbody tr th {\n",
       "        vertical-align: top;\n",
       "    }\n",
       "\n",
       "    .dataframe thead th {\n",
       "        text-align: right;\n",
       "    }\n",
       "</style>\n",
       "<table border=\"1\" class=\"dataframe\">\n",
       "  <thead>\n",
       "    <tr style=\"text-align: right;\">\n",
       "      <th></th>\n",
       "      <th>user_id</th>\n",
       "      <th>destination_id</th>\n",
       "      <th>destination_name</th>\n",
       "      <th>rating</th>\n",
       "    </tr>\n",
       "  </thead>\n",
       "  <tbody>\n",
       "    <tr>\n",
       "      <th>0</th>\n",
       "      <td>0</td>\n",
       "      <td>1</td>\n",
       "      <td>Phewa Tal (Fewa Lake)</td>\n",
       "      <td>5.0</td>\n",
       "    </tr>\n",
       "    <tr>\n",
       "      <th>1</th>\n",
       "      <td>0</td>\n",
       "      <td>2</td>\n",
       "      <td>Sarangkot</td>\n",
       "      <td>5.0</td>\n",
       "    </tr>\n",
       "    <tr>\n",
       "      <th>2</th>\n",
       "      <td>0</td>\n",
       "      <td>3</td>\n",
       "      <td>Swayambhunath Temple</td>\n",
       "      <td>5.0</td>\n",
       "    </tr>\n",
       "    <tr>\n",
       "      <th>3</th>\n",
       "      <td>0</td>\n",
       "      <td>4</td>\n",
       "      <td>Poon Hill</td>\n",
       "      <td>5.0</td>\n",
       "    </tr>\n",
       "    <tr>\n",
       "      <th>4</th>\n",
       "      <td>0</td>\n",
       "      <td>5</td>\n",
       "      <td>Peace Temple</td>\n",
       "      <td>5.0</td>\n",
       "    </tr>\n",
       "    <tr>\n",
       "      <th>...</th>\n",
       "      <td>...</td>\n",
       "      <td>...</td>\n",
       "      <td>...</td>\n",
       "      <td>...</td>\n",
       "    </tr>\n",
       "    <tr>\n",
       "      <th>6164</th>\n",
       "      <td>249</td>\n",
       "      <td>257</td>\n",
       "      <td>Guru Lhakhang Monastery</td>\n",
       "      <td>5.0</td>\n",
       "    </tr>\n",
       "    <tr>\n",
       "      <th>6165</th>\n",
       "      <td>249</td>\n",
       "      <td>275</td>\n",
       "      <td>Kashmiri Mosque</td>\n",
       "      <td>4.0</td>\n",
       "    </tr>\n",
       "    <tr>\n",
       "      <th>6166</th>\n",
       "      <td>249</td>\n",
       "      <td>277</td>\n",
       "      <td>Manimandap Pati</td>\n",
       "      <td>3.0</td>\n",
       "    </tr>\n",
       "    <tr>\n",
       "      <th>6167</th>\n",
       "      <td>249</td>\n",
       "      <td>289</td>\n",
       "      <td>Sundarijal Water Falls</td>\n",
       "      <td>3.0</td>\n",
       "    </tr>\n",
       "    <tr>\n",
       "      <th>6168</th>\n",
       "      <td>249</td>\n",
       "      <td>0</td>\n",
       "      <td>Boudhanath Stupa</td>\n",
       "      <td>5.0</td>\n",
       "    </tr>\n",
       "  </tbody>\n",
       "</table>\n",
       "<p>6169 rows × 4 columns</p>\n",
       "</div>"
      ],
      "text/plain": [
       "      user_id  destination_id         destination_name  rating\n",
       "0           0               1    Phewa Tal (Fewa Lake)     5.0\n",
       "1           0               2                Sarangkot     5.0\n",
       "2           0               3     Swayambhunath Temple     5.0\n",
       "3           0               4                Poon Hill     5.0\n",
       "4           0               5             Peace Temple     5.0\n",
       "...       ...             ...                      ...     ...\n",
       "6164      249             257  Guru Lhakhang Monastery     5.0\n",
       "6165      249             275          Kashmiri Mosque     4.0\n",
       "6166      249             277          Manimandap Pati     3.0\n",
       "6167      249             289   Sundarijal Water Falls     3.0\n",
       "6168      249               0         Boudhanath Stupa     5.0\n",
       "\n",
       "[6169 rows x 4 columns]"
      ]
     },
     "execution_count": 171,
     "metadata": {},
     "output_type": "execute_result"
    }
   ],
   "source": [
    "ratings.reset_index(drop=True,inplace=True)\n",
    "ratings"
   ]
  },
  {
   "cell_type": "code",
   "execution_count": 172,
   "metadata": {},
   "outputs": [],
   "source": [
    "#only consider ratings from users who have rated over n movies\n",
    "n=10\n",
    "users = ratings[\"user_id\"].value_counts()\n",
    "users = users[users>n].index.tolist()"
   ]
  },
  {
   "cell_type": "code",
   "execution_count": 173,
   "metadata": {},
   "outputs": [],
   "source": [
    "# ratings = ratings.query('user_id in @users')\n",
    "# print(ratings.shape)\n",
    "# ratings.head(3)"
   ]
  },
  {
   "cell_type": "code",
   "execution_count": 174,
   "metadata": {},
   "outputs": [
    {
     "data": {
      "text/html": [
       "<div>\n",
       "<style scoped>\n",
       "    .dataframe tbody tr th:only-of-type {\n",
       "        vertical-align: middle;\n",
       "    }\n",
       "\n",
       "    .dataframe tbody tr th {\n",
       "        vertical-align: top;\n",
       "    }\n",
       "\n",
       "    .dataframe thead th {\n",
       "        text-align: right;\n",
       "    }\n",
       "</style>\n",
       "<table border=\"1\" class=\"dataframe\">\n",
       "  <thead>\n",
       "    <tr style=\"text-align: right;\">\n",
       "      <th></th>\n",
       "      <th>user_id</th>\n",
       "      <th>destination_id</th>\n",
       "      <th>rating</th>\n",
       "    </tr>\n",
       "  </thead>\n",
       "  <tbody>\n",
       "    <tr>\n",
       "      <th>0</th>\n",
       "      <td>0</td>\n",
       "      <td>1</td>\n",
       "      <td>5.0</td>\n",
       "    </tr>\n",
       "    <tr>\n",
       "      <th>1</th>\n",
       "      <td>0</td>\n",
       "      <td>2</td>\n",
       "      <td>5.0</td>\n",
       "    </tr>\n",
       "    <tr>\n",
       "      <th>2</th>\n",
       "      <td>0</td>\n",
       "      <td>3</td>\n",
       "      <td>5.0</td>\n",
       "    </tr>\n",
       "    <tr>\n",
       "      <th>3</th>\n",
       "      <td>0</td>\n",
       "      <td>4</td>\n",
       "      <td>5.0</td>\n",
       "    </tr>\n",
       "    <tr>\n",
       "      <th>4</th>\n",
       "      <td>0</td>\n",
       "      <td>5</td>\n",
       "      <td>5.0</td>\n",
       "    </tr>\n",
       "  </tbody>\n",
       "</table>\n",
       "</div>"
      ],
      "text/plain": [
       "   user_id  destination_id  rating\n",
       "0        0               1     5.0\n",
       "1        0               2     5.0\n",
       "2        0               3     5.0\n",
       "3        0               4     5.0\n",
       "4        0               5     5.0"
      ]
     },
     "execution_count": 174,
     "metadata": {},
     "output_type": "execute_result"
    }
   ],
   "source": [
    "# we won't be working with the destination_name column \n",
    "# so better to leave that one out too \n",
    "ratings.drop(['destination_name'],axis=1,inplace=True)\n",
    "ratings.head()"
   ]
  },
  {
   "cell_type": "markdown",
   "metadata": {},
   "source": [
    "## Get destination features"
   ]
  },
  {
   "cell_type": "code",
   "execution_count": 175,
   "metadata": {},
   "outputs": [
    {
     "data": {
      "text/html": [
       "<div>\n",
       "<style scoped>\n",
       "    .dataframe tbody tr th:only-of-type {\n",
       "        vertical-align: middle;\n",
       "    }\n",
       "\n",
       "    .dataframe tbody tr th {\n",
       "        vertical-align: top;\n",
       "    }\n",
       "\n",
       "    .dataframe thead th {\n",
       "        text-align: right;\n",
       "    }\n",
       "</style>\n",
       "<table border=\"1\" class=\"dataframe\">\n",
       "  <thead>\n",
       "    <tr style=\"text-align: right;\">\n",
       "      <th></th>\n",
       "      <th>dest_id</th>\n",
       "      <th>title</th>\n",
       "      <th>genre</th>\n",
       "      <th>latitude</th>\n",
       "      <th>longitude</th>\n",
       "      <th>img_url</th>\n",
       "      <th>genre_updated</th>\n",
       "      <th>history</th>\n",
       "      <th>art_and_architecture</th>\n",
       "      <th>nature</th>\n",
       "      <th>adventure</th>\n",
       "      <th>entertainment</th>\n",
       "      <th>health_and_lifestyle</th>\n",
       "      <th>food</th>\n",
       "      <th>industries</th>\n",
       "      <th>religious</th>\n",
       "    </tr>\n",
       "  </thead>\n",
       "  <tbody>\n",
       "    <tr>\n",
       "      <th>0</th>\n",
       "      <td>0</td>\n",
       "      <td>Boudhanath Stupa</td>\n",
       "      <td>history:art_and_architecture:religious</td>\n",
       "      <td>27.721506</td>\n",
       "      <td>85.359809</td>\n",
       "      <td>data:image/jpeg;base64,/9j/4AAQSkZJRgABAQAAAQA...</td>\n",
       "      <td>['history', 'art_and_architecture', 'religious']</td>\n",
       "      <td>True</td>\n",
       "      <td>True</td>\n",
       "      <td>False</td>\n",
       "      <td>False</td>\n",
       "      <td>False</td>\n",
       "      <td>False</td>\n",
       "      <td>False</td>\n",
       "      <td>False</td>\n",
       "      <td>True</td>\n",
       "    </tr>\n",
       "    <tr>\n",
       "      <th>1</th>\n",
       "      <td>1</td>\n",
       "      <td>Phewa Tal (Fewa Lake)</td>\n",
       "      <td>nature</td>\n",
       "      <td>28.211627</td>\n",
       "      <td>83.932296</td>\n",
       "      <td>data:image/jpeg;base64,/9j/4AAQSkZJRgABAQAAAQA...</td>\n",
       "      <td>['nature']</td>\n",
       "      <td>False</td>\n",
       "      <td>False</td>\n",
       "      <td>True</td>\n",
       "      <td>False</td>\n",
       "      <td>False</td>\n",
       "      <td>False</td>\n",
       "      <td>False</td>\n",
       "      <td>False</td>\n",
       "      <td>False</td>\n",
       "    </tr>\n",
       "    <tr>\n",
       "      <th>2</th>\n",
       "      <td>2</td>\n",
       "      <td>Sarangkot</td>\n",
       "      <td>nature</td>\n",
       "      <td>28.244376</td>\n",
       "      <td>83.944564</td>\n",
       "      <td>data:image/jpeg;base64,/9j/4AAQSkZJRgABAQAAAQA...</td>\n",
       "      <td>['nature']</td>\n",
       "      <td>False</td>\n",
       "      <td>False</td>\n",
       "      <td>True</td>\n",
       "      <td>False</td>\n",
       "      <td>False</td>\n",
       "      <td>False</td>\n",
       "      <td>False</td>\n",
       "      <td>False</td>\n",
       "      <td>False</td>\n",
       "    </tr>\n",
       "    <tr>\n",
       "      <th>3</th>\n",
       "      <td>3</td>\n",
       "      <td>Swayambhunath Temple</td>\n",
       "      <td>history:art_and_architecture:religious</td>\n",
       "      <td>27.714930</td>\n",
       "      <td>85.288146</td>\n",
       "      <td>data:image/jpeg;base64,/9j/4AAQSkZJRgABAQAAAQA...</td>\n",
       "      <td>['history', 'art_and_architecture', 'religious']</td>\n",
       "      <td>True</td>\n",
       "      <td>True</td>\n",
       "      <td>False</td>\n",
       "      <td>False</td>\n",
       "      <td>False</td>\n",
       "      <td>False</td>\n",
       "      <td>False</td>\n",
       "      <td>False</td>\n",
       "      <td>True</td>\n",
       "    </tr>\n",
       "    <tr>\n",
       "      <th>4</th>\n",
       "      <td>4</td>\n",
       "      <td>Poon Hill</td>\n",
       "      <td>nature</td>\n",
       "      <td>28.400195</td>\n",
       "      <td>83.671789</td>\n",
       "      <td>data:image/jpeg;base64,/9j/4AAQSkZJRgABAQAAAQA...</td>\n",
       "      <td>['nature']</td>\n",
       "      <td>False</td>\n",
       "      <td>False</td>\n",
       "      <td>True</td>\n",
       "      <td>False</td>\n",
       "      <td>False</td>\n",
       "      <td>False</td>\n",
       "      <td>False</td>\n",
       "      <td>False</td>\n",
       "      <td>False</td>\n",
       "    </tr>\n",
       "    <tr>\n",
       "      <th>...</th>\n",
       "      <td>...</td>\n",
       "      <td>...</td>\n",
       "      <td>...</td>\n",
       "      <td>...</td>\n",
       "      <td>...</td>\n",
       "      <td>...</td>\n",
       "      <td>...</td>\n",
       "      <td>...</td>\n",
       "      <td>...</td>\n",
       "      <td>...</td>\n",
       "      <td>...</td>\n",
       "      <td>...</td>\n",
       "      <td>...</td>\n",
       "      <td>...</td>\n",
       "      <td>...</td>\n",
       "      <td>...</td>\n",
       "    </tr>\n",
       "    <tr>\n",
       "      <th>437</th>\n",
       "      <td>437</td>\n",
       "      <td>Travel Maker South Asia</td>\n",
       "      <td>art_and_architecture:religious</td>\n",
       "      <td>27.713420</td>\n",
       "      <td>85.311246</td>\n",
       "      <td>NaN</td>\n",
       "      <td>['art_and_architecture', 'religious']</td>\n",
       "      <td>False</td>\n",
       "      <td>True</td>\n",
       "      <td>False</td>\n",
       "      <td>False</td>\n",
       "      <td>False</td>\n",
       "      <td>False</td>\n",
       "      <td>False</td>\n",
       "      <td>False</td>\n",
       "      <td>True</td>\n",
       "    </tr>\n",
       "    <tr>\n",
       "      <th>438</th>\n",
       "      <td>438</td>\n",
       "      <td>Nepal Alibaba Treks &amp; Tours Pvt Ltd</td>\n",
       "      <td>history</td>\n",
       "      <td>27.737544</td>\n",
       "      <td>85.302841</td>\n",
       "      <td>NaN</td>\n",
       "      <td>['history']</td>\n",
       "      <td>True</td>\n",
       "      <td>False</td>\n",
       "      <td>False</td>\n",
       "      <td>False</td>\n",
       "      <td>False</td>\n",
       "      <td>False</td>\n",
       "      <td>False</td>\n",
       "      <td>False</td>\n",
       "      <td>False</td>\n",
       "    </tr>\n",
       "    <tr>\n",
       "      <th>439</th>\n",
       "      <td>439</td>\n",
       "      <td>Alpine Ramble Treks</td>\n",
       "      <td>history</td>\n",
       "      <td>27.719162</td>\n",
       "      <td>85.306492</td>\n",
       "      <td>NaN</td>\n",
       "      <td>['history']</td>\n",
       "      <td>True</td>\n",
       "      <td>False</td>\n",
       "      <td>False</td>\n",
       "      <td>False</td>\n",
       "      <td>False</td>\n",
       "      <td>False</td>\n",
       "      <td>False</td>\n",
       "      <td>False</td>\n",
       "      <td>False</td>\n",
       "    </tr>\n",
       "    <tr>\n",
       "      <th>440</th>\n",
       "      <td>440</td>\n",
       "      <td>Info Nepal Treks and Expedition</td>\n",
       "      <td>history:art_and_architecture:entertainment</td>\n",
       "      <td>27.716730</td>\n",
       "      <td>85.307607</td>\n",
       "      <td>NaN</td>\n",
       "      <td>['history', 'art_and_architecture', 'entertain...</td>\n",
       "      <td>True</td>\n",
       "      <td>True</td>\n",
       "      <td>False</td>\n",
       "      <td>False</td>\n",
       "      <td>True</td>\n",
       "      <td>False</td>\n",
       "      <td>False</td>\n",
       "      <td>False</td>\n",
       "      <td>False</td>\n",
       "    </tr>\n",
       "    <tr>\n",
       "      <th>441</th>\n",
       "      <td>441</td>\n",
       "      <td>Mountain Overview Paragliding</td>\n",
       "      <td>adventure</td>\n",
       "      <td>27.964449</td>\n",
       "      <td>84.075089</td>\n",
       "      <td>NaN</td>\n",
       "      <td>['adventure']</td>\n",
       "      <td>False</td>\n",
       "      <td>False</td>\n",
       "      <td>False</td>\n",
       "      <td>True</td>\n",
       "      <td>False</td>\n",
       "      <td>False</td>\n",
       "      <td>False</td>\n",
       "      <td>False</td>\n",
       "      <td>False</td>\n",
       "    </tr>\n",
       "  </tbody>\n",
       "</table>\n",
       "<p>442 rows × 16 columns</p>\n",
       "</div>"
      ],
      "text/plain": [
       "     dest_id                                title  \\\n",
       "0          0                     Boudhanath Stupa   \n",
       "1          1                Phewa Tal (Fewa Lake)   \n",
       "2          2                            Sarangkot   \n",
       "3          3                 Swayambhunath Temple   \n",
       "4          4                            Poon Hill   \n",
       "..       ...                                  ...   \n",
       "437      437              Travel Maker South Asia   \n",
       "438      438  Nepal Alibaba Treks & Tours Pvt Ltd   \n",
       "439      439                  Alpine Ramble Treks   \n",
       "440      440      Info Nepal Treks and Expedition   \n",
       "441      441        Mountain Overview Paragliding   \n",
       "\n",
       "                                          genre   latitude  longitude  \\\n",
       "0        history:art_and_architecture:religious  27.721506  85.359809   \n",
       "1                                        nature  28.211627  83.932296   \n",
       "2                                        nature  28.244376  83.944564   \n",
       "3        history:art_and_architecture:religious  27.714930  85.288146   \n",
       "4                                        nature  28.400195  83.671789   \n",
       "..                                          ...        ...        ...   \n",
       "437              art_and_architecture:religious  27.713420  85.311246   \n",
       "438                                     history  27.737544  85.302841   \n",
       "439                                     history  27.719162  85.306492   \n",
       "440  history:art_and_architecture:entertainment  27.716730  85.307607   \n",
       "441                                   adventure  27.964449  84.075089   \n",
       "\n",
       "                                               img_url  \\\n",
       "0    data:image/jpeg;base64,/9j/4AAQSkZJRgABAQAAAQA...   \n",
       "1    data:image/jpeg;base64,/9j/4AAQSkZJRgABAQAAAQA...   \n",
       "2    data:image/jpeg;base64,/9j/4AAQSkZJRgABAQAAAQA...   \n",
       "3    data:image/jpeg;base64,/9j/4AAQSkZJRgABAQAAAQA...   \n",
       "4    data:image/jpeg;base64,/9j/4AAQSkZJRgABAQAAAQA...   \n",
       "..                                                 ...   \n",
       "437                                                NaN   \n",
       "438                                                NaN   \n",
       "439                                                NaN   \n",
       "440                                                NaN   \n",
       "441                                                NaN   \n",
       "\n",
       "                                         genre_updated  history  \\\n",
       "0     ['history', 'art_and_architecture', 'religious']     True   \n",
       "1                                           ['nature']    False   \n",
       "2                                           ['nature']    False   \n",
       "3     ['history', 'art_and_architecture', 'religious']     True   \n",
       "4                                           ['nature']    False   \n",
       "..                                                 ...      ...   \n",
       "437              ['art_and_architecture', 'religious']    False   \n",
       "438                                        ['history']     True   \n",
       "439                                        ['history']     True   \n",
       "440  ['history', 'art_and_architecture', 'entertain...     True   \n",
       "441                                      ['adventure']    False   \n",
       "\n",
       "     art_and_architecture  nature  adventure  entertainment  \\\n",
       "0                    True   False      False          False   \n",
       "1                   False    True      False          False   \n",
       "2                   False    True      False          False   \n",
       "3                    True   False      False          False   \n",
       "4                   False    True      False          False   \n",
       "..                    ...     ...        ...            ...   \n",
       "437                  True   False      False          False   \n",
       "438                 False   False      False          False   \n",
       "439                 False   False      False          False   \n",
       "440                  True   False      False           True   \n",
       "441                 False   False       True          False   \n",
       "\n",
       "     health_and_lifestyle   food  industries  religious  \n",
       "0                   False  False       False       True  \n",
       "1                   False  False       False      False  \n",
       "2                   False  False       False      False  \n",
       "3                   False  False       False       True  \n",
       "4                   False  False       False      False  \n",
       "..                    ...    ...         ...        ...  \n",
       "437                 False  False       False       True  \n",
       "438                 False  False       False      False  \n",
       "439                 False  False       False      False  \n",
       "440                 False  False       False      False  \n",
       "441                 False  False       False      False  \n",
       "\n",
       "[442 rows x 16 columns]"
      ]
     },
     "execution_count": 175,
     "metadata": {},
     "output_type": "execute_result"
    }
   ],
   "source": [
    "destinations=pd.read_csv(\"reindexed_nepal_destinations_with_added_genre_columns.csv\")\n",
    "destinations"
   ]
  },
  {
   "cell_type": "code",
   "execution_count": 176,
   "metadata": {},
   "outputs": [],
   "source": [
    "# destinations=destinations.drop(['avg_rating','voted_by','genre','latitude','longitude'],axis=1)\n",
    "# destinations.head()"
   ]
  },
  {
   "cell_type": "markdown",
   "metadata": {},
   "source": [
    "## Long Tail Plot Example"
   ]
  },
  {
   "cell_type": "code",
   "execution_count": 177,
   "metadata": {},
   "outputs": [
    {
     "name": "stderr",
     "output_type": "stream",
     "text": [
      "/home/werewolf/.pyenv/versions/data2/lib/python3.9/site-packages/seaborn/_decorators.py:36: FutureWarning: Pass the following variable as a keyword arg: x. From version 0.12, the only valid positional argument will be `data`, and passing other arguments without an explicit keyword will result in an error or misinterpretation.\n",
      "  warnings.warn(\n"
     ]
    },
    {
     "data": {
      "image/png": "[encoded data removed]",
      "text/plain": [
       "<Figure size 1080x504 with 1 Axes>"
      ]
     },
     "metadata": {
      "needs_background": "light"
     },
     "output_type": "display_data"
    }
   ],
   "source": [
    "fig = plt.figure(figsize=(15, 7))\n",
    "recmetrics.long_tail_plot(df=ratings, \n",
    "             item_id_column=\"destination_id\", \n",
    "             interaction_type=\"destination ratings\", \n",
    "             percentage=0.5,\n",
    "             x_labels=False)"
   ]
  },
  {
   "cell_type": "markdown",
   "metadata": {},
   "source": [
    "# Collaborative Filter Recommender\n",
    "Creating a simple CF to demonstrate recommender metrics in action. I've implemented collaborative filtering using a als approach in the surprise package. The surprise package also takes care of the test train split. The collaborative filter transforms user-item interactions into latent space, and reconstructs the user-item matrix to impute ratings missing movie ratings. The predicted rating is the dot product between the user and movie vectors in latent space. "
   ]
  },
  {
   "cell_type": "markdown",
   "metadata": {},
   "source": [
    "## Format data for Surprise"
   ]
  },
  {
   "cell_type": "code",
   "execution_count": 178,
   "metadata": {},
   "outputs": [],
   "source": [
    "reader = Reader(rating_scale=(0, 5))\n",
    "data = Dataset.load_from_df(ratings[['user_id', 'destination_id', 'rating']], reader)\n",
    "trainset, testset = train_test_split(data, test_size=0.2)"
   ]
  },
  {
   "cell_type": "code",
   "execution_count": 179,
   "metadata": {},
   "outputs": [
    {
     "name": "stdout",
     "output_type": "stream",
     "text": [
      "<surprise.dataset.DatasetAutoFolds object at 0x7fe8055b5460>\n"
     ]
    }
   ],
   "source": [
    "print(data)"
   ]
  },
  {
   "cell_type": "markdown",
   "metadata": {},
   "source": [
    "## Train als Recommender"
   ]
  },
  {
   "cell_type": "code",
   "execution_count": 180,
   "metadata": {},
   "outputs": [
    {
     "name": "stdout",
     "output_type": "stream",
     "text": [
      "Using ALS\n",
      "Estimating biases using als...\n"
     ]
    },
    {
     "data": {
      "text/plain": [
       "<surprise.prediction_algorithms.matrix_factorization.SVD at 0x7fe805563ee0>"
      ]
     },
     "execution_count": 180,
     "metadata": {},
     "output_type": "execute_result"
    }
   ],
   "source": [
    "print('Using ALS')\n",
    "bsl_options = {'method': 'als',\n",
    "               'n_epochs': 5,\n",
    "               'reg_u': 12,\n",
    "               'reg_i': 5\n",
    "               }\n",
    "algo1 = BaselineOnly(bsl_options=bsl_options)\n",
    "algo2 = SVD()\n",
    "algo1.fit(trainset)\n",
    "algo2.fit(trainset)"
   ]
  },
  {
   "cell_type": "markdown",
   "metadata": {},
   "source": [
    "## Make predictions on als test set"
   ]
  },
  {
   "cell_type": "code",
   "execution_count": 181,
   "metadata": {},
   "outputs": [
    {
     "data": {
      "text/html": [
       "<div>\n",
       "<style scoped>\n",
       "    .dataframe tbody tr th:only-of-type {\n",
       "        vertical-align: middle;\n",
       "    }\n",
       "\n",
       "    .dataframe tbody tr th {\n",
       "        vertical-align: top;\n",
       "    }\n",
       "\n",
       "    .dataframe thead th {\n",
       "        text-align: right;\n",
       "    }\n",
       "</style>\n",
       "<table border=\"1\" class=\"dataframe\">\n",
       "  <thead>\n",
       "    <tr style=\"text-align: right;\">\n",
       "      <th></th>\n",
       "      <th>user_id</th>\n",
       "      <th>destination_id</th>\n",
       "      <th>actual</th>\n",
       "      <th>als_predictions</th>\n",
       "    </tr>\n",
       "  </thead>\n",
       "  <tbody>\n",
       "    <tr>\n",
       "      <th>0</th>\n",
       "      <td>131</td>\n",
       "      <td>9</td>\n",
       "      <td>5.0</td>\n",
       "      <td>4.228355</td>\n",
       "    </tr>\n",
       "    <tr>\n",
       "      <th>1</th>\n",
       "      <td>158</td>\n",
       "      <td>153</td>\n",
       "      <td>5.0</td>\n",
       "      <td>3.804938</td>\n",
       "    </tr>\n",
       "    <tr>\n",
       "      <th>2</th>\n",
       "      <td>89</td>\n",
       "      <td>267</td>\n",
       "      <td>5.0</td>\n",
       "      <td>4.328524</td>\n",
       "    </tr>\n",
       "    <tr>\n",
       "      <th>3</th>\n",
       "      <td>230</td>\n",
       "      <td>242</td>\n",
       "      <td>3.0</td>\n",
       "      <td>2.911250</td>\n",
       "    </tr>\n",
       "    <tr>\n",
       "      <th>4</th>\n",
       "      <td>69</td>\n",
       "      <td>129</td>\n",
       "      <td>3.0</td>\n",
       "      <td>3.246964</td>\n",
       "    </tr>\n",
       "    <tr>\n",
       "      <th>...</th>\n",
       "      <td>...</td>\n",
       "      <td>...</td>\n",
       "      <td>...</td>\n",
       "      <td>...</td>\n",
       "    </tr>\n",
       "    <tr>\n",
       "      <th>1229</th>\n",
       "      <td>20</td>\n",
       "      <td>5</td>\n",
       "      <td>5.0</td>\n",
       "      <td>4.147449</td>\n",
       "    </tr>\n",
       "    <tr>\n",
       "      <th>1230</th>\n",
       "      <td>210</td>\n",
       "      <td>160</td>\n",
       "      <td>3.0</td>\n",
       "      <td>3.197781</td>\n",
       "    </tr>\n",
       "    <tr>\n",
       "      <th>1231</th>\n",
       "      <td>204</td>\n",
       "      <td>97</td>\n",
       "      <td>3.0</td>\n",
       "      <td>3.511972</td>\n",
       "    </tr>\n",
       "    <tr>\n",
       "      <th>1232</th>\n",
       "      <td>32</td>\n",
       "      <td>0</td>\n",
       "      <td>4.0</td>\n",
       "      <td>5.000000</td>\n",
       "    </tr>\n",
       "    <tr>\n",
       "      <th>1233</th>\n",
       "      <td>106</td>\n",
       "      <td>2</td>\n",
       "      <td>4.0</td>\n",
       "      <td>3.825251</td>\n",
       "    </tr>\n",
       "  </tbody>\n",
       "</table>\n",
       "<p>1234 rows × 4 columns</p>\n",
       "</div>"
      ],
      "text/plain": [
       "      user_id  destination_id  actual  als_predictions\n",
       "0         131               9     5.0         4.228355\n",
       "1         158             153     5.0         3.804938\n",
       "2          89             267     5.0         4.328524\n",
       "3         230             242     3.0         2.911250\n",
       "4          69             129     3.0         3.246964\n",
       "...       ...             ...     ...              ...\n",
       "1229       20               5     5.0         4.147449\n",
       "1230      210             160     3.0         3.197781\n",
       "1231      204              97     3.0         3.511972\n",
       "1232       32               0     4.0         5.000000\n",
       "1233      106               2     4.0         3.825251\n",
       "\n",
       "[1234 rows x 4 columns]"
      ]
     },
     "execution_count": 181,
     "metadata": {},
     "output_type": "execute_result"
    }
   ],
   "source": [
    "test1 = algo1.test(testset)\n",
    "test1 = pd.DataFrame(test1)\n",
    "test1.drop(\"details\", inplace=True, axis=1)\n",
    "test1.columns = ['user_id', 'destination_id', 'actual', 'als_predictions']\n",
    "test1.head()\n",
    "test1"
   ]
  },
  {
   "cell_type": "code",
   "execution_count": 182,
   "metadata": {},
   "outputs": [
    {
     "data": {
      "text/html": [
       "<div>\n",
       "<style scoped>\n",
       "    .dataframe tbody tr th:only-of-type {\n",
       "        vertical-align: middle;\n",
       "    }\n",
       "\n",
       "    .dataframe tbody tr th {\n",
       "        vertical-align: top;\n",
       "    }\n",
       "\n",
       "    .dataframe thead th {\n",
       "        text-align: right;\n",
       "    }\n",
       "</style>\n",
       "<table border=\"1\" class=\"dataframe\">\n",
       "  <thead>\n",
       "    <tr style=\"text-align: right;\">\n",
       "      <th></th>\n",
       "      <th>user_id</th>\n",
       "      <th>destination_id</th>\n",
       "      <th>actual</th>\n",
       "      <th>svd_predictions</th>\n",
       "    </tr>\n",
       "  </thead>\n",
       "  <tbody>\n",
       "    <tr>\n",
       "      <th>0</th>\n",
       "      <td>131</td>\n",
       "      <td>9</td>\n",
       "      <td>5.0</td>\n",
       "      <td>4.218066</td>\n",
       "    </tr>\n",
       "    <tr>\n",
       "      <th>1</th>\n",
       "      <td>158</td>\n",
       "      <td>153</td>\n",
       "      <td>5.0</td>\n",
       "      <td>3.988016</td>\n",
       "    </tr>\n",
       "    <tr>\n",
       "      <th>2</th>\n",
       "      <td>89</td>\n",
       "      <td>267</td>\n",
       "      <td>5.0</td>\n",
       "      <td>4.244168</td>\n",
       "    </tr>\n",
       "    <tr>\n",
       "      <th>3</th>\n",
       "      <td>230</td>\n",
       "      <td>242</td>\n",
       "      <td>3.0</td>\n",
       "      <td>2.943732</td>\n",
       "    </tr>\n",
       "    <tr>\n",
       "      <th>4</th>\n",
       "      <td>69</td>\n",
       "      <td>129</td>\n",
       "      <td>3.0</td>\n",
       "      <td>3.254812</td>\n",
       "    </tr>\n",
       "    <tr>\n",
       "      <th>...</th>\n",
       "      <td>...</td>\n",
       "      <td>...</td>\n",
       "      <td>...</td>\n",
       "      <td>...</td>\n",
       "    </tr>\n",
       "    <tr>\n",
       "      <th>1229</th>\n",
       "      <td>20</td>\n",
       "      <td>5</td>\n",
       "      <td>5.0</td>\n",
       "      <td>4.204538</td>\n",
       "    </tr>\n",
       "    <tr>\n",
       "      <th>1230</th>\n",
       "      <td>210</td>\n",
       "      <td>160</td>\n",
       "      <td>3.0</td>\n",
       "      <td>2.963172</td>\n",
       "    </tr>\n",
       "    <tr>\n",
       "      <th>1231</th>\n",
       "      <td>204</td>\n",
       "      <td>97</td>\n",
       "      <td>3.0</td>\n",
       "      <td>3.301409</td>\n",
       "    </tr>\n",
       "    <tr>\n",
       "      <th>1232</th>\n",
       "      <td>32</td>\n",
       "      <td>0</td>\n",
       "      <td>4.0</td>\n",
       "      <td>4.954865</td>\n",
       "    </tr>\n",
       "    <tr>\n",
       "      <th>1233</th>\n",
       "      <td>106</td>\n",
       "      <td>2</td>\n",
       "      <td>4.0</td>\n",
       "      <td>3.632271</td>\n",
       "    </tr>\n",
       "  </tbody>\n",
       "</table>\n",
       "<p>1234 rows × 4 columns</p>\n",
       "</div>"
      ],
      "text/plain": [
       "      user_id  destination_id  actual  svd_predictions\n",
       "0         131               9     5.0         4.218066\n",
       "1         158             153     5.0         3.988016\n",
       "2          89             267     5.0         4.244168\n",
       "3         230             242     3.0         2.943732\n",
       "4          69             129     3.0         3.254812\n",
       "...       ...             ...     ...              ...\n",
       "1229       20               5     5.0         4.204538\n",
       "1230      210             160     3.0         2.963172\n",
       "1231      204              97     3.0         3.301409\n",
       "1232       32               0     4.0         4.954865\n",
       "1233      106               2     4.0         3.632271\n",
       "\n",
       "[1234 rows x 4 columns]"
      ]
     },
     "execution_count": 182,
     "metadata": {},
     "output_type": "execute_result"
    }
   ],
   "source": [
    "test2 = algo2.test(testset)\n",
    "test2 = pd.DataFrame(test2)\n",
    "test2.drop(\"details\", inplace=True, axis=1)\n",
    "test2.columns = ['user_id', 'destination_id', 'actual', 'svd_predictions']\n",
    "test2.head()\n",
    "test2"
   ]
  },
  {
   "cell_type": "code",
   "execution_count": 183,
   "metadata": {},
   "outputs": [
    {
     "data": {
      "text/html": [
       "<div>\n",
       "<style scoped>\n",
       "    .dataframe tbody tr th:only-of-type {\n",
       "        vertical-align: middle;\n",
       "    }\n",
       "\n",
       "    .dataframe tbody tr th {\n",
       "        vertical-align: top;\n",
       "    }\n",
       "\n",
       "    .dataframe thead th {\n",
       "        text-align: right;\n",
       "    }\n",
       "</style>\n",
       "<table border=\"1\" class=\"dataframe\">\n",
       "  <thead>\n",
       "    <tr style=\"text-align: right;\">\n",
       "      <th></th>\n",
       "      <th>user_id</th>\n",
       "      <th>destination_id</th>\n",
       "      <th>actual</th>\n",
       "      <th>als_predictions</th>\n",
       "      <th>svd_predictions</th>\n",
       "    </tr>\n",
       "  </thead>\n",
       "  <tbody>\n",
       "    <tr>\n",
       "      <th>0</th>\n",
       "      <td>131</td>\n",
       "      <td>9</td>\n",
       "      <td>5.0</td>\n",
       "      <td>4.228355</td>\n",
       "      <td>4.218066</td>\n",
       "    </tr>\n",
       "    <tr>\n",
       "      <th>1</th>\n",
       "      <td>158</td>\n",
       "      <td>153</td>\n",
       "      <td>5.0</td>\n",
       "      <td>3.804938</td>\n",
       "      <td>3.988016</td>\n",
       "    </tr>\n",
       "    <tr>\n",
       "      <th>2</th>\n",
       "      <td>89</td>\n",
       "      <td>267</td>\n",
       "      <td>5.0</td>\n",
       "      <td>4.328524</td>\n",
       "      <td>4.244168</td>\n",
       "    </tr>\n",
       "    <tr>\n",
       "      <th>3</th>\n",
       "      <td>230</td>\n",
       "      <td>242</td>\n",
       "      <td>3.0</td>\n",
       "      <td>2.911250</td>\n",
       "      <td>2.943732</td>\n",
       "    </tr>\n",
       "    <tr>\n",
       "      <th>4</th>\n",
       "      <td>69</td>\n",
       "      <td>129</td>\n",
       "      <td>3.0</td>\n",
       "      <td>3.246964</td>\n",
       "      <td>3.254812</td>\n",
       "    </tr>\n",
       "    <tr>\n",
       "      <th>...</th>\n",
       "      <td>...</td>\n",
       "      <td>...</td>\n",
       "      <td>...</td>\n",
       "      <td>...</td>\n",
       "      <td>...</td>\n",
       "    </tr>\n",
       "    <tr>\n",
       "      <th>1229</th>\n",
       "      <td>20</td>\n",
       "      <td>5</td>\n",
       "      <td>5.0</td>\n",
       "      <td>4.147449</td>\n",
       "      <td>4.204538</td>\n",
       "    </tr>\n",
       "    <tr>\n",
       "      <th>1230</th>\n",
       "      <td>210</td>\n",
       "      <td>160</td>\n",
       "      <td>3.0</td>\n",
       "      <td>3.197781</td>\n",
       "      <td>2.963172</td>\n",
       "    </tr>\n",
       "    <tr>\n",
       "      <th>1231</th>\n",
       "      <td>204</td>\n",
       "      <td>97</td>\n",
       "      <td>3.0</td>\n",
       "      <td>3.511972</td>\n",
       "      <td>3.301409</td>\n",
       "    </tr>\n",
       "    <tr>\n",
       "      <th>1232</th>\n",
       "      <td>32</td>\n",
       "      <td>0</td>\n",
       "      <td>4.0</td>\n",
       "      <td>5.000000</td>\n",
       "      <td>4.954865</td>\n",
       "    </tr>\n",
       "    <tr>\n",
       "      <th>1233</th>\n",
       "      <td>106</td>\n",
       "      <td>2</td>\n",
       "      <td>4.0</td>\n",
       "      <td>3.825251</td>\n",
       "      <td>3.632271</td>\n",
       "    </tr>\n",
       "  </tbody>\n",
       "</table>\n",
       "<p>1234 rows × 5 columns</p>\n",
       "</div>"
      ],
      "text/plain": [
       "      user_id  destination_id  actual  als_predictions  svd_predictions\n",
       "0         131               9     5.0         4.228355         4.218066\n",
       "1         158             153     5.0         3.804938         3.988016\n",
       "2          89             267     5.0         4.328524         4.244168\n",
       "3         230             242     3.0         2.911250         2.943732\n",
       "4          69             129     3.0         3.246964         3.254812\n",
       "...       ...             ...     ...              ...              ...\n",
       "1229       20               5     5.0         4.147449         4.204538\n",
       "1230      210             160     3.0         3.197781         2.963172\n",
       "1231      204              97     3.0         3.511972         3.301409\n",
       "1232       32               0     4.0         5.000000         4.954865\n",
       "1233      106               2     4.0         3.825251         3.632271\n",
       "\n",
       "[1234 rows x 5 columns]"
      ]
     },
     "execution_count": 183,
     "metadata": {},
     "output_type": "execute_result"
    }
   ],
   "source": [
    "merged_test=test1\n",
    "merged_test['svd_predictions']=test2['svd_predictions']\n",
    "merged_test"
   ]
  },
  {
   "cell_type": "markdown",
   "metadata": {},
   "source": [
    "## Evaluate model with MSE and RMSE"
   ]
  },
  {
   "cell_type": "code",
   "execution_count": 184,
   "metadata": {},
   "outputs": [
    {
     "name": "stdout",
     "output_type": "stream",
     "text": [
      "MSE (ALS):  0.5738996613208351\n",
      "MSE (SVD):  0.5596876181810694\n",
      "RMSE (ALS):  0.7575616551283698\n",
      "RMSE (SVD):  0.7481227293573357\n"
     ]
    }
   ],
   "source": [
    "print(\"MSE (ALS): \", recmetrics.mse(test1.actual, test1.als_predictions))\n",
    "print(\"MSE (SVD): \", recmetrics.mse(test2.actual, test2.svd_predictions))\n",
    "\n",
    "print(\"RMSE (ALS): \", recmetrics.rmse(test1.actual, test1.als_predictions))\n",
    "print(\"RMSE (SVD): \", recmetrics.rmse(test2.actual, test2.svd_predictions))"
   ]
  },
  {
   "cell_type": "code",
   "execution_count": 185,
   "metadata": {},
   "outputs": [],
   "source": [
    "#create model (matrix of predicted values)\n",
    "als_model = test1.pivot_table(index='user_id', columns='destination_id', values='als_predictions').fillna(0)\n",
    "svd_model = test2.pivot_table(index='user_id', columns='destination_id', values='svd_predictions').fillna(0)"
   ]
  },
  {
   "cell_type": "code",
   "execution_count": 186,
   "metadata": {},
   "outputs": [],
   "source": [
    "def get_users_predictions(user_id, n, model):\n",
    "    recommended_items = pd.DataFrame(model.loc[user_id])\n",
    "    recommended_items.columns = [\"predicted_rating\"]\n",
    "    recommended_items = recommended_items.sort_values('predicted_rating', ascending=False)    \n",
    "    recommended_items = recommended_items.head(n)\n",
    "    return recommended_items.index.tolist()"
   ]
  },
  {
   "cell_type": "code",
   "execution_count": 187,
   "metadata": {},
   "outputs": [],
   "source": [
    "#get example prediction\n",
    "# get_users_predictions(23, 10, cf_model)"
   ]
  },
  {
   "cell_type": "code",
   "execution_count": 188,
   "metadata": {},
   "outputs": [],
   "source": [
    "test1 = test1.copy().groupby('user_id', as_index=False)['destination_id'].agg({'actual': (lambda x: list(set(x)))})\n",
    "test2 = test2.copy().groupby('user_id', as_index=False)['destination_id'].agg({'actual': (lambda x: list(set(x)))})"
   ]
  },
  {
   "cell_type": "code",
   "execution_count": 189,
   "metadata": {},
   "outputs": [],
   "source": [
    "test1 = test1.set_index(\"user_id\")\n",
    "test2 = test2.set_index(\"user_id\")"
   ]
  },
  {
   "cell_type": "code",
   "execution_count": 190,
   "metadata": {},
   "outputs": [],
   "source": [
    "# make recommendations for all members in the test data\n",
    "als_recs = [] = []\n",
    "for user in test1.index:\n",
    "    cf_predictions = get_users_predictions(user, 10, als_model)\n",
    "    als_recs.append(cf_predictions)\n",
    "        \n",
    "test1['als_predictions'] = als_recs"
   ]
  },
  {
   "cell_type": "code",
   "execution_count": 191,
   "metadata": {},
   "outputs": [],
   "source": [
    "# make recommendations for all members in the test data ( for svd )\n",
    "svd_recs = [] = []\n",
    "for user in test2.index:\n",
    "    cf_predictions = get_users_predictions(user, 10, svd_model)\n",
    "    svd_recs.append(cf_predictions)\n",
    "        \n",
    "test2['svd_predictions'] = svd_recs\n",
    "test2['als_predictions'] = als_recs"
   ]
  },
  {
   "cell_type": "code",
   "execution_count": 192,
   "metadata": {},
   "outputs": [
    {
     "data": {
      "text/html": [
       "<div>\n",
       "<style scoped>\n",
       "    .dataframe tbody tr th:only-of-type {\n",
       "        vertical-align: middle;\n",
       "    }\n",
       "\n",
       "    .dataframe tbody tr th {\n",
       "        vertical-align: top;\n",
       "    }\n",
       "\n",
       "    .dataframe thead th {\n",
       "        text-align: right;\n",
       "    }\n",
       "</style>\n",
       "<table border=\"1\" class=\"dataframe\">\n",
       "  <thead>\n",
       "    <tr style=\"text-align: right;\">\n",
       "      <th></th>\n",
       "      <th>actual</th>\n",
       "      <th>als_predictions</th>\n",
       "    </tr>\n",
       "    <tr>\n",
       "      <th>user_id</th>\n",
       "      <th></th>\n",
       "      <th></th>\n",
       "    </tr>\n",
       "  </thead>\n",
       "  <tbody>\n",
       "    <tr>\n",
       "      <th>0</th>\n",
       "      <td>[185, 3, 55]</td>\n",
       "      <td>[3, 55, 185, 195, 202, 201, 200, 199, 198, 196]</td>\n",
       "    </tr>\n",
       "    <tr>\n",
       "      <th>1</th>\n",
       "      <td>[5, 6, 7, 8, 223]</td>\n",
       "      <td>[8, 223, 6, 5, 7, 0, 195, 202, 201, 200]</td>\n",
       "    </tr>\n",
       "    <tr>\n",
       "      <th>2</th>\n",
       "      <td>[1, 4, 292, 10, 119]</td>\n",
       "      <td>[1, 4, 10, 119, 292, 194, 201, 200, 199, 198]</td>\n",
       "    </tr>\n",
       "    <tr>\n",
       "      <th>3</th>\n",
       "      <td>[3, 6, 7, 169, 49]</td>\n",
       "      <td>[3, 6, 7, 49, 169, 192, 191, 190, 193, 194]</td>\n",
       "    </tr>\n",
       "    <tr>\n",
       "      <th>4</th>\n",
       "      <td>[0, 96, 3, 4, 8, 147]</td>\n",
       "      <td>[0, 4, 8, 3, 96, 147, 191, 192, 190, 193]</td>\n",
       "    </tr>\n",
       "    <tr>\n",
       "      <th>...</th>\n",
       "      <td>...</td>\n",
       "      <td>...</td>\n",
       "    </tr>\n",
       "    <tr>\n",
       "      <th>245</th>\n",
       "      <td>[273, 3, 6, 7]</td>\n",
       "      <td>[3, 6, 7, 273, 0, 202, 201, 200, 199, 198]</td>\n",
       "    </tr>\n",
       "    <tr>\n",
       "      <th>246</th>\n",
       "      <td>[0, 131, 55]</td>\n",
       "      <td>[0, 131, 55, 196, 202, 201, 200, 199, 198, 195]</td>\n",
       "    </tr>\n",
       "    <tr>\n",
       "      <th>247</th>\n",
       "      <td>[1, 5, 6, 232, 8, 10, 173]</td>\n",
       "      <td>[1, 10, 8, 6, 5, 173, 232, 196, 203, 202]</td>\n",
       "    </tr>\n",
       "    <tr>\n",
       "      <th>248</th>\n",
       "      <td>[2, 6, 8, 278, 284, 61]</td>\n",
       "      <td>[2, 8, 6, 61, 278, 284, 198, 203, 202, 201]</td>\n",
       "    </tr>\n",
       "    <tr>\n",
       "      <th>249</th>\n",
       "      <td>[1, 257, 3, 40, 9, 78, 277]</td>\n",
       "      <td>[1, 9, 40, 3, 78, 257, 277, 196, 201, 200]</td>\n",
       "    </tr>\n",
       "  </tbody>\n",
       "</table>\n",
       "<p>242 rows × 2 columns</p>\n",
       "</div>"
      ],
      "text/plain": [
       "                              actual  \\\n",
       "user_id                                \n",
       "0                       [185, 3, 55]   \n",
       "1                  [5, 6, 7, 8, 223]   \n",
       "2               [1, 4, 292, 10, 119]   \n",
       "3                 [3, 6, 7, 169, 49]   \n",
       "4              [0, 96, 3, 4, 8, 147]   \n",
       "...                              ...   \n",
       "245                   [273, 3, 6, 7]   \n",
       "246                     [0, 131, 55]   \n",
       "247       [1, 5, 6, 232, 8, 10, 173]   \n",
       "248          [2, 6, 8, 278, 284, 61]   \n",
       "249      [1, 257, 3, 40, 9, 78, 277]   \n",
       "\n",
       "                                         als_predictions  \n",
       "user_id                                                   \n",
       "0        [3, 55, 185, 195, 202, 201, 200, 199, 198, 196]  \n",
       "1               [8, 223, 6, 5, 7, 0, 195, 202, 201, 200]  \n",
       "2          [1, 4, 10, 119, 292, 194, 201, 200, 199, 198]  \n",
       "3            [3, 6, 7, 49, 169, 192, 191, 190, 193, 194]  \n",
       "4              [0, 4, 8, 3, 96, 147, 191, 192, 190, 193]  \n",
       "...                                                  ...  \n",
       "245           [3, 6, 7, 273, 0, 202, 201, 200, 199, 198]  \n",
       "246      [0, 131, 55, 196, 202, 201, 200, 199, 198, 195]  \n",
       "247            [1, 10, 8, 6, 5, 173, 232, 196, 203, 202]  \n",
       "248          [2, 8, 6, 61, 278, 284, 198, 203, 202, 201]  \n",
       "249           [1, 9, 40, 3, 78, 257, 277, 196, 201, 200]  \n",
       "\n",
       "[242 rows x 2 columns]"
      ]
     },
     "execution_count": 192,
     "metadata": {},
     "output_type": "execute_result"
    }
   ],
   "source": [
    "test1"
   ]
  },
  {
   "cell_type": "code",
   "execution_count": 193,
   "metadata": {},
   "outputs": [
    {
     "data": {
      "text/html": [
       "<div>\n",
       "<style scoped>\n",
       "    .dataframe tbody tr th:only-of-type {\n",
       "        vertical-align: middle;\n",
       "    }\n",
       "\n",
       "    .dataframe tbody tr th {\n",
       "        vertical-align: top;\n",
       "    }\n",
       "\n",
       "    .dataframe thead th {\n",
       "        text-align: right;\n",
       "    }\n",
       "</style>\n",
       "<table border=\"1\" class=\"dataframe\">\n",
       "  <thead>\n",
       "    <tr style=\"text-align: right;\">\n",
       "      <th></th>\n",
       "      <th>actual</th>\n",
       "      <th>svd_predictions</th>\n",
       "      <th>als_predictions</th>\n",
       "    </tr>\n",
       "    <tr>\n",
       "      <th>user_id</th>\n",
       "      <th></th>\n",
       "      <th></th>\n",
       "      <th></th>\n",
       "    </tr>\n",
       "  </thead>\n",
       "  <tbody>\n",
       "    <tr>\n",
       "      <th>0</th>\n",
       "      <td>[185, 3, 55]</td>\n",
       "      <td>[3, 55, 185, 195, 202, 201, 200, 199, 198, 196]</td>\n",
       "      <td>[3, 55, 185, 195, 202, 201, 200, 199, 198, 196]</td>\n",
       "    </tr>\n",
       "    <tr>\n",
       "      <th>1</th>\n",
       "      <td>[5, 6, 7, 8, 223]</td>\n",
       "      <td>[8, 223, 6, 5, 7, 0, 195, 202, 201, 200]</td>\n",
       "      <td>[8, 223, 6, 5, 7, 0, 195, 202, 201, 200]</td>\n",
       "    </tr>\n",
       "    <tr>\n",
       "      <th>2</th>\n",
       "      <td>[1, 4, 292, 10, 119]</td>\n",
       "      <td>[1, 4, 10, 119, 292, 194, 201, 200, 199, 198]</td>\n",
       "      <td>[1, 4, 10, 119, 292, 194, 201, 200, 199, 198]</td>\n",
       "    </tr>\n",
       "    <tr>\n",
       "      <th>3</th>\n",
       "      <td>[3, 6, 7, 169, 49]</td>\n",
       "      <td>[6, 3, 7, 49, 169, 192, 191, 190, 193, 194]</td>\n",
       "      <td>[3, 6, 7, 49, 169, 192, 191, 190, 193, 194]</td>\n",
       "    </tr>\n",
       "    <tr>\n",
       "      <th>4</th>\n",
       "      <td>[0, 96, 3, 4, 8, 147]</td>\n",
       "      <td>[0, 8, 4, 96, 3, 147, 191, 192, 190, 193]</td>\n",
       "      <td>[0, 4, 8, 3, 96, 147, 191, 192, 190, 193]</td>\n",
       "    </tr>\n",
       "    <tr>\n",
       "      <th>...</th>\n",
       "      <td>...</td>\n",
       "      <td>...</td>\n",
       "      <td>...</td>\n",
       "    </tr>\n",
       "    <tr>\n",
       "      <th>245</th>\n",
       "      <td>[273, 3, 6, 7]</td>\n",
       "      <td>[6, 7, 3, 273, 0, 202, 201, 200, 199, 198]</td>\n",
       "      <td>[3, 6, 7, 273, 0, 202, 201, 200, 199, 198]</td>\n",
       "    </tr>\n",
       "    <tr>\n",
       "      <th>246</th>\n",
       "      <td>[0, 131, 55]</td>\n",
       "      <td>[0, 131, 55, 196, 202, 201, 200, 199, 198, 195]</td>\n",
       "      <td>[0, 131, 55, 196, 202, 201, 200, 199, 198, 195]</td>\n",
       "    </tr>\n",
       "    <tr>\n",
       "      <th>247</th>\n",
       "      <td>[1, 5, 6, 232, 8, 10, 173]</td>\n",
       "      <td>[1, 10, 5, 8, 6, 173, 232, 196, 203, 202]</td>\n",
       "      <td>[1, 10, 8, 6, 5, 173, 232, 196, 203, 202]</td>\n",
       "    </tr>\n",
       "    <tr>\n",
       "      <th>248</th>\n",
       "      <td>[2, 6, 8, 278, 284, 61]</td>\n",
       "      <td>[2, 8, 6, 278, 61, 284, 198, 203, 202, 201]</td>\n",
       "      <td>[2, 8, 6, 61, 278, 284, 198, 203, 202, 201]</td>\n",
       "    </tr>\n",
       "    <tr>\n",
       "      <th>249</th>\n",
       "      <td>[1, 257, 3, 40, 9, 78, 277]</td>\n",
       "      <td>[40, 1, 9, 3, 78, 257, 277, 196, 201, 200]</td>\n",
       "      <td>[1, 9, 40, 3, 78, 257, 277, 196, 201, 200]</td>\n",
       "    </tr>\n",
       "  </tbody>\n",
       "</table>\n",
       "<p>242 rows × 3 columns</p>\n",
       "</div>"
      ],
      "text/plain": [
       "                              actual  \\\n",
       "user_id                                \n",
       "0                       [185, 3, 55]   \n",
       "1                  [5, 6, 7, 8, 223]   \n",
       "2               [1, 4, 292, 10, 119]   \n",
       "3                 [3, 6, 7, 169, 49]   \n",
       "4              [0, 96, 3, 4, 8, 147]   \n",
       "...                              ...   \n",
       "245                   [273, 3, 6, 7]   \n",
       "246                     [0, 131, 55]   \n",
       "247       [1, 5, 6, 232, 8, 10, 173]   \n",
       "248          [2, 6, 8, 278, 284, 61]   \n",
       "249      [1, 257, 3, 40, 9, 78, 277]   \n",
       "\n",
       "                                         svd_predictions  \\\n",
       "user_id                                                    \n",
       "0        [3, 55, 185, 195, 202, 201, 200, 199, 198, 196]   \n",
       "1               [8, 223, 6, 5, 7, 0, 195, 202, 201, 200]   \n",
       "2          [1, 4, 10, 119, 292, 194, 201, 200, 199, 198]   \n",
       "3            [6, 3, 7, 49, 169, 192, 191, 190, 193, 194]   \n",
       "4              [0, 8, 4, 96, 3, 147, 191, 192, 190, 193]   \n",
       "...                                                  ...   \n",
       "245           [6, 7, 3, 273, 0, 202, 201, 200, 199, 198]   \n",
       "246      [0, 131, 55, 196, 202, 201, 200, 199, 198, 195]   \n",
       "247            [1, 10, 5, 8, 6, 173, 232, 196, 203, 202]   \n",
       "248          [2, 8, 6, 278, 61, 284, 198, 203, 202, 201]   \n",
       "249           [40, 1, 9, 3, 78, 257, 277, 196, 201, 200]   \n",
       "\n",
       "                                         als_predictions  \n",
       "user_id                                                   \n",
       "0        [3, 55, 185, 195, 202, 201, 200, 199, 198, 196]  \n",
       "1               [8, 223, 6, 5, 7, 0, 195, 202, 201, 200]  \n",
       "2          [1, 4, 10, 119, 292, 194, 201, 200, 199, 198]  \n",
       "3            [3, 6, 7, 49, 169, 192, 191, 190, 193, 194]  \n",
       "4              [0, 4, 8, 3, 96, 147, 191, 192, 190, 193]  \n",
       "...                                                  ...  \n",
       "245           [3, 6, 7, 273, 0, 202, 201, 200, 199, 198]  \n",
       "246      [0, 131, 55, 196, 202, 201, 200, 199, 198, 195]  \n",
       "247            [1, 10, 8, 6, 5, 173, 232, 196, 203, 202]  \n",
       "248          [2, 8, 6, 61, 278, 284, 198, 203, 202, 201]  \n",
       "249           [1, 9, 40, 3, 78, 257, 277, 196, 201, 200]  \n",
       "\n",
       "[242 rows x 3 columns]"
      ]
     },
     "execution_count": 193,
     "metadata": {},
     "output_type": "execute_result"
    }
   ],
   "source": [
    "test2"
   ]
  },
  {
   "cell_type": "markdown",
   "metadata": {},
   "source": [
    "## Confusion Matrix"
   ]
  },
  {
   "cell_type": "code",
   "execution_count": 194,
   "metadata": {},
   "outputs": [],
   "source": [
    "actual1 = test1.actual.values.tolist()\n",
    "actual2 = test2.actual.values.tolist()\n",
    "als_predictions = test1.als_predictions.values.tolist()\n",
    "svd_predictions = test2.svd_predictions.values.tolist()\n",
    "# print(actual)\n",
    "# print(cf_predictions)"
   ]
  },
  {
   "cell_type": "code",
   "execution_count": 195,
   "metadata": {},
   "outputs": [],
   "source": [
    "# from sklearn.preprocessing import MultiLabelBinarizer\n",
    "# from sklearn.metrics import confusion_matrix"
   ]
  },
  {
   "cell_type": "code",
   "execution_count": 196,
   "metadata": {},
   "outputs": [],
   "source": [
    "# a=MultiLabelBinarizer().fit_transform(actual)\n",
    "# a"
   ]
  },
  {
   "cell_type": "code",
   "execution_count": 197,
   "metadata": {},
   "outputs": [],
   "source": [
    "# b=MultiLabelBinarizer().fit_transform(cf_predictions)\n",
    "# b"
   ]
  },
  {
   "cell_type": "code",
   "execution_count": 198,
   "metadata": {},
   "outputs": [],
   "source": [
    "# recmetrics.make_confusion_matrix(actual,cf_predictions)\n",
    "# confusion_matrix(a.argmax(axis=1), b.argmax(axis=1))"
   ]
  },
  {
   "cell_type": "code",
   "execution_count": 199,
   "metadata": {},
   "outputs": [],
   "source": [
    "# recmetrics.make_confusion_matrix(a.argmax(axis=1), b.argmax(axis=1))"
   ]
  },
  {
   "cell_type": "markdown",
   "metadata": {},
   "source": [
    "# Recall"
   ]
  },
  {
   "cell_type": "code",
   "execution_count": 200,
   "metadata": {},
   "outputs": [
    {
     "name": "stdout",
     "output_type": "stream",
     "text": [
      "[0.24743375311557128, 0.46180965499147314, 0.6534582841401023, 0.7927653154925882, 0.885584743539289, 0.9445198740653288, 0.9772842056932967, 0.992929292929293, 0.996694214876033, 0.9986225895316805]\n"
     ]
    }
   ],
   "source": [
    "als_mark = []\n",
    "for K in np.arange(1, 11):\n",
    "    als_mark.extend([recmetrics.mark(actual1, als_predictions, k=K)])\n",
    "\n",
    "print(als_mark)"
   ]
  },
  {
   "cell_type": "code",
   "execution_count": 201,
   "metadata": {},
   "outputs": [
    {
     "name": "stdout",
     "output_type": "stream",
     "text": [
      "[0.24743375311557128, 0.46180965499147314, 0.6534582841401023, 0.7927653154925882, 0.885584743539289, 0.9445198740653288, 0.9772842056932967, 0.992929292929293, 0.996694214876033, 0.9986225895316805]\n"
     ]
    }
   ],
   "source": [
    "svd_mark = []\n",
    "for K in np.arange(1, 11):\n",
    "    svd_mark.extend([recmetrics.mark(actual2, svd_predictions, k=K)])\n",
    "\n",
    "print(svd_mark)"
   ]
  },
  {
   "cell_type": "markdown",
   "metadata": {},
   "source": [
    "# Mark Plot"
   ]
  },
  {
   "cell_type": "code",
   "execution_count": 202,
   "metadata": {
    "scrolled": true
   },
   "outputs": [
    {
     "data": {
      "image/png": "[encoded data removed]",
      "text/plain": [
       "<Figure size 1080x504 with 1 Axes>"
      ]
     },
     "metadata": {
      "needs_background": "light"
     },
     "output_type": "display_data"
    }
   ],
   "source": [
    "mark_scores = [als_mark,svd_mark]\n",
    "index = range(1,10+1)\n",
    "names = ['Collaborative Filter with ALS','Collaborative Filter with SVD']\n",
    "\n",
    "fig = plt.figure(figsize=(15, 7))\n",
    "recmetrics.mark_plot(mark_scores, model_names=names, k_range=index)"
   ]
  },
  {
   "cell_type": "code",
   "execution_count": 203,
   "metadata": {},
   "outputs": [
    {
     "name": "stdout",
     "output_type": "stream",
     "text": [
      "[1.0, 1.0, 1.0, 1.0, 1.0, 1.0, 1.0, 1.0, 1.0, 1.0]\n",
      "[1.0, 1.0, 1.0, 1.0, 1.0, 1.0, 1.0, 1.0, 1.0, 1.0]\n"
     ]
    }
   ],
   "source": [
    "import ml_metrics as metrics\n",
    "# for MAPK scpre\n",
    "als_mapk = []\n",
    "svd_mapk = [] \n",
    "for K in np.arange(1, 11):\n",
    "    als_mapk.extend([metrics.mapk(actual1, als_predictions, k=K)])\n",
    "    svd_mapk.extend([metrics.mapk(actual2, svd_predictions, k=K)])\n",
    "print(als_mapk)\n",
    "print(svd_mapk)\n",
    "# print(actual)\n",
    "# print(cf_predictions)"
   ]
  },
  {
   "cell_type": "code",
   "execution_count": 204,
   "metadata": {},
   "outputs": [
    {
     "data": {
      "image/png": "[encoded data removed]",
      "text/plain": [
       "<Figure size 1080x504 with 1 Axes>"
      ]
     },
     "metadata": {
      "needs_background": "light"
     },
     "output_type": "display_data"
    }
   ],
   "source": [
    "# generate a mapk plot\n",
    "mapk_scores = [als_mapk,svd_mapk]\n",
    "index = range(1,10+1)\n",
    "names = ['Collaborative Filter-ALS','Collaborative Filter-SVD']\n",
    "\n",
    "fig = plt.figure(figsize=(15, 7))\n",
    "recmetrics.mapk_plot(mapk_scores, model_names=names, k_range=index)"
   ]
  },
  {
   "cell_type": "markdown",
   "metadata": {},
   "source": [
    "# Prediction Coverage"
   ]
  },
  {
   "cell_type": "code",
   "execution_count": 205,
   "metadata": {},
   "outputs": [
    {
     "name": "stdout",
     "output_type": "stream",
     "text": [
      "91.33\n",
      "91.67\n"
     ]
    }
   ],
   "source": [
    "catalog = ratings.destination_id.unique().tolist()\n",
    "als_coverage = recmetrics.prediction_coverage(als_recs, catalog)\n",
    "svd_coverage = recmetrics.prediction_coverage(svd_recs, catalog)\n",
    "print(als_coverage)\n",
    "print(svd_coverage)"
   ]
  },
  {
   "cell_type": "markdown",
   "metadata": {},
   "source": [
    "# Coverage Plot"
   ]
  },
  {
   "cell_type": "code",
   "execution_count": 206,
   "metadata": {},
   "outputs": [
    {
     "data": {
      "image/png": "[encoded data removed]",
      "text/plain": [
       "<Figure size 504x360 with 1 Axes>"
      ]
     },
     "metadata": {
      "needs_background": "light"
     },
     "output_type": "display_data"
    }
   ],
   "source": [
    "# plot of prediction coverage\n",
    "coverage_scores = [als_coverage,svd_coverage]\n",
    "model_names = ['Collaborative Filter - ALS','Collaborative Filter - SVD']\n",
    "\n",
    "fig = plt.figure(figsize=(7, 5))\n",
    "recmetrics.coverage_plot(coverage_scores, model_names)"
   ]
  },
  {
   "cell_type": "markdown",
   "metadata": {},
   "source": [
    "# Intra-list Similarity"
   ]
  },
  {
   "cell_type": "code",
   "execution_count": 207,
   "metadata": {},
   "outputs": [],
   "source": [
    "feature_df=destinations[['history','art_and_architecture','nature','adventure', 'entertainment','health_and_lifestyle',\\\n",
    "                        'food','industries','religious']]"
   ]
  },
  {
   "cell_type": "code",
   "execution_count": 208,
   "metadata": {},
   "outputs": [
    {
     "data": {
      "text/html": [
       "<div>\n",
       "<style scoped>\n",
       "    .dataframe tbody tr th:only-of-type {\n",
       "        vertical-align: middle;\n",
       "    }\n",
       "\n",
       "    .dataframe tbody tr th {\n",
       "        vertical-align: top;\n",
       "    }\n",
       "\n",
       "    .dataframe thead th {\n",
       "        text-align: right;\n",
       "    }\n",
       "</style>\n",
       "<table border=\"1\" class=\"dataframe\">\n",
       "  <thead>\n",
       "    <tr style=\"text-align: right;\">\n",
       "      <th></th>\n",
       "      <th>history</th>\n",
       "      <th>art_and_architecture</th>\n",
       "      <th>nature</th>\n",
       "      <th>adventure</th>\n",
       "      <th>entertainment</th>\n",
       "      <th>health_and_lifestyle</th>\n",
       "      <th>food</th>\n",
       "      <th>industries</th>\n",
       "      <th>religious</th>\n",
       "    </tr>\n",
       "  </thead>\n",
       "  <tbody>\n",
       "    <tr>\n",
       "      <th>0</th>\n",
       "      <td>True</td>\n",
       "      <td>True</td>\n",
       "      <td>False</td>\n",
       "      <td>False</td>\n",
       "      <td>False</td>\n",
       "      <td>False</td>\n",
       "      <td>False</td>\n",
       "      <td>False</td>\n",
       "      <td>True</td>\n",
       "    </tr>\n",
       "    <tr>\n",
       "      <th>1</th>\n",
       "      <td>False</td>\n",
       "      <td>False</td>\n",
       "      <td>True</td>\n",
       "      <td>False</td>\n",
       "      <td>False</td>\n",
       "      <td>False</td>\n",
       "      <td>False</td>\n",
       "      <td>False</td>\n",
       "      <td>False</td>\n",
       "    </tr>\n",
       "    <tr>\n",
       "      <th>2</th>\n",
       "      <td>False</td>\n",
       "      <td>False</td>\n",
       "      <td>True</td>\n",
       "      <td>False</td>\n",
       "      <td>False</td>\n",
       "      <td>False</td>\n",
       "      <td>False</td>\n",
       "      <td>False</td>\n",
       "      <td>False</td>\n",
       "    </tr>\n",
       "    <tr>\n",
       "      <th>3</th>\n",
       "      <td>True</td>\n",
       "      <td>True</td>\n",
       "      <td>False</td>\n",
       "      <td>False</td>\n",
       "      <td>False</td>\n",
       "      <td>False</td>\n",
       "      <td>False</td>\n",
       "      <td>False</td>\n",
       "      <td>True</td>\n",
       "    </tr>\n",
       "    <tr>\n",
       "      <th>4</th>\n",
       "      <td>False</td>\n",
       "      <td>False</td>\n",
       "      <td>True</td>\n",
       "      <td>False</td>\n",
       "      <td>False</td>\n",
       "      <td>False</td>\n",
       "      <td>False</td>\n",
       "      <td>False</td>\n",
       "      <td>False</td>\n",
       "    </tr>\n",
       "    <tr>\n",
       "      <th>...</th>\n",
       "      <td>...</td>\n",
       "      <td>...</td>\n",
       "      <td>...</td>\n",
       "      <td>...</td>\n",
       "      <td>...</td>\n",
       "      <td>...</td>\n",
       "      <td>...</td>\n",
       "      <td>...</td>\n",
       "      <td>...</td>\n",
       "    </tr>\n",
       "    <tr>\n",
       "      <th>437</th>\n",
       "      <td>False</td>\n",
       "      <td>True</td>\n",
       "      <td>False</td>\n",
       "      <td>False</td>\n",
       "      <td>False</td>\n",
       "      <td>False</td>\n",
       "      <td>False</td>\n",
       "      <td>False</td>\n",
       "      <td>True</td>\n",
       "    </tr>\n",
       "    <tr>\n",
       "      <th>438</th>\n",
       "      <td>True</td>\n",
       "      <td>False</td>\n",
       "      <td>False</td>\n",
       "      <td>False</td>\n",
       "      <td>False</td>\n",
       "      <td>False</td>\n",
       "      <td>False</td>\n",
       "      <td>False</td>\n",
       "      <td>False</td>\n",
       "    </tr>\n",
       "    <tr>\n",
       "      <th>439</th>\n",
       "      <td>True</td>\n",
       "      <td>False</td>\n",
       "      <td>False</td>\n",
       "      <td>False</td>\n",
       "      <td>False</td>\n",
       "      <td>False</td>\n",
       "      <td>False</td>\n",
       "      <td>False</td>\n",
       "      <td>False</td>\n",
       "    </tr>\n",
       "    <tr>\n",
       "      <th>440</th>\n",
       "      <td>True</td>\n",
       "      <td>True</td>\n",
       "      <td>False</td>\n",
       "      <td>False</td>\n",
       "      <td>True</td>\n",
       "      <td>False</td>\n",
       "      <td>False</td>\n",
       "      <td>False</td>\n",
       "      <td>False</td>\n",
       "    </tr>\n",
       "    <tr>\n",
       "      <th>441</th>\n",
       "      <td>False</td>\n",
       "      <td>False</td>\n",
       "      <td>False</td>\n",
       "      <td>True</td>\n",
       "      <td>False</td>\n",
       "      <td>False</td>\n",
       "      <td>False</td>\n",
       "      <td>False</td>\n",
       "      <td>False</td>\n",
       "    </tr>\n",
       "  </tbody>\n",
       "</table>\n",
       "<p>442 rows × 9 columns</p>\n",
       "</div>"
      ],
      "text/plain": [
       "     history  art_and_architecture  nature  adventure  entertainment  \\\n",
       "0       True                  True   False      False          False   \n",
       "1      False                 False    True      False          False   \n",
       "2      False                 False    True      False          False   \n",
       "3       True                  True   False      False          False   \n",
       "4      False                 False    True      False          False   \n",
       "..       ...                   ...     ...        ...            ...   \n",
       "437    False                  True   False      False          False   \n",
       "438     True                 False   False      False          False   \n",
       "439     True                 False   False      False          False   \n",
       "440     True                  True   False      False           True   \n",
       "441    False                 False   False       True          False   \n",
       "\n",
       "     health_and_lifestyle   food  industries  religious  \n",
       "0                   False  False       False       True  \n",
       "1                   False  False       False      False  \n",
       "2                   False  False       False      False  \n",
       "3                   False  False       False       True  \n",
       "4                   False  False       False      False  \n",
       "..                    ...    ...         ...        ...  \n",
       "437                 False  False       False       True  \n",
       "438                 False  False       False      False  \n",
       "439                 False  False       False      False  \n",
       "440                 False  False       False      False  \n",
       "441                 False  False       False      False  \n",
       "\n",
       "[442 rows x 9 columns]"
      ]
     },
     "execution_count": 208,
     "metadata": {},
     "output_type": "execute_result"
    }
   ],
   "source": [
    "feature_df"
   ]
  },
  {
   "cell_type": "code",
   "execution_count": 209,
   "metadata": {},
   "outputs": [
    {
     "data": {
      "text/plain": [
       "0.5316187932312518"
      ]
     },
     "execution_count": 209,
     "metadata": {},
     "output_type": "execute_result"
    }
   ],
   "source": [
    "recmetrics.intra_list_similarity(als_predictions, feature_df)"
   ]
  },
  {
   "cell_type": "code",
   "execution_count": 210,
   "metadata": {},
   "outputs": [
    {
     "data": {
      "text/plain": [
       "0.5336882185695199"
      ]
     },
     "execution_count": 210,
     "metadata": {},
     "output_type": "execute_result"
    }
   ],
   "source": [
    "recmetrics.intra_list_similarity(svd_predictions, feature_df)"
   ]
  },
  {
   "cell_type": "code",
   "execution_count": null,
   "metadata": {},
   "outputs": [],
   "source": []
  }
 ],
 "metadata": {
  "kernelspec": {
   "display_name": "Python 3 (ipykernel)",
   "language": "python",
   "name": "python3"
  },
  "language_info": {
   "codemirror_mode": {
    "name": "ipython",
    "version": 3
   },
   "file_extension": ".py",
   "mimetype": "text/x-python",
   "name": "python",
   "nbconvert_exporter": "python",
   "pygments_lexer": "ipython3",
   "version": "3.9.7"
  },
  "toc": {
   "colors": {
    "hover_highlight": "#DAA520",
    "navigate_num": "#000000",
    "navigate_text": "#333333",
    "running_highlight": "#FF0000",
    "selected_highlight": "#FFD700",
    "sidebar_border": "#EEEEEE",
    "wrapper_background": "#FFFFFF"
   },
   "moveMenuLeft": true,
   "nav_menu": {
    "height": "171px",
    "width": "252px"
   },
   "navigate_menu": true,
   "number_sections": true,
   "sideBar": true,
   "skip_h1_title": false,
   "threshold": 4,
   "toc_cell": false,
   "toc_section_display": "block",
   "toc_window_display": false,
   "widenNotebook": false
  }
 },
 "nbformat": 4,
 "nbformat_minor": 4
}
