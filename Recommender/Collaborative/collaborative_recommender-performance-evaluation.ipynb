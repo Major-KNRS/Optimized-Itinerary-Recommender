{
 "cells": [
  {
   "cell_type": "markdown",
   "metadata": {},
   "source": [
    "# Recommend destinations based on collaborative filtering "
   ]
  },
  {
   "cell_type": "markdown",
   "metadata": {},
   "source": [
    "## Step 1: Import the Dependencies"
   ]
  },
  {
   "cell_type": "code",
   "execution_count": 1,
   "metadata": {},
   "outputs": [],
   "source": [
    "import numpy as np\n",
    "import pandas as pd\n",
    "import sklearn\n",
    "import matplotlib.pyplot as plt"
   ]
  },
  {
   "cell_type": "markdown",
   "metadata": {},
   "source": [
    "## Step 2: Load the Data"
   ]
  },
  {
   "cell_type": "code",
   "execution_count": 2,
   "metadata": {},
   "outputs": [
    {
     "data": {
      "text/html": [
       "<div>\n",
       "<style scoped>\n",
       "    .dataframe tbody tr th:only-of-type {\n",
       "        vertical-align: middle;\n",
       "    }\n",
       "\n",
       "    .dataframe tbody tr th {\n",
       "        vertical-align: top;\n",
       "    }\n",
       "\n",
       "    .dataframe thead th {\n",
       "        text-align: right;\n",
       "    }\n",
       "</style>\n",
       "<table border=\"1\" class=\"dataframe\">\n",
       "  <thead>\n",
       "    <tr style=\"text-align: right;\">\n",
       "      <th></th>\n",
       "      <th>destination_id</th>\n",
       "      <th>title</th>\n",
       "      <th>genre</th>\n",
       "      <th>history</th>\n",
       "      <th>art_and_architecture</th>\n",
       "      <th>nature</th>\n",
       "      <th>adventure</th>\n",
       "      <th>entertainment</th>\n",
       "      <th>health_and_lifestyle</th>\n",
       "      <th>food</th>\n",
       "      <th>industries</th>\n",
       "      <th>religious</th>\n",
       "    </tr>\n",
       "  </thead>\n",
       "  <tbody>\n",
       "    <tr>\n",
       "      <th>0</th>\n",
       "      <td>0</td>\n",
       "      <td>Boudhanath Stupa</td>\n",
       "      <td>['Religious Sites']</td>\n",
       "      <td>True</td>\n",
       "      <td>True</td>\n",
       "      <td>False</td>\n",
       "      <td>False</td>\n",
       "      <td>False</td>\n",
       "      <td>False</td>\n",
       "      <td>False</td>\n",
       "      <td>False</td>\n",
       "      <td>True</td>\n",
       "    </tr>\n",
       "    <tr>\n",
       "      <th>1</th>\n",
       "      <td>1</td>\n",
       "      <td>Phewa Tal (Fewa Lake)</td>\n",
       "      <td>['Bodies of Water']</td>\n",
       "      <td>False</td>\n",
       "      <td>False</td>\n",
       "      <td>True</td>\n",
       "      <td>False</td>\n",
       "      <td>False</td>\n",
       "      <td>False</td>\n",
       "      <td>False</td>\n",
       "      <td>False</td>\n",
       "      <td>False</td>\n",
       "    </tr>\n",
       "    <tr>\n",
       "      <th>2</th>\n",
       "      <td>2</td>\n",
       "      <td>Sarangkot</td>\n",
       "      <td>['Mountains']</td>\n",
       "      <td>False</td>\n",
       "      <td>False</td>\n",
       "      <td>True</td>\n",
       "      <td>False</td>\n",
       "      <td>False</td>\n",
       "      <td>False</td>\n",
       "      <td>False</td>\n",
       "      <td>False</td>\n",
       "      <td>False</td>\n",
       "    </tr>\n",
       "    <tr>\n",
       "      <th>3</th>\n",
       "      <td>3</td>\n",
       "      <td>Swayambhunath Temple</td>\n",
       "      <td>['Religious Sites']</td>\n",
       "      <td>True</td>\n",
       "      <td>True</td>\n",
       "      <td>False</td>\n",
       "      <td>False</td>\n",
       "      <td>False</td>\n",
       "      <td>False</td>\n",
       "      <td>False</td>\n",
       "      <td>False</td>\n",
       "      <td>True</td>\n",
       "    </tr>\n",
       "    <tr>\n",
       "      <th>4</th>\n",
       "      <td>4</td>\n",
       "      <td>Poon Hill</td>\n",
       "      <td>['Mountains']</td>\n",
       "      <td>False</td>\n",
       "      <td>False</td>\n",
       "      <td>True</td>\n",
       "      <td>False</td>\n",
       "      <td>False</td>\n",
       "      <td>False</td>\n",
       "      <td>False</td>\n",
       "      <td>False</td>\n",
       "      <td>False</td>\n",
       "    </tr>\n",
       "  </tbody>\n",
       "</table>\n",
       "</div>"
      ],
      "text/plain": [
       "   destination_id                  title                genre  history  \\\n",
       "0               0       Boudhanath Stupa  ['Religious Sites']     True   \n",
       "1               1  Phewa Tal (Fewa Lake)  ['Bodies of Water']    False   \n",
       "2               2              Sarangkot        ['Mountains']    False   \n",
       "3               3   Swayambhunath Temple  ['Religious Sites']     True   \n",
       "4               4              Poon Hill        ['Mountains']    False   \n",
       "\n",
       "   art_and_architecture  nature  adventure  entertainment  \\\n",
       "0                  True   False      False          False   \n",
       "1                 False    True      False          False   \n",
       "2                 False    True      False          False   \n",
       "3                  True   False      False          False   \n",
       "4                 False    True      False          False   \n",
       "\n",
       "   health_and_lifestyle   food  industries  religious  \n",
       "0                 False  False       False       True  \n",
       "1                 False  False       False      False  \n",
       "2                 False  False       False      False  \n",
       "3                 False  False       False       True  \n",
       "4                 False  False       False      False  "
      ]
     },
     "execution_count": 2,
     "metadata": {},
     "output_type": "execute_result"
    }
   ],
   "source": [
    "destinations = pd.read_csv(\"sample_destinations.csv\")\n",
    "destinations.head()"
   ]
  },
  {
   "cell_type": "code",
   "execution_count": 3,
   "metadata": {},
   "outputs": [
    {
     "data": {
      "text/html": [
       "<div>\n",
       "<style scoped>\n",
       "    .dataframe tbody tr th:only-of-type {\n",
       "        vertical-align: middle;\n",
       "    }\n",
       "\n",
       "    .dataframe tbody tr th {\n",
       "        vertical-align: top;\n",
       "    }\n",
       "\n",
       "    .dataframe thead th {\n",
       "        text-align: right;\n",
       "    }\n",
       "</style>\n",
       "<table border=\"1\" class=\"dataframe\">\n",
       "  <thead>\n",
       "    <tr style=\"text-align: right;\">\n",
       "      <th></th>\n",
       "      <th>user_id</th>\n",
       "      <th>destination_id</th>\n",
       "      <th>rating</th>\n",
       "    </tr>\n",
       "  </thead>\n",
       "  <tbody>\n",
       "    <tr>\n",
       "      <th>0</th>\n",
       "      <td>0</td>\n",
       "      <td>62</td>\n",
       "      <td>5</td>\n",
       "    </tr>\n",
       "    <tr>\n",
       "      <th>1</th>\n",
       "      <td>0</td>\n",
       "      <td>120</td>\n",
       "      <td>4</td>\n",
       "    </tr>\n",
       "    <tr>\n",
       "      <th>2</th>\n",
       "      <td>0</td>\n",
       "      <td>28</td>\n",
       "      <td>4</td>\n",
       "    </tr>\n",
       "    <tr>\n",
       "      <th>3</th>\n",
       "      <td>0</td>\n",
       "      <td>4</td>\n",
       "      <td>5</td>\n",
       "    </tr>\n",
       "    <tr>\n",
       "      <th>4</th>\n",
       "      <td>0</td>\n",
       "      <td>100</td>\n",
       "      <td>3</td>\n",
       "    </tr>\n",
       "  </tbody>\n",
       "</table>\n",
       "</div>"
      ],
      "text/plain": [
       "   user_id  destination_id  rating\n",
       "0        0              62       5\n",
       "1        0             120       4\n",
       "2        0              28       4\n",
       "3        0               4       5\n",
       "4        0             100       3"
      ]
     },
     "execution_count": 3,
     "metadata": {},
     "output_type": "execute_result"
    }
   ],
   "source": [
    "ratings=pd.read_csv(\"sample_user_ratings.csv\")\n",
    "ratings.head()"
   ]
  },
  {
   "cell_type": "markdown",
   "metadata": {},
   "source": [
    "## Step 3: Exploratory Data Analysis\n"
   ]
  },
  {
   "cell_type": "code",
   "execution_count": 4,
   "metadata": {},
   "outputs": [
    {
     "name": "stdout",
     "output_type": "stream",
     "text": [
      "Number of ratings: 2000\n",
      "Number of unique rated destination_id's: 200\n",
      "Number of unique users: 101\n",
      "Average number of ratings per user: 19.8\n",
      "Average number of ratings per destination: 10.0\n"
     ]
    }
   ],
   "source": [
    "n_ratings = len(ratings)\n",
    "n_destinations = ratings['destination_id'].nunique() #unique rated destinations\n",
    "n_users = ratings['user_id'].nunique()\n",
    "\n",
    "print(f\"Number of ratings: {n_ratings}\")\n",
    "print(f\"Number of unique rated destination_id's: {n_destinations}\")\n",
    "print(f\"Number of unique users: {n_users}\")\n",
    "print(f\"Average number of ratings per user: {round(n_ratings/n_users, 2)}\")\n",
    "print(f\"Average number of ratings per destination: {round(n_ratings/n_destinations, 2)}\")"
   ]
  },
  {
   "cell_type": "markdown",
   "metadata": {},
   "source": [
    "Now, let's take a look at users' rating counts. We can do this using pandas' `groupby()` and `count()` which groups the data by `user_id`'s and counts the number of ratings for each userId. "
   ]
  },
  {
   "cell_type": "code",
   "execution_count": 5,
   "metadata": {},
   "outputs": [
    {
     "data": {
      "text/html": [
       "<div>\n",
       "<style scoped>\n",
       "    .dataframe tbody tr th:only-of-type {\n",
       "        vertical-align: middle;\n",
       "    }\n",
       "\n",
       "    .dataframe tbody tr th {\n",
       "        vertical-align: top;\n",
       "    }\n",
       "\n",
       "    .dataframe thead th {\n",
       "        text-align: right;\n",
       "    }\n",
       "</style>\n",
       "<table border=\"1\" class=\"dataframe\">\n",
       "  <thead>\n",
       "    <tr style=\"text-align: right;\">\n",
       "      <th></th>\n",
       "      <th>user_id</th>\n",
       "      <th>n_ratings</th>\n",
       "    </tr>\n",
       "  </thead>\n",
       "  <tbody>\n",
       "    <tr>\n",
       "      <th>0</th>\n",
       "      <td>0</td>\n",
       "      <td>24</td>\n",
       "    </tr>\n",
       "    <tr>\n",
       "      <th>1</th>\n",
       "      <td>1</td>\n",
       "      <td>14</td>\n",
       "    </tr>\n",
       "    <tr>\n",
       "      <th>2</th>\n",
       "      <td>2</td>\n",
       "      <td>20</td>\n",
       "    </tr>\n",
       "    <tr>\n",
       "      <th>3</th>\n",
       "      <td>3</td>\n",
       "      <td>26</td>\n",
       "    </tr>\n",
       "    <tr>\n",
       "      <th>4</th>\n",
       "      <td>4</td>\n",
       "      <td>22</td>\n",
       "    </tr>\n",
       "  </tbody>\n",
       "</table>\n",
       "</div>"
      ],
      "text/plain": [
       "   user_id  n_ratings\n",
       "0        0         24\n",
       "1        1         14\n",
       "2        2         20\n",
       "3        3         26\n",
       "4        4         22"
      ]
     },
     "execution_count": 5,
     "metadata": {},
     "output_type": "execute_result"
    }
   ],
   "source": [
    "user_freq = ratings[['user_id', 'destination_id']].groupby('user_id').count().reset_index()\n",
    "user_freq.columns = ['user_id', 'n_ratings']\n",
    "user_freq.head()"
   ]
  },
  {
   "cell_type": "code",
   "execution_count": 6,
   "metadata": {},
   "outputs": [
    {
     "name": "stdout",
     "output_type": "stream",
     "text": [
      "Mean number of ratings for a given user: 19.80.\n"
     ]
    }
   ],
   "source": [
    "print(f\"Mean number of ratings for a given user: {user_freq['n_ratings'].mean():.2f}.\")"
   ]
  },
  {
   "cell_type": "markdown",
   "metadata": {},
   "source": [
    "### Destinations with the lowest and highest average rating"
   ]
  },
  {
   "cell_type": "code",
   "execution_count": 7,
   "metadata": {},
   "outputs": [
    {
     "data": {
      "text/html": [
       "<div>\n",
       "<style scoped>\n",
       "    .dataframe tbody tr th:only-of-type {\n",
       "        vertical-align: middle;\n",
       "    }\n",
       "\n",
       "    .dataframe tbody tr th {\n",
       "        vertical-align: top;\n",
       "    }\n",
       "\n",
       "    .dataframe thead th {\n",
       "        text-align: right;\n",
       "    }\n",
       "</style>\n",
       "<table border=\"1\" class=\"dataframe\">\n",
       "  <thead>\n",
       "    <tr style=\"text-align: right;\">\n",
       "      <th></th>\n",
       "      <th>destination_id</th>\n",
       "      <th>title</th>\n",
       "      <th>genre</th>\n",
       "      <th>history</th>\n",
       "      <th>art_and_architecture</th>\n",
       "      <th>nature</th>\n",
       "      <th>adventure</th>\n",
       "      <th>entertainment</th>\n",
       "      <th>health_and_lifestyle</th>\n",
       "      <th>food</th>\n",
       "      <th>industries</th>\n",
       "      <th>religious</th>\n",
       "    </tr>\n",
       "  </thead>\n",
       "  <tbody>\n",
       "    <tr>\n",
       "      <th>131</th>\n",
       "      <td>131</td>\n",
       "      <td>Mera Peak</td>\n",
       "      <td>['Mountains']</td>\n",
       "      <td>False</td>\n",
       "      <td>False</td>\n",
       "      <td>True</td>\n",
       "      <td>False</td>\n",
       "      <td>False</td>\n",
       "      <td>False</td>\n",
       "      <td>False</td>\n",
       "      <td>False</td>\n",
       "      <td>False</td>\n",
       "    </tr>\n",
       "  </tbody>\n",
       "</table>\n",
       "</div>"
      ],
      "text/plain": [
       "     destination_id      title          genre  history  art_and_architecture  \\\n",
       "131             131  Mera Peak  ['Mountains']    False                 False   \n",
       "\n",
       "     nature  adventure  entertainment  health_and_lifestyle   food  \\\n",
       "131    True      False          False                 False  False   \n",
       "\n",
       "     industries  religious  \n",
       "131       False      False  "
      ]
     },
     "execution_count": 7,
     "metadata": {},
     "output_type": "execute_result"
    }
   ],
   "source": [
    "mean_rating = ratings.groupby('destination_id')[['rating']].mean()\n",
    "\n",
    "lowest_rated = mean_rating['rating'].idxmin()\n",
    "destinations[destinations['destination_id'] == lowest_rated]"
   ]
  },
  {
   "cell_type": "code",
   "execution_count": 8,
   "metadata": {},
   "outputs": [
    {
     "data": {
      "text/html": [
       "<div>\n",
       "<style scoped>\n",
       "    .dataframe tbody tr th:only-of-type {\n",
       "        vertical-align: middle;\n",
       "    }\n",
       "\n",
       "    .dataframe tbody tr th {\n",
       "        vertical-align: top;\n",
       "    }\n",
       "\n",
       "    .dataframe thead th {\n",
       "        text-align: right;\n",
       "    }\n",
       "</style>\n",
       "<table border=\"1\" class=\"dataframe\">\n",
       "  <thead>\n",
       "    <tr style=\"text-align: right;\">\n",
       "      <th></th>\n",
       "      <th>destination_id</th>\n",
       "      <th>title</th>\n",
       "      <th>genre</th>\n",
       "      <th>history</th>\n",
       "      <th>art_and_architecture</th>\n",
       "      <th>nature</th>\n",
       "      <th>adventure</th>\n",
       "      <th>entertainment</th>\n",
       "      <th>health_and_lifestyle</th>\n",
       "      <th>food</th>\n",
       "      <th>industries</th>\n",
       "      <th>religious</th>\n",
       "    </tr>\n",
       "  </thead>\n",
       "  <tbody>\n",
       "    <tr>\n",
       "      <th>11</th>\n",
       "      <td>11</td>\n",
       "      <td>Golden Temple (Hiranya Varna Mahavihar)</td>\n",
       "      <td>['Religious Sites']</td>\n",
       "      <td>True</td>\n",
       "      <td>True</td>\n",
       "      <td>False</td>\n",
       "      <td>False</td>\n",
       "      <td>False</td>\n",
       "      <td>False</td>\n",
       "      <td>False</td>\n",
       "      <td>False</td>\n",
       "      <td>True</td>\n",
       "    </tr>\n",
       "  </tbody>\n",
       "</table>\n",
       "</div>"
      ],
      "text/plain": [
       "    destination_id                                    title  \\\n",
       "11              11  Golden Temple (Hiranya Varna Mahavihar)   \n",
       "\n",
       "                  genre  history  art_and_architecture  nature  adventure  \\\n",
       "11  ['Religious Sites']     True                  True   False      False   \n",
       "\n",
       "    entertainment  health_and_lifestyle   food  industries  religious  \n",
       "11          False                 False  False       False       True  "
      ]
     },
     "execution_count": 8,
     "metadata": {},
     "output_type": "execute_result"
    }
   ],
   "source": [
    "highest_rated = mean_rating['rating'].idxmax()\n",
    "destinations[destinations['destination_id'] == highest_rated]"
   ]
  },
  {
   "cell_type": "code",
   "execution_count": 9,
   "metadata": {},
   "outputs": [
    {
     "data": {
      "text/html": [
       "<div>\n",
       "<style scoped>\n",
       "    .dataframe tbody tr th:only-of-type {\n",
       "        vertical-align: middle;\n",
       "    }\n",
       "\n",
       "    .dataframe tbody tr th {\n",
       "        vertical-align: top;\n",
       "    }\n",
       "\n",
       "    .dataframe thead th {\n",
       "        text-align: right;\n",
       "    }\n",
       "</style>\n",
       "<table border=\"1\" class=\"dataframe\">\n",
       "  <thead>\n",
       "    <tr style=\"text-align: right;\">\n",
       "      <th></th>\n",
       "      <th>user_id</th>\n",
       "      <th>destination_id</th>\n",
       "      <th>rating</th>\n",
       "    </tr>\n",
       "  </thead>\n",
       "  <tbody>\n",
       "    <tr>\n",
       "      <th>846</th>\n",
       "      <td>41</td>\n",
       "      <td>11</td>\n",
       "      <td>5</td>\n",
       "    </tr>\n",
       "    <tr>\n",
       "      <th>931</th>\n",
       "      <td>46</td>\n",
       "      <td>11</td>\n",
       "      <td>5</td>\n",
       "    </tr>\n",
       "    <tr>\n",
       "      <th>1047</th>\n",
       "      <td>52</td>\n",
       "      <td>11</td>\n",
       "      <td>5</td>\n",
       "    </tr>\n",
       "    <tr>\n",
       "      <th>1655</th>\n",
       "      <td>82</td>\n",
       "      <td>11</td>\n",
       "      <td>5</td>\n",
       "    </tr>\n",
       "    <tr>\n",
       "      <th>1941</th>\n",
       "      <td>97</td>\n",
       "      <td>11</td>\n",
       "      <td>5</td>\n",
       "    </tr>\n",
       "  </tbody>\n",
       "</table>\n",
       "</div>"
      ],
      "text/plain": [
       "      user_id  destination_id  rating\n",
       "846        41              11       5\n",
       "931        46              11       5\n",
       "1047       52              11       5\n",
       "1655       82              11       5\n",
       "1941       97              11       5"
      ]
     },
     "execution_count": 9,
     "metadata": {},
     "output_type": "execute_result"
    }
   ],
   "source": [
    "ratings[ratings['destination_id']==highest_rated]"
   ]
  },
  {
   "cell_type": "markdown",
   "metadata": {},
   "source": [
    "Better approach is to look at the [Bayesian average](https://en.wikipedia.org/wiki/Bayesian_average)."
   ]
  },
  {
   "cell_type": "markdown",
   "metadata": {},
   "source": [
    "#### Bayesian Average\n",
    "\n",
    "Bayesian Average is defined as:\n",
    "\n",
    "$r_{i} = \\frac{C \\times m + \\Sigma{\\text{reviews}}}{C+N}$\n",
    "\n",
    "where $C$ represents our confidence, $m$ represents our prior, and $N$ is the total number of reviews for destination $i$. In this case, our prior will be the average rating across all destinations. By defintion, C represents \"the typical dataset size\". Let's make $C$ be the average number of ratings for a given destination."
   ]
  },
  {
   "cell_type": "code",
   "execution_count": 10,
   "metadata": {},
   "outputs": [
    {
     "data": {
      "text/html": [
       "<div>\n",
       "<style scoped>\n",
       "    .dataframe tbody tr th:only-of-type {\n",
       "        vertical-align: middle;\n",
       "    }\n",
       "\n",
       "    .dataframe tbody tr th {\n",
       "        vertical-align: top;\n",
       "    }\n",
       "\n",
       "    .dataframe thead th {\n",
       "        text-align: right;\n",
       "    }\n",
       "</style>\n",
       "<table border=\"1\" class=\"dataframe\">\n",
       "  <thead>\n",
       "    <tr style=\"text-align: right;\">\n",
       "      <th></th>\n",
       "      <th>count</th>\n",
       "      <th>mean</th>\n",
       "    </tr>\n",
       "    <tr>\n",
       "      <th>destination_id</th>\n",
       "      <th></th>\n",
       "      <th></th>\n",
       "    </tr>\n",
       "  </thead>\n",
       "  <tbody>\n",
       "    <tr>\n",
       "      <th>0</th>\n",
       "      <td>9</td>\n",
       "      <td>4.555556</td>\n",
       "    </tr>\n",
       "    <tr>\n",
       "      <th>1</th>\n",
       "      <td>9</td>\n",
       "      <td>4.333333</td>\n",
       "    </tr>\n",
       "    <tr>\n",
       "      <th>2</th>\n",
       "      <td>15</td>\n",
       "      <td>4.466667</td>\n",
       "    </tr>\n",
       "    <tr>\n",
       "      <th>3</th>\n",
       "      <td>5</td>\n",
       "      <td>4.600000</td>\n",
       "    </tr>\n",
       "    <tr>\n",
       "      <th>4</th>\n",
       "      <td>8</td>\n",
       "      <td>4.750000</td>\n",
       "    </tr>\n",
       "    <tr>\n",
       "      <th>...</th>\n",
       "      <td>...</td>\n",
       "      <td>...</td>\n",
       "    </tr>\n",
       "    <tr>\n",
       "      <th>195</th>\n",
       "      <td>6</td>\n",
       "      <td>2.833333</td>\n",
       "    </tr>\n",
       "    <tr>\n",
       "      <th>196</th>\n",
       "      <td>11</td>\n",
       "      <td>3.000000</td>\n",
       "    </tr>\n",
       "    <tr>\n",
       "      <th>197</th>\n",
       "      <td>12</td>\n",
       "      <td>3.000000</td>\n",
       "    </tr>\n",
       "    <tr>\n",
       "      <th>198</th>\n",
       "      <td>9</td>\n",
       "      <td>3.222222</td>\n",
       "    </tr>\n",
       "    <tr>\n",
       "      <th>199</th>\n",
       "      <td>8</td>\n",
       "      <td>3.625000</td>\n",
       "    </tr>\n",
       "  </tbody>\n",
       "</table>\n",
       "<p>200 rows × 2 columns</p>\n",
       "</div>"
      ],
      "text/plain": [
       "                count      mean\n",
       "destination_id                 \n",
       "0                   9  4.555556\n",
       "1                   9  4.333333\n",
       "2                  15  4.466667\n",
       "3                   5  4.600000\n",
       "4                   8  4.750000\n",
       "...               ...       ...\n",
       "195                 6  2.833333\n",
       "196                11  3.000000\n",
       "197                12  3.000000\n",
       "198                 9  3.222222\n",
       "199                 8  3.625000\n",
       "\n",
       "[200 rows x 2 columns]"
      ]
     },
     "execution_count": 10,
     "metadata": {},
     "output_type": "execute_result"
    }
   ],
   "source": [
    "destination_stats = ratings.groupby('destination_id')[['rating']].agg(['count', 'mean'])\n",
    "destination_stats.columns = destination_stats.columns.droplevel()\n",
    "destination_stats"
   ]
  },
  {
   "cell_type": "code",
   "execution_count": 11,
   "metadata": {},
   "outputs": [],
   "source": [
    "C = destination_stats['count'].mean()\n",
    "m = destination_stats['mean'].mean()\n",
    "\n",
    "def bayesian_avg(ratings):\n",
    "    bayesian_avg = (C*m+ratings.sum())/(C+ratings.count())\n",
    "    return bayesian_avg\n",
    "\n",
    "bayesian_avg_ratings = ratings.groupby('destination_id')['rating'].agg(bayesian_avg).reset_index()\n",
    "bayesian_avg_ratings.columns = ['destination_id', 'bayesian_avg']\n",
    "destination_stats = destination_stats.merge(bayesian_avg_ratings, on='destination_id')"
   ]
  },
  {
   "cell_type": "code",
   "execution_count": 12,
   "metadata": {},
   "outputs": [
    {
     "data": {
      "text/html": [
       "<div>\n",
       "<style scoped>\n",
       "    .dataframe tbody tr th:only-of-type {\n",
       "        vertical-align: middle;\n",
       "    }\n",
       "\n",
       "    .dataframe tbody tr th {\n",
       "        vertical-align: top;\n",
       "    }\n",
       "\n",
       "    .dataframe thead th {\n",
       "        text-align: right;\n",
       "    }\n",
       "</style>\n",
       "<table border=\"1\" class=\"dataframe\">\n",
       "  <thead>\n",
       "    <tr style=\"text-align: right;\">\n",
       "      <th></th>\n",
       "      <th>destination_id</th>\n",
       "      <th>count</th>\n",
       "      <th>mean</th>\n",
       "      <th>bayesian_avg</th>\n",
       "      <th>title</th>\n",
       "    </tr>\n",
       "  </thead>\n",
       "  <tbody>\n",
       "    <tr>\n",
       "      <th>58</th>\n",
       "      <td>58</td>\n",
       "      <td>18</td>\n",
       "      <td>4.722222</td>\n",
       "      <td>4.379142</td>\n",
       "      <td>Langtang Valley</td>\n",
       "    </tr>\n",
       "    <tr>\n",
       "      <th>30</th>\n",
       "      <td>30</td>\n",
       "      <td>16</td>\n",
       "      <td>4.687500</td>\n",
       "      <td>4.331384</td>\n",
       "      <td>Muktinath Temple</td>\n",
       "    </tr>\n",
       "    <tr>\n",
       "      <th>74</th>\n",
       "      <td>74</td>\n",
       "      <td>13</td>\n",
       "      <td>4.769231</td>\n",
       "      <td>4.331129</td>\n",
       "      <td>Babar Mahal Revisted</td>\n",
       "    </tr>\n",
       "    <tr>\n",
       "      <th>67</th>\n",
       "      <td>67</td>\n",
       "      <td>13</td>\n",
       "      <td>4.769231</td>\n",
       "      <td>4.331129</td>\n",
       "      <td>Tushita-Nepal</td>\n",
       "    </tr>\n",
       "    <tr>\n",
       "      <th>86</th>\n",
       "      <td>86</td>\n",
       "      <td>11</td>\n",
       "      <td>4.818182</td>\n",
       "      <td>4.315047</td>\n",
       "      <td>Makwanpur Gadhi</td>\n",
       "    </tr>\n",
       "  </tbody>\n",
       "</table>\n",
       "</div>"
      ],
      "text/plain": [
       "    destination_id  count      mean  bayesian_avg                 title\n",
       "58              58     18  4.722222      4.379142       Langtang Valley\n",
       "30              30     16  4.687500      4.331384      Muktinath Temple\n",
       "74              74     13  4.769231      4.331129  Babar Mahal Revisted\n",
       "67              67     13  4.769231      4.331129         Tushita-Nepal\n",
       "86              86     11  4.818182      4.315047       Makwanpur Gadhi"
      ]
     },
     "execution_count": 12,
     "metadata": {},
     "output_type": "execute_result"
    }
   ],
   "source": [
    "destination_stats = destination_stats.merge(destinations[['destination_id', 'title']])\n",
    "destination_stats.sort_values('bayesian_avg', ascending=False).head()"
   ]
  },
  {
   "cell_type": "markdown",
   "metadata": {},
   "source": [
    "### Destinations with the least Bayesian averages "
   ]
  },
  {
   "cell_type": "code",
   "execution_count": 13,
   "metadata": {},
   "outputs": [
    {
     "data": {
      "text/html": [
       "<div>\n",
       "<style scoped>\n",
       "    .dataframe tbody tr th:only-of-type {\n",
       "        vertical-align: middle;\n",
       "    }\n",
       "\n",
       "    .dataframe tbody tr th {\n",
       "        vertical-align: top;\n",
       "    }\n",
       "\n",
       "    .dataframe thead th {\n",
       "        text-align: right;\n",
       "    }\n",
       "</style>\n",
       "<table border=\"1\" class=\"dataframe\">\n",
       "  <thead>\n",
       "    <tr style=\"text-align: right;\">\n",
       "      <th></th>\n",
       "      <th>destination_id</th>\n",
       "      <th>count</th>\n",
       "      <th>mean</th>\n",
       "      <th>bayesian_avg</th>\n",
       "      <th>title</th>\n",
       "    </tr>\n",
       "  </thead>\n",
       "  <tbody>\n",
       "    <tr>\n",
       "      <th>184</th>\n",
       "      <td>184</td>\n",
       "      <td>12</td>\n",
       "      <td>2.416667</td>\n",
       "      <td>3.027999</td>\n",
       "      <td>Image Ark</td>\n",
       "    </tr>\n",
       "    <tr>\n",
       "      <th>132</th>\n",
       "      <td>132</td>\n",
       "      <td>9</td>\n",
       "      <td>2.333333</td>\n",
       "      <td>3.085051</td>\n",
       "      <td>Akash Bhairav Temple</td>\n",
       "    </tr>\n",
       "    <tr>\n",
       "      <th>139</th>\n",
       "      <td>139</td>\n",
       "      <td>18</td>\n",
       "      <td>2.777778</td>\n",
       "      <td>3.129142</td>\n",
       "      <td>Sauraha Tharu Culture House</td>\n",
       "    </tr>\n",
       "    <tr>\n",
       "      <th>180</th>\n",
       "      <td>180</td>\n",
       "      <td>13</td>\n",
       "      <td>2.692308</td>\n",
       "      <td>3.157216</td>\n",
       "      <td>Dattatreya Temple</td>\n",
       "    </tr>\n",
       "    <tr>\n",
       "      <th>111</th>\n",
       "      <td>111</td>\n",
       "      <td>12</td>\n",
       "      <td>2.666667</td>\n",
       "      <td>3.164363</td>\n",
       "      <td>Rara Lake</td>\n",
       "    </tr>\n",
       "  </tbody>\n",
       "</table>\n",
       "</div>"
      ],
      "text/plain": [
       "     destination_id  count      mean  bayesian_avg  \\\n",
       "184             184     12  2.416667      3.027999   \n",
       "132             132      9  2.333333      3.085051   \n",
       "139             139     18  2.777778      3.129142   \n",
       "180             180     13  2.692308      3.157216   \n",
       "111             111     12  2.666667      3.164363   \n",
       "\n",
       "                           title  \n",
       "184                    Image Ark  \n",
       "132         Akash Bhairav Temple  \n",
       "139  Sauraha Tharu Culture House  \n",
       "180            Dattatreya Temple  \n",
       "111                    Rara Lake  "
      ]
     },
     "execution_count": 13,
     "metadata": {},
     "output_type": "execute_result"
    }
   ],
   "source": [
    "destination_stats.sort_values('bayesian_avg', ascending=True).head()"
   ]
  },
  {
   "cell_type": "markdown",
   "metadata": {},
   "source": [
    "### Destinations with the highest Bayesian averages"
   ]
  },
  {
   "cell_type": "code",
   "execution_count": 14,
   "metadata": {},
   "outputs": [
    {
     "data": {
      "text/html": [
       "<div>\n",
       "<style scoped>\n",
       "    .dataframe tbody tr th:only-of-type {\n",
       "        vertical-align: middle;\n",
       "    }\n",
       "\n",
       "    .dataframe tbody tr th {\n",
       "        vertical-align: top;\n",
       "    }\n",
       "\n",
       "    .dataframe thead th {\n",
       "        text-align: right;\n",
       "    }\n",
       "</style>\n",
       "<table border=\"1\" class=\"dataframe\">\n",
       "  <thead>\n",
       "    <tr style=\"text-align: right;\">\n",
       "      <th></th>\n",
       "      <th>destination_id</th>\n",
       "      <th>count</th>\n",
       "      <th>mean</th>\n",
       "      <th>bayesian_avg</th>\n",
       "      <th>title</th>\n",
       "    </tr>\n",
       "  </thead>\n",
       "  <tbody>\n",
       "    <tr>\n",
       "      <th>58</th>\n",
       "      <td>58</td>\n",
       "      <td>18</td>\n",
       "      <td>4.722222</td>\n",
       "      <td>4.379142</td>\n",
       "      <td>Langtang Valley</td>\n",
       "    </tr>\n",
       "    <tr>\n",
       "      <th>30</th>\n",
       "      <td>30</td>\n",
       "      <td>16</td>\n",
       "      <td>4.687500</td>\n",
       "      <td>4.331384</td>\n",
       "      <td>Muktinath Temple</td>\n",
       "    </tr>\n",
       "    <tr>\n",
       "      <th>74</th>\n",
       "      <td>74</td>\n",
       "      <td>13</td>\n",
       "      <td>4.769231</td>\n",
       "      <td>4.331129</td>\n",
       "      <td>Babar Mahal Revisted</td>\n",
       "    </tr>\n",
       "    <tr>\n",
       "      <th>67</th>\n",
       "      <td>67</td>\n",
       "      <td>13</td>\n",
       "      <td>4.769231</td>\n",
       "      <td>4.331129</td>\n",
       "      <td>Tushita-Nepal</td>\n",
       "    </tr>\n",
       "    <tr>\n",
       "      <th>86</th>\n",
       "      <td>86</td>\n",
       "      <td>11</td>\n",
       "      <td>4.818182</td>\n",
       "      <td>4.315047</td>\n",
       "      <td>Makwanpur Gadhi</td>\n",
       "    </tr>\n",
       "  </tbody>\n",
       "</table>\n",
       "</div>"
      ],
      "text/plain": [
       "    destination_id  count      mean  bayesian_avg                 title\n",
       "58              58     18  4.722222      4.379142       Langtang Valley\n",
       "30              30     16  4.687500      4.331384      Muktinath Temple\n",
       "74              74     13  4.769231      4.331129  Babar Mahal Revisted\n",
       "67              67     13  4.769231      4.331129         Tushita-Nepal\n",
       "86              86     11  4.818182      4.315047       Makwanpur Gadhi"
      ]
     },
     "execution_count": 14,
     "metadata": {},
     "output_type": "execute_result"
    }
   ],
   "source": [
    "destination_stats.sort_values('bayesian_avg', ascending=False).head()"
   ]
  },
  {
   "cell_type": "markdown",
   "metadata": {},
   "source": [
    "## Step 4: Transforming the data\n",
    "\n",
    "We will be using a technique called [collaborative filtering](https://en.wikipedia.org/wiki/Collaborative_filtering) to generate user recommendations. This technique is based on the assumption of \"homophily\" - similar users like similar things. Collaborative filtering is a type of unsupervised learning that makes predictions about the interests of a user by learning from the interests of a larger population.\n",
    "\n",
    "The first step of collaborative filtering is to transform our data into a `user-item matrix` - also known as a \"utility\" matrix. In this matrix, rows represent users and columns represent items. The beauty of collaborative filtering is that it doesn't require any information about the users or items to generate recommendations. \n",
    "\n"
   ]
  },
  {
   "cell_type": "markdown",
   "metadata": {},
   "source": [
    "The `create_X()` function outputs a sparse matrix X with four mapper dictionaries:\n",
    "- **user_mapper:** maps user id to user index\n",
    "- **movie_mapper:** maps movie id to movie index\n",
    "- **user_inv_mapper:** maps user index to user id\n",
    "- **movie_inv_mapper:** maps movie index to movie id\n",
    "\n",
    "We need these dictionaries because they map which row and column of the utility matrix corresponds to which user ID and movie ID, respectively.\n",
    "\n",
    "The **X** (user-item) matrix is a [scipy.sparse.csr_matrix](scipylinkhere) which stores the data sparsely."
   ]
  },
  {
   "cell_type": "code",
   "execution_count": 15,
   "metadata": {},
   "outputs": [],
   "source": [
    "from scipy.sparse import csr_matrix\n",
    "\n",
    "def create_X(df):\n",
    "    \"\"\"\n",
    "    Generates a sparse matrix from ratings dataframe.\n",
    "    \n",
    "    Args:\n",
    "        df: pandas dataframe\n",
    "    \n",
    "    Returns:\n",
    "        X: sparse matrix\n",
    "        user_mapper: dict that maps user id's to user indices\n",
    "        user_inv_mapper: dict that maps user indices to user id's\n",
    "        destination_mapper: dict that maps destination id's to movie indices\n",
    "        destination_inv_mapper: dict that maps destination indices to movie id's\n",
    "    \"\"\"\n",
    "    N = df['user_id'].nunique()\n",
    "    M = df['destination_id'].nunique()\n",
    "\n",
    "    user_mapper = dict(zip(np.unique(df[\"user_id\"]), list(range(N))))\n",
    "    destination_mapper = dict(zip(np.unique(df[\"destination_id\"]), list(range(M))))\n",
    "    \n",
    "    user_inv_mapper = dict(zip(list(range(N)), np.unique(df[\"user_id\"])))\n",
    "    destination_inv_mapper = dict(zip(list(range(M)), np.unique(df[\"destination_id\"])))\n",
    "    \n",
    "    user_index = [user_mapper[i] for i in df['user_id']]\n",
    "    destination_index = [destination_mapper[i] for i in df['destination_id']]\n",
    "\n",
    "    X = csr_matrix((df[\"rating\"], (destination_index, user_index)), shape=(M, N))\n",
    "    \n",
    "    return X, user_mapper, destination_mapper, user_inv_mapper, destination_inv_mapper"
   ]
  },
  {
   "cell_type": "code",
   "execution_count": 16,
   "metadata": {},
   "outputs": [],
   "source": [
    "X, user_mapper, destination_mapper, user_inv_mapper, destination_inv_mapper = create_X(ratings)"
   ]
  },
  {
   "cell_type": "markdown",
   "metadata": {},
   "source": [
    "Let's check out the sparsity of our X matrix.\n",
    "\n",
    "Here, we calculate sparsity by dividing the number of non-zero elements by total number of elements as described in the equation below: \n",
    "\n",
    "$$S=\\frac{\\text{# non-zero elements}}{\\text{total elements}}$$"
   ]
  },
  {
   "cell_type": "code",
   "execution_count": 17,
   "metadata": {},
   "outputs": [
    {
     "name": "stdout",
     "output_type": "stream",
     "text": [
      "Matrix sparsity: 9.44%\n"
     ]
    }
   ],
   "source": [
    "sparsity = X.count_nonzero()/(X.shape[0]*X.shape[1])\n",
    "\n",
    "print(f\"Matrix sparsity: {round(sparsity*100,2)}%\")"
   ]
  },
  {
   "cell_type": "markdown",
   "metadata": {},
   "source": [
    "Only 9.44% of cells in our user-item matrix are populated with ratings. User-item matrices are typically very sparse. A general rule of thumb is that your matrix sparsity should be no lower than 0.5% to generate decent results."
   ]
  },
  {
   "cell_type": "markdown",
   "metadata": {},
   "source": [
    "### Writing your matrix to a file\n",
    "\n",
    "We're going to save our user-item matrix for the next part of this tutorial series. Since our matrix is represented as a scipy sparse matrix, we can use the [scipy.sparse.save_npz](https://docs.scipy.org/doc/scipy-1.1.0/reference/generated/scipy.sparse.load_npz.html) method to write the matrix to a file. "
   ]
  },
  {
   "cell_type": "code",
   "execution_count": 18,
   "metadata": {},
   "outputs": [],
   "source": [
    "from scipy.sparse import save_npz\n",
    "\n",
    "save_npz('user_item_matrix.npz', X)"
   ]
  },
  {
   "cell_type": "markdown",
   "metadata": {},
   "source": [
    "## Step 5: Finding similar destinations using k-Nearest Neighbours\n",
    "\n",
    "This approach looks for the $k$ nearest neighbours of a given destination by identifying $k$ points in the dataset that are closest to destination $m$. kNN makes use of distance metrics such as:\n",
    "\n",
    "1. Cosine similarity\n",
    "2. Euclidean distance\n",
    "3. Manhattan distance\n",
    "4. Pearson correlation \n",
    "\n",
    "Although difficult to visualize, we are working in a M-dimensional space where M represents the number of movies in our X matrix. "
   ]
  },
  {
   "cell_type": "code",
   "execution_count": 19,
   "metadata": {},
   "outputs": [],
   "source": [
    "from sklearn.neighbors import NearestNeighbors\n",
    "\n",
    "def find_similar_destinations(destination_id, X, k, metric='cosine', show_distance=False):\n",
    "    \"\"\"\n",
    "    Finds k-nearest neighbours for a given destination id.\n",
    "    \n",
    "    Args:\n",
    "        destination_id: id of the destination of interest\n",
    "        X: user-item utility matrix\n",
    "        k: number of similar destinations to retrieve\n",
    "        metric: distance metric for kNN calculations\n",
    "    \n",
    "    Returns:\n",
    "        list of k similar destination IDs\n",
    "    \"\"\"\n",
    "    neighbour_ids = []\n",
    "    \n",
    "    destination_ind = destination_mapper[destination_id]\n",
    "    destination_vec = X[destination_ind]\n",
    "    k+=1\n",
    "    kNN = NearestNeighbors(n_neighbors=k, algorithm=\"brute\", metric=metric)\n",
    "    kNN.fit(X)\n",
    "    if isinstance(destination_vec, (np.ndarray)):\n",
    "        destination_vec = destination_vec.reshape(1,-1)\n",
    "    neighbour = kNN.kneighbors(destination_vec, return_distance=show_distance)\n",
    "    for i in range(0,k):\n",
    "        n = neighbour.item(i)\n",
    "        neighbour_ids.append(destination_inv_mapper[n])\n",
    "    neighbour_ids.pop(0)\n",
    "    return neighbour_ids"
   ]
  },
  {
   "cell_type": "markdown",
   "metadata": {},
   "source": [
    "`find_similar_destinations()` takes in a destination_d and user-item X matrix, and outputs a list of $k$ movies that are similar to the destination_id of interest. \n",
    "\n",
    "Let's see how it works in action. We will first create another mapper that maps `destination_id` to `title` so that our results are interpretable. "
   ]
  },
  {
   "cell_type": "code",
   "execution_count": 20,
   "metadata": {},
   "outputs": [
    {
     "name": "stdout",
     "output_type": "stream",
     "text": [
      "Because you watched Phewa Tal (Fewa Lake)\n",
      "Budhanilkantha\n",
      "Pokhara Museum\n",
      "Garden of Dreams\n",
      "Gurunghe Hill\n",
      "Kala Patthar\n"
     ]
    }
   ],
   "source": [
    "destination_titles = dict(zip(destinations['destination_id'], destinations['title']))\n",
    "\n",
    "destination_id = 1\n",
    "\n",
    "similar_ids = find_similar_destinations(destination_id, X, k=5)\n",
    "destination_title = destination_titles[destination_id]\n",
    "\n",
    "print(f\"Because you watched {destination_title}\")\n",
    "for i in similar_ids:\n",
    "    print(destination_titles[i])"
   ]
  },
  {
   "cell_type": "markdown",
   "metadata": {},
   "source": [
    "The results above show the 10 most similar destinations to Phewa Tal.\n",
    "\n",
    "<b>Note that these recommendations are based solely on user-item ratings. Movie features such as genres are not taken into consideration in this approach. </b>\n",
    "\n",
    "You can also play around with the kNN distance metric and see what results you would get if you use \"manhattan\" or \"euclidean\" instead of \"cosine\"."
   ]
  },
  {
   "cell_type": "code",
   "execution_count": 21,
   "metadata": {},
   "outputs": [
    {
     "name": "stdout",
     "output_type": "stream",
     "text": [
      "Because you watched Phewa Tal (Fewa Lake):\n",
      "Gosainkunda\n",
      "Valle del Naar\n",
      "Casino Royale\n",
      "Sun Kosi\n",
      "Taleju Bell\n",
      "Mera Peak\n",
      "Gurunghe Hill\n",
      "Datankali Temple\n",
      "Patan Gate\n",
      "Dolakha Bhimsen Mandir\n"
     ]
    }
   ],
   "source": [
    "destination_titles = dict(zip(destinations['destination_id'], destinations['title']))\n",
    "\n",
    "destination_id = 1\n",
    "similar_ids = find_similar_destinations(destination_id, X, k=10, metric=\"euclidean\")\n",
    "\n",
    "destination_title = destination_titles[destination_id]\n",
    "print(f\"Because you watched {destination_title}:\")\n",
    "for i in similar_ids:\n",
    "    print(destination_titles[i])"
   ]
  },
  {
   "cell_type": "markdown",
   "metadata": {},
   "source": [
    "### Here goes the evaluation part "
   ]
  },
  {
   "cell_type": "code",
   "execution_count": 22,
   "metadata": {},
   "outputs": [],
   "source": [
    "import matplotlib.pyplot as plt\n",
    "import numpy as np\n",
    "import pandas as pd\n",
    "from surprise import SVD, Dataset, Reader\n",
    "from surprise.model_selection import train_test_split\n",
    "\n",
    "import recmetrics"
   ]
  },
  {
   "cell_type": "markdown",
   "metadata": {},
   "source": [
    "## Longtail plot"
   ]
  },
  {
   "cell_type": "code",
   "execution_count": 23,
   "metadata": {},
   "outputs": [
    {
     "name": "stderr",
     "output_type": "stream",
     "text": [
      "/home/werewolf/.pyenv/versions/data2/lib/python3.9/site-packages/seaborn/_decorators.py:36: FutureWarning: Pass the following variable as a keyword arg: x. From version 0.12, the only valid positional argument will be `data`, and passing other arguments without an explicit keyword will result in an error or misinterpretation.\n",
      "  warnings.warn(\n"
     ]
    },
    {
     "data": {
      "image/png": "[encoded data removed]",
      "text/plain": [
       "<Figure size 1080x504 with 1 Axes>"
      ]
     },
     "metadata": {
      "needs_background": "light"
     },
     "output_type": "display_data"
    }
   ],
   "source": [
    "fig = plt.figure(figsize=(15, 7))\n",
    "recmetrics.long_tail_plot(df=ratings, \n",
    "             item_id_column=\"destination_id\", \n",
    "             interaction_type=\"destination ratings\", \n",
    "             percentage=0.5,\n",
    "             x_labels=False)"
   ]
  },
  {
   "cell_type": "code",
   "execution_count": 24,
   "metadata": {},
   "outputs": [
    {
     "name": "stdout",
     "output_type": "stream",
     "text": [
      "[143, 168, 191, 124, 165, 131, 117, 189, 150, 155]\n"
     ]
    }
   ],
   "source": [
    "# recommendation generated from the KNN generated recommendations\n",
    "print(similar_ids)"
   ]
  },
  {
   "cell_type": "code",
   "execution_count": 42,
   "metadata": {},
   "outputs": [],
   "source": [
    "# reader = Reader(rating_scale=(0, 5))\n",
    "# data = Dataset.load_from_df(ratings[['user_id', 'destination_id', 'rating']], reader)\n",
    "# trainset, testset = train_test_split(data, test_size=)\n",
    "testset=ratings[['user_id','destination_id','rating']]"
   ]
  },
  {
   "cell_type": "code",
   "execution_count": 43,
   "metadata": {},
   "outputs": [
    {
     "data": {
      "text/html": [
       "<div>\n",
       "<style scoped>\n",
       "    .dataframe tbody tr th:only-of-type {\n",
       "        vertical-align: middle;\n",
       "    }\n",
       "\n",
       "    .dataframe tbody tr th {\n",
       "        vertical-align: top;\n",
       "    }\n",
       "\n",
       "    .dataframe thead th {\n",
       "        text-align: right;\n",
       "    }\n",
       "</style>\n",
       "<table border=\"1\" class=\"dataframe\">\n",
       "  <thead>\n",
       "    <tr style=\"text-align: right;\">\n",
       "      <th></th>\n",
       "      <th>user_id</th>\n",
       "      <th>destination_id</th>\n",
       "      <th>actual</th>\n",
       "    </tr>\n",
       "  </thead>\n",
       "  <tbody>\n",
       "    <tr>\n",
       "      <th>0</th>\n",
       "      <td>0</td>\n",
       "      <td>62</td>\n",
       "      <td>5</td>\n",
       "    </tr>\n",
       "    <tr>\n",
       "      <th>1</th>\n",
       "      <td>0</td>\n",
       "      <td>120</td>\n",
       "      <td>4</td>\n",
       "    </tr>\n",
       "    <tr>\n",
       "      <th>2</th>\n",
       "      <td>0</td>\n",
       "      <td>28</td>\n",
       "      <td>4</td>\n",
       "    </tr>\n",
       "    <tr>\n",
       "      <th>3</th>\n",
       "      <td>0</td>\n",
       "      <td>4</td>\n",
       "      <td>5</td>\n",
       "    </tr>\n",
       "    <tr>\n",
       "      <th>4</th>\n",
       "      <td>0</td>\n",
       "      <td>100</td>\n",
       "      <td>3</td>\n",
       "    </tr>\n",
       "    <tr>\n",
       "      <th>...</th>\n",
       "      <td>...</td>\n",
       "      <td>...</td>\n",
       "      <td>...</td>\n",
       "    </tr>\n",
       "    <tr>\n",
       "      <th>1995</th>\n",
       "      <td>100</td>\n",
       "      <td>70</td>\n",
       "      <td>5</td>\n",
       "    </tr>\n",
       "    <tr>\n",
       "      <th>1996</th>\n",
       "      <td>100</td>\n",
       "      <td>41</td>\n",
       "      <td>5</td>\n",
       "    </tr>\n",
       "    <tr>\n",
       "      <th>1997</th>\n",
       "      <td>100</td>\n",
       "      <td>177</td>\n",
       "      <td>3</td>\n",
       "    </tr>\n",
       "    <tr>\n",
       "      <th>1998</th>\n",
       "      <td>100</td>\n",
       "      <td>130</td>\n",
       "      <td>2</td>\n",
       "    </tr>\n",
       "    <tr>\n",
       "      <th>1999</th>\n",
       "      <td>100</td>\n",
       "      <td>159</td>\n",
       "      <td>2</td>\n",
       "    </tr>\n",
       "  </tbody>\n",
       "</table>\n",
       "<p>2000 rows × 3 columns</p>\n",
       "</div>"
      ],
      "text/plain": [
       "      user_id  destination_id  actual\n",
       "0           0              62       5\n",
       "1           0             120       4\n",
       "2           0              28       4\n",
       "3           0               4       5\n",
       "4           0             100       3\n",
       "...       ...             ...     ...\n",
       "1995      100              70       5\n",
       "1996      100              41       5\n",
       "1997      100             177       3\n",
       "1998      100             130       2\n",
       "1999      100             159       2\n",
       "\n",
       "[2000 rows x 3 columns]"
      ]
     },
     "execution_count": 43,
     "metadata": {},
     "output_type": "execute_result"
    }
   ],
   "source": [
    "test = pd.DataFrame(testset)\n",
    "test.columns = ['user_id', 'destination_id', 'actual']\n",
    "test"
   ]
  },
  {
   "cell_type": "code",
   "execution_count": 44,
   "metadata": {},
   "outputs": [
    {
     "data": {
      "text/html": [
       "<div>\n",
       "<style scoped>\n",
       "    .dataframe tbody tr th:only-of-type {\n",
       "        vertical-align: middle;\n",
       "    }\n",
       "\n",
       "    .dataframe tbody tr th {\n",
       "        vertical-align: top;\n",
       "    }\n",
       "\n",
       "    .dataframe thead th {\n",
       "        text-align: right;\n",
       "    }\n",
       "</style>\n",
       "<table border=\"1\" class=\"dataframe\">\n",
       "  <thead>\n",
       "    <tr style=\"text-align: right;\">\n",
       "      <th></th>\n",
       "      <th>user_id</th>\n",
       "      <th>actual</th>\n",
       "    </tr>\n",
       "  </thead>\n",
       "  <tbody>\n",
       "    <tr>\n",
       "      <th>0</th>\n",
       "      <td>0</td>\n",
       "      <td>[4, 145, 18, 23, 152, 28, 34, 40, 47, 176, 49,...</td>\n",
       "    </tr>\n",
       "    <tr>\n",
       "      <th>1</th>\n",
       "      <td>1</td>\n",
       "      <td>[66, 130, 102, 42, 139, 12, 113, 17, 115, 51, ...</td>\n",
       "    </tr>\n",
       "    <tr>\n",
       "      <th>2</th>\n",
       "      <td>2</td>\n",
       "      <td>[1, 99, 70, 104, 41, 91, 110, 15, 81, 17, 148,...</td>\n",
       "    </tr>\n",
       "    <tr>\n",
       "      <th>3</th>\n",
       "      <td>3</td>\n",
       "      <td>[129, 2, 132, 12, 151, 156, 30, 32, 162, 166, ...</td>\n",
       "    </tr>\n",
       "    <tr>\n",
       "      <th>4</th>\n",
       "      <td>4</td>\n",
       "      <td>[128, 9, 139, 152, 153, 29, 30, 167, 43, 46, 5...</td>\n",
       "    </tr>\n",
       "    <tr>\n",
       "      <th>...</th>\n",
       "      <td>...</td>\n",
       "      <td>...</td>\n",
       "    </tr>\n",
       "    <tr>\n",
       "      <th>96</th>\n",
       "      <td>96</td>\n",
       "      <td>[130, 132, 139, 142, 15, 148, 26, 32, 38, 185,...</td>\n",
       "    </tr>\n",
       "    <tr>\n",
       "      <th>97</th>\n",
       "      <td>97</td>\n",
       "      <td>[136, 9, 139, 11, 141, 142, 15, 140, 22, 152, ...</td>\n",
       "    </tr>\n",
       "    <tr>\n",
       "      <th>98</th>\n",
       "      <td>98</td>\n",
       "      <td>[192, 99, 70, 137, 106, 171, 44, 42, 86, 87, 8...</td>\n",
       "    </tr>\n",
       "    <tr>\n",
       "      <th>99</th>\n",
       "      <td>99</td>\n",
       "      <td>[32, 160, 129, 131, 163, 68, 5, 135, 7, 80, 17...</td>\n",
       "    </tr>\n",
       "    <tr>\n",
       "      <th>100</th>\n",
       "      <td>100</td>\n",
       "      <td>[130, 142, 147, 27, 159, 161, 41, 45, 177, 178...</td>\n",
       "    </tr>\n",
       "  </tbody>\n",
       "</table>\n",
       "<p>101 rows × 2 columns</p>\n",
       "</div>"
      ],
      "text/plain": [
       "     user_id                                             actual\n",
       "0          0  [4, 145, 18, 23, 152, 28, 34, 40, 47, 176, 49,...\n",
       "1          1  [66, 130, 102, 42, 139, 12, 113, 17, 115, 51, ...\n",
       "2          2  [1, 99, 70, 104, 41, 91, 110, 15, 81, 17, 148,...\n",
       "3          3  [129, 2, 132, 12, 151, 156, 30, 32, 162, 166, ...\n",
       "4          4  [128, 9, 139, 152, 153, 29, 30, 167, 43, 46, 5...\n",
       "..       ...                                                ...\n",
       "96        96  [130, 132, 139, 142, 15, 148, 26, 32, 38, 185,...\n",
       "97        97  [136, 9, 139, 11, 141, 142, 15, 140, 22, 152, ...\n",
       "98        98  [192, 99, 70, 137, 106, 171, 44, 42, 86, 87, 8...\n",
       "99        99  [32, 160, 129, 131, 163, 68, 5, 135, 7, 80, 17...\n",
       "100      100  [130, 142, 147, 27, 159, 161, 41, 45, 177, 178...\n",
       "\n",
       "[101 rows x 2 columns]"
      ]
     },
     "execution_count": 44,
     "metadata": {},
     "output_type": "execute_result"
    }
   ],
   "source": [
    "test = test.copy().groupby('user_id', as_index=False)['destination_id'].agg({'actual': (lambda x: list(set(x)))})\n",
    "test"
   ]
  },
  {
   "cell_type": "code",
   "execution_count": 45,
   "metadata": {},
   "outputs": [
    {
     "name": "stdout",
     "output_type": "stream",
     "text": [
      "0\n"
     ]
    }
   ],
   "source": [
    "print(test['actual'].isnull().sum())"
   ]
  },
  {
   "cell_type": "code",
   "execution_count": 46,
   "metadata": {},
   "outputs": [
    {
     "data": {
      "text/html": [
       "<div>\n",
       "<style scoped>\n",
       "    .dataframe tbody tr th:only-of-type {\n",
       "        vertical-align: middle;\n",
       "    }\n",
       "\n",
       "    .dataframe tbody tr th {\n",
       "        vertical-align: top;\n",
       "    }\n",
       "\n",
       "    .dataframe thead th {\n",
       "        text-align: right;\n",
       "    }\n",
       "</style>\n",
       "<table border=\"1\" class=\"dataframe\">\n",
       "  <thead>\n",
       "    <tr style=\"text-align: right;\">\n",
       "      <th></th>\n",
       "      <th>actual</th>\n",
       "    </tr>\n",
       "    <tr>\n",
       "      <th>user_id</th>\n",
       "      <th></th>\n",
       "    </tr>\n",
       "  </thead>\n",
       "  <tbody>\n",
       "    <tr>\n",
       "      <th>0</th>\n",
       "      <td>[4, 145, 18, 23, 152, 28, 34, 40, 47, 176, 49,...</td>\n",
       "    </tr>\n",
       "    <tr>\n",
       "      <th>1</th>\n",
       "      <td>[66, 130, 102, 42, 139, 12, 113, 17, 115, 51, ...</td>\n",
       "    </tr>\n",
       "    <tr>\n",
       "      <th>2</th>\n",
       "      <td>[1, 99, 70, 104, 41, 91, 110, 15, 81, 17, 148,...</td>\n",
       "    </tr>\n",
       "    <tr>\n",
       "      <th>3</th>\n",
       "      <td>[129, 2, 132, 12, 151, 156, 30, 32, 162, 166, ...</td>\n",
       "    </tr>\n",
       "    <tr>\n",
       "      <th>4</th>\n",
       "      <td>[128, 9, 139, 152, 153, 29, 30, 167, 43, 46, 5...</td>\n",
       "    </tr>\n",
       "    <tr>\n",
       "      <th>...</th>\n",
       "      <td>...</td>\n",
       "    </tr>\n",
       "    <tr>\n",
       "      <th>96</th>\n",
       "      <td>[130, 132, 139, 142, 15, 148, 26, 32, 38, 185,...</td>\n",
       "    </tr>\n",
       "    <tr>\n",
       "      <th>97</th>\n",
       "      <td>[136, 9, 139, 11, 141, 142, 15, 140, 22, 152, ...</td>\n",
       "    </tr>\n",
       "    <tr>\n",
       "      <th>98</th>\n",
       "      <td>[192, 99, 70, 137, 106, 171, 44, 42, 86, 87, 8...</td>\n",
       "    </tr>\n",
       "    <tr>\n",
       "      <th>99</th>\n",
       "      <td>[32, 160, 129, 131, 163, 68, 5, 135, 7, 80, 17...</td>\n",
       "    </tr>\n",
       "    <tr>\n",
       "      <th>100</th>\n",
       "      <td>[130, 142, 147, 27, 159, 161, 41, 45, 177, 178...</td>\n",
       "    </tr>\n",
       "  </tbody>\n",
       "</table>\n",
       "<p>101 rows × 1 columns</p>\n",
       "</div>"
      ],
      "text/plain": [
       "                                                    actual\n",
       "user_id                                                   \n",
       "0        [4, 145, 18, 23, 152, 28, 34, 40, 47, 176, 49,...\n",
       "1        [66, 130, 102, 42, 139, 12, 113, 17, 115, 51, ...\n",
       "2        [1, 99, 70, 104, 41, 91, 110, 15, 81, 17, 148,...\n",
       "3        [129, 2, 132, 12, 151, 156, 30, 32, 162, 166, ...\n",
       "4        [128, 9, 139, 152, 153, 29, 30, 167, 43, 46, 5...\n",
       "...                                                    ...\n",
       "96       [130, 132, 139, 142, 15, 148, 26, 32, 38, 185,...\n",
       "97       [136, 9, 139, 11, 141, 142, 15, 140, 22, 152, ...\n",
       "98       [192, 99, 70, 137, 106, 171, 44, 42, 86, 87, 8...\n",
       "99       [32, 160, 129, 131, 163, 68, 5, 135, 7, 80, 17...\n",
       "100      [130, 142, 147, 27, 159, 161, 41, 45, 177, 178...\n",
       "\n",
       "[101 rows x 1 columns]"
      ]
     },
     "execution_count": 46,
     "metadata": {},
     "output_type": "execute_result"
    }
   ],
   "source": [
    "test = test.set_index(\"user_id\")\n",
    "test"
   ]
  },
  {
   "cell_type": "code",
   "execution_count": 47,
   "metadata": {},
   "outputs": [
    {
     "name": "stdout",
     "output_type": "stream",
     "text": [
      "[[71, 28, 144, 124, 131, 165, 102, 133, 143, 182], [48, 156, 176, 47, 51, 198, 152, 184, 132, 145], [136, 25, 165, 119, 172, 150, 198, 157, 190, 191], [184, 131, 162, 189, 151, 186, 143, 133, 25, 197], [131, 143, 160, 164, 144, 165, 119, 182, 113, 105], [131, 143, 160, 164, 144, 165, 119, 182, 113, 105], [131, 144, 143, 155, 71, 160, 174, 165, 136, 150], [71, 132, 131, 195, 150, 143, 136, 144, 165, 188], [165, 191, 131, 143, 160, 150, 130, 144, 48, 23], [7, 160, 186, 151, 161, 39, 165, 153, 177, 131], [184, 131, 162, 189, 151, 186, 143, 133, 25, 197], [186, 131, 143, 108, 175, 193, 144, 165, 189, 164], [189, 143, 124, 133, 131, 71, 195, 144, 172, 182], [71, 195, 144, 171, 117, 131, 124, 154, 165, 134], [143, 188, 3, 165, 150, 144, 131, 157, 124, 136], [168, 193, 195, 165, 131, 115, 143, 132, 153, 144], [184, 131, 162, 189, 151, 186, 143, 133, 25, 197], [131, 144, 143, 155, 71, 160, 174, 165, 136, 150], [189, 143, 124, 133, 131, 71, 195, 144, 172, 182], [151, 94, 39, 177, 131, 25, 161, 186, 118, 71], [151, 94, 39, 177, 131, 25, 161, 186, 118, 71], [138, 102, 131, 160, 168, 143, 193, 191, 124, 196], [136, 25, 165, 119, 172, 150, 198, 157, 190, 191], [122, 78, 143, 182, 180, 108, 20, 111, 152, 123], [131, 124, 143, 165, 193, 144, 150, 71, 178, 132], [143, 71, 144, 131, 124, 150, 165, 191, 155, 152], [189, 143, 124, 133, 131, 71, 195, 144, 172, 182], [122, 78, 143, 182, 180, 108, 20, 111, 152, 123], [143, 188, 3, 165, 150, 144, 131, 157, 124, 136], [189, 143, 124, 133, 131, 71, 195, 144, 172, 182], [131, 24, 165, 156, 144, 162, 143, 168, 172, 184], [195, 131, 188, 180, 47, 157, 165, 193, 143, 171], [112, 131, 143, 168, 144, 165, 140, 189, 141, 51], [165, 131, 143, 184, 113, 119, 51, 144, 186, 189], [131, 144, 143, 155, 71, 160, 174, 165, 136, 150], [193, 150, 144, 188, 186, 131, 175, 113, 140, 155], [189, 143, 124, 133, 131, 71, 195, 144, 172, 182], [71, 28, 144, 124, 131, 165, 102, 133, 143, 182], [131, 143, 160, 164, 144, 165, 119, 182, 113, 105], [117, 167, 131, 128, 108, 153, 71, 159, 188, 162], [186, 131, 143, 108, 175, 193, 144, 165, 189, 164], [143, 188, 3, 165, 150, 144, 131, 157, 124, 136], [131, 108, 143, 162, 168, 193, 184, 144, 165, 160], [48, 168, 145, 152, 71, 144, 131, 143, 182, 180], [117, 167, 131, 128, 108, 153, 71, 159, 188, 162], [122, 78, 143, 182, 180, 108, 20, 111, 152, 123], [155, 150, 112, 71, 144, 119, 174, 141, 131, 168], [71, 28, 144, 124, 131, 165, 102, 133, 143, 182], [165, 168, 195, 161, 117, 141, 131, 143, 126, 193], [122, 78, 143, 182, 180, 108, 20, 111, 152, 123], [184, 131, 162, 189, 151, 186, 143, 133, 25, 197], [71, 132, 131, 195, 150, 143, 136, 144, 165, 188], [71, 28, 144, 124, 131, 165, 102, 133, 143, 182], [165, 108, 184, 131, 132, 143, 182, 193, 144, 78], [131, 156, 144, 143, 174, 165, 133, 193, 191, 184], [195, 131, 188, 180, 47, 157, 165, 193, 143, 171], [151, 94, 39, 177, 131, 25, 161, 186, 118, 71], [165, 108, 184, 131, 132, 143, 182, 193, 144, 78], [189, 143, 124, 133, 131, 71, 195, 144, 172, 182], [48, 168, 145, 152, 71, 144, 131, 143, 182, 180], [151, 132, 48, 71, 143, 193, 160, 131, 94, 119], [131, 191, 193, 28, 143, 160, 195, 124, 186, 144], [143, 188, 3, 165, 150, 144, 131, 157, 124, 136], [71, 28, 144, 124, 131, 165, 102, 133, 143, 182], [195, 143, 111, 113, 131, 141, 108, 193, 196, 188], [168, 193, 195, 165, 131, 115, 143, 132, 153, 144], [138, 102, 131, 160, 168, 143, 193, 191, 124, 196], [71, 28, 144, 124, 131, 165, 102, 133, 143, 182], [165, 108, 184, 131, 132, 143, 182, 193, 144, 78], [131, 24, 165, 156, 144, 162, 143, 168, 172, 184], [136, 25, 165, 119, 172, 150, 198, 157, 190, 191], [131, 124, 143, 165, 193, 144, 150, 71, 178, 132], [193, 188, 134, 186, 173, 151, 178, 143, 109, 160], [131, 168, 195, 145, 143, 193, 3, 160, 141, 144], [193, 150, 144, 188, 186, 131, 175, 113, 140, 155], [71, 28, 144, 124, 131, 165, 102, 133, 143, 182], [143, 188, 3, 165, 150, 144, 131, 157, 124, 136], [48, 168, 145, 152, 71, 144, 131, 143, 182, 180], [71, 28, 144, 124, 131, 165, 102, 133, 143, 182], [151, 71, 160, 131, 150, 155, 143, 119, 184, 144], [184, 131, 162, 189, 151, 186, 143, 133, 25, 197], [155, 150, 112, 71, 144, 119, 174, 141, 131, 168], [48, 168, 145, 152, 71, 144, 131, 143, 182, 180], [168, 193, 195, 165, 131, 115, 143, 132, 153, 144], [131, 191, 193, 28, 143, 160, 195, 124, 186, 144], [48, 168, 145, 152, 71, 144, 131, 143, 182, 180], [113, 143, 168, 115, 153, 152, 131, 144, 132, 134], [131, 143, 160, 164, 144, 165, 119, 182, 113, 105], [178, 149, 7, 143, 28, 0, 133, 107, 165, 191], [165, 131, 143, 136, 144, 113, 130, 150, 71, 133], [189, 143, 124, 133, 131, 71, 195, 144, 172, 182], [71, 191, 144, 131, 143, 193, 165, 102, 133, 189], [193, 188, 134, 186, 173, 151, 178, 143, 109, 160], [195, 131, 188, 180, 47, 157, 165, 193, 143, 171], [151, 94, 39, 177, 131, 25, 161, 186, 118, 71], [165, 191, 131, 143, 160, 150, 130, 144, 48, 23], [165, 191, 131, 143, 160, 150, 130, 144, 48, 23], [143, 188, 3, 165, 150, 144, 131, 157, 124, 136], [71, 132, 131, 195, 150, 143, 136, 144, 165, 188], [131, 160, 152, 140, 195, 126, 124, 143, 150, 144], [144, 113, 155, 188, 131, 174, 191, 165, 184, 102]]\n"
     ]
    }
   ],
   "source": [
    "# find the recommended 10 destinations to the users of the test dataset\n",
    "# and add them to a superlist\n",
    "super_recommended_ids=[]\n",
    "for user in test.index:\n",
    "    most_recent_destination_id=test.loc[user]['actual'][-1] #extract the most recently rated destination id\n",
    "    recommeneded_ids = find_similar_destinations(most_recent_destination_id, X, k=10, metric=\"euclidean\")\n",
    "    super_recommended_ids.append(recommeneded_ids)\n",
    "print(super_recommended_ids)"
   ]
  },
  {
   "cell_type": "code",
   "execution_count": 48,
   "metadata": {},
   "outputs": [
    {
     "data": {
      "text/html": [
       "<div>\n",
       "<style scoped>\n",
       "    .dataframe tbody tr th:only-of-type {\n",
       "        vertical-align: middle;\n",
       "    }\n",
       "\n",
       "    .dataframe tbody tr th {\n",
       "        vertical-align: top;\n",
       "    }\n",
       "\n",
       "    .dataframe thead th {\n",
       "        text-align: right;\n",
       "    }\n",
       "</style>\n",
       "<table border=\"1\" class=\"dataframe\">\n",
       "  <thead>\n",
       "    <tr style=\"text-align: right;\">\n",
       "      <th></th>\n",
       "      <th>actual</th>\n",
       "      <th>collab_predictions</th>\n",
       "    </tr>\n",
       "    <tr>\n",
       "      <th>user_id</th>\n",
       "      <th></th>\n",
       "      <th></th>\n",
       "    </tr>\n",
       "  </thead>\n",
       "  <tbody>\n",
       "    <tr>\n",
       "      <th>0</th>\n",
       "      <td>[4, 145, 18, 23, 152, 28, 34, 40, 47, 176, 49,...</td>\n",
       "      <td>[71, 28, 144, 124, 131, 165, 102, 133, 143, 182]</td>\n",
       "    </tr>\n",
       "    <tr>\n",
       "      <th>1</th>\n",
       "      <td>[66, 130, 102, 42, 139, 12, 113, 17, 115, 51, ...</td>\n",
       "      <td>[48, 156, 176, 47, 51, 198, 152, 184, 132, 145]</td>\n",
       "    </tr>\n",
       "    <tr>\n",
       "      <th>2</th>\n",
       "      <td>[1, 99, 70, 104, 41, 91, 110, 15, 81, 17, 148,...</td>\n",
       "      <td>[136, 25, 165, 119, 172, 150, 198, 157, 190, 191]</td>\n",
       "    </tr>\n",
       "    <tr>\n",
       "      <th>3</th>\n",
       "      <td>[129, 2, 132, 12, 151, 156, 30, 32, 162, 166, ...</td>\n",
       "      <td>[184, 131, 162, 189, 151, 186, 143, 133, 25, 197]</td>\n",
       "    </tr>\n",
       "    <tr>\n",
       "      <th>4</th>\n",
       "      <td>[128, 9, 139, 152, 153, 29, 30, 167, 43, 46, 5...</td>\n",
       "      <td>[131, 143, 160, 164, 144, 165, 119, 182, 113, ...</td>\n",
       "    </tr>\n",
       "  </tbody>\n",
       "</table>\n",
       "</div>"
      ],
      "text/plain": [
       "                                                    actual  \\\n",
       "user_id                                                      \n",
       "0        [4, 145, 18, 23, 152, 28, 34, 40, 47, 176, 49,...   \n",
       "1        [66, 130, 102, 42, 139, 12, 113, 17, 115, 51, ...   \n",
       "2        [1, 99, 70, 104, 41, 91, 110, 15, 81, 17, 148,...   \n",
       "3        [129, 2, 132, 12, 151, 156, 30, 32, 162, 166, ...   \n",
       "4        [128, 9, 139, 152, 153, 29, 30, 167, 43, 46, 5...   \n",
       "\n",
       "                                        collab_predictions  \n",
       "user_id                                                     \n",
       "0         [71, 28, 144, 124, 131, 165, 102, 133, 143, 182]  \n",
       "1          [48, 156, 176, 47, 51, 198, 152, 184, 132, 145]  \n",
       "2        [136, 25, 165, 119, 172, 150, 198, 157, 190, 191]  \n",
       "3        [184, 131, 162, 189, 151, 186, 143, 133, 25, 197]  \n",
       "4        [131, 143, 160, 164, 144, 165, 119, 182, 113, ...  "
      ]
     },
     "execution_count": 48,
     "metadata": {},
     "output_type": "execute_result"
    }
   ],
   "source": [
    "# update the recommended ids as a new column\n",
    "test['collab_predictions']=super_recommended_ids\n",
    "test.head()"
   ]
  },
  {
   "cell_type": "code",
   "execution_count": 49,
   "metadata": {},
   "outputs": [
    {
     "name": "stdout",
     "output_type": "stream",
     "text": [
      "[[4, 145, 18, 23, 152, 28, 34, 40, 47, 176, 49, 48, 62, 64, 88, 90, 100, 103, 115, 120, 122, 127], [66, 130, 102, 42, 139, 12, 113, 17, 115, 51, 184, 25, 90], [1, 99, 70, 104, 41, 91, 110, 15, 81, 17, 148, 21, 118, 22, 27, 190, 93, 30], [129, 2, 132, 12, 151, 156, 30, 32, 162, 166, 41, 170, 42, 184, 68, 197, 73, 77, 79, 90, 95, 98, 112, 117, 125], [128, 9, 139, 152, 153, 29, 30, 167, 43, 46, 50, 53, 182, 187, 62, 76, 78, 84, 111, 122, 123], [9, 142, 15, 19, 35, 43, 178, 180, 58, 59, 187, 72, 73, 75, 101, 106, 107, 115, 116, 123], [128, 134, 135, 6, 137, 138, 142, 144, 26, 29, 31, 162, 35, 37, 166, 169, 170, 174, 192, 91, 112, 119], [64, 129, 6, 169, 59, 10, 172, 45, 105, 106, 16, 52, 86, 183, 123, 29, 159], [2, 4, 5, 9, 139, 15, 148, 30, 161, 163, 165, 39, 171, 177, 191, 67, 68, 80, 88, 104, 120], [128, 34, 164, 104, 9, 74, 10, 75, 77, 174, 79, 177, 50, 146, 120, 153, 59, 92], [96, 66, 69, 199, 186, 137, 42, 139, 140, 187, 114, 53, 22, 154, 59, 125], [7, 135, 142, 14, 20, 158, 161, 163, 171, 43, 175, 176, 178, 57, 186, 58, 193, 194, 85, 92, 114, 118], [0, 132, 137, 140, 152, 153, 24, 159, 41, 169, 52, 182, 63, 67, 81, 89, 90, 91, 96, 112, 117, 118, 126], [5, 135, 136, 140, 13, 145, 18, 161, 38, 170, 172, 57, 187, 194, 75, 77, 80, 81, 98, 103], [135, 136, 15, 16, 157, 35, 37, 167, 173, 177, 56, 187, 60, 62, 66, 74, 79, 82, 110, 118, 119, 121], [194, 99, 34, 197, 198, 135, 106, 45, 13, 80, 56, 57, 88, 95], [0, 129, 18, 148, 151, 27, 30, 35, 169, 50, 180, 53, 56, 188, 197, 73, 75, 83, 103, 114, 125], [135, 9, 13, 16, 19, 20, 22, 151, 25, 155, 31, 166, 39, 169, 49, 177, 184, 63, 75, 92, 94, 116, 118, 119], [129, 4, 133, 13, 146, 19, 149, 26, 32, 40, 173, 52, 188, 66, 68, 69, 73, 89, 121, 124, 126], [153, 164, 100, 134, 186, 74, 171, 77, 47, 15, 20, 118, 87, 25, 90, 123, 125, 63], [161, 99, 185, 132, 199, 9, 10, 109, 17, 57, 58, 63], [96, 0, 34, 160, 98, 69, 134, 103, 109, 110, 28, 153, 58, 158, 92, 190], [163, 104, 170, 10, 43, 14, 20, 87, 24, 62, 190, 30], [97, 34, 132, 4, 104, 138, 76, 79, 80, 85, 88, 123, 60, 62], [193, 134, 6, 72, 8, 139, 16, 81, 178, 52, 181, 152, 58, 124, 61, 191], [129, 130, 170, 140, 76, 18, 22, 55, 152, 151, 56, 155, 189], [2, 148, 155, 156, 160, 36, 38, 44, 174, 50, 178, 180, 182, 65, 72, 75, 81, 100, 105, 115, 116, 119, 121, 123, 126], [5, 69, 199, 168, 170, 74, 145, 114, 148, 116, 53, 20, 158, 190, 62], [2, 3, 139, 145, 148, 151, 153, 159, 168, 46, 177, 180, 64, 65, 66, 84, 91, 92, 115, 121], [194, 69, 105, 106, 43, 172, 108, 112, 177, 178, 179, 116, 149, 118, 125, 185, 189, 126], [21, 24, 25, 30, 31, 33, 161, 40, 41, 172, 56, 69, 73, 75, 92, 99, 109, 110, 112], [135, 17, 27, 163, 173, 47, 178, 180, 57, 188, 61, 62, 193, 195, 197, 98, 105, 106, 111], [66, 6, 104, 73, 138, 107, 43, 106, 81, 189, 120, 25, 58, 125, 24], [3, 196, 165, 198, 73, 106, 142, 47, 111, 50, 180, 181, 54, 30, 56, 121, 157, 25], [2, 3, 12, 150, 155, 29, 31, 159, 161, 167, 43, 177, 57, 63, 65, 71, 77, 83, 94, 107, 119], [32, 130, 98, 99, 104, 40, 106, 73, 76, 13, 21, 85, 87, 184, 122, 158], [136, 10, 13, 18, 19, 148, 149, 25, 30, 32, 43, 172, 192, 65, 197, 198, 79, 82, 90, 93, 99, 105, 119, 123, 125, 126], [137, 139, 141, 16, 24, 31, 32, 34, 35, 43, 184, 64, 194, 197, 75, 79, 86, 98, 100, 102, 104, 112, 125, 127], [128, 1, 135, 139, 21, 24, 26, 156, 28, 163, 36, 38, 168, 44, 46, 49, 179, 57, 197, 72, 100, 112, 123], [32, 164, 74, 44, 82, 149, 58, 29], [135, 9, 14, 145, 21, 22, 156, 34, 35, 174, 52, 53, 59, 67, 84, 85, 86, 88, 90, 96, 99, 101, 105, 108, 118], [130, 135, 136, 11, 12, 141, 13, 143, 17, 147, 20, 149, 22, 32, 37, 172, 47, 181, 59, 60, 62, 67, 196, 72, 78, 84, 101, 102, 121], [64, 33, 66, 3, 162, 90, 103, 39, 135, 154, 171, 47, 16, 178, 18, 121, 186, 156], [4, 9, 13, 148, 26, 154, 34, 37, 167, 170, 45, 180, 54, 182, 186, 189, 62, 192, 194, 70, 80, 82, 92, 104, 122], [66, 5, 90, 103, 104, 41, 169, 107, 44, 173, 79, 17, 180, 86, 184, 58, 29], [101, 198, 140, 173, 142, 146, 181, 55, 90, 123, 62], [66, 185, 100, 70, 135, 169, 41, 11, 44, 83, 115, 84, 181, 57, 91, 30, 31], [0, 1, 146, 155, 158, 31, 36, 44, 57, 190, 191, 192, 193, 196, 86, 93, 102, 104, 109, 124, 127], [64, 97, 0, 99, 35, 165, 70, 67, 73, 107, 178, 19, 117, 181, 87, 185, 58, 93], [32, 162, 131, 196, 104, 108, 174, 46, 144, 19, 181, 85, 119, 53, 26, 152, 62], [162, 163, 100, 69, 39, 8, 12, 187, 176, 18, 149, 22, 184, 57, 27, 125], [67, 35, 166, 136, 137, 74, 15, 113, 81, 179, 84, 119, 188, 157, 30, 159], [133, 10, 11, 23, 27, 163, 164, 166, 169, 43, 44, 45, 174, 62, 196, 198, 73, 82, 97, 108, 111, 127], [2, 132, 148, 154, 158, 159, 37, 167, 169, 175, 48, 178, 50, 53, 184, 191, 66, 81, 83, 105, 106, 107, 117], [2, 134, 142, 18, 23, 156, 36, 40, 45, 50, 179, 55, 184, 185, 59, 193, 197, 74, 80, 87, 108], [134, 138, 154, 159, 163, 167, 170, 43, 171, 53, 185, 192, 194, 66, 199, 85, 91, 100, 103, 111], [96, 159, 128, 160, 38, 110, 60, 82, 83, 188, 29, 55, 151, 187, 190, 61, 94, 63], [1, 18, 20, 29, 40, 184, 187, 62, 199, 77, 78, 88, 94, 98, 103, 104, 108, 109, 117], [2, 136, 153, 26, 29, 158, 171, 177, 51, 52, 54, 190, 63, 66, 197, 76, 77, 110, 112, 120, 126], [128, 132, 135, 137, 141, 142, 13, 145, 152, 153, 31, 168, 169, 46, 56, 59, 187, 195, 68, 82, 91, 93, 95, 115, 122], [192, 67, 68, 6, 9, 106, 73, 110, 14, 78, 17, 83], [136, 139, 141, 145, 19, 23, 29, 30, 159, 42, 177, 183, 185, 57, 66, 195, 199, 80, 82, 87, 97, 109], [138, 147, 150, 157, 158, 30, 159, 33, 162, 37, 166, 41, 169, 57, 186, 188, 60, 190, 66, 67, 102, 107, 121], [2, 4, 139, 144, 145, 154, 180, 53, 182, 189, 68, 71, 81, 88, 102, 103, 107, 114, 122, 124, 126, 127], [32, 197, 70, 42, 45, 110, 173, 16, 111, 114, 19, 148, 184, 89, 27], [128, 65, 1, 36, 165, 167, 103, 168, 44, 142, 79, 29, 117, 182, 21, 120, 93, 95], [192, 64, 99, 36, 164, 135, 138, 75, 176, 80, 118, 88, 56, 190], [1, 9, 10, 159, 33, 161, 35, 44, 172, 51, 56, 59, 189, 78, 82, 86, 90, 93, 114, 126, 127], [3, 7, 141, 161, 174, 176, 177, 179, 63, 67, 196, 77, 81, 92, 93, 100, 101, 103, 114, 115, 117], [0, 129, 131, 135, 147, 151, 152, 156, 29, 162, 163, 166, 167, 46, 49, 181, 57, 188, 191, 63, 65, 86, 100, 102, 105, 108, 109, 111, 112], [96, 129, 128, 97, 130, 160, 134, 135, 66, 41, 106, 147, 148, 150, 152, 89, 158, 30], [192, 1, 42, 43, 187, 143, 178, 20, 150, 22, 62, 57, 58, 155, 189, 126, 191], [96, 98, 68, 37, 70, 166, 12, 143, 82, 179, 83, 21, 118, 119, 54, 122, 61], [9, 13, 146, 147, 27, 172, 46, 175, 176, 179, 54, 193, 195, 72, 77, 95, 103, 105, 108, 115], [64, 68, 154, 104, 167, 139, 173, 110, 80, 17, 29, 118, 55, 186, 187, 188, 61, 158], [8, 137, 13, 146, 18, 23, 165, 37, 170, 42, 45, 182, 185, 69, 74, 80, 99, 119, 127], [0, 2, 144, 154, 155, 158, 33, 37, 44, 179, 188, 67, 199, 73, 77, 82, 104, 113, 121], [2, 130, 12, 141, 16, 147, 27, 30, 38, 168, 48, 176, 185, 190, 196, 74, 75, 79, 86, 98, 102, 106, 110, 122], [0, 133, 135, 147, 19, 149, 28, 36, 166, 169, 44, 58, 59, 86, 101, 104, 125, 126, 127], [36, 8, 170, 43, 140, 171, 174, 175, 76, 139, 51, 84, 87, 24, 26, 60, 94], [129, 133, 6, 135, 8, 10, 142, 146, 19, 147, 37, 169, 45, 46, 50, 183, 55, 62, 73, 79, 91, 98, 100, 125], [121, 194, 199, 40, 10, 140, 46, 50, 21, 150, 183, 120, 57, 122, 54, 61, 158, 31], [128, 138, 11, 145, 146, 36, 170, 42, 49, 180, 185, 190, 65, 194, 196, 74, 77, 84, 85, 86, 99, 106, 114, 122], [97, 193, 134, 137, 44, 142, 61, 180, 115, 117, 83, 153, 26, 29, 158, 95], [1, 129, 135, 16, 19, 151, 32, 160, 37, 44, 173, 180, 61, 196, 75, 82, 83, 92, 94, 98, 100, 109], [130, 5, 137, 146, 147, 157, 34, 40, 170, 171, 175, 50, 180, 187, 194, 66, 70, 73, 74, 80, 111, 114, 122], [64, 66, 5, 27, 10, 14, 143, 113, 19, 149, 87, 58, 91], [129, 133, 139, 147, 20, 31, 34, 164, 43, 174, 175, 48, 57, 65, 83, 84, 100, 104, 113, 123], [192, 97, 67, 196, 99, 198, 102, 38, 137, 70, 167, 104, 75, 79, 83, 58], [129, 34, 66, 130, 101, 49, 83, 181, 53, 88, 120, 157], [121, 194, 195, 100, 38, 167, 103, 168, 171, 111, 116, 89, 93, 126], [1, 130, 132, 8, 17, 148, 27, 166, 42, 181, 60, 195, 69, 198, 83, 85, 90, 106, 110, 124], [33, 67, 134, 103, 8, 7, 172, 109, 142, 49, 178, 58, 61], [133, 6, 15, 18, 149, 22, 24, 157, 39, 47, 176, 63, 64, 67, 88, 92, 95, 98, 111], [2, 37, 38, 135, 186, 170, 127, 60, 109, 84, 148, 116, 122, 28, 61, 63], [0, 4, 7, 139, 15, 16, 23, 160, 35, 165, 170, 173, 58, 72, 92, 104, 112, 114, 120], [130, 132, 139, 142, 15, 148, 26, 32, 38, 185, 58, 197, 74, 80, 87, 92, 94, 106, 120], [136, 9, 139, 11, 141, 142, 15, 140, 22, 152, 27, 158, 49, 179, 185, 196, 89, 98, 107, 116, 121], [192, 99, 70, 137, 106, 171, 44, 42, 86, 87, 88, 123, 159], [32, 160, 129, 131, 163, 68, 5, 135, 7, 80, 177, 88, 89], [130, 142, 147, 27, 159, 161, 41, 45, 177, 178, 54, 184, 190, 66, 198, 70, 74, 82, 101, 104]]\n",
      "[[71, 28, 144, 124, 131, 165, 102, 133, 143, 182], [48, 156, 176, 47, 51, 198, 152, 184, 132, 145], [136, 25, 165, 119, 172, 150, 198, 157, 190, 191], [184, 131, 162, 189, 151, 186, 143, 133, 25, 197], [131, 143, 160, 164, 144, 165, 119, 182, 113, 105], [131, 143, 160, 164, 144, 165, 119, 182, 113, 105], [131, 144, 143, 155, 71, 160, 174, 165, 136, 150], [71, 132, 131, 195, 150, 143, 136, 144, 165, 188], [165, 191, 131, 143, 160, 150, 130, 144, 48, 23], [7, 160, 186, 151, 161, 39, 165, 153, 177, 131], [184, 131, 162, 189, 151, 186, 143, 133, 25, 197], [186, 131, 143, 108, 175, 193, 144, 165, 189, 164], [189, 143, 124, 133, 131, 71, 195, 144, 172, 182], [71, 195, 144, 171, 117, 131, 124, 154, 165, 134], [143, 188, 3, 165, 150, 144, 131, 157, 124, 136], [168, 193, 195, 165, 131, 115, 143, 132, 153, 144], [184, 131, 162, 189, 151, 186, 143, 133, 25, 197], [131, 144, 143, 155, 71, 160, 174, 165, 136, 150], [189, 143, 124, 133, 131, 71, 195, 144, 172, 182], [151, 94, 39, 177, 131, 25, 161, 186, 118, 71], [151, 94, 39, 177, 131, 25, 161, 186, 118, 71], [138, 102, 131, 160, 168, 143, 193, 191, 124, 196], [136, 25, 165, 119, 172, 150, 198, 157, 190, 191], [122, 78, 143, 182, 180, 108, 20, 111, 152, 123], [131, 124, 143, 165, 193, 144, 150, 71, 178, 132], [143, 71, 144, 131, 124, 150, 165, 191, 155, 152], [189, 143, 124, 133, 131, 71, 195, 144, 172, 182], [122, 78, 143, 182, 180, 108, 20, 111, 152, 123], [143, 188, 3, 165, 150, 144, 131, 157, 124, 136], [189, 143, 124, 133, 131, 71, 195, 144, 172, 182], [131, 24, 165, 156, 144, 162, 143, 168, 172, 184], [195, 131, 188, 180, 47, 157, 165, 193, 143, 171], [112, 131, 143, 168, 144, 165, 140, 189, 141, 51], [165, 131, 143, 184, 113, 119, 51, 144, 186, 189], [131, 144, 143, 155, 71, 160, 174, 165, 136, 150], [193, 150, 144, 188, 186, 131, 175, 113, 140, 155], [189, 143, 124, 133, 131, 71, 195, 144, 172, 182], [71, 28, 144, 124, 131, 165, 102, 133, 143, 182], [131, 143, 160, 164, 144, 165, 119, 182, 113, 105], [117, 167, 131, 128, 108, 153, 71, 159, 188, 162], [186, 131, 143, 108, 175, 193, 144, 165, 189, 164], [143, 188, 3, 165, 150, 144, 131, 157, 124, 136], [131, 108, 143, 162, 168, 193, 184, 144, 165, 160], [48, 168, 145, 152, 71, 144, 131, 143, 182, 180], [117, 167, 131, 128, 108, 153, 71, 159, 188, 162], [122, 78, 143, 182, 180, 108, 20, 111, 152, 123], [155, 150, 112, 71, 144, 119, 174, 141, 131, 168], [71, 28, 144, 124, 131, 165, 102, 133, 143, 182], [165, 168, 195, 161, 117, 141, 131, 143, 126, 193], [122, 78, 143, 182, 180, 108, 20, 111, 152, 123], [184, 131, 162, 189, 151, 186, 143, 133, 25, 197], [71, 132, 131, 195, 150, 143, 136, 144, 165, 188], [71, 28, 144, 124, 131, 165, 102, 133, 143, 182], [165, 108, 184, 131, 132, 143, 182, 193, 144, 78], [131, 156, 144, 143, 174, 165, 133, 193, 191, 184], [195, 131, 188, 180, 47, 157, 165, 193, 143, 171], [151, 94, 39, 177, 131, 25, 161, 186, 118, 71], [165, 108, 184, 131, 132, 143, 182, 193, 144, 78], [189, 143, 124, 133, 131, 71, 195, 144, 172, 182], [48, 168, 145, 152, 71, 144, 131, 143, 182, 180], [151, 132, 48, 71, 143, 193, 160, 131, 94, 119], [131, 191, 193, 28, 143, 160, 195, 124, 186, 144], [143, 188, 3, 165, 150, 144, 131, 157, 124, 136], [71, 28, 144, 124, 131, 165, 102, 133, 143, 182], [195, 143, 111, 113, 131, 141, 108, 193, 196, 188], [168, 193, 195, 165, 131, 115, 143, 132, 153, 144], [138, 102, 131, 160, 168, 143, 193, 191, 124, 196], [71, 28, 144, 124, 131, 165, 102, 133, 143, 182], [165, 108, 184, 131, 132, 143, 182, 193, 144, 78], [131, 24, 165, 156, 144, 162, 143, 168, 172, 184], [136, 25, 165, 119, 172, 150, 198, 157, 190, 191], [131, 124, 143, 165, 193, 144, 150, 71, 178, 132], [193, 188, 134, 186, 173, 151, 178, 143, 109, 160], [131, 168, 195, 145, 143, 193, 3, 160, 141, 144], [193, 150, 144, 188, 186, 131, 175, 113, 140, 155], [71, 28, 144, 124, 131, 165, 102, 133, 143, 182], [143, 188, 3, 165, 150, 144, 131, 157, 124, 136], [48, 168, 145, 152, 71, 144, 131, 143, 182, 180], [71, 28, 144, 124, 131, 165, 102, 133, 143, 182], [151, 71, 160, 131, 150, 155, 143, 119, 184, 144], [184, 131, 162, 189, 151, 186, 143, 133, 25, 197], [155, 150, 112, 71, 144, 119, 174, 141, 131, 168], [48, 168, 145, 152, 71, 144, 131, 143, 182, 180], [168, 193, 195, 165, 131, 115, 143, 132, 153, 144], [131, 191, 193, 28, 143, 160, 195, 124, 186, 144], [48, 168, 145, 152, 71, 144, 131, 143, 182, 180], [113, 143, 168, 115, 153, 152, 131, 144, 132, 134], [131, 143, 160, 164, 144, 165, 119, 182, 113, 105], [178, 149, 7, 143, 28, 0, 133, 107, 165, 191], [165, 131, 143, 136, 144, 113, 130, 150, 71, 133], [189, 143, 124, 133, 131, 71, 195, 144, 172, 182], [71, 191, 144, 131, 143, 193, 165, 102, 133, 189], [193, 188, 134, 186, 173, 151, 178, 143, 109, 160], [195, 131, 188, 180, 47, 157, 165, 193, 143, 171], [151, 94, 39, 177, 131, 25, 161, 186, 118, 71], [165, 191, 131, 143, 160, 150, 130, 144, 48, 23], [165, 191, 131, 143, 160, 150, 130, 144, 48, 23], [143, 188, 3, 165, 150, 144, 131, 157, 124, 136], [71, 132, 131, 195, 150, 143, 136, 144, 165, 188], [131, 160, 152, 140, 195, 126, 124, 143, 150, 144], [144, 113, 155, 188, 131, 174, 191, 165, 184, 102]]\n"
     ]
    }
   ],
   "source": [
    "actual=test['actual'].values.tolist()\n",
    "collab_predictions=test['collab_predictions'].values.tolist()\n",
    "print(actual)\n",
    "print(collab_predictions)"
   ]
  },
  {
   "cell_type": "code",
   "execution_count": null,
   "metadata": {},
   "outputs": [],
   "source": [
    "# calculate the mark score\n",
    "collab_mark = []\n",
    "for K in np.arange(1, 11):\n",
    "    collab_mark.extend([recmetrics.mark(actual, collab_predictions, k=K)])\n",
    "collab_mark"
   ]
  },
  {
   "cell_type": "code",
   "execution_count": null,
   "metadata": {},
   "outputs": [],
   "source": [
    "# generate a mark plot\n",
    "mark_scores = [collab_mark]\n",
    "index = range(1,10+1)\n",
    "names = ['Collaborative Filter']\n",
    "\n",
    "fig = plt.figure(figsize=(15, 7))\n",
    "recmetrics.mark_plot(mark_scores, model_names=names, k_range=index)"
   ]
  },
  {
   "cell_type": "code",
   "execution_count": null,
   "metadata": {},
   "outputs": [],
   "source": [
    "import ml_metrics as metrics"
   ]
  },
  {
   "cell_type": "markdown",
   "metadata": {},
   "source": [
    "### Similarly, generate MAPK score"
   ]
  },
  {
   "cell_type": "code",
   "execution_count": null,
   "metadata": {},
   "outputs": [],
   "source": [
    "collab_mapk = []\n",
    "for K in np.arange(1, 11):\n",
    "    collab_mapk.extend([metrics.mapk(actual, collab_predictions, k=K)])\n",
    "collab_mapk"
   ]
  },
  {
   "cell_type": "code",
   "execution_count": null,
   "metadata": {},
   "outputs": [],
   "source": [
    "# generate a mapk plot\n",
    "mapk_scores = [collab_mapk]\n",
    "index = range(1,10+1)\n",
    "names = ['Collaborative Filter']\n",
    "\n",
    "fig = plt.figure(figsize=(15, 7))\n",
    "recmetrics.mapk_plot(mapk_scores, model_names=names, k_range=index)"
   ]
  },
  {
   "cell_type": "markdown",
   "metadata": {},
   "source": [
    "## Calculate the prediction coverage"
   ]
  },
  {
   "cell_type": "code",
   "execution_count": null,
   "metadata": {},
   "outputs": [],
   "source": [
    "catalog = ratings.destination_id.unique().tolist()\n",
    "collab_coverage = recmetrics.prediction_coverage(collab_predictions, catalog)\n",
    "print(collab_coverage)"
   ]
  },
  {
   "cell_type": "markdown",
   "metadata": {},
   "source": [
    "## Coverage plot"
   ]
  },
  {
   "cell_type": "code",
   "execution_count": null,
   "metadata": {},
   "outputs": [],
   "source": [
    "# plot of prediction coverage\n",
    "coverage_scores = [collab_coverage]\n",
    "model_names = ['Collaborative Filter']\n",
    "\n",
    "fig = plt.figure(figsize=(7, 5))\n",
    "recmetrics.coverage_plot(coverage_scores, model_names)"
   ]
  },
  {
   "cell_type": "markdown",
   "metadata": {},
   "source": [
    "## Intra-list similarity"
   ]
  },
  {
   "cell_type": "code",
   "execution_count": null,
   "metadata": {},
   "outputs": [],
   "source": [
    "feature_df=destinations[['history','art_and_architecture','nature','adventure', 'entertainment','health_and_lifestyle',\\\n",
    "                        'food','industries','religious']]\n",
    "feature_df"
   ]
  },
  {
   "cell_type": "code",
   "execution_count": null,
   "metadata": {},
   "outputs": [],
   "source": [
    "recmetrics.intra_list_similarity(collab_predictions, feature_df)"
   ]
  }
 ],
 "metadata": {
  "kernelspec": {
   "display_name": "Python 3 (ipykernel)",
   "language": "python",
   "name": "python3"
  },
  "language_info": {
   "codemirror_mode": {
    "name": "ipython",
    "version": 3
   },
   "file_extension": ".py",
   "mimetype": "text/x-python",
   "name": "python",
   "nbconvert_exporter": "python",
   "pygments_lexer": "ipython3",
   "version": "3.9.7"
  }
 },
 "nbformat": 4,
 "nbformat_minor": 2
}
