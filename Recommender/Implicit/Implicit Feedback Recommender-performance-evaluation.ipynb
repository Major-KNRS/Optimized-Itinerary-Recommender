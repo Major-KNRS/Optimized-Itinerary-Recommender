{
 "cells": [
  {
   "cell_type": "markdown",
   "metadata": {},
   "source": [
    "## Destination Recommender System with Implicit Feedback\n",
    "\n",
    "Here, we build an implicit feedback recommender system using the [implicit](https://github.com/benfred/implicit) package.\n",
    "\n",
    "The cells of the user-item matrix are populated by a given user's degree of preference towards an item, which can come in the form of:\n",
    "\n",
    "1. **explicit feedback:** direct feedback towards an item (e.g., destination ratings which can be observed in Collaborative Filter approach.\n",
    "2. **implicit feedback:** indirect behaviour towards an item (e.g., transaction history, browsing history, search behaviour)\n",
    "\n",
    "Implicit feedback makes assumptions about a user's preference based on their actions towards items. Let's take Netflix for example. If you binge-watch a show and blaze through all seasons in a week, there's a high chance that you like that show. However, if you start watching a series and stop halfway through the first episode, there's suspicion to believe that you probably don't like that show. \n"
   ]
  },
  {
   "cell_type": "markdown",
   "metadata": {},
   "source": [
    "### Step 1: Import Dependencies"
   ]
  },
  {
   "cell_type": "code",
   "execution_count": 110,
   "metadata": {},
   "outputs": [],
   "source": [
    "import numpy as np\n",
    "import pandas as pd\n",
    "from scipy.sparse import csr_matrix\n",
    "\n",
    "import implicit"
   ]
  },
  {
   "cell_type": "markdown",
   "metadata": {},
   "source": [
    "### Step 2: Load the Data"
   ]
  },
  {
   "cell_type": "code",
   "execution_count": 111,
   "metadata": {},
   "outputs": [
    {
     "name": "stdout",
     "output_type": "stream",
     "text": [
      "   user_id  destination_id       destination_name  rating\n",
      "0        0               1  Phewa Tal (Fewa Lake)     5.0\n",
      "1        0               2              Sarangkot     5.0\n",
      "2        0               3   Swayambhunath Temple     5.0\n",
      "3        0               4              Poon Hill     5.0\n",
      "4        0               5           Peace Temple     5.0\n",
      "Shape: (6169, 4)\n"
     ]
    }
   ],
   "source": [
    "ratings = pd.read_csv('../../Datasets/final_sample_user_ratings_corrected.csv')\n",
    "# drop the rows with NaN values \n",
    "ratings.dropna(inplace=True)\n",
    "\n",
    "ratings['user_id']=ratings['user_id'].astype(int)\n",
    "ratings['destination_id']=ratings['destination_id'].astype(int)\n",
    "\n",
    "print(ratings.head())\n",
    "print(\"Shape:\",ratings.shape)"
   ]
  },
  {
   "cell_type": "code",
   "execution_count": 112,
   "metadata": {},
   "outputs": [
    {
     "data": {
      "text/html": [
       "<div>\n",
       "<style scoped>\n",
       "    .dataframe tbody tr th:only-of-type {\n",
       "        vertical-align: middle;\n",
       "    }\n",
       "\n",
       "    .dataframe tbody tr th {\n",
       "        vertical-align: top;\n",
       "    }\n",
       "\n",
       "    .dataframe thead th {\n",
       "        text-align: right;\n",
       "    }\n",
       "</style>\n",
       "<table border=\"1\" class=\"dataframe\">\n",
       "  <thead>\n",
       "    <tr style=\"text-align: right;\">\n",
       "      <th></th>\n",
       "      <th>user_id</th>\n",
       "      <th>destination_id</th>\n",
       "      <th>destination_name</th>\n",
       "      <th>rating</th>\n",
       "    </tr>\n",
       "  </thead>\n",
       "  <tbody>\n",
       "    <tr>\n",
       "      <th>0</th>\n",
       "      <td>0</td>\n",
       "      <td>1</td>\n",
       "      <td>Phewa Tal (Fewa Lake)</td>\n",
       "      <td>5.0</td>\n",
       "    </tr>\n",
       "    <tr>\n",
       "      <th>1</th>\n",
       "      <td>0</td>\n",
       "      <td>2</td>\n",
       "      <td>Sarangkot</td>\n",
       "      <td>5.0</td>\n",
       "    </tr>\n",
       "    <tr>\n",
       "      <th>2</th>\n",
       "      <td>0</td>\n",
       "      <td>3</td>\n",
       "      <td>Swayambhunath Temple</td>\n",
       "      <td>5.0</td>\n",
       "    </tr>\n",
       "    <tr>\n",
       "      <th>3</th>\n",
       "      <td>0</td>\n",
       "      <td>4</td>\n",
       "      <td>Poon Hill</td>\n",
       "      <td>5.0</td>\n",
       "    </tr>\n",
       "    <tr>\n",
       "      <th>4</th>\n",
       "      <td>0</td>\n",
       "      <td>5</td>\n",
       "      <td>Peace Temple</td>\n",
       "      <td>5.0</td>\n",
       "    </tr>\n",
       "    <tr>\n",
       "      <th>...</th>\n",
       "      <td>...</td>\n",
       "      <td>...</td>\n",
       "      <td>...</td>\n",
       "      <td>...</td>\n",
       "    </tr>\n",
       "    <tr>\n",
       "      <th>6164</th>\n",
       "      <td>249</td>\n",
       "      <td>257</td>\n",
       "      <td>Guru Lhakhang Monastery</td>\n",
       "      <td>5.0</td>\n",
       "    </tr>\n",
       "    <tr>\n",
       "      <th>6165</th>\n",
       "      <td>249</td>\n",
       "      <td>275</td>\n",
       "      <td>Kashmiri Mosque</td>\n",
       "      <td>4.0</td>\n",
       "    </tr>\n",
       "    <tr>\n",
       "      <th>6166</th>\n",
       "      <td>249</td>\n",
       "      <td>277</td>\n",
       "      <td>Manimandap Pati</td>\n",
       "      <td>3.0</td>\n",
       "    </tr>\n",
       "    <tr>\n",
       "      <th>6167</th>\n",
       "      <td>249</td>\n",
       "      <td>289</td>\n",
       "      <td>Sundarijal Water Falls</td>\n",
       "      <td>3.0</td>\n",
       "    </tr>\n",
       "    <tr>\n",
       "      <th>6168</th>\n",
       "      <td>249</td>\n",
       "      <td>0</td>\n",
       "      <td>Boudhanath Stupa</td>\n",
       "      <td>5.0</td>\n",
       "    </tr>\n",
       "  </tbody>\n",
       "</table>\n",
       "<p>6169 rows × 4 columns</p>\n",
       "</div>"
      ],
      "text/plain": [
       "      user_id  destination_id         destination_name  rating\n",
       "0           0               1    Phewa Tal (Fewa Lake)     5.0\n",
       "1           0               2                Sarangkot     5.0\n",
       "2           0               3     Swayambhunath Temple     5.0\n",
       "3           0               4                Poon Hill     5.0\n",
       "4           0               5             Peace Temple     5.0\n",
       "...       ...             ...                      ...     ...\n",
       "6164      249             257  Guru Lhakhang Monastery     5.0\n",
       "6165      249             275          Kashmiri Mosque     4.0\n",
       "6166      249             277          Manimandap Pati     3.0\n",
       "6167      249             289   Sundarijal Water Falls     3.0\n",
       "6168      249               0         Boudhanath Stupa     5.0\n",
       "\n",
       "[6169 rows x 4 columns]"
      ]
     },
     "execution_count": 112,
     "metadata": {},
     "output_type": "execute_result"
    }
   ],
   "source": [
    "ratings.reset_index(inplace=True,drop=True)\n",
    "ratings"
   ]
  },
  {
   "cell_type": "code",
   "execution_count": 113,
   "metadata": {},
   "outputs": [
    {
     "name": "stdout",
     "output_type": "stream",
     "text": [
      "(6140, 4)\n",
      "   user_id  destination_id       destination_name  rating\n",
      "0        0               1  Phewa Tal (Fewa Lake)     5.0\n",
      "1        0               2              Sarangkot     5.0\n",
      "2        0               3   Swayambhunath Temple     5.0\n"
     ]
    }
   ],
   "source": [
    "#only consider ratings from users who have rated over n movies\n",
    "n=10\n",
    "users = ratings[\"user_id\"].value_counts()\n",
    "users = users[users>n].index.tolist()\n",
    "\n",
    "ratings = ratings.query('user_id in @users')\n",
    "print(ratings.shape)\n",
    "print(ratings.head(3))"
   ]
  },
  {
   "cell_type": "code",
   "execution_count": 114,
   "metadata": {},
   "outputs": [],
   "source": [
    "ratings.reset_index(drop=True,inplace=True)"
   ]
  },
  {
   "cell_type": "code",
   "execution_count": 115,
   "metadata": {},
   "outputs": [
    {
     "data": {
      "text/html": [
       "<div>\n",
       "<style scoped>\n",
       "    .dataframe tbody tr th:only-of-type {\n",
       "        vertical-align: middle;\n",
       "    }\n",
       "\n",
       "    .dataframe tbody tr th {\n",
       "        vertical-align: top;\n",
       "    }\n",
       "\n",
       "    .dataframe thead th {\n",
       "        text-align: right;\n",
       "    }\n",
       "</style>\n",
       "<table border=\"1\" class=\"dataframe\">\n",
       "  <thead>\n",
       "    <tr style=\"text-align: right;\">\n",
       "      <th></th>\n",
       "      <th>dest_id</th>\n",
       "      <th>title</th>\n",
       "      <th>genre</th>\n",
       "      <th>latitude</th>\n",
       "      <th>longitude</th>\n",
       "      <th>img_url</th>\n",
       "      <th>genre_updated</th>\n",
       "      <th>history</th>\n",
       "      <th>art_and_architecture</th>\n",
       "      <th>nature</th>\n",
       "      <th>adventure</th>\n",
       "      <th>entertainment</th>\n",
       "      <th>health_and_lifestyle</th>\n",
       "      <th>food</th>\n",
       "      <th>industries</th>\n",
       "      <th>religious</th>\n",
       "    </tr>\n",
       "  </thead>\n",
       "  <tbody>\n",
       "    <tr>\n",
       "      <th>0</th>\n",
       "      <td>0</td>\n",
       "      <td>Boudhanath Stupa</td>\n",
       "      <td>history:art_and_architecture:religious</td>\n",
       "      <td>27.721506</td>\n",
       "      <td>85.359809</td>\n",
       "      <td>data:image/jpeg;base64,/9j/4AAQSkZJRgABAQAAAQA...</td>\n",
       "      <td>['history', 'art_and_architecture', 'religious']</td>\n",
       "      <td>True</td>\n",
       "      <td>True</td>\n",
       "      <td>False</td>\n",
       "      <td>False</td>\n",
       "      <td>False</td>\n",
       "      <td>False</td>\n",
       "      <td>False</td>\n",
       "      <td>False</td>\n",
       "      <td>True</td>\n",
       "    </tr>\n",
       "    <tr>\n",
       "      <th>1</th>\n",
       "      <td>1</td>\n",
       "      <td>Phewa Tal (Fewa Lake)</td>\n",
       "      <td>nature</td>\n",
       "      <td>28.211627</td>\n",
       "      <td>83.932296</td>\n",
       "      <td>data:image/jpeg;base64,/9j/4AAQSkZJRgABAQAAAQA...</td>\n",
       "      <td>['nature']</td>\n",
       "      <td>False</td>\n",
       "      <td>False</td>\n",
       "      <td>True</td>\n",
       "      <td>False</td>\n",
       "      <td>False</td>\n",
       "      <td>False</td>\n",
       "      <td>False</td>\n",
       "      <td>False</td>\n",
       "      <td>False</td>\n",
       "    </tr>\n",
       "    <tr>\n",
       "      <th>2</th>\n",
       "      <td>2</td>\n",
       "      <td>Sarangkot</td>\n",
       "      <td>nature</td>\n",
       "      <td>28.244376</td>\n",
       "      <td>83.944564</td>\n",
       "      <td>data:image/jpeg;base64,/9j/4AAQSkZJRgABAQAAAQA...</td>\n",
       "      <td>['nature']</td>\n",
       "      <td>False</td>\n",
       "      <td>False</td>\n",
       "      <td>True</td>\n",
       "      <td>False</td>\n",
       "      <td>False</td>\n",
       "      <td>False</td>\n",
       "      <td>False</td>\n",
       "      <td>False</td>\n",
       "      <td>False</td>\n",
       "    </tr>\n",
       "    <tr>\n",
       "      <th>3</th>\n",
       "      <td>3</td>\n",
       "      <td>Swayambhunath Temple</td>\n",
       "      <td>history:art_and_architecture:religious</td>\n",
       "      <td>27.714930</td>\n",
       "      <td>85.288146</td>\n",
       "      <td>data:image/jpeg;base64,/9j/4AAQSkZJRgABAQAAAQA...</td>\n",
       "      <td>['history', 'art_and_architecture', 'religious']</td>\n",
       "      <td>True</td>\n",
       "      <td>True</td>\n",
       "      <td>False</td>\n",
       "      <td>False</td>\n",
       "      <td>False</td>\n",
       "      <td>False</td>\n",
       "      <td>False</td>\n",
       "      <td>False</td>\n",
       "      <td>True</td>\n",
       "    </tr>\n",
       "    <tr>\n",
       "      <th>4</th>\n",
       "      <td>4</td>\n",
       "      <td>Poon Hill</td>\n",
       "      <td>nature</td>\n",
       "      <td>28.400195</td>\n",
       "      <td>83.671789</td>\n",
       "      <td>data:image/jpeg;base64,/9j/4AAQSkZJRgABAQAAAQA...</td>\n",
       "      <td>['nature']</td>\n",
       "      <td>False</td>\n",
       "      <td>False</td>\n",
       "      <td>True</td>\n",
       "      <td>False</td>\n",
       "      <td>False</td>\n",
       "      <td>False</td>\n",
       "      <td>False</td>\n",
       "      <td>False</td>\n",
       "      <td>False</td>\n",
       "    </tr>\n",
       "  </tbody>\n",
       "</table>\n",
       "</div>"
      ],
      "text/plain": [
       "   dest_id                  title                                   genre  \\\n",
       "0        0       Boudhanath Stupa  history:art_and_architecture:religious   \n",
       "1        1  Phewa Tal (Fewa Lake)                                  nature   \n",
       "2        2              Sarangkot                                  nature   \n",
       "3        3   Swayambhunath Temple  history:art_and_architecture:religious   \n",
       "4        4              Poon Hill                                  nature   \n",
       "\n",
       "    latitude  longitude                                            img_url  \\\n",
       "0  27.721506  85.359809  data:image/jpeg;base64,/9j/4AAQSkZJRgABAQAAAQA...   \n",
       "1  28.211627  83.932296  data:image/jpeg;base64,/9j/4AAQSkZJRgABAQAAAQA...   \n",
       "2  28.244376  83.944564  data:image/jpeg;base64,/9j/4AAQSkZJRgABAQAAAQA...   \n",
       "3  27.714930  85.288146  data:image/jpeg;base64,/9j/4AAQSkZJRgABAQAAAQA...   \n",
       "4  28.400195  83.671789  data:image/jpeg;base64,/9j/4AAQSkZJRgABAQAAAQA...   \n",
       "\n",
       "                                      genre_updated  history  \\\n",
       "0  ['history', 'art_and_architecture', 'religious']     True   \n",
       "1                                        ['nature']    False   \n",
       "2                                        ['nature']    False   \n",
       "3  ['history', 'art_and_architecture', 'religious']     True   \n",
       "4                                        ['nature']    False   \n",
       "\n",
       "   art_and_architecture  nature  adventure  entertainment  \\\n",
       "0                  True   False      False          False   \n",
       "1                 False    True      False          False   \n",
       "2                 False    True      False          False   \n",
       "3                  True   False      False          False   \n",
       "4                 False    True      False          False   \n",
       "\n",
       "   health_and_lifestyle   food  industries  religious  \n",
       "0                 False  False       False       True  \n",
       "1                 False  False       False      False  \n",
       "2                 False  False       False      False  \n",
       "3                 False  False       False       True  \n",
       "4                 False  False       False      False  "
      ]
     },
     "execution_count": 115,
     "metadata": {},
     "output_type": "execute_result"
    }
   ],
   "source": [
    "destinations=pd.read_csv(\"../../Datasets/reindexed_nepal_destinations_with_added_genre_columns.csv\")\n",
    "destinations.head()"
   ]
  },
  {
   "cell_type": "code",
   "execution_count": 116,
   "metadata": {},
   "outputs": [
    {
     "data": {
      "text/html": [
       "<div>\n",
       "<style scoped>\n",
       "    .dataframe tbody tr th:only-of-type {\n",
       "        vertical-align: middle;\n",
       "    }\n",
       "\n",
       "    .dataframe tbody tr th {\n",
       "        vertical-align: top;\n",
       "    }\n",
       "\n",
       "    .dataframe thead th {\n",
       "        text-align: right;\n",
       "    }\n",
       "</style>\n",
       "<table border=\"1\" class=\"dataframe\">\n",
       "  <thead>\n",
       "    <tr style=\"text-align: right;\">\n",
       "      <th></th>\n",
       "      <th>dest_id</th>\n",
       "      <th>title</th>\n",
       "      <th>genre</th>\n",
       "      <th>latitude</th>\n",
       "      <th>longitude</th>\n",
       "      <th>img_url</th>\n",
       "      <th>genre_updated</th>\n",
       "      <th>history</th>\n",
       "      <th>art_and_architecture</th>\n",
       "      <th>nature</th>\n",
       "      <th>adventure</th>\n",
       "      <th>entertainment</th>\n",
       "      <th>health_and_lifestyle</th>\n",
       "      <th>food</th>\n",
       "      <th>industries</th>\n",
       "      <th>religious</th>\n",
       "    </tr>\n",
       "  </thead>\n",
       "  <tbody>\n",
       "    <tr>\n",
       "      <th>0</th>\n",
       "      <td>0</td>\n",
       "      <td>Boudhanath Stupa</td>\n",
       "      <td>history:art_and_architecture:religious</td>\n",
       "      <td>27.721506</td>\n",
       "      <td>85.359809</td>\n",
       "      <td>data:image/jpeg;base64,/9j/4AAQSkZJRgABAQAAAQA...</td>\n",
       "      <td>['history', 'art_and_architecture', 'religious']</td>\n",
       "      <td>True</td>\n",
       "      <td>True</td>\n",
       "      <td>False</td>\n",
       "      <td>False</td>\n",
       "      <td>False</td>\n",
       "      <td>False</td>\n",
       "      <td>False</td>\n",
       "      <td>False</td>\n",
       "      <td>True</td>\n",
       "    </tr>\n",
       "    <tr>\n",
       "      <th>1</th>\n",
       "      <td>1</td>\n",
       "      <td>Phewa Tal (Fewa Lake)</td>\n",
       "      <td>nature</td>\n",
       "      <td>28.211627</td>\n",
       "      <td>83.932296</td>\n",
       "      <td>data:image/jpeg;base64,/9j/4AAQSkZJRgABAQAAAQA...</td>\n",
       "      <td>['nature']</td>\n",
       "      <td>False</td>\n",
       "      <td>False</td>\n",
       "      <td>True</td>\n",
       "      <td>False</td>\n",
       "      <td>False</td>\n",
       "      <td>False</td>\n",
       "      <td>False</td>\n",
       "      <td>False</td>\n",
       "      <td>False</td>\n",
       "    </tr>\n",
       "    <tr>\n",
       "      <th>2</th>\n",
       "      <td>2</td>\n",
       "      <td>Sarangkot</td>\n",
       "      <td>nature</td>\n",
       "      <td>28.244376</td>\n",
       "      <td>83.944564</td>\n",
       "      <td>data:image/jpeg;base64,/9j/4AAQSkZJRgABAQAAAQA...</td>\n",
       "      <td>['nature']</td>\n",
       "      <td>False</td>\n",
       "      <td>False</td>\n",
       "      <td>True</td>\n",
       "      <td>False</td>\n",
       "      <td>False</td>\n",
       "      <td>False</td>\n",
       "      <td>False</td>\n",
       "      <td>False</td>\n",
       "      <td>False</td>\n",
       "    </tr>\n",
       "    <tr>\n",
       "      <th>3</th>\n",
       "      <td>3</td>\n",
       "      <td>Swayambhunath Temple</td>\n",
       "      <td>history:art_and_architecture:religious</td>\n",
       "      <td>27.714930</td>\n",
       "      <td>85.288146</td>\n",
       "      <td>data:image/jpeg;base64,/9j/4AAQSkZJRgABAQAAAQA...</td>\n",
       "      <td>['history', 'art_and_architecture', 'religious']</td>\n",
       "      <td>True</td>\n",
       "      <td>True</td>\n",
       "      <td>False</td>\n",
       "      <td>False</td>\n",
       "      <td>False</td>\n",
       "      <td>False</td>\n",
       "      <td>False</td>\n",
       "      <td>False</td>\n",
       "      <td>True</td>\n",
       "    </tr>\n",
       "    <tr>\n",
       "      <th>4</th>\n",
       "      <td>4</td>\n",
       "      <td>Poon Hill</td>\n",
       "      <td>nature</td>\n",
       "      <td>28.400195</td>\n",
       "      <td>83.671789</td>\n",
       "      <td>data:image/jpeg;base64,/9j/4AAQSkZJRgABAQAAAQA...</td>\n",
       "      <td>['nature']</td>\n",
       "      <td>False</td>\n",
       "      <td>False</td>\n",
       "      <td>True</td>\n",
       "      <td>False</td>\n",
       "      <td>False</td>\n",
       "      <td>False</td>\n",
       "      <td>False</td>\n",
       "      <td>False</td>\n",
       "      <td>False</td>\n",
       "    </tr>\n",
       "    <tr>\n",
       "      <th>...</th>\n",
       "      <td>...</td>\n",
       "      <td>...</td>\n",
       "      <td>...</td>\n",
       "      <td>...</td>\n",
       "      <td>...</td>\n",
       "      <td>...</td>\n",
       "      <td>...</td>\n",
       "      <td>...</td>\n",
       "      <td>...</td>\n",
       "      <td>...</td>\n",
       "      <td>...</td>\n",
       "      <td>...</td>\n",
       "      <td>...</td>\n",
       "      <td>...</td>\n",
       "      <td>...</td>\n",
       "      <td>...</td>\n",
       "    </tr>\n",
       "    <tr>\n",
       "      <th>437</th>\n",
       "      <td>437</td>\n",
       "      <td>Travel Maker South Asia</td>\n",
       "      <td>art_and_architecture:religious</td>\n",
       "      <td>27.713420</td>\n",
       "      <td>85.311246</td>\n",
       "      <td>NaN</td>\n",
       "      <td>['art_and_architecture', 'religious']</td>\n",
       "      <td>False</td>\n",
       "      <td>True</td>\n",
       "      <td>False</td>\n",
       "      <td>False</td>\n",
       "      <td>False</td>\n",
       "      <td>False</td>\n",
       "      <td>False</td>\n",
       "      <td>False</td>\n",
       "      <td>True</td>\n",
       "    </tr>\n",
       "    <tr>\n",
       "      <th>438</th>\n",
       "      <td>438</td>\n",
       "      <td>Nepal Alibaba Treks &amp; Tours Pvt Ltd</td>\n",
       "      <td>history</td>\n",
       "      <td>27.737544</td>\n",
       "      <td>85.302841</td>\n",
       "      <td>NaN</td>\n",
       "      <td>['history']</td>\n",
       "      <td>True</td>\n",
       "      <td>False</td>\n",
       "      <td>False</td>\n",
       "      <td>False</td>\n",
       "      <td>False</td>\n",
       "      <td>False</td>\n",
       "      <td>False</td>\n",
       "      <td>False</td>\n",
       "      <td>False</td>\n",
       "    </tr>\n",
       "    <tr>\n",
       "      <th>439</th>\n",
       "      <td>439</td>\n",
       "      <td>Alpine Ramble Treks</td>\n",
       "      <td>history</td>\n",
       "      <td>27.719162</td>\n",
       "      <td>85.306492</td>\n",
       "      <td>NaN</td>\n",
       "      <td>['history']</td>\n",
       "      <td>True</td>\n",
       "      <td>False</td>\n",
       "      <td>False</td>\n",
       "      <td>False</td>\n",
       "      <td>False</td>\n",
       "      <td>False</td>\n",
       "      <td>False</td>\n",
       "      <td>False</td>\n",
       "      <td>False</td>\n",
       "    </tr>\n",
       "    <tr>\n",
       "      <th>440</th>\n",
       "      <td>440</td>\n",
       "      <td>Info Nepal Treks and Expedition</td>\n",
       "      <td>history:art_and_architecture:entertainment</td>\n",
       "      <td>27.716730</td>\n",
       "      <td>85.307607</td>\n",
       "      <td>NaN</td>\n",
       "      <td>['history', 'art_and_architecture', 'entertain...</td>\n",
       "      <td>True</td>\n",
       "      <td>True</td>\n",
       "      <td>False</td>\n",
       "      <td>False</td>\n",
       "      <td>True</td>\n",
       "      <td>False</td>\n",
       "      <td>False</td>\n",
       "      <td>False</td>\n",
       "      <td>False</td>\n",
       "    </tr>\n",
       "    <tr>\n",
       "      <th>441</th>\n",
       "      <td>441</td>\n",
       "      <td>Mountain Overview Paragliding</td>\n",
       "      <td>adventure</td>\n",
       "      <td>27.964449</td>\n",
       "      <td>84.075089</td>\n",
       "      <td>NaN</td>\n",
       "      <td>['adventure']</td>\n",
       "      <td>False</td>\n",
       "      <td>False</td>\n",
       "      <td>False</td>\n",
       "      <td>True</td>\n",
       "      <td>False</td>\n",
       "      <td>False</td>\n",
       "      <td>False</td>\n",
       "      <td>False</td>\n",
       "      <td>False</td>\n",
       "    </tr>\n",
       "  </tbody>\n",
       "</table>\n",
       "<p>442 rows × 16 columns</p>\n",
       "</div>"
      ],
      "text/plain": [
       "     dest_id                                title  \\\n",
       "0          0                     Boudhanath Stupa   \n",
       "1          1                Phewa Tal (Fewa Lake)   \n",
       "2          2                            Sarangkot   \n",
       "3          3                 Swayambhunath Temple   \n",
       "4          4                            Poon Hill   \n",
       "..       ...                                  ...   \n",
       "437      437              Travel Maker South Asia   \n",
       "438      438  Nepal Alibaba Treks & Tours Pvt Ltd   \n",
       "439      439                  Alpine Ramble Treks   \n",
       "440      440      Info Nepal Treks and Expedition   \n",
       "441      441        Mountain Overview Paragliding   \n",
       "\n",
       "                                          genre   latitude  longitude  \\\n",
       "0        history:art_and_architecture:religious  27.721506  85.359809   \n",
       "1                                        nature  28.211627  83.932296   \n",
       "2                                        nature  28.244376  83.944564   \n",
       "3        history:art_and_architecture:religious  27.714930  85.288146   \n",
       "4                                        nature  28.400195  83.671789   \n",
       "..                                          ...        ...        ...   \n",
       "437              art_and_architecture:religious  27.713420  85.311246   \n",
       "438                                     history  27.737544  85.302841   \n",
       "439                                     history  27.719162  85.306492   \n",
       "440  history:art_and_architecture:entertainment  27.716730  85.307607   \n",
       "441                                   adventure  27.964449  84.075089   \n",
       "\n",
       "                                               img_url  \\\n",
       "0    data:image/jpeg;base64,/9j/4AAQSkZJRgABAQAAAQA...   \n",
       "1    data:image/jpeg;base64,/9j/4AAQSkZJRgABAQAAAQA...   \n",
       "2    data:image/jpeg;base64,/9j/4AAQSkZJRgABAQAAAQA...   \n",
       "3    data:image/jpeg;base64,/9j/4AAQSkZJRgABAQAAAQA...   \n",
       "4    data:image/jpeg;base64,/9j/4AAQSkZJRgABAQAAAQA...   \n",
       "..                                                 ...   \n",
       "437                                                NaN   \n",
       "438                                                NaN   \n",
       "439                                                NaN   \n",
       "440                                                NaN   \n",
       "441                                                NaN   \n",
       "\n",
       "                                         genre_updated  history  \\\n",
       "0     ['history', 'art_and_architecture', 'religious']     True   \n",
       "1                                           ['nature']    False   \n",
       "2                                           ['nature']    False   \n",
       "3     ['history', 'art_and_architecture', 'religious']     True   \n",
       "4                                           ['nature']    False   \n",
       "..                                                 ...      ...   \n",
       "437              ['art_and_architecture', 'religious']    False   \n",
       "438                                        ['history']     True   \n",
       "439                                        ['history']     True   \n",
       "440  ['history', 'art_and_architecture', 'entertain...     True   \n",
       "441                                      ['adventure']    False   \n",
       "\n",
       "     art_and_architecture  nature  adventure  entertainment  \\\n",
       "0                    True   False      False          False   \n",
       "1                   False    True      False          False   \n",
       "2                   False    True      False          False   \n",
       "3                    True   False      False          False   \n",
       "4                   False    True      False          False   \n",
       "..                    ...     ...        ...            ...   \n",
       "437                  True   False      False          False   \n",
       "438                 False   False      False          False   \n",
       "439                 False   False      False          False   \n",
       "440                  True   False      False           True   \n",
       "441                 False   False       True          False   \n",
       "\n",
       "     health_and_lifestyle   food  industries  religious  \n",
       "0                   False  False       False       True  \n",
       "1                   False  False       False      False  \n",
       "2                   False  False       False      False  \n",
       "3                   False  False       False       True  \n",
       "4                   False  False       False      False  \n",
       "..                    ...    ...         ...        ...  \n",
       "437                 False  False       False       True  \n",
       "438                 False  False       False      False  \n",
       "439                 False  False       False      False  \n",
       "440                 False  False       False      False  \n",
       "441                 False  False       False      False  \n",
       "\n",
       "[442 rows x 16 columns]"
      ]
     },
     "execution_count": 116,
     "metadata": {},
     "output_type": "execute_result"
    }
   ],
   "source": [
    "destinations"
   ]
  },
  {
   "cell_type": "markdown",
   "metadata": {},
   "source": [
    "#### Note : In this case, we treat destination ratings as the number of times that a user watched a destination's profile."
   ]
  },
  {
   "cell_type": "markdown",
   "metadata": {},
   "source": [
    "### Step 3: Transforming the Data\n",
    "\n",
    "Similar to collaborative filter, we need to transform the `ratings` dataframe into a user-item matrix where rows represent users and columns represent destinations. The cells of this matrix will be populated with implicit feedback: in this case, the number of times a user watched a destination's profile. \n",
    "\n",
    "The `create_X()` function outputs a sparse matrix **X** with four mapper dictionaries:\n",
    "- **user_mapper:** maps user id to user index\n",
    "- **destination_mapper:** maps destination id to destination index\n",
    "- **user_inv_mapper:** maps user index to user id\n",
    "- **destination_inv_mapper:** maps destination index to destination id\n",
    "\n",
    "We need these dictionaries because they map which row and column of the utility matrix corresponds to which user ID and destination ID, respectively.\n",
    "\n",
    "The **X** (user-item) matrix is a [scipy.sparse.csr_matrix](scipylinkhere) which stores the data sparsely.\n"
   ]
  },
  {
   "cell_type": "code",
   "execution_count": 117,
   "metadata": {},
   "outputs": [],
   "source": [
    "def create_X(df):\n",
    "    \"\"\"\n",
    "    Generates a sparse matrix from ratings dataframe.\n",
    "    \n",
    "    Args:\n",
    "        df: pandas dataframe\n",
    "    \n",
    "    Returns:\n",
    "        X: sparse matrix\n",
    "        user_mapper: dict that maps user id's to user indices\n",
    "        user_inv_mapper: dict that maps user indices to user id's\n",
    "        destination_mapper: dict that maps destination id's to destination indices\n",
    "        destination_inv_mapper: dict that maps destination indices to destination id's\n",
    "    \"\"\"\n",
    "    N = df['user_id'].nunique()\n",
    "    M = df['destination_id'].nunique()\n",
    "\n",
    "    user_mapper = dict(zip(np.unique(df[\"user_id\"]), list(range(N))))\n",
    "    destination_mapper = dict(zip(np.unique(df[\"destination_id\"]), list(range(M))))\n",
    "    \n",
    "    user_inv_mapper = dict(zip(list(range(N)), np.unique(df[\"user_id\"])))\n",
    "    destination_inv_mapper = dict(zip(list(range(M)), np.unique(df[\"destination_id\"])))\n",
    "    \n",
    "    user_index = [user_mapper[i] for i in df['user_id']]\n",
    "    destination_index = [destination_mapper[i] for i in df['destination_id']]\n",
    "\n",
    "    X = csr_matrix((df[\"rating\"], (destination_index, user_index)), shape=(M, N))\n",
    "    \n",
    "    return X, user_mapper, destination_mapper, user_inv_mapper, destination_inv_mapper"
   ]
  },
  {
   "cell_type": "code",
   "execution_count": 118,
   "metadata": {},
   "outputs": [],
   "source": [
    "X, user_mapper, destination_mapper, user_inv_mapper, destination_inv_mapper = create_X(ratings)"
   ]
  },
  {
   "cell_type": "markdown",
   "metadata": {},
   "source": [
    "### Creating Destination Title Mappers\n",
    "\n",
    "We need to interpret a destination title from its index in the user-item matrix and vice versa. Let's create 2 helper functions that make this interpretation easy:\n",
    "\n",
    "- `get_destination_index()` - converts a destination title to destination index\n",
    "\n",
    "- `get_destination_title()` - converts a destination index to destination title"
   ]
  },
  {
   "cell_type": "code",
   "execution_count": 119,
   "metadata": {},
   "outputs": [],
   "source": [
    "from fuzzywuzzy import process\n",
    "\n",
    "def destination_finder(title):\n",
    "    all_titles = destinations['title'].tolist()\n",
    "    closest_match = process.extractOne(title,all_titles)\n",
    "    return closest_match[0]\n",
    "\n",
    "destination_title_mapper = dict(zip(destinations['title'], destinations['dest_id']))\n",
    "destination_title_inv_mapper = dict(zip(destinations['dest_id'], destinations['title']))\n",
    "\n",
    "def get_destination_index(title):\n",
    "    fuzzy_title = destination_finder(title)\n",
    "    destination_id = destination_title_mapper[fuzzy_title]\n",
    "    destination_idx = destination_mapper[destination_id]\n",
    "    return destination_idx\n",
    "\n",
    "def get_destination_title(destination_idx): \n",
    "    destination_id = destination_inv_mapper[destination_idx]\n",
    "    title = destination_title_inv_mapper[destination_id]\n",
    "    return title "
   ]
  },
  {
   "cell_type": "markdown",
   "metadata": {},
   "source": [
    "It's time to test it out! Let's get the destination index of `Swayambhunath Temple`. "
   ]
  },
  {
   "cell_type": "code",
   "execution_count": 120,
   "metadata": {},
   "outputs": [
    {
     "data": {
      "text/plain": [
       "1"
      ]
     },
     "execution_count": 120,
     "metadata": {},
     "output_type": "execute_result"
    }
   ],
   "source": [
    "get_destination_index('phewa lake')"
   ]
  },
  {
   "cell_type": "markdown",
   "metadata": {},
   "source": [
    "Let's pass this index value into `get_destination_title()`. We're expecting Swayambhunath Temple to get returned."
   ]
  },
  {
   "cell_type": "code",
   "execution_count": 121,
   "metadata": {},
   "outputs": [
    {
     "data": {
      "text/plain": [
       "'Phewa Tal (Fewa Lake)'"
      ]
     },
     "execution_count": 121,
     "metadata": {},
     "output_type": "execute_result"
    }
   ],
   "source": [
    "get_destination_title(1)"
   ]
  },
  {
   "cell_type": "markdown",
   "metadata": {},
   "source": [
    "Great! These helper functions will be useful when we want to interpret our recommender results."
   ]
  },
  {
   "cell_type": "markdown",
   "metadata": {},
   "source": [
    "### Step 4: Building Our Implicit Feedback Recommender Model\n",
    "\n",
    "\n",
    "We've transformed and prepared our data so that we can start creating our recommender model.\n",
    "\n",
    "The [implicit](https://github.com/benfred/implicit) package is built around a linear algebra technique called [matrix factorization](https://en.wikipedia.org/wiki/Matrix_factorization_(recommender_systems)), which can help us discover latent features underlying the interactions between users and movies. These latent features give a more compact representation of user tastes and item descriptions. Matrix factorization is particularly useful for very sparse data and can enhance the quality of recommendations. The algorithm works by factorizing the original user-item matrix into two factor matrices:\n",
    "\n",
    "- user-factor matrix (n_users, k)\n",
    "- item-factor matrix (k, n_items)\n",
    "\n",
    "We are reducing the dimensions of our original matrix into \"taste\" dimensions. We cannot interpret what each latent feature $k$ represents. However, we could imagine that one latent feature may represent users who like historical sites, while another latent feature may represent destinations which are scenic natural destinations.\n",
    "\n",
    "$$X_{mn} \\approx P_{mk} \\times Q_{nk}^T = \\hat{X}$$\n",
    "\n",
    "\n",
    "In traditional matrix factorization, such as SVD, we would attempt to solve the factorization at once which can be very computationally expensive. As a more practical alternative, we can use a technique called `Alternating Least Squares (ALS)` instead. With ALS, we solve for one factor matrix at a time:\n",
    "\n",
    "- Step 1: hold user-factor matrix fixed and solve for the item-factor matrix\n",
    "- Step 2: hold item-factor matrix fixed and solve for the user-item matrix\n",
    "\n",
    "We alternate between Step 1 and 2 above, until the dot product of the item-factor matrix and user-item matrix is approximately equal to the original X (user-item) matrix. This approach is less computationally expensive and can be run in parallel.\n",
    "\n",
    "The [implicit](https://github.com/benfred/implicit) package implements matrix factorization using Alternating Least Squares (see docs [here](https://implicit.readthedocs.io/en/latest/als.html)). Let's initiate the model using the `AlternatingLeastSquares` class."
   ]
  },
  {
   "cell_type": "code",
   "execution_count": 122,
   "metadata": {},
   "outputs": [],
   "source": [
    "model = implicit.als.AlternatingLeastSquares(factors=50)"
   ]
  },
  {
   "cell_type": "markdown",
   "metadata": {},
   "source": [
    "This model comes with a couple of hyperparameters that can be tuned to generate optimal results:\n",
    "\n",
    "- factors ($k$): number of latent factors,\n",
    "- regularization ($\\lambda$): prevents the model from overfitting during training\n",
    "\n",
    "In this tutorial, we'll set $k = 50$ and $\\lambda = 0.01$ (the default). In a real-world scenario, I highly recommend tuning these hyperparameters before generating recommendations to generate optimal results.\n",
    "\n",
    "The next step is to fit our model with our user-item matrix. "
   ]
  },
  {
   "cell_type": "code",
   "execution_count": 123,
   "metadata": {},
   "outputs": [
    {
     "data": {
      "application/vnd.jupyter.widget-view+json": {
       "model_id": "ebf6b024e54e46c7b96f740944104dc4",
       "version_major": 2,
       "version_minor": 0
      },
      "text/plain": [
       "  0%|          | 0/15 [00:00<?, ?it/s]"
      ]
     },
     "metadata": {},
     "output_type": "display_data"
    }
   ],
   "source": [
    "model.fit(X)"
   ]
  },
  {
   "cell_type": "markdown",
   "metadata": {},
   "source": [
    "Now, let's test out the model's recommendations. We can use the model's `similar_items()` method which returns the most relevant destinations of a given destination. We can use our helpful `get_destination_index()` function to get the destination index of the destination that we're interested in."
   ]
  },
  {
   "cell_type": "code",
   "execution_count": 124,
   "metadata": {},
   "outputs": [
    {
     "name": "stdout",
     "output_type": "stream",
     "text": [
      "[0, 198, 148, 154, 195, 231]\n"
     ]
    }
   ],
   "source": [
    "destination_of_interest = 'boudhanath stupa'\n",
    "\n",
    "destination_index = get_destination_index(destination_of_interest)\n",
    "related = model.similar_items(destination_index,N=6)\n",
    "related_ids=list(related[0])\n",
    "print(related_ids)"
   ]
  },
  {
   "cell_type": "markdown",
   "metadata": {},
   "source": [
    "The output of `similar_items()` is not user-friendly. We'll need to use our `get_destination_title()` function to interpret what our results are. "
   ]
  },
  {
   "cell_type": "code",
   "execution_count": 125,
   "metadata": {},
   "outputs": [
    {
     "name": "stdout",
     "output_type": "stream",
     "text": [
      "Because you watched the profile of Boudhanath Stupa...\n",
      "Boudha Stupa Thanka Center\n",
      "Kanchenjunga\n",
      "Sauraha Art Gallery\n",
      "Jumla\n",
      "Dae Sung Shakya (Korean Temple)\n"
     ]
    }
   ],
   "source": [
    "print(f\"Because you watched the profile of {destination_finder(destination_of_interest)}...\")\n",
    "for r in related_ids:\n",
    "    recommended_title = get_destination_title(r)\n",
    "    if recommended_title != destination_finder(destination_of_interest):\n",
    "        print(recommended_title)"
   ]
  },
  {
   "cell_type": "markdown",
   "metadata": {},
   "source": [
    "When we treat user ratings as implicit feedback, the results look pretty good! You can test out other destinations by changing the `destination_of_interest` variable."
   ]
  },
  {
   "cell_type": "markdown",
   "metadata": {},
   "source": [
    "### Here goes the evaluation part "
   ]
  },
  {
   "cell_type": "code",
   "execution_count": 126,
   "metadata": {},
   "outputs": [],
   "source": [
    "import matplotlib.pyplot as plt\n",
    "import numpy as np\n",
    "import pandas as pd\n",
    "from surprise import Dataset, Reader\n",
    "from surprise.model_selection import train_test_split\n",
    "\n",
    "import recmetrics"
   ]
  },
  {
   "cell_type": "markdown",
   "metadata": {},
   "source": [
    "## Longtail plot"
   ]
  },
  {
   "cell_type": "code",
   "execution_count": 127,
   "metadata": {},
   "outputs": [
    {
     "name": "stderr",
     "output_type": "stream",
     "text": [
      "/home/werewolf/.pyenv/versions/data2/lib/python3.9/site-packages/seaborn/_decorators.py:36: FutureWarning: Pass the following variable as a keyword arg: x. From version 0.12, the only valid positional argument will be `data`, and passing other arguments without an explicit keyword will result in an error or misinterpretation.\n",
      "  warnings.warn(\n"
     ]
    },
    {
     "data": {
      "image/png": "[encoded data removed]",
      "text/plain": [
       "<Figure size 1080x504 with 1 Axes>"
      ]
     },
     "metadata": {
      "needs_background": "light"
     },
     "output_type": "display_data"
    }
   ],
   "source": [
    "fig = plt.figure(figsize=(15, 7))\n",
    "recmetrics.long_tail_plot(df=ratings, \n",
    "             item_id_column=\"destination_id\", \n",
    "             interaction_type=\"destination ratings\", \n",
    "             percentage=0.5,\n",
    "             x_labels=False)"
   ]
  },
  {
   "cell_type": "code",
   "execution_count": 128,
   "metadata": {},
   "outputs": [],
   "source": [
    "# reader = Reader(rating_scale=(0, 5))\n",
    "# data = Dataset.load_from_df(ratings[['user_id', 'destination_id', 'rating']], reader)\n",
    "# trainset, testset = train_test_split(data, test_size=0.2)\n",
    "testset=ratings[['user_id','destination_id','rating']]"
   ]
  },
  {
   "cell_type": "code",
   "execution_count": 129,
   "metadata": {},
   "outputs": [
    {
     "data": {
      "text/html": [
       "<div>\n",
       "<style scoped>\n",
       "    .dataframe tbody tr th:only-of-type {\n",
       "        vertical-align: middle;\n",
       "    }\n",
       "\n",
       "    .dataframe tbody tr th {\n",
       "        vertical-align: top;\n",
       "    }\n",
       "\n",
       "    .dataframe thead th {\n",
       "        text-align: right;\n",
       "    }\n",
       "</style>\n",
       "<table border=\"1\" class=\"dataframe\">\n",
       "  <thead>\n",
       "    <tr style=\"text-align: right;\">\n",
       "      <th></th>\n",
       "      <th>user_id</th>\n",
       "      <th>destination_id</th>\n",
       "      <th>actual</th>\n",
       "    </tr>\n",
       "  </thead>\n",
       "  <tbody>\n",
       "    <tr>\n",
       "      <th>0</th>\n",
       "      <td>0</td>\n",
       "      <td>1</td>\n",
       "      <td>5.0</td>\n",
       "    </tr>\n",
       "    <tr>\n",
       "      <th>1</th>\n",
       "      <td>0</td>\n",
       "      <td>2</td>\n",
       "      <td>5.0</td>\n",
       "    </tr>\n",
       "    <tr>\n",
       "      <th>2</th>\n",
       "      <td>0</td>\n",
       "      <td>3</td>\n",
       "      <td>5.0</td>\n",
       "    </tr>\n",
       "    <tr>\n",
       "      <th>3</th>\n",
       "      <td>0</td>\n",
       "      <td>4</td>\n",
       "      <td>5.0</td>\n",
       "    </tr>\n",
       "    <tr>\n",
       "      <th>4</th>\n",
       "      <td>0</td>\n",
       "      <td>5</td>\n",
       "      <td>5.0</td>\n",
       "    </tr>\n",
       "  </tbody>\n",
       "</table>\n",
       "</div>"
      ],
      "text/plain": [
       "   user_id  destination_id  actual\n",
       "0        0               1     5.0\n",
       "1        0               2     5.0\n",
       "2        0               3     5.0\n",
       "3        0               4     5.0\n",
       "4        0               5     5.0"
      ]
     },
     "execution_count": 129,
     "metadata": {},
     "output_type": "execute_result"
    }
   ],
   "source": [
    "test = pd.DataFrame(testset)\n",
    "test.columns = ['user_id', 'destination_id', 'actual']\n",
    "test.head()"
   ]
  },
  {
   "cell_type": "code",
   "execution_count": 130,
   "metadata": {},
   "outputs": [
    {
     "data": {
      "text/html": [
       "<div>\n",
       "<style scoped>\n",
       "    .dataframe tbody tr th:only-of-type {\n",
       "        vertical-align: middle;\n",
       "    }\n",
       "\n",
       "    .dataframe tbody tr th {\n",
       "        vertical-align: top;\n",
       "    }\n",
       "\n",
       "    .dataframe thead th {\n",
       "        text-align: right;\n",
       "    }\n",
       "</style>\n",
       "<table border=\"1\" class=\"dataframe\">\n",
       "  <thead>\n",
       "    <tr style=\"text-align: right;\">\n",
       "      <th></th>\n",
       "      <th>user_id</th>\n",
       "      <th>actual</th>\n",
       "    </tr>\n",
       "  </thead>\n",
       "  <tbody>\n",
       "    <tr>\n",
       "      <th>0</th>\n",
       "      <td>0</td>\n",
       "      <td>[0, 1, 2, 3, 4, 5, 6, 7, 8, 9, 10, 44, 55, 185...</td>\n",
       "    </tr>\n",
       "    <tr>\n",
       "      <th>1</th>\n",
       "      <td>1</td>\n",
       "      <td>[0, 1, 2, 3, 4, 5, 6, 7, 8, 9, 10, 154, 291, 1...</td>\n",
       "    </tr>\n",
       "    <tr>\n",
       "      <th>2</th>\n",
       "      <td>2</td>\n",
       "      <td>[128, 1, 2, 3, 4, 5, 6, 7, 8, 9, 10, 267, 0, 1...</td>\n",
       "    </tr>\n",
       "    <tr>\n",
       "      <th>3</th>\n",
       "      <td>3</td>\n",
       "      <td>[0, 1, 2, 3, 4, 5, 6, 7, 8, 9, 10, 259, 143, 2...</td>\n",
       "    </tr>\n",
       "    <tr>\n",
       "      <th>4</th>\n",
       "      <td>4</td>\n",
       "      <td>[0, 1, 2, 3, 4, 5, 6, 7, 8, 9, 10, 137, 13, 14...</td>\n",
       "    </tr>\n",
       "    <tr>\n",
       "      <th>...</th>\n",
       "      <td>...</td>\n",
       "      <td>...</td>\n",
       "    </tr>\n",
       "    <tr>\n",
       "      <th>239</th>\n",
       "      <td>245</td>\n",
       "      <td>[0, 1, 2, 3, 4, 5, 6, 7, 8, 9, 10, 133, 135, 2...</td>\n",
       "    </tr>\n",
       "    <tr>\n",
       "      <th>240</th>\n",
       "      <td>246</td>\n",
       "      <td>[256, 1, 2, 3, 4, 5, 6, 7, 8, 9, 10, 131, 260,...</td>\n",
       "    </tr>\n",
       "    <tr>\n",
       "      <th>241</th>\n",
       "      <td>247</td>\n",
       "      <td>[0, 1, 2, 3, 4, 5, 6, 7, 8, 9, 10, 271, 151, 2...</td>\n",
       "    </tr>\n",
       "    <tr>\n",
       "      <th>242</th>\n",
       "      <td>248</td>\n",
       "      <td>[0, 1, 2, 3, 4, 5, 6, 7, 8, 9, 10, 264, 266, 1...</td>\n",
       "    </tr>\n",
       "    <tr>\n",
       "      <th>243</th>\n",
       "      <td>249</td>\n",
       "      <td>[0, 1, 2, 3, 4, 5, 6, 7, 8, 9, 10, 130, 257, 1...</td>\n",
       "    </tr>\n",
       "  </tbody>\n",
       "</table>\n",
       "<p>244 rows × 2 columns</p>\n",
       "</div>"
      ],
      "text/plain": [
       "     user_id                                             actual\n",
       "0          0  [0, 1, 2, 3, 4, 5, 6, 7, 8, 9, 10, 44, 55, 185...\n",
       "1          1  [0, 1, 2, 3, 4, 5, 6, 7, 8, 9, 10, 154, 291, 1...\n",
       "2          2  [128, 1, 2, 3, 4, 5, 6, 7, 8, 9, 10, 267, 0, 1...\n",
       "3          3  [0, 1, 2, 3, 4, 5, 6, 7, 8, 9, 10, 259, 143, 2...\n",
       "4          4  [0, 1, 2, 3, 4, 5, 6, 7, 8, 9, 10, 137, 13, 14...\n",
       "..       ...                                                ...\n",
       "239      245  [0, 1, 2, 3, 4, 5, 6, 7, 8, 9, 10, 133, 135, 2...\n",
       "240      246  [256, 1, 2, 3, 4, 5, 6, 7, 8, 9, 10, 131, 260,...\n",
       "241      247  [0, 1, 2, 3, 4, 5, 6, 7, 8, 9, 10, 271, 151, 2...\n",
       "242      248  [0, 1, 2, 3, 4, 5, 6, 7, 8, 9, 10, 264, 266, 1...\n",
       "243      249  [0, 1, 2, 3, 4, 5, 6, 7, 8, 9, 10, 130, 257, 1...\n",
       "\n",
       "[244 rows x 2 columns]"
      ]
     },
     "execution_count": 130,
     "metadata": {},
     "output_type": "execute_result"
    }
   ],
   "source": [
    "test = test.copy().groupby('user_id', as_index=False)['destination_id'].agg({'actual': (lambda x: list(set(x)))})\n",
    "test"
   ]
  },
  {
   "cell_type": "code",
   "execution_count": 131,
   "metadata": {},
   "outputs": [
    {
     "data": {
      "text/html": [
       "<div>\n",
       "<style scoped>\n",
       "    .dataframe tbody tr th:only-of-type {\n",
       "        vertical-align: middle;\n",
       "    }\n",
       "\n",
       "    .dataframe tbody tr th {\n",
       "        vertical-align: top;\n",
       "    }\n",
       "\n",
       "    .dataframe thead th {\n",
       "        text-align: right;\n",
       "    }\n",
       "</style>\n",
       "<table border=\"1\" class=\"dataframe\">\n",
       "  <thead>\n",
       "    <tr style=\"text-align: right;\">\n",
       "      <th></th>\n",
       "      <th>actual</th>\n",
       "    </tr>\n",
       "    <tr>\n",
       "      <th>user_id</th>\n",
       "      <th></th>\n",
       "    </tr>\n",
       "  </thead>\n",
       "  <tbody>\n",
       "    <tr>\n",
       "      <th>0</th>\n",
       "      <td>[0, 1, 2, 3, 4, 5, 6, 7, 8, 9, 10, 44, 55, 185...</td>\n",
       "    </tr>\n",
       "    <tr>\n",
       "      <th>1</th>\n",
       "      <td>[0, 1, 2, 3, 4, 5, 6, 7, 8, 9, 10, 154, 291, 1...</td>\n",
       "    </tr>\n",
       "    <tr>\n",
       "      <th>2</th>\n",
       "      <td>[128, 1, 2, 3, 4, 5, 6, 7, 8, 9, 10, 267, 0, 1...</td>\n",
       "    </tr>\n",
       "    <tr>\n",
       "      <th>3</th>\n",
       "      <td>[0, 1, 2, 3, 4, 5, 6, 7, 8, 9, 10, 259, 143, 2...</td>\n",
       "    </tr>\n",
       "    <tr>\n",
       "      <th>4</th>\n",
       "      <td>[0, 1, 2, 3, 4, 5, 6, 7, 8, 9, 10, 137, 13, 14...</td>\n",
       "    </tr>\n",
       "    <tr>\n",
       "      <th>...</th>\n",
       "      <td>...</td>\n",
       "    </tr>\n",
       "    <tr>\n",
       "      <th>245</th>\n",
       "      <td>[0, 1, 2, 3, 4, 5, 6, 7, 8, 9, 10, 133, 135, 2...</td>\n",
       "    </tr>\n",
       "    <tr>\n",
       "      <th>246</th>\n",
       "      <td>[256, 1, 2, 3, 4, 5, 6, 7, 8, 9, 10, 131, 260,...</td>\n",
       "    </tr>\n",
       "    <tr>\n",
       "      <th>247</th>\n",
       "      <td>[0, 1, 2, 3, 4, 5, 6, 7, 8, 9, 10, 271, 151, 2...</td>\n",
       "    </tr>\n",
       "    <tr>\n",
       "      <th>248</th>\n",
       "      <td>[0, 1, 2, 3, 4, 5, 6, 7, 8, 9, 10, 264, 266, 1...</td>\n",
       "    </tr>\n",
       "    <tr>\n",
       "      <th>249</th>\n",
       "      <td>[0, 1, 2, 3, 4, 5, 6, 7, 8, 9, 10, 130, 257, 1...</td>\n",
       "    </tr>\n",
       "  </tbody>\n",
       "</table>\n",
       "<p>244 rows × 1 columns</p>\n",
       "</div>"
      ],
      "text/plain": [
       "                                                    actual\n",
       "user_id                                                   \n",
       "0        [0, 1, 2, 3, 4, 5, 6, 7, 8, 9, 10, 44, 55, 185...\n",
       "1        [0, 1, 2, 3, 4, 5, 6, 7, 8, 9, 10, 154, 291, 1...\n",
       "2        [128, 1, 2, 3, 4, 5, 6, 7, 8, 9, 10, 267, 0, 1...\n",
       "3        [0, 1, 2, 3, 4, 5, 6, 7, 8, 9, 10, 259, 143, 2...\n",
       "4        [0, 1, 2, 3, 4, 5, 6, 7, 8, 9, 10, 137, 13, 14...\n",
       "...                                                    ...\n",
       "245      [0, 1, 2, 3, 4, 5, 6, 7, 8, 9, 10, 133, 135, 2...\n",
       "246      [256, 1, 2, 3, 4, 5, 6, 7, 8, 9, 10, 131, 260,...\n",
       "247      [0, 1, 2, 3, 4, 5, 6, 7, 8, 9, 10, 271, 151, 2...\n",
       "248      [0, 1, 2, 3, 4, 5, 6, 7, 8, 9, 10, 264, 266, 1...\n",
       "249      [0, 1, 2, 3, 4, 5, 6, 7, 8, 9, 10, 130, 257, 1...\n",
       "\n",
       "[244 rows x 1 columns]"
      ]
     },
     "execution_count": 131,
     "metadata": {},
     "output_type": "execute_result"
    }
   ],
   "source": [
    "test = test.set_index(\"user_id\")\n",
    "test"
   ]
  },
  {
   "cell_type": "code",
   "execution_count": 132,
   "metadata": {},
   "outputs": [
    {
     "data": {
      "text/html": [
       "<div>\n",
       "<style scoped>\n",
       "    .dataframe tbody tr th:only-of-type {\n",
       "        vertical-align: middle;\n",
       "    }\n",
       "\n",
       "    .dataframe tbody tr th {\n",
       "        vertical-align: top;\n",
       "    }\n",
       "\n",
       "    .dataframe thead th {\n",
       "        text-align: right;\n",
       "    }\n",
       "</style>\n",
       "<table border=\"1\" class=\"dataframe\">\n",
       "  <thead>\n",
       "    <tr style=\"text-align: right;\">\n",
       "      <th></th>\n",
       "      <th>user_id</th>\n",
       "      <th>destination_id</th>\n",
       "      <th>destination_name</th>\n",
       "      <th>rating</th>\n",
       "    </tr>\n",
       "  </thead>\n",
       "  <tbody>\n",
       "    <tr>\n",
       "      <th>0</th>\n",
       "      <td>0</td>\n",
       "      <td>1</td>\n",
       "      <td>Phewa Tal (Fewa Lake)</td>\n",
       "      <td>5.0</td>\n",
       "    </tr>\n",
       "    <tr>\n",
       "      <th>1</th>\n",
       "      <td>0</td>\n",
       "      <td>2</td>\n",
       "      <td>Sarangkot</td>\n",
       "      <td>5.0</td>\n",
       "    </tr>\n",
       "    <tr>\n",
       "      <th>2</th>\n",
       "      <td>0</td>\n",
       "      <td>3</td>\n",
       "      <td>Swayambhunath Temple</td>\n",
       "      <td>5.0</td>\n",
       "    </tr>\n",
       "    <tr>\n",
       "      <th>3</th>\n",
       "      <td>0</td>\n",
       "      <td>4</td>\n",
       "      <td>Poon Hill</td>\n",
       "      <td>5.0</td>\n",
       "    </tr>\n",
       "    <tr>\n",
       "      <th>4</th>\n",
       "      <td>0</td>\n",
       "      <td>5</td>\n",
       "      <td>Peace Temple</td>\n",
       "      <td>5.0</td>\n",
       "    </tr>\n",
       "    <tr>\n",
       "      <th>...</th>\n",
       "      <td>...</td>\n",
       "      <td>...</td>\n",
       "      <td>...</td>\n",
       "      <td>...</td>\n",
       "    </tr>\n",
       "    <tr>\n",
       "      <th>6135</th>\n",
       "      <td>249</td>\n",
       "      <td>257</td>\n",
       "      <td>Guru Lhakhang Monastery</td>\n",
       "      <td>5.0</td>\n",
       "    </tr>\n",
       "    <tr>\n",
       "      <th>6136</th>\n",
       "      <td>249</td>\n",
       "      <td>275</td>\n",
       "      <td>Kashmiri Mosque</td>\n",
       "      <td>4.0</td>\n",
       "    </tr>\n",
       "    <tr>\n",
       "      <th>6137</th>\n",
       "      <td>249</td>\n",
       "      <td>277</td>\n",
       "      <td>Manimandap Pati</td>\n",
       "      <td>3.0</td>\n",
       "    </tr>\n",
       "    <tr>\n",
       "      <th>6138</th>\n",
       "      <td>249</td>\n",
       "      <td>289</td>\n",
       "      <td>Sundarijal Water Falls</td>\n",
       "      <td>3.0</td>\n",
       "    </tr>\n",
       "    <tr>\n",
       "      <th>6139</th>\n",
       "      <td>249</td>\n",
       "      <td>0</td>\n",
       "      <td>Boudhanath Stupa</td>\n",
       "      <td>5.0</td>\n",
       "    </tr>\n",
       "  </tbody>\n",
       "</table>\n",
       "<p>6140 rows × 4 columns</p>\n",
       "</div>"
      ],
      "text/plain": [
       "      user_id  destination_id         destination_name  rating\n",
       "0           0               1    Phewa Tal (Fewa Lake)     5.0\n",
       "1           0               2                Sarangkot     5.0\n",
       "2           0               3     Swayambhunath Temple     5.0\n",
       "3           0               4                Poon Hill     5.0\n",
       "4           0               5             Peace Temple     5.0\n",
       "...       ...             ...                      ...     ...\n",
       "6135      249             257  Guru Lhakhang Monastery     5.0\n",
       "6136      249             275          Kashmiri Mosque     4.0\n",
       "6137      249             277          Manimandap Pati     3.0\n",
       "6138      249             289   Sundarijal Water Falls     3.0\n",
       "6139      249               0         Boudhanath Stupa     5.0\n",
       "\n",
       "[6140 rows x 4 columns]"
      ]
     },
     "execution_count": 132,
     "metadata": {},
     "output_type": "execute_result"
    }
   ],
   "source": [
    "ratings"
   ]
  },
  {
   "cell_type": "code",
   "execution_count": 141,
   "metadata": {},
   "outputs": [],
   "source": [
    "# find the recommended 10 destinations to the users of the test dataset\n",
    "# and add them to a superlist\n",
    "super_recommended_ids=[]\n",
    "for user in test.index:\n",
    "#     print(test.loc[user]['actual'][-1])\n",
    "    most_recent_destination_id=test.loc[user]['actual'][-1] #extract the most recently rated destination id    \n",
    "    # a potential bug here : got to fix later \n",
    "    # somehow the function is not accepting destination id equal to or greater than 244\n",
    "    # so if that happens, take the mode\n",
    "    if most_recent_destination_id >= 244:\n",
    "        most_recent_destination_id=most_recent_destination_id%244\n",
    "    recommended_ids = model.similar_items(most_recent_destination_id,N=10)[0].tolist()\n",
    "#     print(recommended_ids)\n",
    "    super_recommended_ids.append(recommended_ids)\n",
    "# print(super_recommended_ids)"
   ]
  },
  {
   "cell_type": "code",
   "execution_count": 142,
   "metadata": {},
   "outputs": [
    {
     "data": {
      "text/html": [
       "<div>\n",
       "<style scoped>\n",
       "    .dataframe tbody tr th:only-of-type {\n",
       "        vertical-align: middle;\n",
       "    }\n",
       "\n",
       "    .dataframe tbody tr th {\n",
       "        vertical-align: top;\n",
       "    }\n",
       "\n",
       "    .dataframe thead th {\n",
       "        text-align: right;\n",
       "    }\n",
       "</style>\n",
       "<table border=\"1\" class=\"dataframe\">\n",
       "  <thead>\n",
       "    <tr style=\"text-align: right;\">\n",
       "      <th></th>\n",
       "      <th>actual</th>\n",
       "      <th>als_predictions</th>\n",
       "    </tr>\n",
       "    <tr>\n",
       "      <th>user_id</th>\n",
       "      <th></th>\n",
       "      <th></th>\n",
       "    </tr>\n",
       "  </thead>\n",
       "  <tbody>\n",
       "    <tr>\n",
       "      <th>0</th>\n",
       "      <td>[0, 1, 2, 3, 4, 5, 6, 7, 8, 9, 10, 44, 55, 185...</td>\n",
       "      <td>[124, 151, 227, 3, 118, 166, 220, 79, 35, 192]</td>\n",
       "    </tr>\n",
       "    <tr>\n",
       "      <th>1</th>\n",
       "      <td>[0, 1, 2, 3, 4, 5, 6, 7, 8, 9, 10, 154, 291, 1...</td>\n",
       "      <td>[232, 95, 98, 220, 146, 90, 99, 190, 61, 153]</td>\n",
       "    </tr>\n",
       "    <tr>\n",
       "      <th>2</th>\n",
       "      <td>[128, 1, 2, 3, 4, 5, 6, 7, 8, 9, 10, 267, 0, 1...</td>\n",
       "      <td>[119, 164, 138, 69, 68, 35, 129, 102, 179, 136]</td>\n",
       "    </tr>\n",
       "    <tr>\n",
       "      <th>3</th>\n",
       "      <td>[0, 1, 2, 3, 4, 5, 6, 7, 8, 9, 10, 259, 143, 2...</td>\n",
       "      <td>[103, 74, 211, 217, 112, 137, 38, 43, 117, 111]</td>\n",
       "    </tr>\n",
       "    <tr>\n",
       "      <th>4</th>\n",
       "      <td>[0, 1, 2, 3, 4, 5, 6, 7, 8, 9, 10, 137, 13, 14...</td>\n",
       "      <td>[8, 195, 213, 202, 141, 207, 22, 61, 231, 122]</td>\n",
       "    </tr>\n",
       "  </tbody>\n",
       "</table>\n",
       "</div>"
      ],
      "text/plain": [
       "                                                    actual  \\\n",
       "user_id                                                      \n",
       "0        [0, 1, 2, 3, 4, 5, 6, 7, 8, 9, 10, 44, 55, 185...   \n",
       "1        [0, 1, 2, 3, 4, 5, 6, 7, 8, 9, 10, 154, 291, 1...   \n",
       "2        [128, 1, 2, 3, 4, 5, 6, 7, 8, 9, 10, 267, 0, 1...   \n",
       "3        [0, 1, 2, 3, 4, 5, 6, 7, 8, 9, 10, 259, 143, 2...   \n",
       "4        [0, 1, 2, 3, 4, 5, 6, 7, 8, 9, 10, 137, 13, 14...   \n",
       "\n",
       "                                         als_predictions  \n",
       "user_id                                                   \n",
       "0         [124, 151, 227, 3, 118, 166, 220, 79, 35, 192]  \n",
       "1          [232, 95, 98, 220, 146, 90, 99, 190, 61, 153]  \n",
       "2        [119, 164, 138, 69, 68, 35, 129, 102, 179, 136]  \n",
       "3        [103, 74, 211, 217, 112, 137, 38, 43, 117, 111]  \n",
       "4         [8, 195, 213, 202, 141, 207, 22, 61, 231, 122]  "
      ]
     },
     "execution_count": 142,
     "metadata": {},
     "output_type": "execute_result"
    }
   ],
   "source": [
    "# update the recommended ids as a new column\n",
    "test['als_predictions']=super_recommended_ids\n",
    "test.head()"
   ]
  },
  {
   "cell_type": "code",
   "execution_count": 143,
   "metadata": {},
   "outputs": [
    {
     "name": "stdout",
     "output_type": "stream",
     "text": [
      "[[0, 1, 2, 3, 4, 5, 6, 7, 8, 9, 10, 44, 55, 185, 190, 197, 207, 247, 97, 119, 124], [0, 1, 2, 3, 4, 5, 6, 7, 8, 9, 10, 154, 291, 178, 187, 193, 77, 223, 232], [128, 1, 2, 3, 4, 5, 6, 7, 8, 9, 10, 267, 0, 144, 292, 40, 87, 98, 119], [0, 1, 2, 3, 4, 5, 6, 7, 8, 9, 10, 259, 143, 282, 40, 169, 49, 58, 103], [0, 1, 2, 3, 4, 5, 6, 7, 8, 9, 10, 137, 13, 147, 34, 190, 69, 205, 207, 88, 96, 106, 107, 252], [0, 1, 2, 3, 4, 5, 6, 7, 8, 9, 10, 139, 132, 266, 16, 145, 150, 151, 26, 160, 161, 167, 43, 183, 100, 108], [0, 1, 2, 3, 4, 5, 6, 7, 8, 100, 10, 166, 262, 292, 14, 48, 194], [0, 1, 3, 5, 6, 7, 8, 101, 299, 22, 126], [0, 1, 2, 3, 5, 6, 7, 8, 10, 151, 40, 47, 190, 200, 208, 85, 218, 101, 106], [0, 1, 2, 3, 4, 5, 7, 8, 9, 10, 263, 113, 20, 94], [0, 1, 2, 3, 4, 5, 6, 7, 164, 166, 10, 270, 208, 53, 278, 119, 252], [0, 1, 2, 3, 4, 5, 6, 7, 8, 9, 10, 200, 114, 28], [0, 1, 2, 3, 4, 5, 6, 7, 8, 9, 10, 156, 161, 172, 184, 61, 66, 198, 74, 219, 225], [0, 1, 3, 5, 6, 7, 8, 10, 140, 14, 143, 270, 40, 171, 173, 184, 186, 205, 216, 93, 229, 108, 110, 114, 243, 116, 246], [0, 1, 2, 3, 4, 5, 6, 7, 8, 9, 10, 232, 267, 82, 93, 24, 26, 29], [0, 1, 3, 5, 7, 10, 78, 82, 274, 84, 126], [0, 1, 2, 3, 4, 5, 6, 7, 8, 9, 10, 133, 260, 147, 282, 161, 291, 169, 298, 45, 73, 76, 204, 81, 82, 89, 101, 105, 249, 252], [0, 1, 2, 3, 4, 5, 6, 7, 8, 9, 10, 263, 145, 25, 26, 156, 288, 36, 50, 178, 56, 63, 77, 78, 205, 80, 81, 84, 217, 90, 105, 106, 249], [0, 1, 2, 3, 4, 5, 6, 7, 8, 9, 10, 11, 140, 160, 33, 167, 296, 66, 76, 222, 235, 236, 110, 115, 244], [0, 1, 2, 3, 4, 5, 6, 7, 8, 9, 10, 135, 17, 275, 149, 282, 38, 175, 182, 187, 200, 206, 84, 89, 223, 248, 119, 120], [0, 1, 2, 33, 4, 8, 9, 10, 233, 265, 86], [0, 3, 259, 5, 6, 7, 8, 9, 10, 134, 260, 185, 58, 206, 214, 215, 99, 100, 102, 230, 232, 245, 248, 249, 252], [0, 1, 2, 3, 35, 5, 6, 7, 292, 9, 178, 181, 118, 280, 190], [0, 1, 2, 3, 98, 5, 6, 7, 8, 10, 44, 281], [0, 1, 2, 3, 5, 6, 7, 8, 9, 10, 262, 265, 141, 35, 163, 166, 295, 61, 191, 67, 72, 200, 202, 80, 84, 227, 229, 105], [0, 1, 2, 3, 4, 5, 6, 7, 8, 9, 10, 132, 267, 269, 153, 179, 191, 78, 206, 211, 215, 225, 230, 109, 112, 243], [0, 1, 2, 3, 4, 5, 6, 7, 8, 132, 11, 16, 151, 24, 174, 203, 210, 119, 121, 125], [0, 1, 2, 3, 4, 5, 6, 7, 69, 9, 168, 75, 260, 246, 252, 30], [0, 1, 2, 34, 4, 5, 7, 8, 9, 107, 92, 272, 51, 21, 122, 27, 60, 125], [0, 3, 4, 5, 6, 7, 8, 9, 10, 20, 21, 292, 61, 82, 85, 221, 102, 110, 255], [0, 1, 34, 3, 289, 5, 6, 7, 8, 172, 242, 83, 247, 56, 94, 30], [0, 1, 2, 3, 4, 5, 6, 7, 8, 9, 10, 265, 19, 28, 32, 35, 40, 61, 78, 81, 91], [0, 1, 2, 3, 4, 6, 7, 9, 272, 273, 278, 26, 28, 50, 179, 65, 202, 87, 88, 92, 104], [0, 33, 2, 3, 4, 5, 258, 8, 11, 77, 112, 216, 26, 221, 254], [96, 1, 2, 0, 4, 6, 7, 10, 75, 107, 210, 274, 53], [0, 1, 2, 3, 4, 5, 6, 7, 8, 9, 10, 169, 282, 184, 121, 58], [0, 1, 2, 3, 4, 5, 6, 7, 8, 9, 10, 19, 278, 154, 32, 172, 60, 74, 77, 100, 246], [0, 1, 2, 4, 6, 7, 8, 73, 168, 230, 204, 231, 82, 181, 87, 89, 219, 62], [0, 1, 2, 3, 4, 5, 6, 7, 8, 39, 10, 232, 78, 283, 81, 186, 251, 94], [0, 97, 3, 4, 5, 6, 7, 260, 9, 106, 75, 44, 287, 149, 118, 90, 222, 223], [128, 1, 0, 3, 4, 5, 6, 7, 8, 9, 10, 137, 15, 144, 274, 278, 284, 287, 38, 297, 172, 57, 75, 205, 209, 211, 216, 103, 104, 105, 113, 116], [0, 1, 2, 3, 4, 5, 6, 7, 8, 9, 10, 13, 17, 145, 158, 167, 298, 299, 50, 62, 74, 202, 84, 221, 97, 101, 113, 118, 126], [0, 1, 2, 3, 4, 5, 6, 7, 8, 9, 10, 137, 265, 150, 280, 35, 45, 48, 67, 205, 208, 91, 92, 96, 101], [0, 2, 3, 4, 6, 9, 10, 265, 267, 144, 289, 39, 295, 169, 172, 186, 218, 90, 100, 115], [0, 1, 2, 3, 4, 5, 131, 7, 8, 9, 261, 13, 18, 39, 178, 55, 66, 69, 200, 81, 225, 226, 252], [0, 1, 2, 3, 4, 5, 6, 7, 8, 9, 10, 132, 257, 271, 147, 150, 34, 40, 297, 176, 49, 50, 67, 82, 213, 240], [0, 1, 2, 3, 4, 5, 6, 7, 8, 9, 10, 143, 20, 27, 169, 176, 190, 76, 211, 215, 243, 255], [128, 1, 2, 3, 4, 5, 6, 7, 8, 9, 10, 0, 274, 149, 153, 29, 157, 37, 166, 47, 55, 67, 68, 204, 86, 230, 113, 118, 120], [0, 1, 2, 3, 4, 5, 6, 7, 8, 9, 10, 132, 260, 13, 143, 30, 290, 292, 212, 97, 228, 101, 242], [0, 1, 2, 3, 4, 5, 6, 7, 8, 9, 10, 136, 262, 151, 24, 44, 49, 178, 61, 199, 204, 77, 94, 232, 234, 235], [0, 1, 2, 3, 4, 5, 6, 7, 8, 9, 10, 131, 13, 23, 156, 38, 167, 49, 184, 60, 84, 214, 220, 97, 243], [0, 1, 2, 3, 4, 5, 6, 7, 8, 9, 10, 135, 264, 279, 280, 171, 46, 174, 49, 55, 183, 63, 68, 70, 209, 218, 109, 249, 251], [0, 1, 2, 3, 4, 5, 6, 7, 8, 9, 10, 138, 18, 31, 288, 290, 164, 293, 43, 172, 62, 70, 71, 202, 217, 106], [0, 1, 2, 3, 4, 5, 6, 7, 8, 9, 10, 266, 142, 20, 285, 291, 39, 177, 57, 194, 70, 90, 94, 104, 237, 239, 126], [0, 1, 2, 3, 4, 5, 6, 7, 8, 9, 10, 267, 144, 147, 286, 296, 58, 195, 196, 205, 222, 224, 231, 237, 250], [0, 1, 2, 3, 4, 5, 6, 7, 8, 9, 10, 129, 139, 17, 145, 21, 22, 23, 163, 37, 165, 171, 47, 58, 61, 191, 66, 79, 210, 211, 99, 111, 127], [0, 1, 2, 3, 4, 5, 6, 7, 8, 9, 10, 129, 21, 280, 164, 42, 298, 299, 50, 180, 53, 186, 64, 65, 73, 212, 215, 216, 92, 97, 113, 123], [0, 1, 2, 3, 4, 5, 6, 7, 8, 9, 10, 25, 283, 287, 164, 295, 296, 42, 299, 177, 50, 54, 189, 71, 210, 89, 98, 229, 106, 117], [0, 1, 2, 3, 4, 5, 6, 7, 8, 9, 10, 260, 12, 262, 268, 26, 30, 163, 37, 299, 45, 183, 189, 192, 75, 83, 84, 211, 88, 101, 229, 105, 253], [0, 1, 2, 3, 4, 5, 6, 7, 8, 9, 10, 134, 16, 145, 258, 148, 152, 153, 161, 293, 296, 67, 85, 216, 227, 104, 244, 120], [0, 1, 2, 3, 4, 5, 6, 7, 8, 9, 10, 262, 146, 278, 281, 27, 296, 299, 50, 178, 52, 180, 67, 76, 205, 221, 99, 106, 234, 112, 245, 124], [0, 1, 2, 3, 4, 5, 6, 7, 8, 9, 10, 140, 152, 283, 156, 40, 181, 185, 187, 84, 218, 222, 103], [128, 1, 2, 3, 4, 5, 6, 7, 8, 9, 10, 0, 140, 288, 36, 294, 45, 64, 84, 95, 228, 236, 249], [0, 1, 2, 3, 4, 5, 6, 7, 8, 9, 10, 129, 266, 18, 147, 161, 36, 298, 173, 176, 50, 179, 184, 193, 68, 71, 204, 78, 82, 92, 102, 248], [0, 1, 2, 3, 4, 5, 6, 7, 8, 9, 10, 154, 165, 296, 42, 46, 53, 56, 68, 81, 213, 91, 222, 229, 118, 120], [0, 1, 2, 3, 4, 5, 6, 7, 8, 9, 10, 129, 264, 265, 267, 148, 33, 38, 175, 182, 65, 196, 73, 74, 77, 212, 91, 224, 236, 248], [0, 1, 2, 3, 4, 5, 6, 7, 8, 9, 10, 138, 279, 164, 167, 52, 55, 63, 191, 199, 200, 87, 89, 229, 126], [0, 1, 2, 3, 4, 5, 6, 7, 8, 9, 10, 130, 15, 274, 22, 152, 281, 161, 294, 227, 101, 125], [128, 1, 2, 3, 4, 5, 6, 7, 8, 9, 10, 0, 269, 14, 273, 286, 34, 292, 296, 185, 72, 79, 219, 91, 239, 249, 255], [0, 1, 2, 3, 4, 5, 6, 7, 8, 9, 10, 133, 134, 139, 268, 274, 258, 34, 168, 170, 188, 66, 70, 79, 231, 111], [0, 1, 2, 3, 4, 5, 6, 7, 8, 9, 10, 258, 261, 264, 270, 15, 271, 154, 285, 286, 290, 164, 298, 184, 193, 200, 205, 222, 101, 105, 115, 120, 250], [0, 1, 2, 3, 4, 5, 6, 7, 8, 9, 10, 140, 277, 284, 164, 53, 56, 184, 186, 79, 215, 112], [0, 1, 2, 3, 4, 5, 6, 7, 8, 9, 10, 133, 267, 258, 148, 275, 27, 155, 39, 174, 50, 192, 193, 77, 91, 220, 112, 241, 115, 116, 122], [128, 1, 2, 3, 4, 5, 6, 7, 8, 9, 10, 137, 140, 0, 19, 282, 38, 62, 92, 241, 122], [0, 1, 2, 3, 4, 5, 6, 7, 8, 9, 10, 258, 262, 141, 266, 145, 159, 163, 165, 173, 182, 193, 203, 98, 227, 242], [0, 1, 2, 3, 4, 5, 6, 7, 8, 9, 10, 268, 15, 275, 282, 283, 158, 161, 290, 163, 296, 47, 50, 51, 181, 187, 60, 61, 65, 196, 214, 91, 93, 250], [256, 1, 2, 3, 4, 5, 6, 7, 8, 9, 10, 134, 135, 266, 0, 17, 151, 153, 161, 38, 174, 58, 63, 196, 201, 89, 93, 232, 235, 115, 244, 118, 253], [0, 1, 2, 3, 4, 5, 6, 7, 8, 9, 10, 137, 14, 15, 17, 150, 285, 40, 44, 178, 54, 205, 80, 92, 93, 94, 239, 122], [0, 1, 2, 3, 4, 5, 6, 7, 8, 9, 10, 137, 141, 165, 166, 298, 44, 54, 68, 204, 241], [0, 1, 2, 3, 4, 5, 6, 7, 8, 9, 10, 259, 260, 263, 142, 270, 287, 288, 294, 168, 298, 189, 203, 206, 80, 212, 234, 109, 238], [0, 1, 2, 3, 4, 5, 6, 7, 8, 9, 10, 21, 277, 151, 25, 156, 163, 167, 295, 170, 46, 52, 53, 55, 60, 64, 86, 90, 219, 229, 105, 249], [0, 1, 2, 3, 4, 5, 6, 7, 8, 9, 10, 131, 258, 148, 149, 35, 292, 165, 294, 167, 40, 170, 54, 186, 212, 233, 254], [0, 1, 2, 3, 4, 5, 6, 7, 8, 9, 10, 12, 269, 257, 148, 29, 293, 296, 170, 46, 58, 201, 77, 91, 224, 100, 103, 232, 115, 118], [0, 1, 2, 3, 4, 5, 6, 7, 8, 9, 10, 131, 13, 142, 143, 151, 25, 158, 160, 33, 291, 40, 168, 179, 193, 204, 83, 94, 223, 101, 110, 113, 252, 124], [0, 1, 2, 3, 4, 5, 6, 7, 8, 9, 10, 132, 12, 13, 269, 23, 286, 159, 288, 291, 179, 221, 244, 253], [0, 1, 2, 3, 4, 5, 6, 7, 8, 9, 10, 132, 139, 261, 267, 277, 152, 26, 157, 285, 171, 47, 50, 65, 66, 73, 80, 210, 233, 106, 240], [0, 1, 2, 3, 4, 5, 6, 7, 8, 9, 10, 11, 134, 136, 143, 23, 280, 33, 291, 170, 184, 203, 211, 213, 89, 229], [0, 1, 2, 3, 4, 5, 6, 7, 8, 9, 10, 137, 282, 30, 167, 168, 45, 183, 191, 64, 196, 100, 235], [0, 1, 2, 3, 4, 5, 6, 7, 8, 9, 10, 262, 264, 13, 19, 153, 26, 155, 28, 158, 160, 288, 175, 194, 69, 80, 109, 238, 242], [0, 1, 2, 3, 4, 5, 6, 7, 8, 9, 10, 137, 262, 265, 20, 26, 161, 164, 296, 43, 50, 57, 209, 221, 115, 243, 247], [0, 1, 2, 3, 4, 5, 6, 7, 8, 9, 10, 130, 136, 140, 26, 285, 296, 170, 45, 180, 190, 195, 72, 203, 213, 217, 97, 250, 122, 123], [0, 1, 2, 3, 4, 5, 6, 7, 8, 9, 10, 12, 13, 14, 142, 35, 167, 48, 50, 180, 186, 188, 62, 206, 80, 214, 222, 232, 110, 249, 124], [0, 1, 2, 3, 4, 5, 6, 7, 8, 9, 10, 133, 262, 264, 269, 147, 276, 21, 280, 153, 26, 157, 35, 38, 294, 40, 52, 54, 191, 201, 86, 218, 223, 225, 118], [0, 1, 2, 3, 4, 5, 6, 7, 8, 9, 10, 135, 260, 269, 18, 23, 156, 158, 162, 43, 171, 50, 70, 77, 231], [0, 1, 2, 3, 4, 5, 6, 7, 8, 9, 10, 129, 259, 22, 153, 290, 291, 170, 48, 187, 62, 211, 215, 88, 227, 101, 107, 108, 246, 127], [0, 1, 2, 3, 4, 5, 6, 7, 8, 9, 10, 136, 140, 17, 289, 162, 299, 60, 194, 93, 223, 228, 118], [0, 1, 2, 3, 4, 5, 6, 7, 8, 9, 10, 11, 134, 138, 144, 278, 152, 153, 284, 30, 171, 45, 185, 187, 65, 66, 193, 71, 73, 203, 84, 100], [0, 1, 2, 3, 4, 5, 6, 7, 8, 9, 10, 131, 139, 275, 279, 157, 293, 38, 39, 297, 172, 49, 63, 210, 214, 88, 216, 95, 103, 236, 119, 249, 125, 254], [128, 1, 2, 3, 4, 5, 6, 7, 8, 9, 10, 134, 135, 13, 0, 276, 293, 170, 52, 220, 102, 239], [0, 1, 2, 3, 4, 5, 6, 7, 8, 9, 10, 13, 14, 275, 278, 152, 27, 156, 284, 30, 161, 35, 294, 50, 203, 204, 210, 84, 215, 222, 225, 98], [256, 1, 2, 3, 4, 5, 6, 7, 8, 9, 10, 260, 0, 269, 16, 17, 151, 26, 155, 35, 38, 295, 51, 64, 199, 78, 85, 91, 227, 236, 246, 120, 122, 252], [0, 1, 2, 3, 4, 5, 6, 7, 8, 9, 10, 132, 136, 18, 146, 274, 46, 177, 52, 183, 185, 68, 219, 238, 248, 252], [0, 1, 2, 3, 4, 5, 6, 7, 8, 9, 10, 274, 147, 32, 299, 172, 187, 198, 202, 79, 85, 114, 248], [0, 1, 2, 3, 4, 5, 6, 7, 8, 9, 10, 262, 141, 257, 145, 282, 159, 32, 289, 162, 37, 39, 41, 175, 186, 67, 91, 94, 98, 100, 107, 240, 243, 119], [0, 1, 2, 3, 4, 5, 6, 7, 8, 9, 10, 131, 14, 33, 55, 63, 193, 194, 77, 213, 100, 102, 233, 118], [0, 1, 2, 3, 4, 5, 6, 7, 8, 9, 10, 259, 18, 274, 275, 276, 62, 191, 195, 75, 76, 226, 101, 102, 231, 106, 243, 245], [0, 1, 2, 3, 4, 5, 6, 7, 8, 9, 10, 146, 19, 148, 157, 51, 193, 202, 75, 115, 251], [0, 1, 2, 3, 4, 5, 6, 7, 8, 9, 10, 131, 137, 143, 149, 23, 25, 29, 285, 164, 166, 172, 186, 81, 217, 232, 236, 237, 119, 127], [0, 1, 2, 3, 4, 5, 6, 7, 8, 9, 10, 270, 19, 275, 280, 288, 165, 293, 41, 188, 73, 78, 210, 225, 104, 106, 107, 235, 126], [0, 1, 2, 3, 4, 5, 6, 7, 8, 9, 10, 14, 15, 42, 56, 57, 86, 97, 237, 115, 118, 250], [0, 1, 2, 3, 4, 5, 6, 7, 8, 9, 10, 259, 147, 150, 23, 29, 167, 50, 60, 191, 206, 87, 219, 97, 99, 107, 117, 253], [0, 1, 2, 3, 4, 5, 6, 7, 8, 9, 10, 161, 162, 185, 67, 69, 80, 100, 102, 234], [0, 1, 2, 3, 4, 5, 6, 7, 8, 9, 10, 139, 268, 284, 37, 41, 42, 297, 205, 208, 247], [0, 1, 2, 3, 4, 5, 6, 7, 8, 9, 10, 141, 151, 40, 42, 170, 171, 47, 48, 209, 92, 95, 237, 249], [0, 1, 2, 3, 4, 5, 6, 7, 8, 9, 10, 11, 139, 141, 273, 277, 158, 38, 64, 231, 107], [128, 1, 2, 3, 4, 5, 6, 7, 8, 9, 10, 130, 263, 0, 272, 146, 26, 164, 39, 297, 44, 183, 87, 216, 94, 102, 239, 240, 113], [0, 1, 2, 3, 4, 5, 6, 7, 8, 9, 10, 139, 12, 132, 272, 278, 151, 31, 174, 211, 91, 219, 101, 103, 234, 246, 125, 255], [0, 1, 2, 3, 4, 5, 6, 7, 8, 9, 10, 138, 262, 268, 271, 20, 156, 31, 159, 289, 165, 293, 40, 55, 64, 205, 206, 80, 102, 108, 247], [0, 1, 2, 3, 4, 5, 6, 7, 8, 9, 10, 274, 20, 153, 31, 290, 176, 189, 62, 191, 202, 243], [0, 1, 2, 3, 4, 5, 6, 7, 8, 9, 10, 133, 264, 273, 22, 155, 157, 163, 169, 42, 178, 182, 187, 66, 195, 77, 79, 207, 225, 227, 239, 121], [0, 1, 2, 3, 4, 5, 6, 7, 8, 9, 10, 267, 257, 162, 165, 40, 169, 172, 182, 59, 188, 189, 63, 66, 194, 73, 204, 206, 87, 96, 240, 241, 249, 252], [0, 1, 2, 3, 4, 5, 6, 7, 8, 9, 10, 11, 135, 15, 16, 17, 18, 154, 299, 54, 64, 86, 91, 110, 251], [0, 1, 2, 3, 4, 5, 6, 7, 8, 9, 10, 146, 19, 148, 30, 289, 163, 56, 190, 203, 79, 85, 92, 224, 228, 101, 232, 112, 127], [0, 1, 2, 3, 4, 5, 6, 7, 8, 9, 10, 260, 18, 146, 296, 174, 68, 95, 100, 241, 119], [256, 1, 2, 3, 4, 5, 6, 7, 8, 9, 10, 259, 0, 149, 28, 171, 58, 68, 202, 203, 110, 238, 243], [0, 1, 2, 3, 4, 5, 6, 7, 8, 9, 10, 141, 281, 223, 98, 228, 231, 244, 251, 124], [0, 1, 2, 3, 4, 5, 6, 7, 8, 9, 10, 132, 140, 265, 266, 163, 82, 227, 230, 112, 119, 122], [0, 1, 2, 3, 4, 5, 6, 7, 8, 9, 10, 13, 16, 19, 277, 283, 286, 45, 179, 60, 83, 87, 100, 229, 113, 118, 248], [0, 1, 2, 3, 4, 5, 6, 7, 8, 9, 10, 141, 270, 274, 52, 187, 69, 72, 212, 112, 116, 121], [0, 1, 2, 3, 4, 5, 6, 7, 8, 9, 10, 13, 143, 148, 152, 27, 283, 30, 297, 178, 182, 67, 68, 199, 78, 79, 213, 88, 243, 121, 250, 254], [0, 1, 2, 3, 4, 5, 6, 7, 8, 9, 10, 133, 270, 149, 26, 29, 286, 288, 37, 299, 44, 182, 56, 60, 74, 90, 219, 223, 103, 109, 248], [0, 1, 2, 3, 4, 5, 6, 7, 8, 9, 10, 129, 266, 268, 19, 147, 21, 258, 156, 30, 45, 183, 57, 203, 244, 245, 120, 251], [0, 1, 2, 3, 4, 5, 6, 7, 8, 9, 10, 264, 144, 273, 148, 21, 150, 27, 283, 291, 41, 60, 193, 205, 88, 217, 90, 99, 228], [0, 1, 2, 3, 4, 5, 6, 7, 8, 9, 10, 261, 273, 297, 175, 51, 180, 207, 218, 95, 229], [0, 1, 2, 3, 4, 5, 6, 7, 8, 9, 10, 266, 12, 267, 19, 27, 285, 30, 159, 165, 172, 88, 93, 104, 232, 235, 237, 116, 248, 122], [0, 1, 2, 3, 4, 5, 6, 7, 8, 9, 10, 265, 141, 32, 290, 171, 299, 179, 75, 84, 216, 93, 95, 104], [0, 1, 2, 3, 4, 5, 6, 7, 8, 9, 10, 134, 22, 151, 278, 157, 288, 163, 39, 168, 187, 190, 193, 196, 204, 87, 97, 235, 238, 115, 116], [0, 1, 2, 3, 4, 5, 6, 7, 8, 9, 10, 136, 12, 13, 266, 268, 21, 159, 162, 294, 44, 173, 175, 197, 86, 221, 223, 100, 228, 107, 239, 243, 123, 255], [0, 1, 2, 3, 4, 5, 6, 7, 8, 9, 10, 163, 167, 42, 182, 194, 79, 82, 84, 231, 235, 111], [0, 1, 2, 3, 4, 5, 6, 7, 8, 9, 10, 136, 17, 22, 151, 154, 36, 188, 192, 82, 244, 121, 255], [0, 1, 2, 3, 4, 5, 6, 7, 8, 9, 10, 145, 18, 274, 32, 169, 46, 179, 181, 59, 87, 92, 234, 126], [0, 1, 2, 3, 4, 5, 6, 7, 8, 9, 10, 135, 139, 264, 148, 166, 48, 192, 65, 207, 80, 208, 213, 228, 105, 106, 234, 112], [0, 1, 2, 3, 4, 5, 6, 7, 8, 9, 10, 257, 274, 276, 278, 153, 156, 159, 180, 62, 199, 209, 97], [0, 1, 2, 3, 4, 5, 6, 7, 8, 9, 10, 149, 279, 166, 42, 184, 191, 65, 231, 108, 118], [0, 1, 2, 3, 4, 5, 6, 7, 8, 9, 10, 275, 22, 278, 280, 157, 161, 164, 293, 190, 64, 67, 79, 213, 220, 100, 233, 241, 114, 244, 123], [128, 1, 2, 3, 4, 5, 6, 7, 8, 9, 10, 136, 256, 267, 0, 17, 152, 283, 285, 286, 34, 39, 42, 59, 191, 64, 73, 204, 214, 98, 100, 248], [0, 1, 2, 3, 4, 5, 6, 7, 8, 9, 10, 136, 148, 149, 150, 278, 156, 289, 162, 36, 299, 182, 188, 198, 72, 79, 85, 89, 223, 100, 105, 107, 239, 254], [0, 1, 2, 3, 4, 5, 6, 7, 8, 9, 10, 132, 262, 142, 273, 21, 23, 27, 37, 294, 295, 49, 59, 204, 84, 229, 230, 109, 239, 245, 248], [0, 1, 2, 3, 4, 5, 6, 7, 8, 10, 141, 160, 292, 40, 168, 45, 55, 76, 247, 119], [0, 1, 2, 3, 4, 5, 6, 7, 8, 9, 10, 137, 143, 145, 20, 155, 286, 159, 170, 47, 183, 184, 77, 208, 81], [0, 1, 2, 3, 4, 5, 6, 7, 8, 9, 10, 129, 259, 260, 145, 18, 19, 275, 289, 34, 169, 171, 45, 175, 49, 80, 108, 109, 236, 111, 237], [0, 1, 2, 3, 4, 5, 6, 7, 8, 9, 10, 259, 14, 279, 152, 298, 56, 186, 68, 202, 85, 214, 223, 225, 106, 237, 121], [0, 1, 2, 3, 4, 5, 6, 7, 8, 9, 10, 129, 131, 265, 284, 290, 179, 225, 123, 127], [0, 1, 2, 3, 4, 5, 6, 7, 8, 9, 10, 135, 266, 257, 271, 19, 285, 36, 296, 45, 48, 56, 193, 197, 75, 211, 99, 103, 105, 107, 114], [0, 1, 2, 3, 4, 5, 6, 7, 8, 9, 10, 295, 55, 23, 248, 153, 58, 190], [0, 1, 2, 3, 4, 5, 6, 7, 8, 9, 10, 11, 130, 154, 288, 294, 55, 187, 197, 205], [0, 1, 2, 3, 4, 5, 6, 7, 8, 9, 10, 132, 138, 263, 131, 26, 155, 30, 190, 65, 73, 201, 233], [0, 1, 2, 3, 4, 5, 6, 7, 8, 9, 10, 260, 18, 21, 153, 40, 186, 75, 204, 81], [0, 1, 2, 3, 4, 5, 6, 7, 8, 9, 10, 263, 269, 152, 281, 160, 290, 36, 51, 183, 188, 66, 86, 217, 218, 222, 96, 101, 114, 243, 121], [0, 1, 2, 3, 4, 5, 6, 7, 8, 9, 10, 15, 290, 166, 51, 64, 67, 87, 88, 97, 121, 126], [288, 1, 2, 3, 4, 5, 6, 7, 8, 9, 39, 102, 105, 136, 200, 0], [0, 1, 2, 3, 4, 5, 6, 7, 8, 9, 10, 138, 18, 151, 155, 30, 32, 169, 46, 64, 225, 227, 119, 126], [0, 1, 2, 3, 4, 5, 6, 7, 8, 104, 294, 203, 77, 174, 274, 148, 55, 190], [0, 1, 2, 3, 4, 5, 6, 104, 10, 210, 21, 283], [0, 1, 2, 3, 4, 5, 197, 291, 8, 9, 10, 278, 155, 126], [0, 1, 65, 3, 66, 5, 8, 233, 10, 267, 274, 254], [0, 1, 2, 3, 4, 35, 7, 8, 167, 171, 176, 246], [0, 1, 2, 3, 4, 5, 66, 7, 8, 9, 10, 100, 292, 214, 157], [0, 1, 2, 4, 5, 6, 7, 39, 293, 10, 74, 111, 176, 274, 218, 255], [0, 1, 2, 4, 5, 6, 7, 9, 10, 53, 278, 87, 24, 94], [0, 1, 2, 4, 5, 38, 7, 101, 9, 10, 209, 20, 93], [0, 1, 2, 3, 4, 5, 6, 7, 8, 9, 10, 264, 22, 25, 30, 162, 38, 168, 41, 53, 62, 68, 198, 71, 73, 206, 85, 213, 90, 221, 242], [0, 1, 2, 3, 4, 5, 6, 7, 8, 9, 10, 136, 270, 18, 36, 38, 44, 46, 51, 190, 200, 73, 90, 98], [0, 1, 2, 3, 4, 5, 6, 7, 8, 9, 10, 131, 144, 272, 278, 49, 177, 183, 83, 229, 112], [0, 1, 2, 3, 4, 5, 6, 7, 8, 9, 10, 132, 269, 282, 293, 298, 63, 69, 81, 218, 97, 113], [0, 1, 2, 3, 4, 5, 6, 7, 8, 9, 10, 129, 133, 266, 146, 20, 150, 28, 161, 34, 47, 177, 50, 51, 66, 197, 207, 84, 89, 94, 97, 104, 118, 249, 250], [256, 1, 2, 3, 4, 5, 6, 7, 8, 9, 10, 133, 0, 142, 21, 151, 152, 289, 291, 175, 178, 186, 191, 195, 197, 199, 91, 104, 251, 116, 120, 123, 124], [0, 1, 2, 3, 4, 5, 6, 7, 8, 9, 10, 146, 148, 151, 154, 158, 38, 298, 47, 175, 102, 232, 247, 250], [128, 1, 2, 3, 4, 5, 6, 7, 8, 9, 10, 134, 256, 0, 15, 157, 32, 291, 292, 37, 165, 59, 67, 202, 83, 87, 220, 221, 226, 102, 112, 114], [0, 1, 2, 3, 4, 5, 6, 7, 8, 9, 10, 26, 155, 168, 196, 211, 90, 97, 240, 121, 255], [0, 1, 2, 3, 4, 5, 6, 7, 8, 9, 10, 266, 144, 150, 287, 49, 53, 188, 64, 194, 73, 201, 76, 80, 224, 100, 231, 122, 123, 124], [128, 1, 2, 3, 4, 5, 6, 7, 8, 9, 10, 130, 131, 0, 24, 284, 168, 46, 61, 63, 67, 78, 100, 229, 104, 232, 113, 125], [0, 1, 2, 3, 4, 5, 6, 7, 8, 9, 10, 134, 16, 144, 23, 285, 166, 299, 49, 179, 180, 69, 213, 217, 96, 230, 104, 117, 245, 127], [0, 1, 2, 3, 4, 5, 6, 7, 8, 9, 10, 48, 194, 72, 204, 96, 224, 102, 237, 248], [128, 1, 2, 3, 4, 5, 6, 7, 8, 9, 10, 136, 0, 258, 153, 286, 31, 287, 179, 180, 57, 185, 61, 67, 74, 210, 83, 215, 104, 241, 243, 244, 245, 246, 247], [0, 1, 2, 3, 4, 5, 6, 7, 8, 9, 10, 135, 136, 139, 14, 258, 23, 24, 28, 156, 285, 39, 43, 175, 74, 104, 254], [0, 1, 2, 3, 4, 5, 6, 7, 8, 9, 10, 130, 136, 261, 15, 32, 290, 293, 299, 178, 73, 82, 86, 88, 248, 104, 237, 120], [128, 1, 2, 3, 4, 5, 6, 7, 8, 9, 10, 0, 282, 156, 34, 296, 172, 175, 54, 55, 188, 71, 73, 80, 208, 213, 86, 214, 90, 225, 100, 229, 119, 249], [0, 1, 2, 3, 4, 5, 6, 7, 8, 9, 10, 134, 136, 132, 145, 280, 283, 158, 37, 179, 52, 190, 66, 194, 70, 214, 215, 116, 248, 253], [0, 1, 2, 3, 4, 5, 6, 7, 8, 9, 10, 134, 138, 266, 267, 143, 25, 33, 289, 45, 71, 200, 82, 83, 223, 105, 252], [256, 1, 2, 3, 4, 5, 6, 7, 8, 9, 10, 136, 0, 36, 186, 188, 64, 192, 203, 227, 228, 104, 116], [0, 1, 2, 3, 4, 5, 6, 7, 8, 9, 10, 11, 259, 13, 270, 16, 258, 148, 287, 166, 60, 193, 224, 106, 122], [0, 1, 2, 3, 4, 5, 6, 7, 8, 9, 10, 135, 265, 266, 14, 37, 46, 49, 59, 187, 62, 68, 76, 227, 238, 241, 250], [0, 1, 2, 3, 4, 5, 6, 7, 8, 9, 10, 263, 13, 143, 16, 25, 282, 285, 31, 297, 176, 50, 193, 195, 69, 199, 200, 213], [0, 1, 2, 3, 4, 5, 6, 7, 8, 9, 10, 258, 144, 56, 251, 158], [0, 1, 2, 3, 4, 5, 6, 101, 8, 9, 10, 47, 246, 247, 186, 190, 94], [128, 1, 2, 3, 4, 5, 6, 7, 8, 9, 10, 0, 145, 273, 19, 281, 50, 213, 218, 110, 122], [256, 1, 2, 3, 4, 5, 6, 7, 8, 9, 10, 0, 144, 289, 166, 173, 79, 213, 216, 224, 106, 237, 123, 254], [0, 1, 2, 3, 4, 5, 6, 7, 8, 9, 10, 261, 266, 33, 53, 56, 185, 184, 190, 197, 207, 208, 99, 236], [0, 1, 2, 3, 4, 5, 6, 7, 8, 9, 10, 11, 140, 16, 272, 276, 172, 173, 184, 196, 208, 218, 97, 116, 251], [128, 1, 2, 3, 4, 5, 6, 7, 8, 9, 10, 138, 0, 143, 19, 28, 292, 295, 175, 179, 209, 213, 92, 224, 231, 250, 107, 112, 117, 245, 122], [0, 1, 2, 3, 4, 5, 6, 7, 8, 9, 10, 263, 274, 283, 288, 289, 37, 40, 49, 54, 182, 57, 59, 196, 81, 83, 90, 221, 254], [0, 1, 2, 3, 4, 5, 6, 7, 8, 9, 10, 138, 147, 275, 172, 191, 205, 208, 85, 223, 98, 99, 237], [0, 1, 2, 3, 4, 5, 6, 7, 8, 9, 10, 132, 18, 276, 151, 281, 30, 74, 83, 221, 241, 114, 244, 117, 252, 125], [0, 1, 2, 3, 4, 5, 6, 7, 8, 9, 10, 140, 15, 145, 275, 150, 43, 62, 63, 190, 203, 207, 90, 92, 93, 101, 233, 112, 247, 125, 254], [0, 1, 2, 3, 4, 5, 6, 130, 8, 9, 10, 263, 12, 269, 147, 149, 153, 32, 160, 296, 41, 297, 45, 182, 207, 254, 216, 223, 119, 250, 126], [0, 1, 2, 3, 4, 5, 6, 7, 8, 9, 10, 261, 272, 19, 35, 57, 190, 195, 88, 100, 111, 120], [0, 1, 2, 3, 4, 5, 6, 7, 8, 9, 10, 139, 143, 145, 146, 148, 279, 49, 186, 242, 252], [0, 1, 2, 3, 4, 5, 6, 7, 8, 9, 10, 133, 136, 156, 285, 30, 172, 181, 59, 61, 192, 84, 219, 111, 248], [0, 1, 2, 3, 4, 5, 6, 7, 8, 9, 10, 260, 12, 271, 144, 20, 277, 285, 159, 176, 54, 201, 96, 119, 121], [0, 1, 2, 3, 4, 5, 6, 7, 8, 9, 10, 275, 20, 26, 162, 58, 69, 96, 111, 255], [0, 1, 2, 3, 4, 5, 6, 7, 8, 9, 10, 265, 274, 25, 159, 41, 169, 180, 183, 64, 67, 206, 79, 81, 91, 224, 227, 107, 108, 109, 123, 252, 126], [0, 1, 2, 3, 4, 5, 6, 7, 8, 9, 10, 269, 145, 148, 23, 27, 38, 182, 183, 184, 67, 70, 199, 78, 246, 247, 248, 122], [0, 1, 2, 3, 4, 5, 6, 7, 8, 9, 10, 263, 143, 279, 161, 35, 38, 191, 68, 71, 207, 210, 85, 213, 101, 106], [0, 1, 2, 3, 4, 5, 6, 7, 8, 9, 10, 262, 140, 19, 279, 37, 294, 177, 56, 64, 194, 202, 222, 106, 239], [0, 1, 2, 3, 4, 5, 6, 7, 8, 9, 10, 136, 264, 141, 267, 130, 270, 148, 22, 281, 27, 29, 160, 164, 44, 196, 198, 72, 211, 213, 86, 224, 227, 114, 244], [0, 1, 2, 3, 4, 5, 6, 7, 8, 9, 10, 260, 263, 268, 271, 274, 27, 285, 181, 191, 207, 216, 97, 227, 233, 113, 245, 253], [0, 1, 2, 3, 4, 5, 6, 7, 8, 9, 10, 11, 262, 257, 22, 163, 37, 165, 166, 72, 94, 223, 96, 98, 101, 233, 237, 114, 242, 116, 119, 253], [128, 1, 2, 3, 4, 5, 6, 7, 8, 9, 10, 258, 0, 273, 275, 23, 153, 156, 29, 34, 292, 43, 186, 76, 82, 83, 218, 223, 224, 241, 114], [0, 1, 2, 3, 4, 5, 6, 7, 8, 9, 10, 270, 279, 280, 154, 158, 35, 36, 163, 54, 94, 97, 230, 247], [0, 1, 2, 3, 4, 5, 6, 7, 8, 9, 10, 278, 29, 36, 40, 66, 202, 209, 94, 227], [0, 1, 2, 3, 4, 5, 6, 7, 8, 9, 10, 138, 264, 13, 281, 283, 284, 38, 39, 294, 169, 296, 203, 81, 215, 222, 104, 235, 111, 112, 239, 249], [128, 1, 2, 3, 4, 5, 6, 7, 8, 9, 10, 266, 0, 269, 142, 147, 161, 37, 299, 56, 188, 190, 192, 200, 80, 226, 105, 241, 115, 247, 120, 124], [0, 1, 2, 3, 4, 5, 6, 7, 8, 9, 10, 29, 287, 288, 290, 293, 194, 219, 101, 252, 127], [0, 1, 2, 3, 4, 5, 6, 7, 8, 9, 10, 267, 268, 26, 28, 187, 191, 198, 73, 201, 87, 117, 119], [0, 1, 2, 3, 4, 5, 6, 7, 8, 9, 10, 258, 15, 143, 271, 147, 151, 294, 168, 41, 188, 208, 210, 233, 235, 109, 239, 114, 242, 119], [0, 1, 2, 3, 4, 5, 6, 7, 8, 9, 10, 11, 273, 149, 156, 286, 287, 161, 38, 173, 49, 63, 69, 79, 86, 101, 238], [0, 1, 2, 3, 4, 5, 6, 7, 8, 9, 10, 132, 137, 21, 28, 157, 160, 288, 36, 167, 171, 44, 47, 183, 62, 69, 203, 230, 110, 240, 117, 246], [0, 1, 2, 3, 4, 5, 6, 7, 8, 9, 10, 269, 274, 275, 21, 285, 161, 290, 293, 166, 174, 184, 193, 195, 203, 211, 85, 226, 102, 104, 120], [0, 1, 2, 3, 4, 5, 6, 7, 8, 9, 10, 137, 142, 21, 151, 280, 25, 290, 168, 299, 181, 187, 61, 94, 96, 228, 127], [0, 1, 2, 3, 4, 5, 6, 7, 8, 9, 10, 137, 271, 258, 279, 155, 287, 167, 42, 49, 200, 80, 82, 213, 215, 92, 235, 253], [0, 1, 2, 3, 4, 5, 6, 7, 8, 9, 10, 137, 140, 261, 144, 152, 40, 43, 44, 55, 202, 233, 124], [0, 1, 2, 3, 4, 5, 6, 7, 8, 9, 10, 133, 135, 136, 140, 16, 278, 152, 36, 39, 295, 170, 60, 215, 97, 225, 107, 239, 243, 118, 123], [0, 1, 2, 3, 4, 5, 6, 7, 8, 9, 10, 132, 138, 17, 18, 146, 164, 168, 41, 171, 44, 54, 187, 193, 199, 97, 102, 111, 244, 117, 250], [0, 1, 2, 3, 4, 5, 6, 7, 8, 9, 10, 142, 271, 280, 31, 160, 291, 48, 61, 72, 73, 204, 77, 78, 94, 227, 236, 113, 114, 242, 122, 127], [0, 1, 2, 3, 4, 5, 6, 7, 8, 9, 10, 129, 135, 282, 299, 183, 58, 188, 77, 209, 231], [0, 1, 2, 3, 4, 5, 6, 7, 8, 9, 10, 130, 144, 147, 258, 21, 28, 36, 299, 50, 178, 190, 66, 220, 95], [0, 1, 2, 3, 4, 5, 6, 7, 8, 9, 10, 265, 272, 163, 164, 38, 294, 46, 54, 58, 192, 70, 202, 205, 79, 209, 90, 120, 122, 123, 125], [0, 1, 2, 3, 4, 5, 6, 7, 8, 9, 10, 268, 16, 272, 148, 280, 290, 163, 38, 171, 189, 66, 89, 219, 96, 115], [0, 1, 2, 3, 4, 5, 6, 7, 8, 9, 10, 133, 135, 260, 273, 146, 21, 28, 297, 50, 191, 74, 91, 242, 115, 245], [256, 1, 2, 3, 4, 5, 6, 7, 8, 9, 10, 131, 260, 269, 0, 16, 272, 275, 20, 25, 161, 35, 37, 43, 52, 55, 59, 77, 228, 103, 234, 235, 110, 112], [0, 1, 2, 3, 4, 5, 6, 7, 8, 9, 10, 271, 151, 24, 25, 45, 173, 222, 226, 232, 123, 254], [0, 1, 2, 3, 4, 5, 6, 7, 8, 9, 10, 264, 266, 142, 278, 154, 284, 48, 49, 61, 227], [0, 1, 2, 3, 4, 5, 6, 7, 8, 9, 10, 130, 257, 16, 275, 277, 289, 40, 176, 178, 71, 78, 220, 236, 110, 238, 241, 247, 122]]\n",
      "[[124, 151, 227, 3, 118, 166, 220, 79, 35, 192], [232, 95, 98, 220, 146, 90, 99, 190, 61, 153], [119, 164, 138, 69, 68, 35, 129, 102, 179, 136], [103, 74, 211, 217, 112, 137, 38, 43, 117, 111], [8, 195, 213, 202, 141, 207, 22, 61, 231, 122], [108, 225, 34, 52, 163, 221, 219, 15, 191, 214], [194, 38, 125, 236, 131, 30, 219, 106, 163, 114], [126, 14, 192, 25, 26, 71, 147, 204, 161, 11], [106, 194, 239, 177, 167, 11, 206, 214, 122, 238], [94, 152, 118, 223, 7, 164, 55, 86, 110, 113], [8, 195, 213, 202, 141, 207, 22, 61, 231, 122], [28, 132, 114, 237, 4, 32, 163, 80, 73, 110], [225, 112, 108, 230, 81, 221, 69, 26, 11, 70], [2, 23, 148, 224, 125, 218, 167, 231, 145, 220], [29, 139, 210, 46, 178, 9, 167, 68, 137, 168], [126, 14, 192, 25, 26, 71, 147, 204, 161, 11], [8, 195, 213, 202, 141, 207, 22, 61, 231, 122], [5, 116, 26, 59, 227, 85, 84, 76, 87, 111], [0, 198, 148, 154, 195, 231, 155, 10, 23, 133], [120, 183, 37, 238, 78, 16, 134, 136, 165, 101], [86, 13, 189, 188, 149, 98, 46, 33, 182, 154], [8, 195, 213, 202, 141, 207, 22, 61, 231, 122], [190, 139, 62, 176, 162, 125, 128, 172, 145, 146], [37, 224, 15, 120, 110, 138, 208, 2, 229, 169], [105, 118, 46, 157, 168, 60, 228, 34, 202, 142], [243, 45, 236, 121, 193, 100, 63, 155, 30, 124], [125, 23, 194, 114, 2, 235, 60, 93, 202, 231], [30, 195, 122, 194, 207, 208, 218, 48, 219, 131], [125, 23, 194, 114, 2, 235, 60, 93, 202, 231], [11, 160, 200, 220, 31, 139, 236, 106, 168, 29], [30, 195, 122, 194, 207, 208, 218, 48, 219, 131], [91, 151, 18, 21, 6, 60, 134, 99, 166, 167], [104, 6, 20, 98, 183, 167, 111, 1, 156, 86], [10, 169, 71, 198, 34, 128, 0, 78, 199, 12], [53, 164, 175, 9, 134, 109, 170, 77, 214, 38], [58, 87, 135, 27, 173, 24, 131, 48, 179, 208], [2, 23, 148, 224, 125, 218, 167, 231, 145, 220], [62, 190, 214, 73, 155, 196, 18, 160, 221, 98], [94, 152, 118, 223, 7, 164, 55, 86, 110, 113], [223, 130, 52, 191, 183, 238, 226, 160, 94, 101], [116, 26, 5, 36, 240, 203, 101, 68, 82, 111], [126, 14, 192, 25, 26, 71, 147, 204, 161, 11], [101, 140, 123, 203, 51, 192, 27, 183, 63, 223], [115, 9, 169, 174, 227, 181, 32, 160, 233, 173], [8, 195, 213, 202, 141, 207, 22, 61, 231, 122], [240, 116, 210, 93, 72, 100, 162, 228, 173, 209], [11, 160, 200, 220, 31, 139, 236, 106, 168, 29], [120, 183, 37, 238, 78, 16, 134, 136, 165, 101], [242, 234, 169, 49, 192, 164, 1, 181, 220, 180], [235, 35, 93, 3, 210, 125, 7, 170, 194, 51], [243, 45, 236, 121, 193, 100, 63, 155, 30, 124], [7, 139, 41, 102, 67, 164, 140, 15, 159, 235], [106, 194, 239, 177, 167, 11, 206, 214, 122, 238], [126, 14, 192, 25, 26, 71, 147, 204, 161, 11], [6, 183, 104, 111, 167, 24, 141, 217, 22, 242], [127, 173, 145, 36, 83, 95, 191, 84, 61, 96], [123, 78, 101, 203, 26, 192, 27, 64, 161, 239], [117, 118, 52, 112, 211, 142, 66, 103, 111, 168], [9, 115, 170, 169, 210, 209, 234, 53, 216, 38], [120, 183, 37, 238, 78, 16, 134, 136, 165, 101], [124, 151, 227, 3, 118, 166, 220, 79, 35, 192], [103, 74, 211, 217, 112, 137, 38, 43, 117, 111], [5, 116, 26, 59, 227, 85, 84, 76, 87, 111], [4, 44, 206, 42, 27, 28, 34, 0, 223, 210], [120, 183, 37, 238, 78, 16, 134, 136, 165, 101], [4, 44, 206, 42, 27, 28, 34, 0, 223, 210], [126, 14, 192, 25, 26, 71, 147, 204, 161, 11], [125, 23, 194, 114, 2, 235, 60, 93, 202, 231], [11, 160, 200, 220, 31, 139, 236, 106, 168, 29], [111, 6, 210, 21, 141, 104, 79, 183, 160, 226], [6, 183, 104, 111, 167, 24, 141, 217, 22, 242], [112, 225, 55, 198, 117, 155, 40, 71, 103, 114], [122, 30, 195, 48, 204, 71, 197, 200, 106, 207], [122, 30, 195, 48, 204, 71, 197, 200, 106, 207], [242, 234, 169, 49, 192, 164, 1, 181, 220, 180], [6, 183, 104, 111, 167, 24, 141, 217, 22, 242], [9, 115, 170, 169, 210, 209, 234, 53, 216, 38], [122, 30, 195, 48, 204, 71, 197, 200, 106, 207], [241, 197, 14, 211, 26, 18, 107, 181, 138, 169], [238, 57, 75, 223, 120, 166, 229, 106, 69, 219], [5, 116, 26, 59, 227, 85, 84, 76, 87, 111], [10, 169, 71, 198, 34, 128, 0, 78, 199, 12], [118, 105, 52, 46, 170, 142, 124, 117, 34, 15], [124, 151, 227, 3, 118, 166, 220, 79, 35, 192], [9, 115, 170, 169, 210, 209, 234, 53, 216, 38], [240, 116, 210, 93, 72, 100, 162, 228, 173, 209], [229, 182, 83, 234, 152, 208, 22, 37, 163, 238], [235, 35, 93, 3, 210, 125, 7, 170, 194, 51], [242, 234, 169, 49, 192, 164, 1, 181, 220, 180], [3, 35, 46, 235, 124, 2, 45, 173, 43, 201], [123, 78, 101, 203, 26, 192, 27, 64, 161, 239], [124, 151, 227, 3, 118, 166, 220, 79, 35, 192], [118, 105, 52, 46, 170, 142, 124, 117, 34, 15], [231, 0, 23, 61, 85, 2, 73, 165, 125, 227], [127, 173, 145, 36, 83, 95, 191, 84, 61, 96], [118, 105, 52, 46, 170, 142, 124, 117, 34, 15], [100, 176, 59, 213, 212, 240, 27, 145, 243, 161], [10, 169, 71, 198, 34, 128, 0, 78, 199, 12], [239, 133, 106, 72, 185, 11, 123, 175, 157, 216], [98, 178, 160, 104, 168, 144, 68, 221, 232, 200], [8, 195, 213, 202, 141, 207, 22, 61, 231, 122], [8, 195, 213, 202, 141, 207, 22, 61, 231, 122], [4, 44, 206, 42, 27, 28, 34, 0, 223, 210], [119, 164, 138, 69, 68, 35, 129, 102, 179, 136], [118, 105, 52, 46, 170, 142, 124, 117, 34, 15], [1, 155, 164, 36, 49, 132, 242, 83, 202, 104], [7, 139, 41, 102, 67, 164, 140, 15, 159, 235], [127, 173, 145, 36, 83, 95, 191, 84, 61, 96], [126, 14, 192, 25, 26, 71, 147, 204, 161, 11], [6, 183, 104, 111, 167, 24, 141, 217, 22, 242], [9, 115, 170, 169, 210, 209, 234, 53, 216, 38], [234, 242, 183, 9, 217, 229, 83, 196, 220, 88], [3, 35, 46, 235, 124, 2, 45, 173, 43, 201], [5, 116, 26, 59, 227, 85, 84, 76, 87, 111], [107, 182, 152, 10, 241, 97, 52, 185, 229, 78], [113, 13, 42, 135, 77, 183, 149, 166, 51, 78], [11, 160, 200, 220, 31, 139, 236, 106, 168, 29], [3, 35, 46, 235, 124, 2, 45, 173, 43, 201], [243, 45, 236, 121, 193, 100, 63, 155, 30, 124], [121, 114, 139, 64, 186, 95, 93, 135, 194, 155], [8, 195, 213, 202, 141, 207, 22, 61, 231, 122], [7, 139, 41, 102, 67, 164, 140, 15, 159, 235], [127, 173, 145, 36, 83, 95, 191, 84, 61, 96], [119, 164, 138, 69, 68, 35, 129, 102, 179, 136], [243, 45, 236, 121, 193, 100, 63, 155, 30, 124], [124, 151, 227, 3, 118, 166, 220, 79, 35, 192], [122, 30, 195, 48, 204, 71, 197, 200, 106, 207], [4, 44, 206, 42, 27, 28, 34, 0, 223, 210], [121, 114, 139, 64, 186, 95, 93, 135, 194, 155], [10, 169, 71, 198, 34, 128, 0, 78, 199, 12], [4, 44, 206, 42, 27, 28, 34, 0, 223, 210], [7, 139, 41, 102, 67, 164, 140, 15, 159, 235], [228, 162, 70, 105, 63, 59, 174, 240, 29, 118], [229, 182, 83, 234, 152, 208, 22, 37, 163, 238], [122, 30, 195, 48, 204, 71, 197, 200, 106, 207], [104, 6, 20, 98, 183, 167, 111, 1, 156, 86], [116, 26, 5, 36, 240, 203, 101, 68, 82, 111], [11, 160, 200, 220, 31, 139, 236, 106, 168, 29], [111, 6, 210, 21, 141, 104, 79, 183, 160, 226], [11, 160, 200, 220, 31, 139, 236, 106, 168, 29], [126, 14, 192, 25, 26, 71, 147, 204, 161, 11], [112, 225, 55, 198, 117, 155, 40, 71, 103, 114], [97, 133, 181, 50, 207, 185, 40, 107, 204, 167], [118, 105, 52, 46, 170, 142, 124, 117, 34, 15], [123, 78, 101, 203, 26, 192, 27, 64, 161, 239], [4, 44, 206, 42, 27, 28, 34, 0, 223, 210], [10, 169, 71, 198, 34, 128, 0, 78, 199, 12], [4, 44, 206, 42, 27, 28, 34, 0, 223, 210], [119, 164, 138, 69, 68, 35, 129, 102, 179, 136], [81, 162, 165, 22, 78, 157, 166, 225, 48, 33], [237, 89, 28, 170, 152, 126, 71, 172, 80, 73], [121, 114, 139, 64, 186, 95, 93, 135, 194, 155], [127, 173, 145, 36, 83, 95, 191, 84, 61, 96], [114, 125, 191, 121, 34, 28, 194, 180, 133, 69], [190, 139, 62, 176, 162, 125, 128, 172, 145, 146], [205, 59, 19, 33, 148, 102, 135, 84, 224, 225], [233, 177, 203, 23, 227, 115, 52, 224, 136, 78], [81, 162, 165, 22, 78, 157, 166, 225, 48, 33], [121, 114, 139, 64, 186, 95, 93, 135, 194, 155], [126, 14, 192, 25, 26, 71, 147, 204, 161, 11], [0, 198, 148, 154, 195, 231, 155, 10, 23, 133], [126, 14, 192, 25, 26, 71, 147, 204, 161, 11], [190, 139, 62, 176, 162, 125, 128, 172, 145, 146], [39, 157, 130, 191, 23, 27, 109, 151, 57, 79], [126, 14, 192, 25, 26, 71, 147, 204, 161, 11], [10, 169, 71, 198, 34, 128, 0, 78, 199, 12], [2, 23, 148, 224, 125, 218, 167, 231, 145, 220], [157, 39, 78, 16, 27, 105, 38, 163, 31, 81], [11, 160, 200, 220, 31, 139, 236, 106, 168, 29], [94, 152, 118, 223, 7, 164, 55, 86, 110, 113], [93, 235, 185, 125, 52, 41, 240, 121, 210, 114], [242, 234, 169, 49, 192, 164, 1, 181, 220, 180], [98, 178, 160, 104, 168, 144, 68, 221, 232, 200], [112, 225, 55, 198, 117, 155, 40, 71, 103, 114], [113, 13, 42, 135, 77, 183, 149, 166, 51, 78], [6, 183, 104, 111, 167, 24, 141, 217, 22, 242], [124, 151, 227, 3, 118, 166, 220, 79, 35, 192], [6, 183, 104, 111, 167, 24, 141, 217, 22, 242], [114, 125, 191, 121, 34, 28, 194, 180, 133, 69], [11, 160, 200, 220, 31, 139, 236, 106, 168, 29], [124, 151, 227, 3, 118, 166, 220, 79, 35, 192], [125, 23, 194, 114, 2, 235, 60, 93, 202, 231], [127, 173, 145, 36, 83, 95, 191, 84, 61, 96], [4, 44, 206, 42, 27, 28, 34, 0, 223, 210], [3, 35, 46, 235, 124, 2, 45, 173, 43, 201], [10, 169, 71, 198, 34, 128, 0, 78, 199, 12], [120, 183, 37, 238, 78, 16, 134, 136, 165, 101], [5, 116, 26, 59, 227, 85, 84, 76, 87, 111], [9, 115, 170, 169, 210, 209, 234, 53, 216, 38], [8, 195, 213, 202, 141, 207, 22, 61, 231, 122], [116, 26, 5, 36, 240, 203, 101, 68, 82, 111], [122, 30, 195, 48, 204, 71, 197, 200, 106, 207], [6, 183, 104, 111, 167, 24, 141, 217, 22, 242], [213, 8, 171, 151, 170, 129, 207, 100, 57, 193], [158, 174, 133, 67, 196, 215, 139, 18, 220, 61], [94, 152, 118, 223, 7, 164, 55, 86, 110, 113], [122, 30, 195, 48, 204, 71, 197, 200, 106, 207], [10, 169, 71, 198, 34, 128, 0, 78, 199, 12], [236, 194, 11, 22, 227, 222, 45, 167, 131, 243], [7, 139, 41, 102, 67, 164, 140, 15, 159, 235], [122, 30, 195, 48, 204, 71, 197, 200, 106, 207], [10, 169, 71, 198, 34, 128, 0, 78, 199, 12], [237, 89, 28, 170, 152, 126, 71, 172, 80, 73], [125, 23, 194, 114, 2, 235, 60, 93, 202, 231], [10, 169, 71, 198, 34, 128, 0, 78, 199, 12], [126, 14, 192, 25, 26, 71, 147, 204, 161, 11], [120, 183, 37, 238, 78, 16, 134, 136, 165, 101], [8, 195, 213, 202, 141, 207, 22, 61, 231, 122], [4, 44, 206, 42, 27, 28, 34, 0, 223, 210], [121, 114, 139, 64, 186, 95, 93, 135, 194, 155], [11, 160, 200, 220, 31, 139, 236, 106, 168, 29], [126, 14, 192, 25, 26, 71, 147, 204, 161, 11], [122, 30, 195, 48, 204, 71, 197, 200, 106, 207], [106, 194, 239, 177, 167, 11, 206, 214, 122, 238], [239, 133, 106, 72, 185, 11, 123, 175, 157, 216], [0, 198, 148, 154, 195, 231, 155, 10, 23, 133], [9, 115, 170, 169, 210, 209, 234, 53, 216, 38], [9, 115, 170, 169, 210, 209, 234, 53, 216, 38], [114, 125, 191, 121, 34, 28, 194, 180, 133, 69], [3, 35, 46, 235, 124, 2, 45, 173, 43, 201], [227, 124, 166, 85, 5, 231, 115, 236, 233, 220], [5, 116, 26, 59, 227, 85, 84, 76, 87, 111], [124, 151, 227, 3, 118, 166, 220, 79, 35, 192], [127, 173, 145, 36, 83, 95, 191, 84, 61, 96], [119, 164, 138, 69, 68, 35, 129, 102, 179, 136], [119, 164, 138, 69, 68, 35, 129, 102, 179, 136], [238, 57, 75, 223, 120, 166, 229, 106, 69, 219], [2, 23, 148, 224, 125, 218, 167, 231, 145, 220], [120, 183, 37, 238, 78, 16, 134, 136, 165, 101], [127, 173, 145, 36, 83, 95, 191, 84, 61, 96], [9, 115, 170, 169, 210, 209, 234, 53, 216, 38], [124, 151, 227, 3, 118, 166, 220, 79, 35, 192], [123, 78, 101, 203, 26, 192, 27, 64, 161, 239], [6, 183, 104, 111, 167, 24, 141, 217, 22, 242], [127, 173, 145, 36, 83, 95, 191, 84, 61, 96], [231, 0, 23, 61, 85, 2, 73, 165, 125, 227], [95, 146, 232, 137, 121, 41, 127, 170, 77, 214], [125, 23, 194, 114, 2, 235, 60, 93, 202, 231], [115, 9, 169, 174, 227, 181, 32, 160, 233, 173], [1, 155, 164, 36, 49, 132, 242, 83, 202, 104], [112, 225, 55, 198, 117, 155, 40, 71, 103, 114], [10, 169, 71, 198, 34, 128, 0, 78, 199, 12], [227, 124, 166, 85, 5, 231, 115, 236, 233, 220], [122, 30, 195, 48, 204, 71, 197, 200, 106, 207]]\n"
     ]
    }
   ],
   "source": [
    "actual=test['actual'].values.tolist()\n",
    "als_predictions=test['als_predictions'].values.tolist()\n",
    "print(actual)\n",
    "print(als_predictions)"
   ]
  },
  {
   "cell_type": "code",
   "execution_count": 144,
   "metadata": {},
   "outputs": [
    {
     "data": {
      "text/plain": [
       "[0.03944745258574553,\n",
       " 0.04208311673702545,\n",
       " 0.04375025757107743,\n",
       " 0.04556878986065683,\n",
       " 0.047199114067660045,\n",
       " 0.048133522512746815,\n",
       " 0.04976152799880841,\n",
       " 0.05077340875909067,\n",
       " 0.05145076618610808,\n",
       " 0.05186697046147398]"
      ]
     },
     "execution_count": 144,
     "metadata": {},
     "output_type": "execute_result"
    }
   ],
   "source": [
    "# calculate the mark score\n",
    "als_mark = []\n",
    "for K in np.arange(1, 11):\n",
    "    als_mark.extend([recmetrics.mark(actual, als_predictions, k=K)])\n",
    "als_mark"
   ]
  },
  {
   "cell_type": "code",
   "execution_count": 145,
   "metadata": {},
   "outputs": [
    {
     "data": {
      "image/png": "[encoded data removed]",
      "text/plain": [
       "<Figure size 1080x504 with 1 Axes>"
      ]
     },
     "metadata": {
      "needs_background": "light"
     },
     "output_type": "display_data"
    }
   ],
   "source": [
    "# generate a mark plot\n",
    "mark_scores = [als_mark]\n",
    "index = range(1,10+1)\n",
    "names = ['Alternative Least Square Collaborative Filter']\n",
    "\n",
    "fig = plt.figure(figsize=(15, 7))\n",
    "recmetrics.mark_plot(mark_scores, model_names=names, k_range=index)"
   ]
  },
  {
   "cell_type": "code",
   "execution_count": 146,
   "metadata": {},
   "outputs": [],
   "source": [
    "import ml_metrics as metrics"
   ]
  },
  {
   "cell_type": "markdown",
   "metadata": {},
   "source": [
    "### Similarly, generate MAPK score"
   ]
  },
  {
   "cell_type": "code",
   "execution_count": 147,
   "metadata": {},
   "outputs": [
    {
     "data": {
      "text/plain": [
       "[0.9426229508196722,\n",
       " 0.5061475409836066,\n",
       " 0.3524590163934426,\n",
       " 0.27638319672131145,\n",
       " 0.22815573770491804,\n",
       " 0.19400045537340618,\n",
       " 0.17205726552916245,\n",
       " 0.15375195160031227,\n",
       " 0.13889467140833262,\n",
       " 0.12611176164454854]"
      ]
     },
     "execution_count": 147,
     "metadata": {},
     "output_type": "execute_result"
    }
   ],
   "source": [
    "als_mapk = []\n",
    "for K in np.arange(1, 11):\n",
    "    als_mapk.extend([metrics.mapk(actual, als_predictions, k=K)])\n",
    "als_mapk"
   ]
  },
  {
   "cell_type": "code",
   "execution_count": 148,
   "metadata": {},
   "outputs": [
    {
     "data": {
      "image/png": "[encoded data removed]",
      "text/plain": [
       "<Figure size 1080x504 with 1 Axes>"
      ]
     },
     "metadata": {
      "needs_background": "light"
     },
     "output_type": "display_data"
    }
   ],
   "source": [
    "# generate a mapk plot\n",
    "mapk_scores = [als_mapk]\n",
    "index = range(1,10+1)\n",
    "names = ['Alternating Least Squares Collaborative Filter']\n",
    "\n",
    "fig = plt.figure(figsize=(15, 7))\n",
    "recmetrics.mapk_plot(mapk_scores, model_names=names, k_range=index)"
   ]
  },
  {
   "cell_type": "markdown",
   "metadata": {},
   "source": [
    "## Calculate the prediction coverage"
   ]
  },
  {
   "cell_type": "code",
   "execution_count": 149,
   "metadata": {},
   "outputs": [
    {
     "name": "stdout",
     "output_type": "stream",
     "text": [
      "78.0\n"
     ]
    }
   ],
   "source": [
    "catalog = ratings.destination_id.unique().tolist()\n",
    "als_coverage = recmetrics.prediction_coverage(als_predictions, catalog)\n",
    "print(als_coverage)"
   ]
  },
  {
   "cell_type": "markdown",
   "metadata": {},
   "source": [
    "## Coverage plot"
   ]
  },
  {
   "cell_type": "code",
   "execution_count": 150,
   "metadata": {},
   "outputs": [
    {
     "data": {
      "image/png": "[encoded data removed]",
      "text/plain": [
       "<Figure size 504x360 with 1 Axes>"
      ]
     },
     "metadata": {
      "needs_background": "light"
     },
     "output_type": "display_data"
    }
   ],
   "source": [
    "# plot of prediction coverage\n",
    "als_scores = [als_coverage]\n",
    "model_names = ['Alternating Least Squares Filter']\n",
    "\n",
    "fig = plt.figure(figsize=(7, 5))\n",
    "recmetrics.coverage_plot(als_scores, model_names)"
   ]
  },
  {
   "cell_type": "markdown",
   "metadata": {},
   "source": [
    "## Intra-list similarity"
   ]
  },
  {
   "cell_type": "code",
   "execution_count": 151,
   "metadata": {},
   "outputs": [
    {
     "data": {
      "text/html": [
       "<div>\n",
       "<style scoped>\n",
       "    .dataframe tbody tr th:only-of-type {\n",
       "        vertical-align: middle;\n",
       "    }\n",
       "\n",
       "    .dataframe tbody tr th {\n",
       "        vertical-align: top;\n",
       "    }\n",
       "\n",
       "    .dataframe thead th {\n",
       "        text-align: right;\n",
       "    }\n",
       "</style>\n",
       "<table border=\"1\" class=\"dataframe\">\n",
       "  <thead>\n",
       "    <tr style=\"text-align: right;\">\n",
       "      <th></th>\n",
       "      <th>history</th>\n",
       "      <th>art_and_architecture</th>\n",
       "      <th>nature</th>\n",
       "      <th>adventure</th>\n",
       "      <th>entertainment</th>\n",
       "      <th>health_and_lifestyle</th>\n",
       "      <th>food</th>\n",
       "      <th>industries</th>\n",
       "      <th>religious</th>\n",
       "    </tr>\n",
       "  </thead>\n",
       "  <tbody>\n",
       "    <tr>\n",
       "      <th>0</th>\n",
       "      <td>True</td>\n",
       "      <td>True</td>\n",
       "      <td>False</td>\n",
       "      <td>False</td>\n",
       "      <td>False</td>\n",
       "      <td>False</td>\n",
       "      <td>False</td>\n",
       "      <td>False</td>\n",
       "      <td>True</td>\n",
       "    </tr>\n",
       "    <tr>\n",
       "      <th>1</th>\n",
       "      <td>False</td>\n",
       "      <td>False</td>\n",
       "      <td>True</td>\n",
       "      <td>False</td>\n",
       "      <td>False</td>\n",
       "      <td>False</td>\n",
       "      <td>False</td>\n",
       "      <td>False</td>\n",
       "      <td>False</td>\n",
       "    </tr>\n",
       "    <tr>\n",
       "      <th>2</th>\n",
       "      <td>False</td>\n",
       "      <td>False</td>\n",
       "      <td>True</td>\n",
       "      <td>False</td>\n",
       "      <td>False</td>\n",
       "      <td>False</td>\n",
       "      <td>False</td>\n",
       "      <td>False</td>\n",
       "      <td>False</td>\n",
       "    </tr>\n",
       "    <tr>\n",
       "      <th>3</th>\n",
       "      <td>True</td>\n",
       "      <td>True</td>\n",
       "      <td>False</td>\n",
       "      <td>False</td>\n",
       "      <td>False</td>\n",
       "      <td>False</td>\n",
       "      <td>False</td>\n",
       "      <td>False</td>\n",
       "      <td>True</td>\n",
       "    </tr>\n",
       "    <tr>\n",
       "      <th>4</th>\n",
       "      <td>False</td>\n",
       "      <td>False</td>\n",
       "      <td>True</td>\n",
       "      <td>False</td>\n",
       "      <td>False</td>\n",
       "      <td>False</td>\n",
       "      <td>False</td>\n",
       "      <td>False</td>\n",
       "      <td>False</td>\n",
       "    </tr>\n",
       "    <tr>\n",
       "      <th>...</th>\n",
       "      <td>...</td>\n",
       "      <td>...</td>\n",
       "      <td>...</td>\n",
       "      <td>...</td>\n",
       "      <td>...</td>\n",
       "      <td>...</td>\n",
       "      <td>...</td>\n",
       "      <td>...</td>\n",
       "      <td>...</td>\n",
       "    </tr>\n",
       "    <tr>\n",
       "      <th>437</th>\n",
       "      <td>False</td>\n",
       "      <td>True</td>\n",
       "      <td>False</td>\n",
       "      <td>False</td>\n",
       "      <td>False</td>\n",
       "      <td>False</td>\n",
       "      <td>False</td>\n",
       "      <td>False</td>\n",
       "      <td>True</td>\n",
       "    </tr>\n",
       "    <tr>\n",
       "      <th>438</th>\n",
       "      <td>True</td>\n",
       "      <td>False</td>\n",
       "      <td>False</td>\n",
       "      <td>False</td>\n",
       "      <td>False</td>\n",
       "      <td>False</td>\n",
       "      <td>False</td>\n",
       "      <td>False</td>\n",
       "      <td>False</td>\n",
       "    </tr>\n",
       "    <tr>\n",
       "      <th>439</th>\n",
       "      <td>True</td>\n",
       "      <td>False</td>\n",
       "      <td>False</td>\n",
       "      <td>False</td>\n",
       "      <td>False</td>\n",
       "      <td>False</td>\n",
       "      <td>False</td>\n",
       "      <td>False</td>\n",
       "      <td>False</td>\n",
       "    </tr>\n",
       "    <tr>\n",
       "      <th>440</th>\n",
       "      <td>True</td>\n",
       "      <td>True</td>\n",
       "      <td>False</td>\n",
       "      <td>False</td>\n",
       "      <td>True</td>\n",
       "      <td>False</td>\n",
       "      <td>False</td>\n",
       "      <td>False</td>\n",
       "      <td>False</td>\n",
       "    </tr>\n",
       "    <tr>\n",
       "      <th>441</th>\n",
       "      <td>False</td>\n",
       "      <td>False</td>\n",
       "      <td>False</td>\n",
       "      <td>True</td>\n",
       "      <td>False</td>\n",
       "      <td>False</td>\n",
       "      <td>False</td>\n",
       "      <td>False</td>\n",
       "      <td>False</td>\n",
       "    </tr>\n",
       "  </tbody>\n",
       "</table>\n",
       "<p>442 rows × 9 columns</p>\n",
       "</div>"
      ],
      "text/plain": [
       "     history  art_and_architecture  nature  adventure  entertainment  \\\n",
       "0       True                  True   False      False          False   \n",
       "1      False                 False    True      False          False   \n",
       "2      False                 False    True      False          False   \n",
       "3       True                  True   False      False          False   \n",
       "4      False                 False    True      False          False   \n",
       "..       ...                   ...     ...        ...            ...   \n",
       "437    False                  True   False      False          False   \n",
       "438     True                 False   False      False          False   \n",
       "439     True                 False   False      False          False   \n",
       "440     True                  True   False      False           True   \n",
       "441    False                 False   False       True          False   \n",
       "\n",
       "     health_and_lifestyle   food  industries  religious  \n",
       "0                   False  False       False       True  \n",
       "1                   False  False       False      False  \n",
       "2                   False  False       False      False  \n",
       "3                   False  False       False       True  \n",
       "4                   False  False       False      False  \n",
       "..                    ...    ...         ...        ...  \n",
       "437                 False  False       False       True  \n",
       "438                 False  False       False      False  \n",
       "439                 False  False       False      False  \n",
       "440                 False  False       False      False  \n",
       "441                 False  False       False      False  \n",
       "\n",
       "[442 rows x 9 columns]"
      ]
     },
     "execution_count": 151,
     "metadata": {},
     "output_type": "execute_result"
    }
   ],
   "source": [
    "feature_df=destinations[['history','art_and_architecture','nature','adventure', 'entertainment','health_and_lifestyle',\\\n",
    "                        'food','industries','religious']]\n",
    "feature_df"
   ]
  },
  {
   "cell_type": "code",
   "execution_count": 152,
   "metadata": {},
   "outputs": [
    {
     "data": {
      "text/plain": [
       "0.46887769632570275"
      ]
     },
     "execution_count": 152,
     "metadata": {},
     "output_type": "execute_result"
    }
   ],
   "source": [
    "recmetrics.intra_list_similarity(als_predictions, feature_df)"
   ]
  }
 ],
 "metadata": {
  "kernelspec": {
   "display_name": "Python 3 (ipykernel)",
   "language": "python",
   "name": "python3"
  },
  "language_info": {
   "codemirror_mode": {
    "name": "ipython",
    "version": 3
   },
   "file_extension": ".py",
   "mimetype": "text/x-python",
   "name": "python",
   "nbconvert_exporter": "python",
   "pygments_lexer": "ipython3",
   "version": "3.9.7"
  }
 },
 "nbformat": 4,
 "nbformat_minor": 4
}
