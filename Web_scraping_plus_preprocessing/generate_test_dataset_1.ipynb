{
 "cells": [
  {
   "cell_type": "code",
   "execution_count": 328,
   "id": "d6abd4b0",
   "metadata": {},
   "outputs": [],
   "source": [
    "import pandas as pd\n",
    "import numpy as np"
   ]
  },
  {
   "cell_type": "code",
   "execution_count": 329,
   "id": "98774b96",
   "metadata": {},
   "outputs": [
    {
     "name": "stdout",
     "output_type": "stream",
     "text": [
      "                  title avg_rating  voted_by            genre    latitude  \\\n",
      "0      Boudhanath Stupa        4.5      8897  Religious Sites  27.7215062   \n",
      "1  Swayambhunath Temple        4.5      6203  Religious Sites  27.7149298   \n",
      "2  Pashupatinath Temple        4.5      4937  Religious Sites  27.7104461   \n",
      "3     Chandragiri Hills        4.5       399        Mountains  27.6710496   \n",
      "4       Kopan Monastery        4.5       787  Religious Sites  27.7425438   \n",
      "\n",
      "   longitude  \n",
      "0  85.359809  \n",
      "1  85.288146  \n",
      "2  85.346503  \n",
      "3  85.262664  \n",
      "4  85.362208  \n",
      "(2345, 6)\n"
     ]
    }
   ],
   "source": [
    "dataset=pd.read_csv(\"../Datasets/destinations_of_kathmandu_updated_with_latlong.csv\")\n",
    "print(dataset.head())\n",
    "print(dataset.shape)"
   ]
  },
  {
   "cell_type": "code",
   "execution_count": 330,
   "id": "a03f3875",
   "metadata": {},
   "outputs": [],
   "source": [
    "genre_arr=[] #store all values for each row in this array\n",
    "for i in range(len(dataset['genre'])):\n",
    "    arr=[] #array to store stripped items\n",
    "    splitted_arr=str(dataset['genre'][i]).split('•')\n",
    "\n",
    "    for item in splitted_arr:\n",
    "        new_stripped_item=item.strip()\n",
    "        arr.append(new_stripped_item)\n",
    "    genre_arr.append(arr)\n",
    "\n",
    "dataset['genre']=genre_arr"
   ]
  },
  {
   "cell_type": "code",
   "execution_count": 331,
   "id": "30656308",
   "metadata": {},
   "outputs": [
    {
     "name": "stdout",
     "output_type": "stream",
     "text": [
      "                                    title avg_rating  voted_by  \\\n",
      "0                        Boudhanath Stupa        4.5      8897   \n",
      "1                    Swayambhunath Temple        4.5      6203   \n",
      "2                    Pashupatinath Temple        4.5      4937   \n",
      "3                       Chandragiri Hills        4.5       399   \n",
      "4                         Kopan Monastery        4.5       787   \n",
      "...                                   ...        ...       ...   \n",
      "2340         Zeal Nepal Trek & Expedition          N         0   \n",
      "2341                        Mohit Sunuwar          N         0   \n",
      "2342  SITA (Travel Corporation India Ltd)          N         0   \n",
      "2343                       Himalayan Hike          N         0   \n",
      "2344                            River Fun          N         0   \n",
      "\n",
      "                                             genre    latitude  longitude  \n",
      "0                                [Religious Sites]  27.7215062  85.359809  \n",
      "1                                [Religious Sites]  27.7149298  85.288146  \n",
      "2                                [Religious Sites]  27.7104461  85.346503  \n",
      "3                                      [Mountains]  27.6710496  85.262664  \n",
      "4                                [Religious Sites]  27.7425438  85.362208  \n",
      "...                                            ...         ...        ...  \n",
      "2340     [Multi-day Tours, River Rafting & Tubing]         NaN        NaN  \n",
      "2341  [Parasailing & Paragliding, Multi-day Tours]         NaN        NaN  \n",
      "2342              [Multi-day Tours, Balloon Rides]         NaN        NaN  \n",
      "2343                 [City Tours, Multi-day Tours]         NaN        NaN  \n",
      "2344    [River Rafting & Tubing, Taxis & Shuttles]         NaN        NaN  \n",
      "\n",
      "[2345 rows x 6 columns]\n"
     ]
    }
   ],
   "source": [
    "print(dataset)"
   ]
  },
  {
   "cell_type": "code",
   "execution_count": 332,
   "id": "72542c1f",
   "metadata": {},
   "outputs": [
    {
     "name": "stdout",
     "output_type": "stream",
     "text": [
      "{'History Museums', 'Government Buildings', 'nan', 'River Rafting & Tubing', 'Flea & Street Markets', 'Sports Camps & Clinics', 'Helicopter Tours', 'Health Clubs', 'Archaeology Tours', 'Religious Sites', 'Bike Tours', 'Libraries', 'Walking Tours', 'Hiking Trails', 'Food Tours', 'Karaoke Bars', 'Spas', 'Visitor Centers', 'Taxis & Shuttles', 'Casinos', 'Beer Tastings & Tours', 'Hiking & Camping Tours', '8', 'Motorcycle Tours', 'Neighborhoods', 'City Tours', 'Sightseeing Tours', 'Natural History Museums', 'Yoga & Pilates', 'Motorcycle Trails', 'Parasailing & Paragliding', 'Historic Sites', 'Zipline & Aerial Adventure Parks', 'Horseback Riding Tours', 'Sports Complexes', 'Canyoning & Rappelling Tours', 'Factory Tours', 'Gear Rentals', 'Adrenaline & Extreme Tours', 'Speciality Museums', 'Bar, Club & Pub Tours', 'Churches & Cathedrals', 'Submarine Tours', 'Scenic Walking Areas', 'Distilleries', 'Waterfalls', 'Lessons & Workshops', 'Amusement & Theme Parks', 'Bus Services', 'Distillery Tours', 'Water Sports', 'Bodies of Water', 'Factory Outlets', 'Kayaking & Canoeing', 'Multi-day Tours', 'Theaters', 'Shopping Tours', 'Lookouts', 'Dance Clubs & Discos', 'Other Outdoor Activities', 'Movie Theaters', 'Shopping Malls', 'Nature & Wildlife Areas', \"Children's Museums\", 'Game & Entertainment Centers', 'Boat Tours', 'Parks', 'Fishing Charters & Tours', 'Monuments & Statues', 'Paint & Pottery Studios', 'Balloon Rides', 'Theatre & Performances', 'Farmers Markets', 'Nature & Wildlife Tours', 'Dams', 'Vespa, Scooter & Moped Tours', 'Cultural Tours', 'Self-Guided Tours & Rentals', 'Speciality & Gift Shops', 'Eco Tours', 'Convention Centers', 'Day Trips', 'Bars & Clubs', 'Forests', 'National Parks', 'Photography Tours', 'Coffee & Tea Tours', 'Military Museums', 'Air Tours', 'Horse-Drawn Carriage Tours', 'Safaris', 'Art Galleries', '4WD, ATV & Off-Road Tours', 'Mountains', 'Historical & Heritage Tours', 'Private Tours', 'Wineries & Vineyards', 'Cooking Classes', 'Antique Shops', 'Bus Tours', 'Points of Interest & Landmarks', 'Biking Trails', 'Climbing Tours', 'Historic Walking Areas', 'Playgrounds', 'Ski & Snow Tours', 'Architectural Buildings', 'Gardens', 'Art Museums'}\n"
     ]
    }
   ],
   "source": [
    "#append all the items in the individual list from genre into a super list \n",
    "super_genre_list=[]\n",
    "for each_list in dataset['genre']:\n",
    "    for item in each_list:\n",
    "        super_genre_list.append(item)\n",
    "\n",
    "#convert that into set to have only the unique values \n",
    "superset=set((super_genre_list))\n",
    "print(superset)"
   ]
  },
  {
   "cell_type": "code",
   "execution_count": 333,
   "id": "c862f944",
   "metadata": {},
   "outputs": [],
   "source": [
    "#make checklists\n",
    "industries_checklist=['Distilleries','Factory Tours','Factory Outlets','Lessons & Workshops', 'Wineries & Vineyards']\n",
    "health_and_lifestyle_checklist=['Sports Camps & Clinics','Spas','Yoga & Pilates','Flea & Street Markets','Health Clubs']\n",
    "food_checklist=['Coffee & Tea Tours','Food Tours','Wineries & Vineyards', 'Beer Tastings & Tours',\\\n",
    "               'Cooking Classes','Farmers Markets',]\n",
    "\n",
    "entertainment_checklist=['Horse-Drawn Carriage Tours', 'Vespa, Scooter & Moped Tours', 'Amusement & Theme Parks',\\\n",
    "                        'Shopping Tours', 'Theaters', 'Dance Clubs & Discos','Other Outdoor Activities',\\\n",
    "                        'Bars & Clubs','Coffee & Tea Tours','Fishing Charters & Tours','Playgrounds', 'Game & Entertainment Centers',\\\n",
    "                        'Food Tours','Movie Theaters','Karaoke Bars','Theatre & Performances','Shopping Malls', 'Sports Complexes',\\\n",
    "                        'City Tours','Self-Guided Tours & Rentals','Farmers Markets', 'Flea & Street Markets',\\\n",
    "                        'Bar, Club & Pub Tours','Casinos','River Rafting & Tubing','Bike Tours','Walking Tours',\\\n",
    "                        'Zipline & Aerial Adventure Parks','Horseback Riding Tours','Sports Complexes',\\\n",
    "                        'Canyoning & Rappelling Tours','Scenic Walking Areas',\"Children's Museums\",]\n",
    "\n",
    "religious_checklist=['Art Galleries','Archaeology Tours','Antique Shops','Cultural Tours','Religious Sites','Monuments & Statues']\n",
    "\n",
    "adventure_checklist=['Archaeology Tours', 'Nature & Wildlife Tours','Kayaking & Canoeing', 'Ski & Snow Tours',\\\n",
    "                    'Motorcycle Trails', 'Horseback Riding Tours', 'Canyoning & Rappelling Tours',\\\n",
    "                     'Safaris','Zipline & Aerial Adventure Parks', 'Biking Trails', 'Gear Rentals', 'Bike Tours',\\\n",
    "                     'Climbing Tours','Eco Tours','River Rafting & Tubing','Sports Camps & Clinics',\\\n",
    "                     'Parasailing & Paragliding', 'Balloon Rides', 'Photography Tours','4WD, ATV & Off-Road Tours',\\\n",
    "                     'Hiking & Camping Tours', 'Bus Tours','Hiking Trails', 'Adrenaline & Extreme Tours',\\\n",
    "                     'Helicopter Tours', 'Sightseeing Tours','Nature & Wildlife Areas','Submarine Tours','Walking Tours',\\\n",
    "                     'Sightseeing Tours','Horseback Riding Tours','Canyoning & Rappelling Tours','Scenic Walking Areas']\n",
    "\n",
    "nature_checklist=['Nature & Wildlife Tours','Dams','National Parks','Fishing Charters & Tours','Forests', 'Mountains', 'Private Tours',\\\n",
    "                  'Scenic Walking Areas','Safaris','Climbing Tours','Points of Interest & Landmarks','Wineries & Vineyards',\\\n",
    "                  'Water Sports','Valleys','Hiking Trails','Adrenaline & Extreme Tours','Lookouts', 'Helicopter Tours',\\\n",
    "                  'Sightseeing Tours', 'Air Tours','Bodies of Water', 'Nature & Wildlife Areas','Gardens',\\\n",
    "                  'River Rafting & Tubing','Canyoning & Rappelling Tours','Parks','Waterfalls']\n",
    "\n",
    "art_and_architecture_checklist=['Art Galleries','Architectural Buildings','Archaeology Tours','Antique Shops','Government Buildings',\\\n",
    "                      'Historic Sites','Military Museums','Speciality & Gift Shops','Theaters','Cultural Tours',\\\n",
    "                      'Natural History Museums','Points of Interest & Landmarks','Historical & Heritage Tours', \"Children's Museums\",\\\n",
    "                      'City Tours','Religious Sites','Paint & Pottery Studios','Churches & Cathedrals',\\\n",
    "                      'Art Museums','Libraries','Monuments & Statues','Lookouts','History Museums','Convention Centers',\\\n",
    "                      'Movie Theaters','Sightseeing Tours','Historic Walking Areas','Speciality Museums','Flea & Street Markets',\\\n",
    "                      'Scenic Walking Areas','Paint & Pottery Studios','Parks'\\\n",
    "                      ]\n",
    "\n",
    "history_checklist=['Art Galleries','Architectural Buildings','Archaeology Tours','Antique Shops','Government Buildings',\\\n",
    "                  'Multi-day Tours','Historic Sites','Military Museums','Speciality & Gift Shops',\\\n",
    "                  'Natural History Museums','Points of Interest & Landmarks','Historical & Heritage Tours', \"Children's Museums\",\\\n",
    "                  'City Tours','Religious Sites','Paint & Pottery Studios','Churches & Cathedrals',\\\n",
    "                  'Art Museums','Libraries','Monuments & Statues','Lookouts','History Museums','Convention Centers',\\\n",
    "                  'Factory Tours','Historic Walking Areas','Neighborhoods','Gardens','Speciality Museums','Scenic Walking Areas',\\\n",
    "                  \"Children's Museums\",'Parks']"
   ]
  },
  {
   "cell_type": "code",
   "execution_count": 334,
   "id": "a6ef7e37",
   "metadata": {},
   "outputs": [],
   "source": [
    "def assign_history_col(dataset):\n",
    "    '''assigns history column'''\n",
    "    history_arr=[]\n",
    "    #iterate through every row of dataset \n",
    "    for each_list in dataset['genre']:\n",
    "        for item in each_list:\n",
    "            #history column\n",
    "            if(any(check_item.lower() == item.lower() for check_item in history_checklist)):\n",
    "                history_arr.append(True)\n",
    "                break\n",
    "            else:\n",
    "                history_arr.append(False)\n",
    "                break\n",
    "    return history_arr"
   ]
  },
  {
   "cell_type": "code",
   "execution_count": 335,
   "id": "caa94692",
   "metadata": {},
   "outputs": [],
   "source": [
    "history_arr=assign_history_col(dataset)\n",
    "dataset['history']=history_arr"
   ]
  },
  {
   "cell_type": "code",
   "execution_count": 336,
   "id": "ebf443f3",
   "metadata": {},
   "outputs": [],
   "source": [
    "def assign_art_and_architecture_col(dataset):\n",
    "    '''assigns art_and_architecture column'''    \n",
    "    art_and_architecture_arr=[]\n",
    "    #iterate through every row of dataset \n",
    "    for each_list in dataset['genre']:\n",
    "        for item in each_list:\n",
    "            if(any(check_item.lower() == item.lower() for check_item in art_and_architecture_checklist)):\n",
    "                art_and_architecture_arr.append(True)\n",
    "                break\n",
    "            else:\n",
    "                art_and_architecture_arr.append(False)\n",
    "                break\n",
    "    return art_and_architecture_arr"
   ]
  },
  {
   "cell_type": "code",
   "execution_count": 337,
   "id": "e29d5a01",
   "metadata": {},
   "outputs": [],
   "source": [
    "art_and_architecture_arr=assign_art_and_architecture_col(dataset)\n",
    "dataset['art_and_architecture']=art_and_architecture_arr"
   ]
  },
  {
   "cell_type": "code",
   "execution_count": 338,
   "id": "7ee5084a",
   "metadata": {},
   "outputs": [],
   "source": [
    "def assign_nature_col(dataset):\n",
    "    '''assigns nature column'''\n",
    "    nature_arr=[]\n",
    "    #iterate through every row of dataset \n",
    "    for each_list in dataset['genre']:\n",
    "        for item in each_list:\n",
    "            if(any(check_item.lower() == item.lower() for check_item in nature_checklist)):\n",
    "                nature_arr.append(True)\n",
    "                break\n",
    "            else:\n",
    "                nature_arr.append(False)\n",
    "                break\n",
    "    return nature_arr"
   ]
  },
  {
   "cell_type": "code",
   "execution_count": 339,
   "id": "9917b4f1",
   "metadata": {},
   "outputs": [],
   "source": [
    "nature_arr=assign_nature_col(dataset)\n",
    "dataset['nature']=nature_arr"
   ]
  },
  {
   "cell_type": "code",
   "execution_count": 340,
   "id": "bcd7c238",
   "metadata": {},
   "outputs": [],
   "source": [
    "def assign_adventure_col(dataset):\n",
    "    '''assigns adventure column'''\n",
    "    adventure_arr=[]\n",
    "    #iterate through every row of dataset \n",
    "    for each_list in dataset['genre']:\n",
    "        for item in each_list:\n",
    "            if(any(check_item.lower() == item.lower() for check_item in adventure_checklist)):\n",
    "                adventure_arr.append(True)\n",
    "                break\n",
    "            else:\n",
    "                adventure_arr.append(False)\n",
    "                break\n",
    "    return adventure_arr"
   ]
  },
  {
   "cell_type": "code",
   "execution_count": 341,
   "id": "0af3f75d",
   "metadata": {},
   "outputs": [],
   "source": [
    "adventure_arr=assign_adventure_col(dataset)\n",
    "dataset['adventure']=adventure_arr"
   ]
  },
  {
   "cell_type": "code",
   "execution_count": 342,
   "id": "faf75fa1",
   "metadata": {},
   "outputs": [],
   "source": [
    "def assign_entertainment_col(dataset):\n",
    "    '''assigns entertainment column'''\n",
    "    entertainment_arr=[]\n",
    "    #iterate through every row of dataset \n",
    "    for each_list in dataset['genre']:\n",
    "        for item in each_list:\n",
    "            if(any(check_item.lower() == item.lower() for check_item in entertainment_checklist)):\n",
    "                entertainment_arr.append(True)\n",
    "                break\n",
    "            else:\n",
    "                entertainment_arr.append(False)\n",
    "                break\n",
    "    return entertainment_arr"
   ]
  },
  {
   "cell_type": "code",
   "execution_count": 343,
   "id": "f6f42306",
   "metadata": {},
   "outputs": [],
   "source": [
    "entertainment_arr=assign_entertainment_col(dataset)\n",
    "dataset['entertainment']=entertainment_arr"
   ]
  },
  {
   "cell_type": "code",
   "execution_count": 344,
   "id": "2ec416e5",
   "metadata": {},
   "outputs": [],
   "source": [
    "def assign_health_and_lifestyle_col(dataset):\n",
    "    '''assigns health_and_lifestyle column'''\n",
    "    health_and_lifestyle_arr=[]\n",
    "    #iterate through every row of dataset \n",
    "    for each_list in dataset['genre']:\n",
    "        for item in each_list:\n",
    "            if(any(check_item.lower() == item.lower() for check_item in health_and_lifestyle_checklist)):\n",
    "                health_and_lifestyle_arr.append(True)\n",
    "                break\n",
    "            else:\n",
    "                health_and_lifestyle_arr.append(False)\n",
    "                break\n",
    "    return health_and_lifestyle_arr"
   ]
  },
  {
   "cell_type": "code",
   "execution_count": 345,
   "id": "5186a612",
   "metadata": {},
   "outputs": [],
   "source": [
    "health_and_lifestyle_arr=assign_health_and_lifestyle_col(dataset)\n",
    "dataset['health_and_lifestyle']=health_and_lifestyle_arr"
   ]
  },
  {
   "cell_type": "code",
   "execution_count": 346,
   "id": "67e979da",
   "metadata": {},
   "outputs": [],
   "source": [
    "def assign_food_col(dataset):\n",
    "    '''assigns food column'''\n",
    "    food_arr=[]\n",
    "    #iterate through every row of dataset \n",
    "    for each_list in dataset['genre']:\n",
    "        for item in each_list:\n",
    "            if(any(check_item.lower() == item.lower() for check_item in food_checklist)):\n",
    "                food_arr.append(True)\n",
    "                break\n",
    "            else:\n",
    "                food_arr.append(False)\n",
    "                break\n",
    "    return food_arr"
   ]
  },
  {
   "cell_type": "code",
   "execution_count": 347,
   "id": "0d455d06",
   "metadata": {},
   "outputs": [],
   "source": [
    "food_arr=assign_food_col(dataset)\n",
    "dataset['food']=food_arr"
   ]
  },
  {
   "cell_type": "code",
   "execution_count": 348,
   "id": "6a5937b9",
   "metadata": {},
   "outputs": [],
   "source": [
    "def assign_industries_col(dataset):\n",
    "    '''assigns industries column'''\n",
    "    industries_arr=[]\n",
    "    #iterate through every row of dataset \n",
    "    for each_list in dataset['genre']:\n",
    "        for item in each_list:\n",
    "            if(any(check_item.lower() == item.lower() for check_item in industries_checklist)):\n",
    "                industries_arr.append(True)\n",
    "                break\n",
    "            else:\n",
    "                industries_arr.append(False)\n",
    "                break\n",
    "    return industries_arr"
   ]
  },
  {
   "cell_type": "code",
   "execution_count": 349,
   "id": "26626550",
   "metadata": {},
   "outputs": [],
   "source": [
    "industries_arr=assign_industries_col(dataset)\n",
    "dataset['industries']=industries_arr"
   ]
  },
  {
   "cell_type": "code",
   "execution_count": 350,
   "id": "dd97b2fb",
   "metadata": {},
   "outputs": [],
   "source": [
    "def assign_religious_col(dataset):\n",
    "    '''assigns religious column'''\n",
    "    religious_arr=[]\n",
    "    #iterate through every row of dataset \n",
    "    for each_list in dataset['genre']:\n",
    "        for item in each_list:\n",
    "            if(any(check_item.lower() == item.lower() for check_item in religious_checklist)):\n",
    "                religious_arr.append(True)\n",
    "                break\n",
    "            else:\n",
    "                religious_arr.append(False)\n",
    "                break\n",
    "    return religious_arr"
   ]
  },
  {
   "cell_type": "code",
   "execution_count": 351,
   "id": "00c29fa2",
   "metadata": {},
   "outputs": [
    {
     "name": "stdout",
     "output_type": "stream",
     "text": [
      "                  title avg_rating  voted_by              genre    latitude  \\\n",
      "0      Boudhanath Stupa        4.5      8897  [Religious Sites]  27.7215062   \n",
      "1  Swayambhunath Temple        4.5      6203  [Religious Sites]  27.7149298   \n",
      "2  Pashupatinath Temple        4.5      4937  [Religious Sites]  27.7104461   \n",
      "3     Chandragiri Hills        4.5       399        [Mountains]  27.6710496   \n",
      "4       Kopan Monastery        4.5       787  [Religious Sites]  27.7425438   \n",
      "\n",
      "   longitude  history  art_and_architecture  nature  adventure  entertainment  \\\n",
      "0  85.359809     True                  True   False      False          False   \n",
      "1  85.288146     True                  True   False      False          False   \n",
      "2  85.346503     True                  True   False      False          False   \n",
      "3  85.262664    False                 False    True      False          False   \n",
      "4  85.362208     True                  True   False      False          False   \n",
      "\n",
      "   health_and_lifestyle   food  industries  religious  \n",
      "0                 False  False       False       True  \n",
      "1                 False  False       False       True  \n",
      "2                 False  False       False       True  \n",
      "3                 False  False       False      False  \n",
      "4                 False  False       False       True  \n"
     ]
    }
   ],
   "source": [
    "religious_arr=assign_religious_col(dataset)\n",
    "dataset['religious']=religious_arr\n",
    "print(dataset.head())"
   ]
  },
  {
   "cell_type": "code",
   "execution_count": 352,
   "id": "4a31948f",
   "metadata": {},
   "outputs": [
    {
     "name": "stdout",
     "output_type": "stream",
     "text": [
      "                                    title avg_rating  voted_by  \\\n",
      "0                        Boudhanath Stupa        4.5      8897   \n",
      "1                    Swayambhunath Temple        4.5      6203   \n",
      "2                    Pashupatinath Temple        4.5      4937   \n",
      "3                       Chandragiri Hills        4.5       399   \n",
      "4                         Kopan Monastery        4.5       787   \n",
      "...                                   ...        ...       ...   \n",
      "2340         Zeal Nepal Trek & Expedition          N         0   \n",
      "2341                        Mohit Sunuwar          N         0   \n",
      "2342  SITA (Travel Corporation India Ltd)          N         0   \n",
      "2343                       Himalayan Hike          N         0   \n",
      "2344                            River Fun          N         0   \n",
      "\n",
      "                                             genre    latitude  longitude  \\\n",
      "0                                [Religious Sites]  27.7215062  85.359809   \n",
      "1                                [Religious Sites]  27.7149298  85.288146   \n",
      "2                                [Religious Sites]  27.7104461  85.346503   \n",
      "3                                      [Mountains]  27.6710496  85.262664   \n",
      "4                                [Religious Sites]  27.7425438  85.362208   \n",
      "...                                            ...         ...        ...   \n",
      "2340     [Multi-day Tours, River Rafting & Tubing]         NaN        NaN   \n",
      "2341  [Parasailing & Paragliding, Multi-day Tours]         NaN        NaN   \n",
      "2342              [Multi-day Tours, Balloon Rides]         NaN        NaN   \n",
      "2343                 [City Tours, Multi-day Tours]         NaN        NaN   \n",
      "2344    [River Rafting & Tubing, Taxis & Shuttles]         NaN        NaN   \n",
      "\n",
      "      history  art_and_architecture  nature  adventure  entertainment  \\\n",
      "0        True                  True   False      False          False   \n",
      "1        True                  True   False      False          False   \n",
      "2        True                  True   False      False          False   \n",
      "3       False                 False    True      False          False   \n",
      "4        True                  True   False      False          False   \n",
      "...       ...                   ...     ...        ...            ...   \n",
      "2340     True                 False   False      False          False   \n",
      "2341    False                 False   False       True          False   \n",
      "2342     True                 False   False      False          False   \n",
      "2343     True                  True   False      False           True   \n",
      "2344    False                 False    True       True           True   \n",
      "\n",
      "      health_and_lifestyle   food  industries  religious  \n",
      "0                    False  False       False       True  \n",
      "1                    False  False       False       True  \n",
      "2                    False  False       False       True  \n",
      "3                    False  False       False      False  \n",
      "4                    False  False       False       True  \n",
      "...                    ...    ...         ...        ...  \n",
      "2340                 False  False       False      False  \n",
      "2341                 False  False       False      False  \n",
      "2342                 False  False       False      False  \n",
      "2343                 False  False       False      False  \n",
      "2344                 False  False       False      False  \n",
      "\n",
      "[2345 rows x 15 columns]\n"
     ]
    }
   ],
   "source": [
    "print(dataset)"
   ]
  },
  {
   "cell_type": "code",
   "execution_count": 353,
   "id": "7501b5be",
   "metadata": {},
   "outputs": [
    {
     "name": "stdout",
     "output_type": "stream",
     "text": [
      "                                    title    latitude  longitude  history  \\\n",
      "0                        Boudhanath Stupa  27.7215062  85.359809     True   \n",
      "1                    Swayambhunath Temple  27.7149298  85.288146     True   \n",
      "2                    Pashupatinath Temple  27.7104461  85.346503     True   \n",
      "3                       Chandragiri Hills  27.6710496  85.262664    False   \n",
      "4                         Kopan Monastery  27.7425438  85.362208     True   \n",
      "...                                   ...         ...        ...      ...   \n",
      "2340         Zeal Nepal Trek & Expedition         NaN        NaN     True   \n",
      "2341                        Mohit Sunuwar         NaN        NaN    False   \n",
      "2342  SITA (Travel Corporation India Ltd)         NaN        NaN     True   \n",
      "2343                       Himalayan Hike         NaN        NaN     True   \n",
      "2344                            River Fun         NaN        NaN    False   \n",
      "\n",
      "      art_and_architecture  nature  adventure  entertainment  \\\n",
      "0                     True   False      False          False   \n",
      "1                     True   False      False          False   \n",
      "2                     True   False      False          False   \n",
      "3                    False    True      False          False   \n",
      "4                     True   False      False          False   \n",
      "...                    ...     ...        ...            ...   \n",
      "2340                 False   False      False          False   \n",
      "2341                 False   False       True          False   \n",
      "2342                 False   False      False          False   \n",
      "2343                  True   False      False           True   \n",
      "2344                 False    True       True           True   \n",
      "\n",
      "      health_and_lifestyle   food  industries  religious  \n",
      "0                    False  False       False       True  \n",
      "1                    False  False       False       True  \n",
      "2                    False  False       False       True  \n",
      "3                    False  False       False      False  \n",
      "4                    False  False       False       True  \n",
      "...                    ...    ...         ...        ...  \n",
      "2340                 False  False       False      False  \n",
      "2341                 False  False       False      False  \n",
      "2342                 False  False       False      False  \n",
      "2343                 False  False       False      False  \n",
      "2344                 False  False       False      False  \n",
      "\n",
      "[2345 rows x 12 columns]\n"
     ]
    }
   ],
   "source": [
    "dataset=dataset.drop(['avg_rating','voted_by','genre'],axis=1)\n",
    "print(dataset)"
   ]
  },
  {
   "cell_type": "code",
   "execution_count": 354,
   "id": "e88e7099",
   "metadata": {},
   "outputs": [],
   "source": [
    "super_genre_list=[]\n",
    "for i in range(len(dataset)):\n",
    "    genre_list=[]\n",
    "    for ind in dataset.loc[i].index:\n",
    "        if dataset.loc[i,ind] == True:\n",
    "            genre_list.append(str(ind))\n",
    "    \n",
    "    super_genre_list.append(genre_list)\n",
    "        \n",
    "    \n",
    "            \n",
    "        "
   ]
  },
  {
   "cell_type": "code",
   "execution_count": 355,
   "id": "ffbb8b57",
   "metadata": {},
   "outputs": [
    {
     "name": "stdout",
     "output_type": "stream",
     "text": [
      "[['history', 'art_and_architecture', 'religious'], ['history', 'art_and_architecture', 'religious'], ['history', 'art_and_architecture', 'religious'], ['nature'], ['history', 'art_and_architecture', 'religious'], ['history'], ['history', 'nature'], ['history', 'art_and_architecture', 'nature'], ['history', 'art_and_architecture'], ['art_and_architecture', 'entertainment', 'health_and_lifestyle'], ['nature'], ['history', 'art_and_architecture', 'religious'], ['history', 'art_and_architecture', 'religious'], ['history', 'art_and_architecture', 'religious'], ['history', 'art_and_architecture', 'nature'], ['history', 'art_and_architecture', 'religious'], ['history', 'art_and_architecture', 'religious'], ['history', 'art_and_architecture'], ['history', 'art_and_architecture'], ['history', 'art_and_architecture', 'nature'], ['nature'], ['history', 'art_and_architecture', 'religious'], ['history', 'art_and_architecture', 'religious'], ['history', 'nature'], ['history', 'art_and_architecture', 'religious'], ['history', 'art_and_architecture'], ['history', 'art_and_architecture', 'religious'], ['history', 'art_and_architecture', 'religious'], ['history'], ['history', 'art_and_architecture', 'nature'], ['history', 'art_and_architecture', 'nature'], ['history', 'art_and_architecture', 'religious'], ['history', 'art_and_architecture', 'religious'], ['entertainment'], ['history', 'art_and_architecture', 'nature'], ['history', 'art_and_architecture', 'nature'], ['nature'], ['history', 'art_and_architecture', 'religious'], ['history', 'art_and_architecture'], ['nature', 'adventure'], ['history', 'art_and_architecture', 'religious'], ['history', 'art_and_architecture', 'religious'], ['history', 'art_and_architecture', 'religious'], ['history', 'art_and_architecture', 'religious'], ['history', 'art_and_architecture', 'nature'], ['history', 'art_and_architecture', 'nature'], ['history', 'art_and_architecture', 'nature'], ['history', 'art_and_architecture'], ['entertainment', 'food'], ['adventure', 'health_and_lifestyle'], ['history', 'art_and_architecture', 'religious'], ['history', 'art_and_architecture'], ['history', 'art_and_architecture'], ['history', 'art_and_architecture', 'religious'], ['history', 'art_and_architecture', 'nature'], ['history', 'art_and_architecture', 'nature'], ['history', 'art_and_architecture', 'nature'], ['history', 'art_and_architecture', 'nature'], ['entertainment'], ['history', 'art_and_architecture', 'religious'], ['history', 'art_and_architecture', 'religious'], ['history', 'art_and_architecture', 'nature'], ['history', 'art_and_architecture', 'nature'], ['history', 'art_and_architecture', 'nature'], ['history', 'art_and_architecture'], ['adventure', 'health_and_lifestyle'], ['history', 'art_and_architecture'], ['history', 'art_and_architecture', 'nature'], ['history', 'art_and_architecture'], ['entertainment'], ['history', 'art_and_architecture', 'nature'], ['history', 'art_and_architecture'], ['history', 'art_and_architecture', 'religious'], ['history', 'art_and_architecture', 'religious'], ['history', 'art_and_architecture', 'nature'], ['history', 'art_and_architecture', 'religious'], [], ['history', 'art_and_architecture', 'religious'], ['entertainment'], ['history', 'art_and_architecture'], ['history', 'art_and_architecture', 'religious'], ['adventure', 'health_and_lifestyle'], ['history', 'art_and_architecture'], ['entertainment'], ['history', 'art_and_architecture', 'religious'], ['history', 'art_and_architecture', 'nature'], ['entertainment'], ['nature'], ['history', 'art_and_architecture'], ['history', 'art_and_architecture', 'nature'], ['history', 'art_and_architecture', 'nature'], ['history', 'art_and_architecture', 'religious'], ['history', 'art_and_architecture', 'nature'], ['nature', 'adventure'], ['history', 'art_and_architecture', 'religious'], ['industries'], ['entertainment'], ['history', 'art_and_architecture'], ['history', 'art_and_architecture', 'nature'], ['history', 'art_and_architecture', 'religious'], ['history', 'art_and_architecture', 'religious'], ['history', 'art_and_architecture', 'religious'], ['history', 'art_and_architecture', 'religious'], ['history', 'art_and_architecture', 'nature'], ['history', 'art_and_architecture'], ['history', 'art_and_architecture', 'religious'], ['history', 'art_and_architecture', 'religious'], ['history', 'art_and_architecture'], ['history', 'art_and_architecture', 'nature'], ['history', 'art_and_architecture', 'religious'], ['history', 'art_and_architecture', 'nature'], ['history', 'art_and_architecture', 'nature'], ['history', 'art_and_architecture', 'nature'], ['entertainment'], ['history', 'art_and_architecture'], ['history', 'art_and_architecture', 'religious'], ['nature'], ['history', 'art_and_architecture'], ['history', 'art_and_architecture', 'religious'], ['history', 'art_and_architecture', 'nature'], ['history', 'art_and_architecture'], ['history', 'art_and_architecture', 'religious'], ['history', 'art_and_architecture', 'nature'], ['history', 'art_and_architecture', 'nature'], ['history', 'art_and_architecture', 'religious'], ['history', 'art_and_architecture', 'religious'], ['history', 'art_and_architecture'], ['history', 'art_and_architecture', 'nature'], ['history', 'art_and_architecture', 'religious'], ['history', 'art_and_architecture', 'religious'], ['history', 'art_and_architecture', 'religious'], ['history', 'art_and_architecture', 'nature'], ['history', 'art_and_architecture'], ['history', 'art_and_architecture', 'nature'], ['history', 'art_and_architecture'], ['history', 'art_and_architecture', 'religious'], ['entertainment'], ['history', 'art_and_architecture', 'religious'], ['history', 'art_and_architecture', 'religious'], ['history', 'art_and_architecture'], ['history', 'art_and_architecture'], ['history', 'art_and_architecture'], ['history', 'art_and_architecture', 'nature'], ['history', 'art_and_architecture', 'religious'], ['nature'], ['history', 'art_and_architecture', 'nature'], ['history', 'art_and_architecture', 'nature'], ['history', 'art_and_architecture', 'religious'], ['history', 'art_and_architecture', 'nature'], ['history', 'art_and_architecture'], ['history', 'art_and_architecture'], ['history', 'art_and_architecture', 'nature'], ['history', 'art_and_architecture', 'nature'], ['adventure', 'health_and_lifestyle'], ['history', 'art_and_architecture', 'entertainment'], ['history'], ['history'], ['history'], ['history'], ['art_and_architecture', 'religious'], ['history', 'art_and_architecture'], ['history'], ['adventure'], ['art_and_architecture', 'nature', 'adventure'], ['nature', 'adventure', 'entertainment'], ['history'], ['adventure'], ['history', 'art_and_architecture', 'entertainment'], ['adventure'], ['history'], ['history', 'art_and_architecture', 'entertainment'], [], ['health_and_lifestyle'], ['art_and_architecture', 'religious'], ['history'], ['nature'], ['history'], ['nature', 'adventure'], ['history', 'art_and_architecture', 'entertainment'], ['history'], ['art_and_architecture', 'religious'], ['nature', 'adventure'], ['history'], ['history', 'art_and_architecture', 'entertainment'], ['art_and_architecture', 'religious'], ['nature', 'adventure', 'entertainment'], ['history', 'art_and_architecture', 'entertainment'], ['health_and_lifestyle'], ['history'], ['adventure'], ['history'], ['art_and_architecture', 'religious'], ['history'], ['history'], ['history', 'art_and_architecture', 'entertainment'], ['art_and_architecture', 'religious'], ['history'], ['history'], ['history', 'art_and_architecture', 'entertainment'], ['art_and_architecture', 'religious'], ['history', 'art_and_architecture', 'entertainment'], ['adventure'], ['history', 'art_and_architecture', 'entertainment'], ['history'], ['adventure'], ['food'], ['art_and_architecture', 'nature', 'adventure'], ['art_and_architecture', 'religious'], ['adventure', 'entertainment'], ['history'], ['history', 'art_and_architecture', 'entertainment'], ['art_and_architecture', 'nature', 'adventure'], ['art_and_architecture', 'religious'], ['history'], ['history', 'art_and_architecture'], ['history', 'art_and_architecture', 'entertainment'], ['adventure'], ['nature'], ['history'], ['history', 'art_and_architecture', 'entertainment'], ['adventure'], ['history'], ['history', 'art_and_architecture', 'entertainment'], ['art_and_architecture', 'nature', 'adventure'], ['adventure'], ['adventure'], ['adventure'], ['health_and_lifestyle'], ['history'], ['adventure'], ['adventure'], ['history', 'art_and_architecture', 'entertainment'], ['history', 'art_and_architecture', 'entertainment'], ['nature', 'adventure'], ['adventure'], ['art_and_architecture', 'religious'], ['history'], ['history'], ['adventure'], ['history'], ['history', 'art_and_architecture', 'entertainment'], ['adventure', 'entertainment'], ['adventure'], ['art_and_architecture', 'religious'], ['history', 'art_and_architecture', 'entertainment'], ['nature', 'adventure'], ['adventure'], ['history'], ['adventure', 'entertainment'], ['art_and_architecture', 'nature', 'adventure'], ['history'], ['nature', 'adventure', 'entertainment'], ['health_and_lifestyle'], [], ['history', 'art_and_architecture'], ['food'], ['history'], ['nature', 'adventure'], ['history'], ['nature', 'adventure', 'entertainment'], ['adventure'], ['history', 'art_and_architecture'], ['art_and_architecture', 'religious'], ['history', 'art_and_architecture', 'entertainment'], ['history', 'art_and_architecture', 'entertainment'], ['adventure'], ['adventure'], ['history', 'art_and_architecture', 'entertainment'], ['art_and_architecture', 'religious'], ['art_and_architecture', 'religious'], ['history'], ['nature', 'adventure'], ['history', 'art_and_architecture', 'entertainment'], ['history'], ['art_and_architecture', 'nature', 'adventure'], ['nature'], ['history'], ['health_and_lifestyle'], ['adventure'], ['adventure'], ['adventure'], ['health_and_lifestyle'], ['nature'], ['nature', 'adventure', 'entertainment'], ['art_and_architecture', 'nature', 'adventure'], ['health_and_lifestyle'], ['art_and_architecture', 'nature', 'adventure'], ['adventure'], ['history', 'art_and_architecture'], ['history', 'art_and_architecture', 'entertainment'], ['art_and_architecture', 'religious'], ['history', 'art_and_architecture', 'entertainment'], ['nature', 'adventure'], ['art_and_architecture', 'religious'], ['health_and_lifestyle'], ['art_and_architecture', 'religious'], ['health_and_lifestyle'], ['art_and_architecture', 'religious'], ['art_and_architecture', 'nature', 'adventure'], ['history', 'art_and_architecture'], ['history'], ['history'], ['nature', 'adventure', 'entertainment'], ['nature', 'adventure', 'entertainment'], ['history', 'art_and_architecture', 'entertainment'], ['history', 'art_and_architecture', 'entertainment'], ['history'], ['nature', 'adventure', 'entertainment'], ['art_and_architecture', 'religious'], ['adventure'], ['history'], ['history', 'art_and_architecture', 'entertainment'], ['art_and_architecture', 'nature', 'adventure'], ['history'], ['history', 'art_and_architecture'], ['history'], ['history'], ['adventure'], ['history', 'art_and_architecture', 'entertainment'], ['history', 'art_and_architecture', 'entertainment'], ['adventure'], ['adventure'], ['history'], ['nature', 'adventure', 'entertainment'], ['history', 'art_and_architecture'], ['history', 'art_and_architecture'], ['adventure'], ['history'], ['adventure'], ['art_and_architecture', 'religious'], ['adventure'], ['history', 'art_and_architecture', 'entertainment'], ['adventure'], ['history', 'art_and_architecture', 'entertainment'], ['nature', 'adventure', 'entertainment'], ['adventure'], ['history'], ['history'], ['history'], ['history'], ['nature'], ['health_and_lifestyle'], ['art_and_architecture', 'religious'], ['nature', 'adventure'], ['history', 'art_and_architecture', 'entertainment'], ['adventure'], ['history', 'art_and_architecture', 'entertainment'], ['adventure'], ['adventure'], ['adventure'], ['history'], ['history'], ['art_and_architecture', 'religious'], ['history'], ['history', 'art_and_architecture'], ['history', 'art_and_architecture', 'entertainment'], ['history', 'art_and_architecture', 'entertainment'], ['history', 'art_and_architecture', 'entertainment'], ['health_and_lifestyle'], ['history', 'art_and_architecture', 'entertainment'], ['adventure'], ['adventure'], ['history'], ['adventure', 'entertainment'], [], ['adventure'], ['adventure'], ['art_and_architecture', 'religious'], ['health_and_lifestyle'], ['history', 'art_and_architecture', 'entertainment'], ['history', 'art_and_architecture', 'entertainment'], ['health_and_lifestyle'], ['art_and_architecture', 'religious'], [], ['history'], ['history', 'art_and_architecture', 'entertainment'], ['history'], ['history', 'art_and_architecture', 'entertainment'], ['nature', 'adventure', 'entertainment'], ['nature', 'adventure'], ['art_and_architecture', 'religious'], ['adventure'], ['health_and_lifestyle'], ['nature', 'adventure'], ['history', 'art_and_architecture', 'entertainment'], ['adventure'], ['history'], ['art_and_architecture', 'religious'], ['history'], ['art_and_architecture', 'religious'], ['history', 'art_and_architecture', 'entertainment'], ['nature'], ['history'], ['history', 'art_and_architecture'], ['nature', 'adventure'], ['nature'], ['art_and_architecture', 'religious'], ['history', 'art_and_architecture', 'entertainment'], ['history'], ['nature'], ['adventure'], ['nature', 'adventure'], ['adventure', 'entertainment'], ['history'], [], ['history'], ['history', 'art_and_architecture', 'entertainment'], ['entertainment'], ['history'], ['nature'], ['history', 'art_and_architecture', 'entertainment'], ['nature', 'adventure'], ['history'], ['art_and_architecture', 'religious'], ['adventure'], ['history', 'art_and_architecture', 'entertainment'], ['history'], ['nature', 'adventure'], ['history'], ['history'], ['history', 'art_and_architecture', 'entertainment'], ['history'], ['history', 'art_and_architecture', 'entertainment'], ['history', 'art_and_architecture', 'entertainment'], ['adventure'], ['history'], ['adventure', 'entertainment'], ['history'], ['nature', 'adventure'], ['nature', 'adventure'], ['adventure'], ['nature'], ['health_and_lifestyle'], ['history'], ['history'], ['history', 'art_and_architecture', 'entertainment'], ['history', 'art_and_architecture', 'entertainment'], ['history'], ['nature', 'adventure', 'entertainment'], ['nature', 'adventure'], ['history'], ['art_and_architecture', 'nature', 'adventure'], ['history'], ['history', 'art_and_architecture', 'entertainment'], ['art_and_architecture', 'nature', 'adventure'], ['adventure', 'entertainment'], ['history', 'art_and_architecture'], ['history'], ['history', 'art_and_architecture', 'entertainment'], ['history', 'art_and_architecture', 'entertainment'], ['history'], ['history'], ['history', 'art_and_architecture', 'entertainment'], ['history'], ['adventure'], ['nature', 'adventure'], ['history', 'art_and_architecture', 'entertainment'], ['art_and_architecture', 'religious'], ['history'], ['nature', 'adventure', 'entertainment'], ['nature', 'adventure'], ['history'], ['nature', 'adventure'], ['nature', 'adventure', 'entertainment'], ['art_and_architecture', 'religious'], ['art_and_architecture', 'religious'], ['history', 'art_and_architecture', 'entertainment'], ['history'], ['nature', 'adventure'], ['history', 'art_and_architecture', 'entertainment'], ['history', 'art_and_architecture', 'entertainment'], ['nature', 'adventure', 'entertainment'], ['art_and_architecture', 'religious'], ['history'], ['history', 'art_and_architecture'], ['history', 'art_and_architecture', 'entertainment'], ['adventure'], ['adventure'], ['history', 'art_and_architecture', 'entertainment'], ['history'], ['history', 'art_and_architecture', 'entertainment'], ['adventure'], ['adventure'], ['adventure'], ['history'], ['history'], ['nature', 'adventure', 'entertainment'], ['health_and_lifestyle'], ['entertainment'], ['nature', 'adventure'], ['history'], ['history'], ['history', 'art_and_architecture', 'entertainment'], ['adventure'], ['nature'], ['history', 'art_and_architecture', 'entertainment'], ['history'], ['nature'], ['history'], ['history', 'art_and_architecture', 'entertainment'], ['history'], ['history', 'art_and_architecture'], ['history'], ['nature', 'adventure'], ['history', 'art_and_architecture', 'entertainment'], ['history', 'art_and_architecture', 'entertainment'], ['history'], ['nature', 'adventure'], ['nature', 'adventure'], ['history', 'art_and_architecture', 'entertainment'], ['nature', 'adventure'], ['art_and_architecture', 'religious'], ['history', 'art_and_architecture'], ['art_and_architecture', 'nature', 'adventure'], ['art_and_architecture', 'religious'], ['health_and_lifestyle'], ['history', 'art_and_architecture'], ['history'], [], ['history'], ['nature', 'adventure'], ['art_and_architecture', 'religious'], ['history'], ['history'], ['adventure'], ['nature', 'adventure'], ['nature'], ['history', 'art_and_architecture', 'entertainment'], ['history', 'art_and_architecture', 'entertainment'], ['history'], ['history'], ['art_and_architecture', 'religious'], ['adventure'], ['history', 'art_and_architecture', 'entertainment'], ['history', 'art_and_architecture', 'entertainment'], ['art_and_architecture', 'nature', 'adventure'], ['history', 'art_and_architecture', 'entertainment'], ['history'], ['history', 'art_and_architecture', 'entertainment'], ['history', 'art_and_architecture', 'entertainment'], ['history'], ['art_and_architecture', 'religious'], ['health_and_lifestyle'], ['adventure'], ['art_and_architecture', 'religious'], ['history'], ['history', 'art_and_architecture', 'entertainment'], ['health_and_lifestyle'], ['history', 'art_and_architecture', 'entertainment'], ['adventure'], ['history'], ['history'], ['history'], ['history'], ['nature', 'adventure'], ['nature'], ['history'], ['nature', 'adventure'], [], ['history'], ['nature', 'adventure'], ['history'], ['art_and_architecture', 'nature', 'adventure'], ['history', 'art_and_architecture', 'entertainment'], ['history'], ['history', 'art_and_architecture', 'entertainment'], ['adventure'], ['adventure'], ['adventure', 'entertainment'], ['health_and_lifestyle'], ['history', 'art_and_architecture', 'entertainment'], ['adventure'], ['art_and_architecture', 'nature', 'adventure'], ['adventure'], ['art_and_architecture', 'religious'], ['history'], ['nature', 'adventure'], ['history'], ['history'], ['entertainment'], ['history', 'art_and_architecture'], ['adventure', 'entertainment'], ['art_and_architecture', 'religious'], ['adventure'], ['food'], ['history', 'art_and_architecture', 'entertainment'], ['history'], ['nature', 'adventure'], ['adventure', 'entertainment'], ['history'], ['history'], ['history', 'art_and_architecture', 'entertainment'], ['history', 'art_and_architecture', 'entertainment'], ['history'], ['history', 'art_and_architecture', 'entertainment'], ['history', 'art_and_architecture', 'entertainment'], ['adventure'], ['history', 'art_and_architecture', 'entertainment'], ['art_and_architecture', 'religious'], ['art_and_architecture', 'religious'], ['nature', 'adventure'], ['history'], ['food'], ['history', 'art_and_architecture', 'entertainment'], ['history', 'art_and_architecture', 'entertainment'], ['nature', 'adventure', 'entertainment'], ['art_and_architecture', 'nature', 'adventure'], [], ['adventure'], ['history', 'art_and_architecture', 'entertainment'], ['adventure', 'entertainment'], ['adventure'], ['nature', 'adventure', 'entertainment'], ['nature', 'adventure'], ['adventure'], ['history'], ['art_and_architecture', 'religious'], ['history', 'art_and_architecture', 'entertainment'], ['art_and_architecture', 'religious'], ['history'], ['history', 'art_and_architecture', 'entertainment'], ['art_and_architecture', 'nature', 'adventure'], ['history'], ['history', 'art_and_architecture', 'entertainment'], ['art_and_architecture', 'nature', 'adventure'], ['adventure'], ['history'], ['nature', 'adventure'], ['history'], [], ['adventure'], ['nature'], ['history'], ['adventure'], ['nature', 'adventure'], ['adventure'], ['history'], ['art_and_architecture', 'nature', 'adventure'], ['nature', 'adventure', 'entertainment'], ['art_and_architecture', 'nature', 'adventure'], ['adventure'], ['history'], ['nature', 'adventure'], ['nature', 'adventure'], ['history'], ['history'], ['history'], ['nature', 'adventure', 'entertainment'], ['entertainment'], ['art_and_architecture', 'religious'], ['art_and_architecture', 'religious'], ['adventure'], ['history', 'art_and_architecture'], ['adventure'], ['adventure', 'entertainment'], ['art_and_architecture', 'religious'], ['history'], ['nature', 'adventure', 'entertainment'], ['nature', 'adventure'], [], ['art_and_architecture', 'religious'], ['history'], ['history', 'art_and_architecture', 'entertainment'], ['history'], ['history', 'art_and_architecture', 'entertainment'], ['art_and_architecture', 'religious'], ['health_and_lifestyle'], ['adventure'], [], ['adventure'], ['history', 'art_and_architecture', 'entertainment'], ['art_and_architecture', 'religious'], ['history', 'art_and_architecture'], ['history', 'art_and_architecture', 'entertainment'], ['history', 'art_and_architecture', 'entertainment'], ['health_and_lifestyle'], ['history', 'art_and_architecture', 'entertainment'], ['nature', 'adventure'], ['adventure'], ['history', 'art_and_architecture'], ['art_and_architecture', 'religious'], ['history'], ['nature'], ['history', 'art_and_architecture', 'entertainment'], ['adventure'], ['art_and_architecture', 'religious'], ['health_and_lifestyle'], ['nature', 'adventure'], ['history', 'art_and_architecture'], ['history'], ['history'], ['history', 'art_and_architecture'], ['art_and_architecture', 'religious'], ['nature', 'adventure'], ['history', 'art_and_architecture', 'entertainment'], ['history', 'art_and_architecture'], ['adventure'], ['history'], ['nature', 'adventure', 'entertainment'], ['adventure'], ['history'], ['adventure'], ['art_and_architecture', 'religious'], ['art_and_architecture', 'religious'], ['nature', 'adventure'], ['history'], ['history'], ['history', 'art_and_architecture', 'entertainment'], ['art_and_architecture', 'nature', 'adventure'], ['adventure'], ['history', 'art_and_architecture', 'entertainment'], ['history'], ['history'], [], ['history', 'art_and_architecture', 'entertainment'], ['adventure'], ['nature', 'adventure', 'entertainment'], ['nature', 'adventure'], ['health_and_lifestyle'], ['history', 'art_and_architecture'], ['nature', 'adventure'], ['history', 'art_and_architecture', 'entertainment'], ['adventure'], ['adventure'], ['history'], ['history', 'art_and_architecture', 'entertainment'], ['adventure'], ['history', 'art_and_architecture', 'entertainment'], ['adventure'], ['history'], ['nature', 'adventure'], ['history'], ['history'], ['history'], ['adventure'], ['history'], ['history'], ['history'], ['nature'], ['nature', 'adventure'], ['adventure'], ['history', 'art_and_architecture', 'entertainment'], ['adventure'], ['history'], ['history', 'art_and_architecture', 'entertainment'], ['nature', 'adventure'], ['history'], ['art_and_architecture', 'nature', 'adventure'], ['nature', 'adventure', 'entertainment'], ['history'], ['history'], ['nature'], ['history'], ['history', 'art_and_architecture', 'entertainment'], ['nature', 'adventure', 'entertainment'], ['adventure'], ['adventure'], ['history', 'art_and_architecture'], ['history'], ['art_and_architecture', 'religious'], ['art_and_architecture', 'nature', 'adventure'], ['nature'], ['art_and_architecture', 'religious'], ['adventure'], ['history', 'art_and_architecture', 'entertainment'], ['adventure'], ['history', 'art_and_architecture', 'entertainment'], ['art_and_architecture', 'religious'], ['adventure'], ['adventure', 'entertainment'], ['health_and_lifestyle'], ['nature', 'adventure', 'entertainment'], ['art_and_architecture', 'religious'], ['adventure'], ['history'], ['adventure'], ['nature', 'adventure', 'entertainment'], ['history'], ['history', 'art_and_architecture', 'entertainment'], ['art_and_architecture', 'religious'], ['history', 'art_and_architecture'], ['history', 'art_and_architecture', 'entertainment'], ['history', 'art_and_architecture', 'entertainment'], ['adventure'], ['adventure'], ['adventure'], ['adventure'], ['history'], ['art_and_architecture', 'nature', 'adventure'], ['history', 'art_and_architecture'], ['adventure'], ['history', 'art_and_architecture', 'entertainment'], ['art_and_architecture', 'religious'], ['history', 'art_and_architecture'], ['history', 'art_and_architecture', 'entertainment'], ['history'], ['history', 'art_and_architecture', 'entertainment'], ['history', 'art_and_architecture', 'entertainment'], ['entertainment'], ['nature', 'adventure'], ['history', 'art_and_architecture', 'entertainment'], ['history'], ['art_and_architecture', 'religious'], ['art_and_architecture', 'religious'], ['health_and_lifestyle'], ['history'], ['history', 'art_and_architecture', 'entertainment'], ['history', 'art_and_architecture'], ['art_and_architecture', 'religious'], ['health_and_lifestyle'], ['history', 'art_and_architecture'], ['nature', 'adventure'], ['history', 'art_and_architecture', 'entertainment'], ['history', 'art_and_architecture', 'entertainment'], ['history'], ['history'], ['history'], ['nature', 'adventure', 'entertainment'], ['history', 'art_and_architecture', 'entertainment'], ['history', 'art_and_architecture', 'entertainment'], [], ['adventure'], ['history'], ['health_and_lifestyle'], ['art_and_architecture', 'nature', 'adventure'], ['history', 'art_and_architecture', 'entertainment'], ['history'], ['history', 'art_and_architecture', 'entertainment'], ['nature', 'adventure'], ['history'], ['nature', 'adventure', 'entertainment'], ['nature', 'entertainment'], ['art_and_architecture', 'religious'], ['history', 'art_and_architecture', 'entertainment'], [], ['history'], ['history'], ['adventure'], ['nature', 'adventure'], ['history'], ['history'], ['entertainment'], ['history'], ['history'], ['art_and_architecture', 'religious'], ['nature', 'adventure', 'entertainment'], ['history', 'art_and_architecture', 'entertainment'], ['history'], ['art_and_architecture', 'religious'], ['art_and_architecture', 'nature', 'adventure'], ['art_and_architecture', 'religious'], ['adventure'], ['adventure'], ['history'], ['history'], ['nature', 'adventure'], ['history', 'art_and_architecture', 'entertainment'], ['art_and_architecture', 'religious'], ['history', 'art_and_architecture', 'entertainment'], ['art_and_architecture', 'religious'], ['history', 'art_and_architecture', 'entertainment'], ['health_and_lifestyle'], ['history'], ['adventure', 'entertainment'], ['adventure', 'entertainment'], ['nature', 'adventure', 'entertainment'], ['art_and_architecture', 'religious'], ['art_and_architecture', 'nature', 'adventure'], ['adventure'], ['history', 'art_and_architecture', 'entertainment'], ['history'], ['adventure'], ['history', 'art_and_architecture', 'entertainment'], ['history', 'art_and_architecture', 'entertainment'], ['history'], ['history'], ['history'], ['nature'], ['history', 'art_and_architecture'], ['nature', 'adventure'], ['history', 'art_and_architecture'], ['history', 'art_and_architecture', 'entertainment'], ['history'], ['history'], ['history'], ['nature'], ['history'], ['history'], ['history'], ['history', 'art_and_architecture', 'entertainment'], ['adventure'], ['history'], ['art_and_architecture', 'religious'], ['history', 'art_and_architecture', 'entertainment'], ['history'], ['history'], ['history', 'art_and_architecture', 'entertainment'], ['history'], ['history', 'art_and_architecture'], ['adventure'], ['adventure'], ['nature', 'adventure', 'entertainment'], ['history', 'art_and_architecture', 'entertainment'], ['industries'], ['history'], ['history', 'art_and_architecture', 'entertainment'], ['history'], ['art_and_architecture', 'religious'], ['history'], ['history', 'art_and_architecture', 'entertainment'], ['history'], ['history', 'art_and_architecture'], [], ['industries'], ['health_and_lifestyle'], ['adventure'], ['history'], ['history', 'art_and_architecture', 'entertainment'], ['nature', 'adventure'], ['nature'], ['adventure'], ['history'], ['history'], ['history', 'art_and_architecture', 'entertainment'], ['adventure'], ['history'], ['health_and_lifestyle'], ['nature', 'adventure', 'entertainment'], ['nature', 'adventure', 'entertainment'], ['adventure'], ['art_and_architecture', 'nature', 'adventure'], ['history'], ['history', 'art_and_architecture', 'entertainment'], ['history'], ['history'], ['history'], ['nature', 'adventure'], ['history'], ['history'], ['history', 'art_and_architecture', 'entertainment'], ['adventure'], ['art_and_architecture', 'religious'], [], ['industries'], ['history'], ['history'], ['history'], ['history', 'art_and_architecture', 'entertainment'], ['history', 'art_and_architecture', 'entertainment'], ['adventure'], ['history'], ['history', 'art_and_architecture'], ['history'], ['adventure'], ['health_and_lifestyle'], ['history'], ['history'], ['history'], ['history'], ['history'], ['adventure'], ['history', 'art_and_architecture', 'entertainment'], ['nature', 'adventure'], ['history'], ['art_and_architecture', 'nature', 'adventure'], ['nature', 'adventure'], ['history'], ['nature'], ['nature', 'adventure', 'entertainment'], ['history'], ['adventure'], ['history'], ['history'], ['history'], ['history'], ['nature', 'adventure', 'entertainment'], ['history'], ['history'], ['entertainment'], ['history', 'art_and_architecture'], ['history', 'art_and_architecture'], ['adventure'], ['art_and_architecture', 'religious'], ['nature', 'adventure'], ['art_and_architecture', 'religious'], ['art_and_architecture', 'religious'], ['art_and_architecture', 'religious'], ['history'], ['art_and_architecture', 'religious'], ['history'], ['nature', 'adventure', 'entertainment'], ['art_and_architecture', 'religious'], ['adventure'], ['adventure'], ['history'], ['nature', 'adventure', 'entertainment'], ['adventure', 'entertainment'], ['history'], ['art_and_architecture', 'religious'], ['nature', 'adventure'], ['history'], [], ['history', 'art_and_architecture', 'entertainment'], ['history', 'art_and_architecture', 'entertainment'], ['art_and_architecture', 'religious'], ['history'], ['history', 'art_and_architecture', 'entertainment'], ['history', 'art_and_architecture', 'entertainment'], ['history', 'art_and_architecture'], ['nature'], ['adventure'], ['history'], ['history', 'art_and_architecture', 'entertainment'], ['art_and_architecture', 'religious'], ['history'], ['history', 'art_and_architecture', 'entertainment'], ['art_and_architecture', 'religious'], ['history'], ['food'], ['history'], ['history', 'art_and_architecture', 'entertainment'], ['adventure'], ['history', 'art_and_architecture', 'entertainment'], ['history'], ['history'], ['history'], ['art_and_architecture', 'religious'], ['health_and_lifestyle'], ['nature', 'adventure'], ['entertainment'], ['art_and_architecture', 'religious'], ['nature', 'adventure', 'entertainment'], ['history'], ['health_and_lifestyle'], ['health_and_lifestyle'], ['adventure'], ['history'], ['history'], ['history', 'art_and_architecture', 'entertainment'], ['history', 'art_and_architecture'], ['nature', 'adventure'], ['adventure'], ['adventure'], [], ['nature', 'adventure', 'entertainment'], ['history', 'art_and_architecture', 'entertainment'], ['history'], ['adventure'], ['history'], ['adventure'], ['history'], ['history', 'art_and_architecture'], ['art_and_architecture', 'religious'], ['nature', 'adventure'], ['adventure'], ['adventure'], ['art_and_architecture', 'religious'], ['history', 'art_and_architecture', 'entertainment'], ['history'], ['history'], ['adventure', 'entertainment'], ['history'], ['adventure', 'entertainment'], ['art_and_architecture', 'religious'], ['adventure', 'entertainment'], ['adventure'], ['history'], ['nature', 'adventure', 'entertainment'], ['history'], ['nature', 'adventure'], ['history'], ['adventure'], ['history'], ['history'], ['history'], ['history'], ['history'], ['history', 'art_and_architecture'], ['nature', 'adventure'], ['nature', 'adventure'], ['history', 'art_and_architecture', 'entertainment'], ['history'], ['history'], [], ['history', 'art_and_architecture', 'entertainment'], ['history'], ['history'], ['nature', 'adventure'], ['art_and_architecture', 'religious'], ['art_and_architecture', 'religious'], ['history', 'art_and_architecture', 'entertainment'], ['health_and_lifestyle'], ['nature', 'adventure'], ['history'], ['history', 'art_and_architecture'], ['art_and_architecture', 'religious'], ['history', 'art_and_architecture', 'entertainment'], ['history'], [], ['history'], ['history'], ['history'], ['nature', 'adventure'], ['nature'], ['history'], ['art_and_architecture', 'nature', 'adventure'], ['nature'], ['history', 'art_and_architecture', 'entertainment'], ['history'], ['nature', 'adventure'], ['history'], ['health_and_lifestyle'], ['art_and_architecture', 'religious'], ['history'], ['health_and_lifestyle'], ['art_and_architecture', 'religious'], ['history'], ['nature', 'adventure'], ['history', 'art_and_architecture', 'entertainment'], ['history', 'art_and_architecture', 'entertainment'], ['history'], ['history'], ['history'], ['art_and_architecture', 'religious'], ['nature'], ['history', 'art_and_architecture'], ['adventure', 'entertainment'], ['history', 'art_and_architecture', 'entertainment'], ['history', 'art_and_architecture'], ['history', 'art_and_architecture', 'entertainment'], ['history'], ['history', 'art_and_architecture', 'entertainment'], ['nature'], ['history'], ['nature', 'adventure', 'entertainment'], ['history', 'art_and_architecture', 'entertainment'], ['history'], ['history'], ['history', 'art_and_architecture', 'entertainment'], ['history', 'art_and_architecture', 'entertainment'], ['health_and_lifestyle'], ['history'], ['history'], ['history'], ['nature', 'adventure', 'entertainment'], ['health_and_lifestyle'], ['history'], ['history'], ['art_and_architecture', 'religious'], ['history', 'art_and_architecture', 'entertainment'], ['history'], ['adventure'], ['nature', 'adventure', 'entertainment'], ['history', 'art_and_architecture'], ['history'], ['adventure', 'health_and_lifestyle'], ['history'], ['history'], ['history'], ['history', 'art_and_architecture', 'entertainment'], ['industries'], ['history'], ['adventure'], ['nature', 'adventure'], ['history'], ['history'], ['history'], ['history', 'art_and_architecture', 'entertainment'], ['history', 'art_and_architecture', 'entertainment'], ['history'], ['history'], ['history'], ['history'], ['adventure'], ['art_and_architecture', 'religious'], ['history', 'art_and_architecture'], ['history'], ['health_and_lifestyle'], ['art_and_architecture', 'religious'], ['health_and_lifestyle'], ['history'], ['history'], ['history'], ['history', 'art_and_architecture', 'entertainment'], ['history'], ['adventure'], ['entertainment'], ['history', 'art_and_architecture', 'entertainment'], ['nature'], ['history'], ['nature', 'adventure'], ['health_and_lifestyle'], ['art_and_architecture', 'religious'], ['adventure'], ['adventure'], ['entertainment'], ['history', 'art_and_architecture', 'entertainment'], ['art_and_architecture', 'religious'], ['history', 'art_and_architecture'], ['history'], ['nature'], ['history', 'art_and_architecture', 'entertainment'], ['history', 'art_and_architecture', 'entertainment'], ['history'], ['health_and_lifestyle'], ['history'], ['history'], ['adventure'], ['history'], ['history'], ['history'], ['history'], ['nature', 'adventure'], ['history'], ['history'], ['history', 'art_and_architecture'], ['history'], [], ['history'], ['history'], ['history'], ['art_and_architecture', 'nature', 'adventure'], ['history', 'art_and_architecture'], ['history'], ['nature'], ['history'], ['health_and_lifestyle'], ['nature'], ['art_and_architecture', 'religious'], [], ['history'], ['history'], ['history'], ['history', 'art_and_architecture', 'entertainment'], ['history'], ['history', 'art_and_architecture', 'entertainment'], ['history', 'art_and_architecture', 'entertainment'], ['nature', 'adventure'], [], ['history', 'art_and_architecture', 'entertainment'], ['history', 'art_and_architecture', 'entertainment'], ['history'], ['history', 'art_and_architecture'], ['art_and_architecture', 'religious'], ['history', 'art_and_architecture', 'entertainment'], ['history', 'art_and_architecture', 'entertainment'], ['health_and_lifestyle'], ['art_and_architecture', 'religious'], ['history'], ['history', 'art_and_architecture', 'entertainment'], ['history'], ['art_and_architecture', 'religious'], ['health_and_lifestyle'], ['history'], ['history'], ['history'], ['entertainment'], ['history', 'art_and_architecture', 'entertainment'], ['art_and_architecture', 'nature', 'adventure'], ['adventure'], ['art_and_architecture', 'religious'], ['history'], ['history', 'art_and_architecture', 'entertainment'], ['history'], ['adventure'], ['history'], ['history', 'art_and_architecture', 'entertainment'], ['health_and_lifestyle'], ['history', 'art_and_architecture', 'entertainment'], ['adventure', 'entertainment'], ['art_and_architecture', 'religious'], ['history', 'art_and_architecture', 'entertainment'], ['history'], ['adventure'], ['art_and_architecture', 'religious'], ['history'], ['history'], ['history'], ['history'], ['history', 'art_and_architecture', 'adventure', 'religious'], ['history'], ['history'], ['adventure'], ['history', 'art_and_architecture', 'entertainment'], ['adventure'], ['history'], ['history'], ['history', 'art_and_architecture', 'entertainment'], ['food'], ['history'], ['history'], ['history', 'art_and_architecture'], ['history', 'art_and_architecture'], ['history'], ['adventure', 'entertainment'], ['history', 'art_and_architecture', 'entertainment'], ['history', 'art_and_architecture'], ['nature', 'adventure'], ['history', 'art_and_architecture'], ['history', 'art_and_architecture', 'entertainment'], ['history'], ['nature', 'adventure'], ['entertainment'], ['food'], ['entertainment'], ['health_and_lifestyle'], ['history'], ['history'], ['health_and_lifestyle'], ['history', 'art_and_architecture'], ['history'], ['adventure'], ['adventure'], ['history'], ['adventure'], ['history'], ['nature', 'adventure'], ['history'], ['art_and_architecture', 'religious'], ['adventure', 'entertainment'], ['history'], ['history'], ['history'], ['art_and_architecture', 'nature', 'adventure'], ['adventure', 'entertainment'], ['history'], [], ['history'], ['nature', 'adventure'], ['adventure'], ['history', 'art_and_architecture', 'entertainment'], ['history'], ['nature', 'adventure'], ['history'], [], ['adventure', 'entertainment'], ['nature', 'adventure'], ['history'], ['history', 'art_and_architecture', 'entertainment'], ['nature', 'adventure'], ['history'], ['history'], ['health_and_lifestyle'], ['history', 'art_and_architecture', 'entertainment'], ['history'], ['history'], ['history'], ['history', 'art_and_architecture', 'entertainment'], ['history', 'art_and_architecture', 'entertainment'], ['history'], ['entertainment'], ['history'], ['nature', 'adventure', 'entertainment'], ['history', 'art_and_architecture', 'entertainment'], ['history', 'art_and_architecture', 'entertainment'], ['history', 'art_and_architecture', 'entertainment'], ['history'], ['history', 'art_and_architecture'], ['history', 'art_and_architecture'], ['nature', 'adventure'], ['nature', 'adventure'], ['history'], ['nature', 'adventure'], ['history', 'art_and_architecture', 'entertainment'], ['history'], ['history', 'art_and_architecture', 'entertainment'], ['nature', 'adventure'], ['history'], [], ['history', 'art_and_architecture', 'entertainment'], ['health_and_lifestyle'], ['nature'], ['adventure'], ['history', 'art_and_architecture'], ['adventure'], ['history'], ['nature', 'adventure'], ['industries'], ['history'], ['history'], ['history'], ['history'], ['health_and_lifestyle'], ['art_and_architecture', 'religious'], ['nature', 'adventure'], ['nature', 'adventure', 'entertainment'], ['history'], ['adventure'], ['history', 'art_and_architecture', 'entertainment'], ['history', 'art_and_architecture', 'entertainment'], ['nature', 'adventure'], ['history', 'art_and_architecture'], ['history', 'art_and_architecture'], ['health_and_lifestyle'], ['nature', 'adventure', 'entertainment'], ['history'], ['history'], ['adventure', 'entertainment'], ['adventure', 'entertainment'], ['history'], ['history'], ['history', 'art_and_architecture'], ['history', 'art_and_architecture', 'entertainment'], [], ['adventure'], ['history', 'art_and_architecture'], ['nature', 'adventure'], ['art_and_architecture', 'nature', 'adventure'], [], ['history'], ['history', 'art_and_architecture'], ['history'], ['history', 'art_and_architecture', 'entertainment'], ['history'], ['nature', 'adventure'], ['nature', 'adventure', 'entertainment'], ['history'], ['art_and_architecture', 'entertainment'], ['history'], ['art_and_architecture', 'nature', 'adventure'], ['adventure'], ['adventure'], ['nature', 'adventure', 'entertainment'], ['adventure'], ['history'], ['history'], ['history', 'art_and_architecture', 'entertainment'], ['adventure'], ['adventure'], ['history'], ['adventure', 'entertainment'], ['nature', 'adventure'], ['entertainment', 'food'], [], ['history'], ['history'], ['adventure'], ['history'], ['history'], ['history'], ['entertainment'], ['history'], ['history', 'art_and_architecture', 'entertainment'], ['history'], ['adventure', 'entertainment'], ['art_and_architecture', 'nature', 'adventure'], ['history'], ['nature', 'adventure'], ['art_and_architecture', 'religious'], ['history', 'art_and_architecture', 'entertainment'], ['history'], ['health_and_lifestyle'], ['art_and_architecture', 'nature', 'adventure'], ['nature', 'adventure', 'entertainment'], ['history', 'art_and_architecture', 'entertainment'], ['history'], ['history'], ['adventure'], ['history', 'art_and_architecture', 'entertainment'], ['history'], ['adventure'], ['history'], ['adventure', 'entertainment'], ['nature', 'adventure'], ['history'], ['history'], ['history'], ['history'], ['history'], ['history'], ['history'], ['history'], ['art_and_architecture', 'religious'], ['history', 'art_and_architecture', 'entertainment'], ['history', 'art_and_architecture', 'entertainment'], ['nature', 'adventure'], ['history', 'art_and_architecture'], ['history'], ['nature', 'adventure'], ['history', 'art_and_architecture', 'entertainment'], ['history'], [], ['history', 'art_and_architecture', 'entertainment'], ['adventure'], ['art_and_architecture', 'nature', 'adventure'], ['art_and_architecture', 'religious'], ['history'], ['art_and_architecture', 'religious'], ['history', 'art_and_architecture', 'entertainment'], ['adventure'], ['history', 'art_and_architecture'], ['history', 'art_and_architecture', 'entertainment'], ['art_and_architecture', 'nature', 'adventure'], ['history', 'art_and_architecture', 'entertainment'], ['history'], ['entertainment'], ['history', 'art_and_architecture'], ['history', 'art_and_architecture'], ['health_and_lifestyle'], ['nature', 'adventure'], ['adventure'], ['entertainment', 'food'], ['art_and_architecture', 'nature', 'adventure'], ['history'], ['nature', 'adventure'], ['history'], ['history'], ['history', 'art_and_architecture', 'entertainment'], ['art_and_architecture', 'entertainment'], ['history', 'art_and_architecture', 'entertainment'], ['history', 'art_and_architecture'], ['nature', 'adventure', 'entertainment'], ['history'], ['history', 'art_and_architecture'], ['adventure'], ['nature'], ['entertainment'], ['health_and_lifestyle'], ['history', 'art_and_architecture', 'entertainment'], ['history', 'art_and_architecture'], ['history'], ['history'], ['adventure'], ['history', 'art_and_architecture', 'entertainment'], ['health_and_lifestyle'], ['history'], ['history'], ['history', 'art_and_architecture', 'entertainment'], ['history'], ['history', 'art_and_architecture', 'entertainment'], ['nature', 'adventure'], ['history', 'art_and_architecture'], ['history'], ['history', 'art_and_architecture'], ['adventure'], ['history', 'art_and_architecture', 'entertainment'], ['history'], [], ['history'], ['entertainment'], ['history'], ['history'], ['history', 'art_and_architecture', 'entertainment'], [], ['nature', 'adventure'], ['adventure', 'entertainment'], ['history', 'art_and_architecture'], ['history'], ['history'], ['adventure'], ['history'], ['history', 'art_and_architecture'], ['adventure'], ['adventure'], ['history'], ['history'], ['history'], ['history'], ['nature', 'adventure'], ['adventure'], ['history', 'art_and_architecture'], ['history', 'art_and_architecture', 'entertainment'], ['history'], ['art_and_architecture', 'religious'], ['adventure'], ['history'], ['history', 'art_and_architecture'], ['history'], ['adventure'], ['history', 'art_and_architecture'], ['history'], ['adventure'], [], ['history', 'art_and_architecture'], ['history'], ['art_and_architecture', 'religious'], ['history'], ['health_and_lifestyle'], ['adventure'], ['adventure'], ['history'], ['history', 'art_and_architecture', 'entertainment'], ['adventure'], ['history'], ['adventure'], ['nature', 'adventure'], ['history', 'art_and_architecture'], ['adventure'], ['history'], ['history', 'art_and_architecture', 'entertainment'], ['adventure'], ['history'], ['history'], ['adventure', 'health_and_lifestyle'], ['history'], ['adventure'], ['history', 'art_and_architecture'], ['history', 'art_and_architecture', 'entertainment'], ['history', 'art_and_architecture'], ['adventure'], ['adventure'], ['art_and_architecture', 'nature', 'adventure'], ['history'], ['history', 'art_and_architecture', 'entertainment'], ['history'], ['adventure'], ['nature', 'adventure'], ['history', 'art_and_architecture', 'entertainment'], ['history'], ['history'], ['history'], ['nature', 'adventure', 'entertainment'], ['nature', 'adventure', 'entertainment'], ['history'], ['history'], ['history'], ['history'], ['nature'], ['history', 'art_and_architecture', 'entertainment'], ['nature'], ['history', 'art_and_architecture'], [], ['art_and_architecture', 'religious'], ['history', 'art_and_architecture', 'entertainment'], ['adventure'], ['history'], ['art_and_architecture', 'religious'], ['history'], ['history'], ['art_and_architecture', 'religious'], ['history'], ['history', 'art_and_architecture', 'entertainment'], ['health_and_lifestyle'], ['history', 'art_and_architecture'], ['history'], ['art_and_architecture', 'entertainment'], ['history', 'art_and_architecture'], ['nature', 'adventure'], ['entertainment'], ['history'], ['adventure'], ['nature', 'adventure'], ['history'], ['health_and_lifestyle'], ['history'], ['history'], ['history', 'art_and_architecture'], ['history'], ['history', 'art_and_architecture'], ['art_and_architecture', 'nature', 'adventure'], ['adventure'], ['nature', 'adventure'], ['adventure'], ['history', 'art_and_architecture', 'entertainment'], ['history'], ['adventure'], ['history'], ['health_and_lifestyle'], ['history'], ['history'], ['art_and_architecture', 'religious'], ['art_and_architecture', 'entertainment'], ['history'], ['history', 'art_and_architecture'], ['history'], ['art_and_architecture', 'nature', 'adventure'], ['history', 'art_and_architecture'], ['nature'], ['adventure', 'entertainment'], ['history', 'art_and_architecture', 'entertainment'], ['adventure'], ['adventure'], ['entertainment'], ['history', 'art_and_architecture', 'entertainment'], ['food'], ['entertainment'], ['nature', 'adventure', 'entertainment'], ['history', 'art_and_architecture'], ['adventure'], ['history'], ['history'], ['adventure'], ['adventure'], ['art_and_architecture', 'nature', 'adventure'], ['history', 'art_and_architecture', 'entertainment'], ['history', 'art_and_architecture', 'entertainment'], ['nature', 'adventure', 'entertainment'], ['adventure'], ['history', 'art_and_architecture'], ['art_and_architecture', 'religious'], ['history'], ['nature'], [], ['history', 'art_and_architecture', 'entertainment'], ['art_and_architecture', 'religious'], ['history', 'art_and_architecture', 'entertainment'], ['health_and_lifestyle'], ['nature', 'adventure', 'entertainment'], ['history', 'art_and_architecture', 'entertainment'], ['entertainment'], ['history'], ['history'], ['art_and_architecture', 'religious'], ['art_and_architecture', 'religious'], ['history', 'art_and_architecture', 'entertainment'], ['history', 'art_and_architecture', 'entertainment'], ['health_and_lifestyle'], [], ['art_and_architecture', 'religious'], ['history', 'art_and_architecture'], ['nature'], ['adventure'], ['adventure'], ['history'], ['nature', 'adventure'], ['history'], ['health_and_lifestyle'], ['nature', 'adventure', 'entertainment'], ['entertainment'], ['nature', 'adventure', 'entertainment'], ['nature', 'adventure'], ['history'], ['nature', 'adventure'], ['adventure'], ['history'], ['entertainment'], ['history'], ['nature', 'adventure', 'entertainment'], ['adventure'], ['adventure'], ['history'], ['history'], ['entertainment'], ['history'], ['history', 'art_and_architecture', 'entertainment'], ['history', 'art_and_architecture', 'entertainment'], ['entertainment'], ['art_and_architecture', 'entertainment'], ['history', 'art_and_architecture', 'entertainment'], ['entertainment'], ['nature', 'adventure', 'entertainment'], ['history'], ['nature', 'adventure'], ['history'], ['history', 'art_and_architecture', 'entertainment'], [], ['art_and_architecture', 'religious'], ['history'], ['history', 'art_and_architecture'], ['history'], ['art_and_architecture', 'religious'], ['history'], ['art_and_architecture', 'religious'], ['history'], ['history'], ['nature', 'adventure'], ['nature', 'adventure'], [], ['history'], ['nature', 'adventure'], ['health_and_lifestyle'], ['history'], ['nature', 'adventure'], [], ['nature', 'adventure'], ['nature', 'adventure'], ['nature', 'adventure'], ['history'], ['history', 'art_and_architecture', 'entertainment'], ['nature', 'adventure'], ['art_and_architecture', 'nature', 'adventure'], ['history'], ['nature', 'adventure'], ['adventure'], ['history', 'art_and_architecture', 'entertainment'], ['history'], ['adventure'], ['history'], ['history'], ['history'], ['history'], ['history', 'art_and_architecture', 'entertainment'], [], ['history', 'art_and_architecture', 'entertainment'], ['adventure'], ['history', 'art_and_architecture', 'entertainment'], ['adventure'], ['history', 'art_and_architecture', 'entertainment'], ['nature', 'adventure'], ['history'], ['history'], ['history'], ['nature'], ['adventure'], ['history'], ['history', 'art_and_architecture', 'entertainment'], [], ['history', 'art_and_architecture', 'entertainment'], ['nature', 'adventure'], ['nature', 'adventure'], ['history', 'art_and_architecture'], ['history'], ['history', 'art_and_architecture'], ['history'], ['art_and_architecture', 'nature', 'adventure'], ['history'], ['adventure'], ['history', 'art_and_architecture', 'entertainment'], ['health_and_lifestyle'], ['history'], ['history'], ['adventure'], ['history'], ['adventure', 'health_and_lifestyle'], ['history'], ['history', 'art_and_architecture', 'entertainment'], ['adventure'], ['art_and_architecture', 'religious'], ['history'], ['art_and_architecture', 'nature', 'adventure'], ['history', 'art_and_architecture', 'entertainment'], ['history', 'art_and_architecture'], ['industries'], ['entertainment'], ['entertainment'], ['art_and_architecture', 'nature', 'adventure'], ['adventure'], ['entertainment'], ['adventure'], ['history', 'art_and_architecture'], ['adventure'], ['history', 'art_and_architecture'], [], ['history', 'art_and_architecture'], ['health_and_lifestyle'], ['history', 'art_and_architecture'], ['history', 'art_and_architecture', 'religious'], ['adventure'], ['art_and_architecture', 'nature', 'adventure'], ['art_and_architecture', 'nature', 'adventure'], ['adventure'], ['history', 'art_and_architecture'], ['nature', 'adventure'], ['art_and_architecture', 'religious'], ['adventure'], ['adventure'], ['nature'], ['history', 'art_and_architecture', 'entertainment'], ['art_and_architecture', 'religious'], [], ['history', 'art_and_architecture'], ['history', 'art_and_architecture', 'religious'], ['art_and_architecture', 'nature', 'adventure'], ['history', 'art_and_architecture', 'entertainment'], ['nature', 'adventure'], ['art_and_architecture', 'entertainment'], ['history'], ['history', 'art_and_architecture'], ['adventure'], ['nature', 'adventure', 'entertainment'], ['nature', 'adventure'], ['health_and_lifestyle'], ['history', 'art_and_architecture', 'entertainment'], ['history', 'art_and_architecture', 'entertainment'], ['history', 'art_and_architecture', 'entertainment'], [], ['art_and_architecture', 'religious'], ['nature', 'adventure'], [], ['history'], ['history'], ['history'], ['history'], ['health_and_lifestyle'], ['history', 'art_and_architecture', 'entertainment'], ['history'], ['art_and_architecture', 'religious'], ['art_and_architecture', 'religious'], ['history'], ['history', 'art_and_architecture'], ['history'], ['history', 'art_and_architecture', 'entertainment'], ['history'], ['history', 'art_and_architecture', 'entertainment'], ['nature'], ['health_and_lifestyle'], ['history'], ['nature', 'adventure'], ['history', 'art_and_architecture', 'entertainment'], ['history'], ['history'], ['history', 'art_and_architecture', 'entertainment'], ['history'], ['history'], ['health_and_lifestyle'], ['history', 'art_and_architecture', 'entertainment'], ['history'], ['history'], ['adventure'], ['history', 'art_and_architecture'], ['history'], ['art_and_architecture', 'entertainment'], ['history'], ['history', 'art_and_architecture', 'entertainment'], ['history'], ['history'], ['history'], ['history'], ['adventure'], [], ['history', 'art_and_architecture'], ['history'], ['adventure'], ['nature', 'adventure'], ['health_and_lifestyle'], ['history'], ['adventure'], ['history'], ['adventure'], ['history'], ['entertainment'], ['history'], ['adventure'], ['history'], ['history'], ['history'], ['nature', 'adventure'], ['history'], ['art_and_architecture', 'religious'], ['history'], ['history', 'art_and_architecture', 'entertainment'], ['nature', 'adventure'], ['history'], ['history', 'art_and_architecture', 'entertainment'], ['adventure'], ['history'], ['history'], ['history', 'art_and_architecture', 'religious'], ['history'], ['history', 'art_and_architecture', 'nature'], ['history'], ['history', 'art_and_architecture', 'religious'], [], ['nature', 'adventure'], ['art_and_architecture', 'religious'], ['adventure'], ['health_and_lifestyle'], ['history'], ['history'], ['art_and_architecture', 'nature', 'adventure'], ['history', 'art_and_architecture'], ['history'], ['health_and_lifestyle'], ['history'], ['adventure'], ['history'], ['history'], ['history'], ['history', 'art_and_architecture'], ['art_and_architecture', 'entertainment'], ['history'], ['history', 'art_and_architecture', 'entertainment'], ['history', 'art_and_architecture', 'entertainment'], ['history'], ['art_and_architecture', 'religious'], ['history'], ['history'], ['history', 'art_and_architecture', 'entertainment'], ['history'], ['history', 'art_and_architecture', 'entertainment'], ['nature', 'adventure'], ['history'], ['history', 'art_and_architecture', 'entertainment'], ['nature', 'adventure'], ['history', 'art_and_architecture', 'entertainment'], ['history'], ['history', 'art_and_architecture', 'entertainment'], ['adventure'], ['history', 'art_and_architecture', 'entertainment'], ['history', 'art_and_architecture', 'entertainment'], ['history'], ['health_and_lifestyle'], ['adventure'], ['history'], ['history', 'art_and_architecture', 'entertainment'], ['history'], ['history'], ['history', 'art_and_architecture', 'entertainment'], ['health_and_lifestyle'], ['history'], ['history', 'art_and_architecture', 'entertainment'], ['history', 'art_and_architecture', 'entertainment'], ['health_and_lifestyle'], ['health_and_lifestyle'], ['art_and_architecture', 'religious'], ['adventure', 'entertainment'], ['history', 'art_and_architecture'], ['history', 'art_and_architecture', 'entertainment'], ['history'], ['entertainment'], ['nature'], ['history', 'art_and_architecture'], ['art_and_architecture', 'religious'], ['history'], ['history'], ['history', 'art_and_architecture'], ['health_and_lifestyle'], ['health_and_lifestyle'], ['history', 'art_and_architecture', 'entertainment'], ['history'], ['history', 'art_and_architecture', 'entertainment'], ['history'], ['history'], ['history'], ['history'], ['history', 'art_and_architecture'], ['history'], ['history'], ['history', 'art_and_architecture', 'nature'], ['history'], ['adventure', 'entertainment'], ['history'], ['history'], ['history'], ['history'], ['history'], ['adventure'], ['history', 'art_and_architecture'], ['nature', 'adventure'], ['history', 'art_and_architecture', 'entertainment'], ['nature'], ['nature', 'adventure'], ['history'], ['history'], ['nature', 'adventure'], ['adventure'], ['history'], ['nature', 'adventure'], ['history'], ['history', 'art_and_architecture'], ['entertainment'], ['history', 'art_and_architecture'], ['history'], ['health_and_lifestyle'], ['history', 'art_and_architecture'], ['adventure', 'health_and_lifestyle'], ['nature', 'adventure'], ['history'], ['history'], ['history'], ['history', 'art_and_architecture', 'entertainment'], ['history'], ['history'], ['history', 'art_and_architecture', 'entertainment'], ['history', 'art_and_architecture', 'entertainment'], ['art_and_architecture', 'nature', 'adventure'], ['history'], ['history'], [], ['history', 'art_and_architecture', 'entertainment'], ['entertainment'], ['history'], ['history'], ['nature', 'adventure'], ['health_and_lifestyle'], ['adventure'], ['history', 'art_and_architecture'], ['history', 'art_and_architecture'], ['history'], ['nature', 'adventure'], ['history'], ['history'], ['history', 'art_and_architecture', 'entertainment'], ['nature', 'adventure'], ['history'], ['history'], ['art_and_architecture', 'religious'], [], ['adventure'], [], ['history'], ['history'], ['history', 'art_and_architecture'], ['history', 'art_and_architecture', 'entertainment'], ['history', 'art_and_architecture'], ['history', 'art_and_architecture'], ['history', 'art_and_architecture'], ['history', 'art_and_architecture'], ['history'], ['history'], ['history'], ['history'], ['history'], ['history'], ['nature', 'adventure'], ['history'], ['history'], ['history'], ['history'], ['nature', 'adventure', 'entertainment'], ['history'], ['history'], ['history'], ['adventure'], ['history'], ['history'], ['adventure'], ['adventure'], ['adventure'], ['health_and_lifestyle'], ['nature'], ['nature', 'adventure'], ['history'], ['art_and_architecture', 'religious'], ['nature', 'adventure', 'entertainment'], [], ['history'], ['history'], ['adventure'], ['adventure'], ['history', 'art_and_architecture', 'entertainment'], ['history'], ['history'], ['history', 'art_and_architecture'], ['history', 'art_and_architecture', 'entertainment'], ['history'], ['adventure'], ['history'], ['history'], ['nature', 'adventure'], ['history'], ['history'], ['history', 'art_and_architecture'], ['nature', 'adventure'], ['history', 'art_and_architecture', 'entertainment'], ['history', 'art_and_architecture', 'entertainment'], ['history', 'art_and_architecture', 'entertainment'], ['history'], ['history'], ['adventure'], ['history', 'art_and_architecture'], ['history'], ['history', 'art_and_architecture', 'entertainment'], ['history'], ['adventure'], ['history', 'art_and_architecture', 'entertainment'], ['history'], ['history'], ['history'], ['history', 'art_and_architecture', 'entertainment'], ['nature', 'adventure'], ['history'], ['nature', 'adventure'], ['history'], ['nature', 'adventure'], ['nature', 'adventure'], ['entertainment'], ['history'], ['history', 'art_and_architecture', 'entertainment'], ['adventure'], ['art_and_architecture', 'religious'], ['history'], ['nature'], ['history'], ['history'], ['history'], ['history'], ['history', 'art_and_architecture'], ['history'], ['history'], ['adventure'], [], ['adventure'], ['adventure'], [], ['history', 'art_and_architecture'], ['adventure'], ['history'], ['history', 'art_and_architecture'], ['history'], ['history'], ['adventure'], ['history'], ['adventure'], ['history', 'art_and_architecture'], ['adventure'], ['history'], ['adventure'], ['history', 'art_and_architecture', 'entertainment'], ['history'], ['history', 'art_and_architecture'], ['history'], [], ['history'], ['nature', 'adventure'], ['adventure'], ['history'], ['history'], ['history'], ['adventure'], ['history'], ['adventure'], ['adventure'], ['history'], ['history'], ['history'], ['nature', 'adventure', 'entertainment'], ['history'], ['history'], ['history'], ['adventure'], ['nature', 'adventure'], ['nature', 'adventure'], ['nature', 'adventure'], ['adventure'], ['history', 'art_and_architecture', 'entertainment'], ['adventure'], ['nature', 'adventure'], ['history', 'art_and_architecture', 'entertainment'], ['history'], [], ['nature', 'adventure'], ['adventure', 'entertainment'], ['art_and_architecture', 'religious'], ['history'], ['history'], ['art_and_architecture', 'nature', 'adventure'], ['history', 'art_and_architecture', 'entertainment'], ['nature'], ['history'], ['adventure'], ['history', 'art_and_architecture', 'entertainment'], ['history', 'art_and_architecture', 'entertainment'], ['history'], ['nature', 'adventure', 'entertainment'], [], ['history'], ['health_and_lifestyle'], ['history'], ['history'], ['adventure'], ['adventure'], ['history'], ['adventure'], ['industries'], ['adventure'], ['history'], ['history'], ['adventure'], ['adventure', 'entertainment'], ['history'], ['nature', 'adventure', 'entertainment'], ['history'], ['history'], ['adventure', 'health_and_lifestyle'], ['entertainment'], ['nature', 'adventure'], ['history'], ['history'], ['food'], ['history'], ['nature', 'adventure'], ['history', 'art_and_architecture', 'entertainment'], ['adventure'], ['nature', 'adventure'], ['history', 'art_and_architecture', 'entertainment'], ['history'], ['history', 'art_and_architecture'], ['history'], ['nature', 'adventure', 'entertainment'], [], ['nature', 'adventure'], ['history'], ['adventure'], ['health_and_lifestyle'], ['nature', 'adventure'], ['nature', 'adventure'], ['history', 'art_and_architecture', 'religious'], ['history'], ['history'], ['adventure'], ['history'], ['art_and_architecture', 'religious'], ['history'], ['art_and_architecture', 'religious'], ['history'], ['adventure'], ['history', 'art_and_architecture'], ['history'], ['history'], ['history'], ['history', 'art_and_architecture', 'religious'], [], [], ['adventure'], ['nature', 'adventure'], ['history', 'art_and_architecture', 'entertainment'], ['nature', 'adventure'], ['art_and_architecture', 'nature', 'adventure'], ['nature', 'adventure'], ['history'], ['history'], ['adventure'], ['adventure'], ['history'], [], ['history'], ['history'], ['history'], ['art_and_architecture', 'religious'], ['history', 'art_and_architecture', 'entertainment'], ['history', 'art_and_architecture'], ['history', 'art_and_architecture'], ['adventure'], ['history'], ['history', 'art_and_architecture'], ['adventure'], ['history'], ['history'], ['nature', 'adventure'], ['adventure', 'entertainment'], ['history'], ['history'], ['history', 'art_and_architecture', 'entertainment'], ['history'], ['history', 'art_and_architecture', 'entertainment'], ['nature', 'adventure', 'entertainment'], ['history'], ['nature', 'adventure'], ['history', 'art_and_architecture'], ['adventure'], ['history'], ['history', 'art_and_architecture'], ['history'], ['health_and_lifestyle'], ['adventure'], ['adventure'], [], ['adventure', 'entertainment'], ['adventure'], ['history'], ['adventure'], ['history'], ['history', 'art_and_architecture', 'entertainment'], ['nature', 'adventure', 'entertainment']]\n"
     ]
    }
   ],
   "source": [
    "print(super_genre_list)"
   ]
  },
  {
   "cell_type": "code",
   "execution_count": 356,
   "id": "9f41d538",
   "metadata": {},
   "outputs": [],
   "source": [
    "dataset['genre']=super_genre_list"
   ]
  },
  {
   "cell_type": "code",
   "execution_count": 357,
   "id": "d7ce1d34",
   "metadata": {},
   "outputs": [
    {
     "name": "stdout",
     "output_type": "stream",
     "text": [
      "                                    title    latitude  longitude  history  \\\n",
      "0                        Boudhanath Stupa  27.7215062  85.359809     True   \n",
      "1                    Swayambhunath Temple  27.7149298  85.288146     True   \n",
      "2                    Pashupatinath Temple  27.7104461  85.346503     True   \n",
      "3                       Chandragiri Hills  27.6710496  85.262664    False   \n",
      "4                         Kopan Monastery  27.7425438  85.362208     True   \n",
      "...                                   ...         ...        ...      ...   \n",
      "2340         Zeal Nepal Trek & Expedition         NaN        NaN     True   \n",
      "2341                        Mohit Sunuwar         NaN        NaN    False   \n",
      "2342  SITA (Travel Corporation India Ltd)         NaN        NaN     True   \n",
      "2343                       Himalayan Hike         NaN        NaN     True   \n",
      "2344                            River Fun         NaN        NaN    False   \n",
      "\n",
      "      art_and_architecture  nature  adventure  entertainment  \\\n",
      "0                     True   False      False          False   \n",
      "1                     True   False      False          False   \n",
      "2                     True   False      False          False   \n",
      "3                    False    True      False          False   \n",
      "4                     True   False      False          False   \n",
      "...                    ...     ...        ...            ...   \n",
      "2340                 False   False      False          False   \n",
      "2341                 False   False       True          False   \n",
      "2342                 False   False      False          False   \n",
      "2343                  True   False      False           True   \n",
      "2344                 False    True       True           True   \n",
      "\n",
      "      health_and_lifestyle   food  industries  religious  \\\n",
      "0                    False  False       False       True   \n",
      "1                    False  False       False       True   \n",
      "2                    False  False       False       True   \n",
      "3                    False  False       False      False   \n",
      "4                    False  False       False       True   \n",
      "...                    ...    ...         ...        ...   \n",
      "2340                 False  False       False      False   \n",
      "2341                 False  False       False      False   \n",
      "2342                 False  False       False      False   \n",
      "2343                 False  False       False      False   \n",
      "2344                 False  False       False      False   \n",
      "\n",
      "                                               genre  \n",
      "0         [history, art_and_architecture, religious]  \n",
      "1         [history, art_and_architecture, religious]  \n",
      "2         [history, art_and_architecture, religious]  \n",
      "3                                           [nature]  \n",
      "4         [history, art_and_architecture, religious]  \n",
      "...                                              ...  \n",
      "2340                                       [history]  \n",
      "2341                                     [adventure]  \n",
      "2342                                       [history]  \n",
      "2343  [history, art_and_architecture, entertainment]  \n",
      "2344              [nature, adventure, entertainment]  \n",
      "\n",
      "[2345 rows x 13 columns]\n"
     ]
    }
   ],
   "source": [
    "print(dataset)"
   ]
  },
  {
   "cell_type": "code",
   "execution_count": 358,
   "id": "201a18af",
   "metadata": {},
   "outputs": [],
   "source": [
    "dataset=dataset[['title','genre','latitude','longitude']]"
   ]
  },
  {
   "cell_type": "code",
   "execution_count": 359,
   "id": "c04d0633",
   "metadata": {},
   "outputs": [
    {
     "name": "stdout",
     "output_type": "stream",
     "text": [
      "                                    title  \\\n",
      "0                        Boudhanath Stupa   \n",
      "1                    Swayambhunath Temple   \n",
      "2                    Pashupatinath Temple   \n",
      "3                       Chandragiri Hills   \n",
      "4                         Kopan Monastery   \n",
      "...                                   ...   \n",
      "2340         Zeal Nepal Trek & Expedition   \n",
      "2341                        Mohit Sunuwar   \n",
      "2342  SITA (Travel Corporation India Ltd)   \n",
      "2343                       Himalayan Hike   \n",
      "2344                            River Fun   \n",
      "\n",
      "                                               genre    latitude  longitude  \n",
      "0         [history, art_and_architecture, religious]  27.7215062  85.359809  \n",
      "1         [history, art_and_architecture, religious]  27.7149298  85.288146  \n",
      "2         [history, art_and_architecture, religious]  27.7104461  85.346503  \n",
      "3                                           [nature]  27.6710496  85.262664  \n",
      "4         [history, art_and_architecture, religious]  27.7425438  85.362208  \n",
      "...                                              ...         ...        ...  \n",
      "2340                                       [history]         NaN        NaN  \n",
      "2341                                     [adventure]         NaN        NaN  \n",
      "2342                                       [history]         NaN        NaN  \n",
      "2343  [history, art_and_architecture, entertainment]         NaN        NaN  \n",
      "2344              [nature, adventure, entertainment]         NaN        NaN  \n",
      "\n",
      "[2345 rows x 4 columns]\n"
     ]
    }
   ],
   "source": [
    "print(dataset)"
   ]
  },
  {
   "cell_type": "code",
   "execution_count": 360,
   "id": "df65ac7c",
   "metadata": {},
   "outputs": [],
   "source": [
    "# assign IDs to the places\n",
    "id_list=list(range(1,len(dataset)+1))\n",
    "dataset['dest_id']=id_list"
   ]
  },
  {
   "cell_type": "code",
   "execution_count": 361,
   "id": "9bb71961",
   "metadata": {},
   "outputs": [
    {
     "name": "stdout",
     "output_type": "stream",
     "text": [
      "                                    title  \\\n",
      "0                        Boudhanath Stupa   \n",
      "1                    Swayambhunath Temple   \n",
      "2                    Pashupatinath Temple   \n",
      "3                       Chandragiri Hills   \n",
      "4                         Kopan Monastery   \n",
      "...                                   ...   \n",
      "2340         Zeal Nepal Trek & Expedition   \n",
      "2341                        Mohit Sunuwar   \n",
      "2342  SITA (Travel Corporation India Ltd)   \n",
      "2343                       Himalayan Hike   \n",
      "2344                            River Fun   \n",
      "\n",
      "                                               genre    latitude  longitude  \\\n",
      "0         [history, art_and_architecture, religious]  27.7215062  85.359809   \n",
      "1         [history, art_and_architecture, religious]  27.7149298  85.288146   \n",
      "2         [history, art_and_architecture, religious]  27.7104461  85.346503   \n",
      "3                                           [nature]  27.6710496  85.262664   \n",
      "4         [history, art_and_architecture, religious]  27.7425438  85.362208   \n",
      "...                                              ...         ...        ...   \n",
      "2340                                       [history]         NaN        NaN   \n",
      "2341                                     [adventure]         NaN        NaN   \n",
      "2342                                       [history]         NaN        NaN   \n",
      "2343  [history, art_and_architecture, entertainment]         NaN        NaN   \n",
      "2344              [nature, adventure, entertainment]         NaN        NaN   \n",
      "\n",
      "      dest_id  \n",
      "0           1  \n",
      "1           2  \n",
      "2           3  \n",
      "3           4  \n",
      "4           5  \n",
      "...       ...  \n",
      "2340     2341  \n",
      "2341     2342  \n",
      "2342     2343  \n",
      "2343     2344  \n",
      "2344     2345  \n",
      "\n",
      "[2345 rows x 5 columns]\n"
     ]
    }
   ],
   "source": [
    "print(dataset)"
   ]
  },
  {
   "cell_type": "code",
   "execution_count": 362,
   "id": "a01a658c",
   "metadata": {},
   "outputs": [],
   "source": [
    "dataset=dataset[['dest_id','title','genre','latitude','longitude']]"
   ]
  },
  {
   "cell_type": "code",
   "execution_count": 363,
   "id": "5fdb571c",
   "metadata": {},
   "outputs": [
    {
     "name": "stdout",
     "output_type": "stream",
     "text": [
      "      dest_id                                title  \\\n",
      "0           1                     Boudhanath Stupa   \n",
      "1           2                 Swayambhunath Temple   \n",
      "2           3                 Pashupatinath Temple   \n",
      "3           4                    Chandragiri Hills   \n",
      "4           5                      Kopan Monastery   \n",
      "...       ...                                  ...   \n",
      "2340     2341         Zeal Nepal Trek & Expedition   \n",
      "2341     2342                        Mohit Sunuwar   \n",
      "2342     2343  SITA (Travel Corporation India Ltd)   \n",
      "2343     2344                       Himalayan Hike   \n",
      "2344     2345                            River Fun   \n",
      "\n",
      "                                               genre    latitude  longitude  \n",
      "0         [history, art_and_architecture, religious]  27.7215062  85.359809  \n",
      "1         [history, art_and_architecture, religious]  27.7149298  85.288146  \n",
      "2         [history, art_and_architecture, religious]  27.7104461  85.346503  \n",
      "3                                           [nature]  27.6710496  85.262664  \n",
      "4         [history, art_and_architecture, religious]  27.7425438  85.362208  \n",
      "...                                              ...         ...        ...  \n",
      "2340                                       [history]         NaN        NaN  \n",
      "2341                                     [adventure]         NaN        NaN  \n",
      "2342                                       [history]         NaN        NaN  \n",
      "2343  [history, art_and_architecture, entertainment]         NaN        NaN  \n",
      "2344              [nature, adventure, entertainment]         NaN        NaN  \n",
      "\n",
      "[2345 rows x 5 columns]\n"
     ]
    }
   ],
   "source": [
    "print(dataset)"
   ]
  },
  {
   "cell_type": "code",
   "execution_count": 364,
   "id": "e736ea2f",
   "metadata": {},
   "outputs": [
    {
     "name": "stdout",
     "output_type": "stream",
     "text": [
      "      dest_id                                title  \\\n",
      "0           1                     Boudhanath Stupa   \n",
      "1           2                 Swayambhunath Temple   \n",
      "2           3                 Pashupatinath Temple   \n",
      "3           4                    Chandragiri Hills   \n",
      "4           5                      Kopan Monastery   \n",
      "...       ...                                  ...   \n",
      "2340     2341         Zeal Nepal Trek & Expedition   \n",
      "2341     2342                        Mohit Sunuwar   \n",
      "2342     2343  SITA (Travel Corporation India Ltd)   \n",
      "2343     2344                       Himalayan Hike   \n",
      "2344     2345                            River Fun   \n",
      "\n",
      "                                           genre    latitude  longitude  \n",
      "0         history:art_and_architecture:religious  27.7215062  85.359809  \n",
      "1         history:art_and_architecture:religious  27.7149298  85.288146  \n",
      "2         history:art_and_architecture:religious  27.7104461  85.346503  \n",
      "3                                         nature  27.6710496  85.262664  \n",
      "4         history:art_and_architecture:religious  27.7425438  85.362208  \n",
      "...                                          ...         ...        ...  \n",
      "2340                                     history         NaN        NaN  \n",
      "2341                                   adventure         NaN        NaN  \n",
      "2342                                     history         NaN        NaN  \n",
      "2343  history:art_and_architecture:entertainment         NaN        NaN  \n",
      "2344              nature:adventure:entertainment         NaN        NaN  \n",
      "\n",
      "[2345 rows x 5 columns]\n"
     ]
    }
   ],
   "source": [
    "for i in range(len(dataset)):\n",
    "    genre_string=\"\"\n",
    "    for entry in dataset.loc[i,\"genre\"]:\n",
    "        genre_string += ':' + str(entry)\n",
    "    dataset.loc[i,\"genre\"]=genre_string[1:]\n",
    "\n",
    "print(dataset)"
   ]
  },
  {
   "cell_type": "code",
   "execution_count": 365,
   "id": "25ca89c1",
   "metadata": {},
   "outputs": [],
   "source": [
    "dataset.to_csv(\"test_dataset_3.csv\",index=None)"
   ]
  },
  {
   "cell_type": "code",
   "execution_count": null,
   "id": "62d72031",
   "metadata": {},
   "outputs": [],
   "source": []
  }
 ],
 "metadata": {
  "kernelspec": {
   "display_name": "Python 3 (ipykernel)",
   "language": "python",
   "name": "python3"
  },
  "language_info": {
   "codemirror_mode": {
    "name": "ipython",
    "version": 3
   },
   "file_extension": ".py",
   "mimetype": "text/x-python",
   "name": "python",
   "nbconvert_exporter": "python",
   "pygments_lexer": "ipython3",
   "version": "3.9.7"
  }
 },
 "nbformat": 4,
 "nbformat_minor": 5
}
