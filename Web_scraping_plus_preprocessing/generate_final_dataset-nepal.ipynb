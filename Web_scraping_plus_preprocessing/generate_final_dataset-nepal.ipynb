{
 "cells": [
  {
   "cell_type": "code",
   "execution_count": 1,
   "id": "d6abd4b0",
   "metadata": {},
   "outputs": [],
   "source": [
    "import pandas as pd\n",
    "import numpy as np"
   ]
  },
  {
   "cell_type": "code",
   "execution_count": 2,
   "id": "98774b96",
   "metadata": {},
   "outputs": [
    {
     "name": "stdout",
     "output_type": "stream",
     "text": [
      "                   title avg_rating  voted_by                genre history  \\\n",
      "0       Boudhanath Stupa        4.5      8897  ['Religious Sites']    True   \n",
      "1  Phewa Tal (Fewa Lake)        4.5      2988  ['Bodies of Water']   False   \n",
      "2              Sarangkot        4.5      2199        ['Mountains']   False   \n",
      "3   Swayambhunath Temple        4.5      6203  ['Religious Sites']    True   \n",
      "4              Poon Hill        4.5      1477        ['Mountains']   False   \n",
      "\n",
      "   art_and_architecture  nature  adventure  entertainment  \\\n",
      "0                  True   False      False          False   \n",
      "1                 False    True      False          False   \n",
      "2                 False    True      False          False   \n",
      "3                  True   False      False          False   \n",
      "4                 False    True      False          False   \n",
      "\n",
      "   health_and_lifestyle   food  industries  religious    latitude  longitude  \n",
      "0                 False  False       False       True  27.7215062  85.359809  \n",
      "1                 False  False       False      False  28.2116268  83.932296  \n",
      "2                 False  False       False      False  28.2443761  83.944564  \n",
      "3                 False  False       False       True  27.7149298  85.288146  \n",
      "4                 False  False       False      False   28.400195  83.671789  \n",
      "(3313, 15)\n"
     ]
    }
   ],
   "source": [
    "dataset=pd.read_csv(\"../Datasets/destinations_of_nepal_updated_500_latlong.csv\")\n",
    "print(dataset.head())\n",
    "print(dataset.shape)"
   ]
  },
  {
   "cell_type": "code",
   "execution_count": 3,
   "id": "7501b5be",
   "metadata": {},
   "outputs": [
    {
     "name": "stdout",
     "output_type": "stream",
     "text": [
      "                                    title        avg_rating  voted_by history  \\\n",
      "0                        Boudhanath Stupa               4.5      8897    True   \n",
      "1                   Phewa Tal (Fewa Lake)               4.5      2988   False   \n",
      "2                               Sarangkot               4.5      2199   False   \n",
      "3                    Swayambhunath Temple               4.5      6203    True   \n",
      "4                               Poon Hill               4.5      1477   False   \n",
      "...                                   ...               ...       ...     ...   \n",
      "3308  SITA (Travel Corporation India Ltd)  4.77190569744597         0    True   \n",
      "3309                       Himalayan Hike  4.77190569744597         0    True   \n",
      "3310                               Harilo  4.77190569744597         0   False   \n",
      "3311                           Heli Sight  4.77190569744597         0   False   \n",
      "3312                            River Fun  4.77190569744597         0   False   \n",
      "\n",
      "      art_and_architecture  nature  adventure  entertainment  \\\n",
      "0                     True   False      False          False   \n",
      "1                    False    True      False          False   \n",
      "2                    False    True      False          False   \n",
      "3                     True   False      False          False   \n",
      "4                    False    True      False          False   \n",
      "...                    ...     ...        ...            ...   \n",
      "3308                 False   False      False          False   \n",
      "3309                  True   False      False           True   \n",
      "3310                 False   False      False           True   \n",
      "3311                 False   False       True          False   \n",
      "3312                 False   False       True          False   \n",
      "\n",
      "      health_and_lifestyle   food  industries  religious    latitude  \\\n",
      "0                    False  False       False       True  27.7215062   \n",
      "1                    False  False       False      False  28.2116268   \n",
      "2                    False  False       False      False  28.2443761   \n",
      "3                    False  False       False       True  27.7149298   \n",
      "4                    False  False       False      False   28.400195   \n",
      "...                    ...    ...         ...        ...         ...   \n",
      "3308                 False  False       False      False         NaN   \n",
      "3309                 False  False       False      False         NaN   \n",
      "3310                 False   True       False      False         NaN   \n",
      "3311                 False  False       False      False         NaN   \n",
      "3312                 False  False       False      False         NaN   \n",
      "\n",
      "      longitude  \n",
      "0     85.359809  \n",
      "1     83.932296  \n",
      "2     83.944564  \n",
      "3     85.288146  \n",
      "4     83.671789  \n",
      "...         ...  \n",
      "3308        NaN  \n",
      "3309        NaN  \n",
      "3310        NaN  \n",
      "3311        NaN  \n",
      "3312        NaN  \n",
      "\n",
      "[3313 rows x 14 columns]\n"
     ]
    }
   ],
   "source": [
    "dataset=dataset.drop(['genre'],axis=1)\n",
    "print(dataset)"
   ]
  },
  {
   "cell_type": "code",
   "execution_count": 4,
   "id": "e88e7099",
   "metadata": {},
   "outputs": [],
   "source": [
    "genre_opt=['history', 'art_and_architecture','nature', 'adventure', 'entertainment', 'health_and_lifestyle', 'food',\\\n",
    "           'industries', 'religious']\n",
    "super_genre_list=[]\n",
    "for i in range(len(dataset)):\n",
    "    genre_list=[]\n",
    "    for ind in genre_opt:        \n",
    "        if (dataset.loc[i,ind]==\"True\" or dataset.loc[i,ind]==True):\n",
    "            genre_list.append(str(ind))\n",
    "    \n",
    "    super_genre_list.append(genre_list)\n",
    "        \n",
    "    \n",
    "            \n",
    "        "
   ]
  },
  {
   "cell_type": "code",
   "execution_count": 5,
   "id": "ffbb8b57",
   "metadata": {},
   "outputs": [
    {
     "name": "stdout",
     "output_type": "stream",
     "text": [
      "[['history', 'art_and_architecture', 'religious'], ['nature'], ['nature'], ['history', 'art_and_architecture', 'religious'], ['nature'], ['history', 'art_and_architecture', 'religious'], ['history', 'art_and_architecture', 'religious'], ['history', 'art_and_architecture', 'nature'], ['nature'], ['nature'], ['nature'], ['history', 'art_and_architecture', 'religious'], ['history', 'art_and_architecture'], [], ['history', 'art_and_architecture'], ['nature'], ['history', 'art_and_architecture', 'religious'], [], ['nature', 'adventure'], ['nature'], ['history', 'art_and_architecture', 'nature'], [], ['history', 'art_and_architecture', 'nature'], ['adventure'], ['history', 'art_and_architecture'], ['nature'], ['nature'], ['nature'], [], ['history', 'art_and_architecture'], ['history', 'art_and_architecture', 'religious'], ['history', 'art_and_architecture', 'religious'], ['history', 'art_and_architecture', 'religious'], ['nature', 'adventure'], ['nature'], ['history', 'art_and_architecture', 'religious'], ['nature'], ['entertainment'], ['nature'], ['nature', 'adventure'], ['nature'], ['history', 'art_and_architecture', 'religious'], ['history', 'art_and_architecture', 'religious'], ['history', 'art_and_architecture', 'religious'], ['history', 'art_and_architecture', 'religious'], ['history', 'art_and_architecture'], ['history', 'art_and_architecture', 'religious'], ['nature', 'adventure'], ['history', 'art_and_architecture', 'nature'], ['history', 'art_and_architecture', 'nature'], ['nature'], ['history', 'art_and_architecture', 'religious'], ['history', 'art_and_architecture', 'religious'], ['nature', 'adventure'], ['nature'], ['nature', 'adventure'], ['nature', 'adventure'], [], ['nature'], ['history', 'art_and_architecture', 'religious'], ['history', 'art_and_architecture', 'religious'], ['history', 'art_and_architecture'], ['history', 'art_and_architecture', 'religious'], ['history', 'art_and_architecture', 'religious'], ['history', 'art_and_architecture', 'nature'], [], ['nature'], ['history', 'art_and_architecture', 'nature', 'adventure'], ['nature'], ['history', 'art_and_architecture', 'religious'], ['history', 'art_and_architecture', 'religious'], ['history', 'art_and_architecture', 'religious'], [], [], ['history', 'art_and_architecture'], [], ['entertainment'], ['history', 'art_and_architecture', 'nature'], ['health_and_lifestyle'], ['nature', 'entertainment'], ['adventure', 'health_and_lifestyle'], ['history', 'art_and_architecture', 'religious'], ['health_and_lifestyle', 'industries'], ['entertainment'], ['nature'], ['history', 'art_and_architecture', 'religious'], ['history', 'art_and_architecture'], ['nature'], ['nature'], ['nature'], ['history', 'art_and_architecture', 'religious'], ['entertainment'], ['history', 'art_and_architecture', 'religious'], ['history', 'art_and_architecture'], ['nature'], ['entertainment'], ['history', 'art_and_architecture', 'religious'], ['history', 'art_and_architecture', 'religious'], ['history', 'art_and_architecture', 'nature'], ['history', 'art_and_architecture', 'nature'], ['nature'], ['history', 'art_and_architecture', 'religious'], [], ['history', 'art_and_architecture', 'religious'], [], ['history', 'art_and_architecture', 'nature'], ['history', 'art_and_architecture', 'nature'], ['history', 'art_and_architecture', 'nature'], ['nature', 'adventure'], ['history', 'art_and_architecture', 'nature'], ['nature', 'adventure'], ['nature'], ['history', 'art_and_architecture', 'nature'], ['history', 'art_and_architecture', 'religious'], ['nature'], ['nature'], ['history', 'art_and_architecture'], ['nature'], ['history', 'art_and_architecture', 'nature'], ['history', 'art_and_architecture', 'religious'], [], ['history', 'art_and_architecture'], ['history', 'art_and_architecture', 'religious'], ['entertainment'], ['nature'], ['nature'], ['nature', 'adventure'], ['nature'], ['history', 'art_and_architecture', 'nature'], ['history', 'art_and_architecture'], ['history', 'art_and_architecture', 'religious'], ['nature'], ['history', 'art_and_architecture', 'religious'], ['entertainment'], ['entertainment'], [], ['history', 'art_and_architecture', 'religious'], ['history', 'art_and_architecture', 'religious'], ['history', 'art_and_architecture', 'nature'], ['art_and_architecture', 'entertainment'], ['industries'], ['nature'], ['nature'], ['nature'], [], ['history', 'art_and_architecture', 'nature'], ['history', 'art_and_architecture', 'nature'], ['health_and_lifestyle'], [], ['history', 'art_and_architecture', 'religious'], ['history', 'art_and_architecture', 'nature'], ['history', 'art_and_architecture', 'religious'], ['history', 'art_and_architecture'], ['history', 'art_and_architecture', 'religious'], ['nature'], ['history', 'art_and_architecture', 'religious'], ['nature'], ['entertainment'], [], ['history', 'art_and_architecture', 'religious'], ['history', 'art_and_architecture', 'nature'], ['history', 'art_and_architecture', 'religious'], ['nature'], ['history', 'art_and_architecture', 'nature'], ['history', 'art_and_architecture', 'religious'], ['history', 'art_and_architecture'], ['history', 'art_and_architecture', 'religious'], ['history', 'art_and_architecture', 'nature'], ['nature'], ['nature'], ['history', 'art_and_architecture', 'nature'], ['nature'], ['history', 'art_and_architecture', 'religious'], ['history', 'art_and_architecture'], ['nature', 'adventure'], ['history', 'art_and_architecture'], [], ['nature', 'adventure'], ['history', 'art_and_architecture', 'religious'], ['history', 'art_and_architecture', 'religious'], ['history', 'art_and_architecture', 'religious'], ['history', 'art_and_architecture', 'religious'], ['history', 'art_and_architecture', 'religious'], ['history', 'art_and_architecture', 'religious'], ['history', 'art_and_architecture', 'nature'], ['history', 'art_and_architecture', 'religious'], ['history', 'art_and_architecture', 'nature'], ['history', 'art_and_architecture', 'religious'], ['nature', 'adventure'], ['history', 'art_and_architecture', 'nature'], ['history', 'art_and_architecture'], ['entertainment'], ['history', 'art_and_architecture', 'nature'], ['history', 'art_and_architecture', 'nature'], ['history', 'art_and_architecture', 'religious'], ['history', 'art_and_architecture', 'nature'], ['history', 'art_and_architecture', 'nature'], ['history', 'art_and_architecture', 'religious'], ['entertainment'], ['history', 'art_and_architecture', 'nature'], ['history', 'art_and_architecture', 'religious'], ['history', 'art_and_architecture'], ['entertainment', 'food'], ['nature'], ['adventure', 'health_and_lifestyle'], [], ['history', 'art_and_architecture', 'religious'], ['history', 'art_and_architecture', 'religious'], ['history', 'art_and_architecture', 'religious'], ['history', 'art_and_architecture', 'religious'], ['history', 'art_and_architecture'], ['history', 'art_and_architecture', 'religious'], ['history', 'art_and_architecture'], ['history', 'art_and_architecture'], [], ['history', 'art_and_architecture', 'religious'], ['history', 'art_and_architecture', 'religious'], ['history', 'art_and_architecture', 'nature'], ['health_and_lifestyle'], ['nature'], ['history', 'art_and_architecture', 'religious'], ['history', 'art_and_architecture', 'nature'], ['history', 'art_and_architecture', 'nature'], [], ['history', 'art_and_architecture'], ['nature', 'adventure'], [], ['history', 'art_and_architecture', 'nature'], ['history', 'art_and_architecture', 'religious'], ['history', 'art_and_architecture', 'religious'], ['nature'], ['history', 'art_and_architecture', 'religious'], ['history', 'art_and_architecture', 'religious'], ['history', 'art_and_architecture', 'nature'], ['entertainment'], [], ['history', 'art_and_architecture', 'religious'], ['nature'], ['nature', 'adventure'], ['nature'], ['history', 'art_and_architecture', 'religious'], ['history', 'art_and_architecture', 'religious'], ['history', 'art_and_architecture'], ['history', 'art_and_architecture', 'religious'], ['history', 'art_and_architecture', 'nature'], ['history', 'art_and_architecture', 'religious'], ['history', 'art_and_architecture', 'religious'], ['history', 'art_and_architecture', 'religious'], ['history', 'art_and_architecture', 'religious'], [], ['history', 'art_and_architecture', 'nature'], ['nature'], ['history', 'art_and_architecture'], ['history', 'art_and_architecture', 'nature'], ['history', 'art_and_architecture', 'religious'], ['history', 'art_and_architecture', 'nature'], ['history', 'art_and_architecture', 'nature'], ['history', 'art_and_architecture'], ['history', 'art_and_architecture'], ['adventure', 'health_and_lifestyle'], ['history', 'art_and_architecture'], ['history', 'art_and_architecture'], ['history', 'art_and_architecture', 'nature'], ['history', 'art_and_architecture'], [], ['nature'], ['history', 'art_and_architecture', 'nature'], ['history', 'art_and_architecture', 'religious'], ['history', 'art_and_architecture', 'nature'], ['history', 'art_and_architecture', 'religious'], ['history', 'art_and_architecture'], ['history', 'art_and_architecture', 'religious'], ['history', 'art_and_architecture'], ['entertainment'], ['health_and_lifestyle', 'industries'], ['history', 'art_and_architecture'], ['history', 'art_and_architecture', 'nature'], ['history', 'art_and_architecture'], ['history', 'art_and_architecture', 'religious'], ['history', 'art_and_architecture', 'religious'], ['history', 'art_and_architecture'], ['history', 'art_and_architecture', 'nature'], ['history', 'art_and_architecture', 'religious'], ['history', 'art_and_architecture', 'religious'], ['history', 'art_and_architecture', 'nature'], ['history', 'art_and_architecture', 'religious'], ['nature'], ['history', 'art_and_architecture', 'religious'], ['nature', 'adventure'], ['history', 'art_and_architecture', 'religious'], ['history', 'art_and_architecture', 'religious'], ['history', 'art_and_architecture', 'nature'], ['nature'], ['history', 'art_and_architecture', 'religious'], ['history', 'art_and_architecture', 'nature'], ['nature'], ['entertainment'], [], ['history', 'art_and_architecture', 'nature'], ['history', 'art_and_architecture'], ['nature'], ['history', 'art_and_architecture', 'religious'], ['adventure', 'health_and_lifestyle'], [], ['history', 'art_and_architecture', 'religious'], ['history', 'art_and_architecture'], ['history', 'art_and_architecture', 'nature'], ['entertainment'], ['history', 'art_and_architecture', 'religious'], ['history', 'art_and_architecture', 'nature'], ['history', 'art_and_architecture', 'religious'], ['nature'], ['entertainment'], ['history', 'art_and_architecture'], ['history', 'art_and_architecture', 'religious'], ['history', 'art_and_architecture', 'nature'], ['history', 'art_and_architecture', 'religious'], [], ['history', 'art_and_architecture'], ['history', 'art_and_architecture'], ['history', 'art_and_architecture', 'nature'], ['history', 'art_and_architecture', 'nature'], ['history', 'art_and_architecture', 'religious'], ['history', 'art_and_architecture', 'nature'], ['history', 'art_and_architecture', 'religious'], [], ['nature', 'adventure'], ['history', 'art_and_architecture', 'religious'], ['entertainment'], ['industries'], ['history', 'art_and_architecture', 'nature'], ['history', 'art_and_architecture'], ['entertainment'], ['history', 'art_and_architecture'], ['history', 'art_and_architecture', 'nature'], ['nature', 'adventure'], ['history', 'art_and_architecture', 'religious'], ['nature'], ['history', 'art_and_architecture', 'religious'], ['history', 'art_and_architecture', 'religious'], ['history', 'art_and_architecture', 'religious'], ['history', 'art_and_architecture', 'religious'], ['history', 'art_and_architecture', 'nature'], ['history', 'art_and_architecture'], ['history', 'art_and_architecture', 'religious'], ['history', 'art_and_architecture', 'religious'], [], ['history', 'art_and_architecture', 'nature'], ['history', 'art_and_architecture', 'nature'], ['history', 'art_and_architecture', 'religious'], ['nature'], ['history', 'art_and_architecture', 'nature'], ['history', 'art_and_architecture', 'nature'], ['history', 'art_and_architecture', 'nature'], ['history', 'art_and_architecture', 'nature'], ['history', 'art_and_architecture', 'religious'], ['history', 'art_and_architecture', 'nature'], ['entertainment'], ['history', 'art_and_architecture'], ['history', 'art_and_architecture', 'religious'], ['nature'], ['nature'], ['history', 'art_and_architecture'], ['history', 'art_and_architecture', 'religious'], ['history', 'art_and_architecture', 'religious'], ['history', 'art_and_architecture', 'nature'], ['history', 'art_and_architecture', 'nature'], ['history', 'art_and_architecture'], ['history', 'art_and_architecture', 'religious'], ['history', 'art_and_architecture', 'religious'], ['history', 'art_and_architecture', 'nature'], ['history', 'art_and_architecture', 'nature'], ['history', 'art_and_architecture', 'religious'], ['history', 'art_and_architecture'], ['history', 'art_and_architecture', 'religious'], [], ['history', 'art_and_architecture', 'nature'], ['history', 'art_and_architecture', 'nature'], ['history', 'art_and_architecture', 'religious'], ['history', 'art_and_architecture', 'religious'], ['history', 'art_and_architecture', 'religious'], ['history', 'art_and_architecture', 'nature'], ['history', 'art_and_architecture'], ['history', 'art_and_architecture', 'nature'], ['history', 'art_and_architecture'], ['history', 'art_and_architecture', 'religious'], ['entertainment'], ['history', 'art_and_architecture', 'religious'], ['history', 'art_and_architecture', 'religious'], ['history', 'art_and_architecture'], ['history', 'art_and_architecture', 'religious'], ['history', 'art_and_architecture', 'religious'], ['history', 'art_and_architecture'], ['history', 'art_and_architecture', 'religious'], ['nature'], ['history', 'art_and_architecture'], ['history', 'art_and_architecture', 'nature'], ['history', 'art_and_architecture'], [], ['history', 'art_and_architecture', 'nature'], ['history', 'art_and_architecture', 'religious'], ['history', 'art_and_architecture', 'nature'], ['nature'], ['history', 'art_and_architecture', 'nature'], ['history', 'art_and_architecture', 'nature'], ['history', 'art_and_architecture', 'religious'], ['history', 'art_and_architecture', 'nature'], ['history', 'art_and_architecture'], ['history', 'art_and_architecture'], ['history', 'art_and_architecture', 'nature'], ['history', 'art_and_architecture', 'nature'], ['history', 'art_and_architecture'], ['history', 'art_and_architecture', 'nature'], ['history', 'art_and_architecture', 'nature'], ['history', 'art_and_architecture', 'nature'], ['history', 'art_and_architecture', 'religious'], ['history', 'art_and_architecture', 'nature'], ['history', 'art_and_architecture', 'religious'], ['nature'], ['adventure', 'health_and_lifestyle'], ['history', 'art_and_architecture'], ['history', 'art_and_architecture', 'nature'], ['history', 'art_and_architecture', 'religious'], ['nature'], ['history', 'art_and_architecture', 'religious'], ['history', 'art_and_architecture', 'religious'], ['history', 'art_and_architecture'], [], ['history', 'art_and_architecture', 'nature'], ['history', 'art_and_architecture'], ['history', 'art_and_architecture', 'nature'], ['history', 'art_and_architecture', 'nature'], ['history', 'art_and_architecture', 'nature'], ['history', 'art_and_architecture', 'nature'], ['history', 'art_and_architecture', 'nature'], ['history', 'art_and_architecture', 'nature'], ['history', 'art_and_architecture', 'religious'], ['history', 'art_and_architecture', 'nature'], ['history', 'art_and_architecture', 'religious'], ['history', 'art_and_architecture', 'nature'], ['history', 'art_and_architecture', 'entertainment'], ['history'], ['history'], ['history'], ['adventure'], [], ['history'], ['history'], ['art_and_architecture', 'religious'], ['adventure'], ['history', 'art_and_architecture', 'entertainment'], ['adventure'], ['history', 'art_and_architecture'], ['history'], ['health_and_lifestyle'], ['food'], ['adventure'], ['art_and_architecture', 'nature', 'adventure'], ['adventure'], ['history'], ['adventure'], ['history', 'art_and_architecture', 'entertainment'], ['adventure'], ['history'], ['history', 'art_and_architecture', 'entertainment'], ['history', 'art_and_architecture', 'entertainment'], [], ['health_and_lifestyle'], ['art_and_architecture', 'religious'], ['history'], ['nature'], ['history'], ['adventure'], ['nature', 'adventure'], ['history', 'art_and_architecture', 'entertainment'], ['history'], ['art_and_architecture', 'religious'], ['history', 'art_and_architecture', 'entertainment'], ['nature', 'adventure'], ['history'], ['history', 'art_and_architecture', 'entertainment'], ['art_and_architecture', 'religious'], ['adventure'], ['history', 'art_and_architecture', 'entertainment'], ['adventure'], ['health_and_lifestyle'], ['history'], ['history'], ['history'], ['adventure'], ['adventure'], ['history', 'art_and_architecture', 'entertainment'], ['history'], ['art_and_architecture', 'religious'], ['history'], ['history'], ['history', 'art_and_architecture', 'entertainment'], ['art_and_architecture', 'religious'], ['history'], ['history'], ['history', 'art_and_architecture', 'entertainment'], ['adventure'], ['art_and_architecture', 'religious'], ['history', 'art_and_architecture', 'entertainment'], ['adventure'], ['adventure'], ['history', 'art_and_architecture', 'entertainment'], ['history'], ['art_and_architecture', 'religious'], ['adventure'], ['food'], ['art_and_architecture', 'nature', 'adventure'], ['art_and_architecture', 'religious'], [], ['history', 'art_and_architecture', 'entertainment'], ['history'], ['history', 'art_and_architecture', 'entertainment'], ['history', 'art_and_architecture', 'entertainment'], ['art_and_architecture', 'nature', 'adventure'], ['art_and_architecture', 'religious'], ['history'], ['history', 'art_and_architecture'], ['history', 'art_and_architecture', 'entertainment'], ['history'], ['adventure'], ['nature'], ['history'], ['history', 'art_and_architecture', 'entertainment'], ['art_and_architecture', 'nature', 'adventure'], [], ['adventure'], ['history'], ['history', 'art_and_architecture', 'entertainment'], ['adventure'], ['art_and_architecture', 'nature', 'adventure'], ['adventure'], ['adventure'], ['adventure'], ['health_and_lifestyle'], ['history'], ['adventure'], ['history'], ['adventure'], ['adventure'], ['history', 'art_and_architecture', 'entertainment'], ['history', 'art_and_architecture', 'entertainment'], ['nature', 'adventure'], ['adventure'], ['adventure'], ['adventure'], ['adventure'], ['health_and_lifestyle'], ['art_and_architecture', 'religious'], ['history'], ['history'], ['adventure'], ['health_and_lifestyle'], ['history'], ['history', 'art_and_architecture', 'entertainment'], ['adventure'], ['adventure'], ['art_and_architecture', 'religious'], ['history', 'art_and_architecture', 'entertainment'], ['history'], ['nature', 'adventure'], ['adventure'], ['history'], ['adventure'], ['art_and_architecture', 'nature', 'adventure'], ['history'], ['adventure'], ['health_and_lifestyle'], [], ['history', 'art_and_architecture'], ['food'], ['history'], ['adventure'], ['health_and_lifestyle'], ['nature', 'adventure'], ['adventure'], ['history'], ['adventure'], ['adventure'], ['history', 'art_and_architecture'], ['art_and_architecture', 'religious'], ['history', 'art_and_architecture', 'entertainment'], ['history', 'art_and_architecture', 'entertainment'], ['adventure'], ['adventure'], ['history', 'art_and_architecture', 'entertainment'], ['art_and_architecture', 'religious'], ['adventure'], ['art_and_architecture', 'religious'], ['adventure'], ['history'], ['nature', 'adventure'], ['history', 'art_and_architecture', 'entertainment'], ['history'], ['art_and_architecture', 'nature', 'adventure'], ['nature'], ['health_and_lifestyle'], ['history'], ['health_and_lifestyle'], ['adventure'], ['history', 'art_and_architecture', 'entertainment'], ['adventure'], ['adventure'], ['adventure'], ['health_and_lifestyle'], ['nature'], ['adventure'], ['health_and_lifestyle'], ['art_and_architecture', 'nature', 'adventure'], ['health_and_lifestyle'], ['art_and_architecture', 'nature', 'adventure'], ['adventure'], ['health_and_lifestyle'], ['history', 'art_and_architecture'], ['history', 'art_and_architecture', 'entertainment'], ['health_and_lifestyle'], ['art_and_architecture', 'entertainment'], ['art_and_architecture', 'religious'], ['history', 'art_and_architecture', 'entertainment'], ['nature', 'adventure'], ['art_and_architecture', 'religious'], ['health_and_lifestyle'], ['art_and_architecture', 'religious'], ['health_and_lifestyle'], ['adventure'], ['art_and_architecture', 'religious'], ['art_and_architecture', 'nature', 'adventure'], ['history', 'art_and_architecture'], ['history'], ['history'], ['adventure'], ['adventure'], ['adventure'], ['adventure'], ['history', 'art_and_architecture', 'entertainment'], ['adventure'], ['nature'], ['history', 'art_and_architecture', 'entertainment'], ['history'], ['adventure'], ['art_and_architecture', 'religious'], ['adventure'], ['history'], ['history', 'art_and_architecture', 'entertainment'], ['art_and_architecture', 'nature', 'adventure'], ['history'], ['history', 'art_and_architecture'], ['history'], ['history'], ['health_and_lifestyle'], ['food'], ['adventure'], ['adventure'], ['history', 'art_and_architecture', 'entertainment'], ['history', 'art_and_architecture', 'entertainment'], ['adventure'], ['adventure'], ['adventure'], ['history'], ['adventure'], ['history'], ['history'], ['adventure'], ['history', 'art_and_architecture'], ['history', 'art_and_architecture'], ['adventure'], ['history'], ['adventure'], ['art_and_architecture', 'religious'], ['adventure'], ['history', 'art_and_architecture', 'entertainment'], ['adventure'], ['health_and_lifestyle'], ['history', 'art_and_architecture', 'entertainment'], ['adventure'], ['adventure'], ['art_and_architecture', 'nature', 'adventure'], ['history'], ['history'], ['history'], ['history'], ['history'], ['history'], ['nature'], ['entertainment'], ['history', 'art_and_architecture', 'entertainment'], ['health_and_lifestyle'], ['health_and_lifestyle'], ['history'], ['art_and_architecture', 'religious'], ['nature', 'adventure'], ['history', 'art_and_architecture', 'entertainment'], ['adventure'], ['history', 'art_and_architecture', 'entertainment'], ['adventure'], ['adventure'], ['adventure'], ['adventure'], ['history'], ['history'], ['art_and_architecture', 'religious'], ['industries'], ['history'], ['history', 'art_and_architecture'], ['history', 'art_and_architecture', 'entertainment'], ['history', 'art_and_architecture', 'entertainment'], ['history', 'art_and_architecture', 'entertainment'], ['history', 'art_and_architecture', 'entertainment'], ['health_and_lifestyle'], ['history', 'art_and_architecture', 'entertainment'], ['adventure'], ['history'], ['adventure'], ['adventure'], ['history'], [], [], ['adventure'], ['adventure'], ['art_and_architecture', 'religious'], ['health_and_lifestyle'], ['health_and_lifestyle'], ['history', 'art_and_architecture', 'entertainment'], ['history', 'art_and_architecture', 'entertainment'], ['health_and_lifestyle'], ['art_and_architecture', 'religious'], [], ['history'], ['history', 'art_and_architecture', 'entertainment'], ['history'], ['history', 'art_and_architecture', 'entertainment'], ['adventure'], ['art_and_architecture', 'religious'], ['nature', 'adventure'], ['nature', 'adventure'], ['history'], ['art_and_architecture', 'religious'], ['adventure'], ['health_and_lifestyle'], ['nature', 'adventure'], ['history', 'art_and_architecture', 'entertainment'], ['adventure'], ['history'], ['art_and_architecture', 'religious'], ['history'], ['art_and_architecture', 'religious'], ['history', 'art_and_architecture', 'entertainment'], ['nature'], ['history', 'art_and_architecture', 'entertainment'], ['history'], ['adventure'], ['history', 'art_and_architecture'], ['nature', 'adventure'], ['nature'], ['art_and_architecture', 'religious'], ['history', 'art_and_architecture', 'entertainment'], ['history'], ['health_and_lifestyle'], ['nature'], ['adventure'], ['nature', 'adventure'], [], ['history'], ['history'], [], ['history'], ['history', 'art_and_architecture', 'entertainment'], ['entertainment'], ['history'], ['nature'], ['history', 'art_and_architecture', 'entertainment'], ['history', 'art_and_architecture'], ['nature', 'adventure'], ['history'], ['art_and_architecture', 'religious'], ['nature', 'adventure'], ['adventure'], ['adventure'], ['history', 'art_and_architecture', 'entertainment'], ['history'], ['nature', 'adventure'], ['history'], ['history'], ['history'], ['history', 'art_and_architecture', 'entertainment'], ['history'], ['history', 'art_and_architecture', 'entertainment'], ['history', 'art_and_architecture', 'entertainment'], ['adventure'], ['history'], [], ['adventure'], ['history'], ['nature', 'adventure'], ['nature', 'adventure'], ['adventure'], ['nature', 'adventure'], ['adventure'], ['nature'], ['health_and_lifestyle'], ['history'], ['history'], ['history', 'art_and_architecture', 'entertainment'], ['history', 'art_and_architecture', 'entertainment'], ['history'], ['health_and_lifestyle'], ['adventure'], ['adventure'], ['nature', 'adventure'], ['history'], ['art_and_architecture', 'nature', 'adventure'], ['history'], ['health_and_lifestyle'], ['art_and_architecture', 'nature', 'adventure'], ['history', 'art_and_architecture', 'entertainment'], ['art_and_architecture', 'nature', 'adventure'], [], ['history', 'art_and_architecture'], ['history'], ['adventure'], ['history', 'art_and_architecture', 'entertainment'], ['history', 'art_and_architecture', 'entertainment'], ['history'], ['history'], ['history', 'art_and_architecture', 'entertainment'], ['history'], ['adventure'], ['nature', 'adventure'], ['history', 'art_and_architecture', 'entertainment'], ['art_and_architecture', 'religious'], ['history'], ['history', 'art_and_architecture', 'entertainment'], ['history'], ['adventure'], ['nature', 'adventure'], ['history'], ['nature', 'adventure'], ['history', 'art_and_architecture', 'entertainment'], ['adventure'], ['adventure'], ['nature', 'adventure'], ['history'], ['art_and_architecture', 'religious'], ['art_and_architecture', 'religious'], ['adventure'], ['history', 'art_and_architecture', 'entertainment'], ['history'], ['nature', 'adventure'], ['history', 'art_and_architecture', 'entertainment'], ['history', 'art_and_architecture', 'entertainment'], ['adventure'], ['art_and_architecture', 'religious'], ['history'], ['history', 'art_and_architecture'], ['history', 'art_and_architecture', 'entertainment'], ['adventure'], ['adventure'], ['adventure'], ['history', 'art_and_architecture', 'entertainment'], ['history'], ['history', 'art_and_architecture', 'entertainment'], ['nature'], ['adventure'], ['adventure'], ['adventure'], ['history'], ['history'], ['adventure'], ['health_and_lifestyle'], ['entertainment'], ['nature', 'adventure'], ['history'], ['history'], ['history'], ['history', 'art_and_architecture', 'entertainment'], ['adventure'], ['nature'], ['health_and_lifestyle'], ['history', 'art_and_architecture', 'entertainment'], ['history'], ['nature'], ['history', 'art_and_architecture', 'entertainment'], ['history'], ['history', 'art_and_architecture', 'entertainment'], ['history'], ['history', 'art_and_architecture'], ['history'], ['nature', 'adventure'], ['history', 'art_and_architecture', 'entertainment'], ['history', 'art_and_architecture', 'entertainment'], ['history'], ['nature', 'adventure'], ['history'], ['nature', 'adventure'], ['history', 'art_and_architecture', 'entertainment'], ['adventure'], ['nature', 'adventure'], [], ['art_and_architecture', 'religious'], ['history', 'art_and_architecture'], ['art_and_architecture', 'nature', 'adventure'], ['adventure'], ['adventure'], ['history', 'art_and_architecture', 'entertainment'], ['art_and_architecture', 'religious'], ['health_and_lifestyle'], ['history', 'art_and_architecture'], ['history'], ['adventure'], [], ['history'], ['nature', 'adventure'], ['art_and_architecture', 'religious'], ['history'], ['history'], ['adventure'], ['adventure'], ['nature', 'adventure'], ['nature'], ['history', 'art_and_architecture', 'entertainment'], ['history', 'art_and_architecture', 'entertainment'], ['history'], ['history'], ['art_and_architecture', 'religious'], ['adventure'], ['adventure'], ['history', 'art_and_architecture', 'entertainment'], ['history', 'art_and_architecture', 'entertainment'], ['art_and_architecture', 'nature', 'adventure'], ['history', 'art_and_architecture', 'entertainment'], ['history'], ['history', 'art_and_architecture', 'entertainment'], ['history', 'art_and_architecture'], ['history', 'art_and_architecture', 'entertainment'], ['history'], ['art_and_architecture', 'religious'], ['health_and_lifestyle'], ['adventure'], ['history', 'art_and_architecture'], ['history', 'art_and_architecture', 'entertainment'], ['art_and_architecture', 'religious'], ['history'], ['history', 'art_and_architecture', 'entertainment'], ['health_and_lifestyle'], ['history', 'art_and_architecture', 'entertainment'], ['adventure'], ['history'], ['history'], ['history'], ['history', 'art_and_architecture'], ['history'], ['nature', 'adventure'], ['nature'], ['history'], ['nature', 'adventure'], [], ['history'], ['nature', 'adventure'], ['history'], ['art_and_architecture', 'nature', 'adventure'], ['history', 'art_and_architecture', 'entertainment'], ['history'], ['history', 'art_and_architecture', 'entertainment'], ['adventure'], ['adventure'], [], ['health_and_lifestyle'], ['health_and_lifestyle'], ['history'], ['health_and_lifestyle'], ['history'], ['history', 'art_and_architecture', 'entertainment'], ['adventure'], ['art_and_architecture', 'nature', 'adventure'], ['adventure'], ['art_and_architecture', 'religious'], ['history'], ['nature', 'adventure'], ['history'], ['history'], ['entertainment'], ['adventure'], ['history', 'art_and_architecture'], ['history'], [], ['art_and_architecture', 'religious'], ['art_and_architecture', 'religious'], ['history'], ['adventure'], ['food'], ['nature', 'adventure'], ['history', 'art_and_architecture', 'entertainment'], ['history'], ['nature', 'adventure'], ['adventure'], ['history'], ['history'], ['history', 'art_and_architecture', 'entertainment'], ['history', 'art_and_architecture', 'entertainment'], ['history'], ['history', 'art_and_architecture', 'entertainment'], ['history', 'art_and_architecture', 'entertainment'], ['adventure'], ['history', 'art_and_architecture', 'entertainment'], ['art_and_architecture', 'religious'], ['history'], ['art_and_architecture', 'religious'], ['nature', 'adventure'], ['history'], ['food'], ['history', 'art_and_architecture', 'entertainment'], ['history', 'art_and_architecture', 'entertainment'], ['adventure'], ['art_and_architecture', 'nature', 'adventure'], [], ['adventure'], ['history', 'art_and_architecture', 'entertainment'], ['adventure'], ['adventure'], ['adventure'], ['adventure'], ['nature', 'adventure'], ['adventure'], ['history'], ['art_and_architecture', 'religious'], ['history', 'art_and_architecture', 'entertainment'], ['art_and_architecture', 'religious'], ['history'], ['history', 'art_and_architecture', 'entertainment'], ['art_and_architecture', 'nature', 'adventure'], ['history'], ['history', 'art_and_architecture', 'entertainment'], ['art_and_architecture', 'nature', 'adventure'], ['entertainment'], ['adventure'], ['history'], ['nature', 'adventure'], ['history'], ['history'], [], ['adventure'], ['nature'], ['history'], ['adventure'], ['nature', 'adventure'], ['adventure'], ['adventure'], ['history'], ['art_and_architecture', 'nature', 'adventure'], ['adventure'], ['art_and_architecture', 'nature', 'adventure'], ['adventure'], ['history'], ['nature', 'adventure'], ['nature', 'adventure'], ['adventure'], ['history'], ['history'], ['history'], ['adventure'], ['entertainment'], ['art_and_architecture', 'religious'], ['art_and_architecture', 'religious'], ['adventure'], ['history', 'art_and_architecture'], ['history'], ['adventure'], [], ['art_and_architecture', 'religious'], ['history'], ['adventure'], ['nature', 'adventure'], [], ['art_and_architecture', 'religious'], ['adventure'], ['history'], ['entertainment'], ['history', 'art_and_architecture', 'entertainment'], ['health_and_lifestyle'], ['history', 'art_and_architecture', 'entertainment'], ['history'], ['history', 'art_and_architecture', 'entertainment'], ['art_and_architecture', 'religious'], ['health_and_lifestyle'], ['adventure'], ['adventure'], [], ['adventure'], ['history', 'art_and_architecture', 'entertainment'], ['health_and_lifestyle'], ['art_and_architecture', 'religious'], ['history', 'art_and_architecture'], ['history', 'art_and_architecture', 'entertainment'], ['history', 'art_and_architecture', 'entertainment'], ['health_and_lifestyle'], ['art_and_architecture', 'religious'], ['history', 'art_and_architecture', 'entertainment'], ['nature', 'adventure'], ['adventure'], ['health_and_lifestyle'], ['history', 'art_and_architecture'], ['art_and_architecture', 'religious'], ['history'], ['nature'], ['history', 'art_and_architecture', 'entertainment'], ['adventure'], ['art_and_architecture', 'religious'], [], ['health_and_lifestyle'], [], ['adventure'], ['nature', 'adventure'], ['history', 'art_and_architecture'], ['history'], ['history'], ['history', 'art_and_architecture'], ['art_and_architecture', 'religious'], ['nature', 'adventure'], ['nature'], ['history', 'art_and_architecture', 'entertainment'], ['history', 'art_and_architecture'], ['adventure'], ['history'], ['nature'], ['adventure'], ['adventure'], ['history'], ['adventure'], ['art_and_architecture', 'religious'], ['art_and_architecture', 'religious'], ['nature', 'adventure'], ['history'], ['history'], ['history'], ['history', 'art_and_architecture', 'entertainment'], ['history'], ['adventure'], ['adventure'], ['art_and_architecture', 'nature', 'adventure'], ['adventure'], ['history', 'art_and_architecture', 'entertainment'], ['history'], ['health_and_lifestyle'], ['history'], ['adventure'], [], ['history', 'art_and_architecture', 'entertainment'], ['adventure'], ['adventure'], ['nature', 'adventure'], ['health_and_lifestyle'], ['history', 'art_and_architecture'], ['adventure'], ['nature', 'adventure'], ['history', 'art_and_architecture', 'entertainment'], ['adventure'], ['adventure'], ['history'], ['history', 'art_and_architecture', 'entertainment'], ['health_and_lifestyle'], ['food'], ['adventure'], ['history'], ['nature', 'adventure'], ['history', 'art_and_architecture', 'entertainment'], ['adventure'], ['history'], [], ['history'], ['nature', 'adventure'], ['history'], ['history'], ['history'], ['adventure'], ['history'], ['history'], ['history'], ['history'], ['nature'], ['nature', 'adventure'], ['adventure'], ['adventure'], ['history', 'art_and_architecture', 'entertainment'], ['adventure'], ['history'], ['history'], ['history', 'art_and_architecture', 'entertainment'], ['nature', 'adventure'], ['history'], ['art_and_architecture', 'nature', 'adventure'], ['adventure'], ['history'], ['history'], ['nature'], ['history'], ['history'], ['history', 'art_and_architecture', 'entertainment'], ['adventure'], ['adventure'], ['history'], ['adventure'], ['history', 'art_and_architecture'], ['history'], ['art_and_architecture', 'religious'], ['art_and_architecture', 'nature', 'adventure'], ['nature'], ['art_and_architecture', 'religious'], ['adventure'], ['history', 'art_and_architecture', 'entertainment'], ['adventure'], ['art_and_architecture', 'religious'], ['nature', 'adventure'], ['health_and_lifestyle'], ['history', 'art_and_architecture', 'entertainment'], ['art_and_architecture', 'religious'], ['adventure'], ['adventure'], ['adventure'], ['health_and_lifestyle'], [], ['adventure'], ['art_and_architecture', 'religious'], ['adventure'], ['art_and_architecture', 'religious'], ['adventure'], ['history'], ['adventure'], ['adventure'], ['history'], ['history', 'art_and_architecture', 'entertainment'], ['art_and_architecture', 'religious'], ['history', 'art_and_architecture'], ['history', 'art_and_architecture', 'entertainment'], ['history', 'art_and_architecture', 'entertainment'], ['adventure'], ['adventure'], ['adventure'], ['adventure'], ['history'], ['art_and_architecture', 'nature', 'adventure'], ['adventure'], ['history', 'art_and_architecture'], ['adventure'], ['history', 'art_and_architecture', 'entertainment'], ['adventure'], ['art_and_architecture', 'religious'], ['history', 'art_and_architecture'], ['health_and_lifestyle'], ['adventure'], ['history', 'art_and_architecture', 'entertainment'], ['history'], ['history', 'art_and_architecture', 'entertainment'], ['history', 'art_and_architecture', 'entertainment'], ['entertainment'], ['nature', 'adventure'], ['history', 'art_and_architecture', 'entertainment'], ['history'], ['nature', 'adventure'], ['art_and_architecture', 'religious'], ['art_and_architecture', 'religious'], ['health_and_lifestyle'], ['health_and_lifestyle'], ['history'], ['history', 'art_and_architecture', 'entertainment'], ['history', 'art_and_architecture', 'entertainment'], ['history', 'art_and_architecture'], ['art_and_architecture', 'religious'], ['health_and_lifestyle'], ['history', 'art_and_architecture'], ['nature', 'adventure'], ['history', 'art_and_architecture', 'entertainment'], ['history', 'art_and_architecture', 'entertainment'], ['history'], ['history'], ['history'], ['adventure'], ['history', 'art_and_architecture', 'entertainment'], ['history'], ['history', 'art_and_architecture', 'entertainment'], [], ['history', 'art_and_architecture'], ['adventure'], ['history'], ['health_and_lifestyle'], ['art_and_architecture', 'nature', 'adventure'], ['history', 'art_and_architecture', 'entertainment'], ['history'], ['history', 'art_and_architecture', 'entertainment'], ['nature', 'adventure'], ['history'], ['adventure'], ['history'], ['health_and_lifestyle'], ['nature', 'entertainment'], ['art_and_architecture', 'religious'], ['history', 'art_and_architecture', 'entertainment'], [], ['adventure'], ['history'], ['history'], ['adventure'], ['nature', 'adventure'], ['history'], ['history'], ['entertainment'], ['health_and_lifestyle'], ['history'], ['history'], ['art_and_architecture', 'religious'], ['adventure'], ['history', 'art_and_architecture', 'entertainment'], ['history'], ['art_and_architecture', 'religious'], ['art_and_architecture', 'nature', 'adventure'], ['adventure'], ['art_and_architecture', 'religious'], ['adventure'], ['adventure'], ['history'], ['history'], ['nature', 'adventure'], ['history', 'art_and_architecture', 'entertainment'], ['history', 'art_and_architecture'], ['art_and_architecture', 'religious'], ['history'], ['history'], ['history', 'art_and_architecture', 'entertainment'], ['art_and_architecture', 'religious'], ['history', 'art_and_architecture', 'entertainment'], ['health_and_lifestyle'], ['adventure'], ['history'], ['adventure'], [], ['adventure'], ['adventure'], ['art_and_architecture', 'religious'], ['art_and_architecture', 'nature', 'adventure'], ['adventure'], ['nature', 'adventure'], ['history', 'art_and_architecture', 'entertainment'], [], ['history'], ['adventure'], ['history', 'art_and_architecture', 'entertainment'], ['history'], ['history', 'art_and_architecture', 'entertainment'], ['history'], ['history'], ['history'], ['history'], ['history', 'art_and_architecture', 'entertainment'], ['nature'], ['history', 'art_and_architecture'], ['nature', 'adventure'], ['history', 'art_and_architecture'], ['history', 'art_and_architecture', 'entertainment'], ['entertainment'], ['history'], ['history'], ['history'], ['adventure'], ['nature'], ['history'], ['history'], ['history'], ['history', 'art_and_architecture', 'entertainment'], ['adventure'], ['nature', 'adventure'], ['adventure'], ['history'], ['art_and_architecture', 'religious'], ['history', 'art_and_architecture', 'entertainment'], ['history'], ['history'], ['history', 'art_and_architecture', 'entertainment'], ['history'], ['health_and_lifestyle'], ['history', 'art_and_architecture'], ['health_and_lifestyle'], ['adventure'], [], ['adventure'], ['adventure'], ['adventure'], ['history', 'art_and_architecture', 'entertainment'], ['industries'], ['history'], ['history', 'art_and_architecture', 'entertainment'], ['history'], ['art_and_architecture', 'religious'], ['history', 'art_and_architecture'], ['history'], ['history', 'art_and_architecture', 'entertainment'], ['history'], ['art_and_architecture', 'religious'], ['history'], ['history', 'art_and_architecture'], [], ['industries'], ['health_and_lifestyle'], ['adventure'], ['entertainment'], ['adventure'], ['history'], ['nature', 'adventure'], ['history', 'art_and_architecture', 'entertainment'], ['nature', 'adventure'], ['nature'], ['art_and_architecture', 'religious'], ['adventure'], ['history', 'art_and_architecture', 'entertainment'], ['history'], ['history'], ['history', 'art_and_architecture', 'entertainment'], ['adventure'], ['history'], ['health_and_lifestyle'], ['adventure'], ['adventure'], ['adventure'], ['adventure'], ['art_and_architecture', 'nature', 'adventure'], ['history'], ['history', 'art_and_architecture', 'entertainment'], ['history'], ['history'], ['history'], ['history'], ['nature', 'adventure'], ['history'], ['history'], ['history', 'art_and_architecture', 'entertainment'], ['adventure'], ['history'], ['art_and_architecture', 'religious'], [], ['health_and_lifestyle'], ['industries'], ['history'], ['history'], ['history'], ['history', 'art_and_architecture', 'entertainment'], ['history', 'art_and_architecture', 'entertainment'], ['adventure'], ['history'], ['history', 'art_and_architecture'], ['history'], ['adventure'], ['health_and_lifestyle'], ['history'], ['history'], ['adventure'], ['history'], ['history'], ['history'], ['adventure'], ['history', 'art_and_architecture'], ['history', 'art_and_architecture', 'entertainment'], ['nature', 'adventure'], ['history'], ['adventure'], ['art_and_architecture', 'nature', 'adventure'], ['nature', 'adventure'], ['history', 'art_and_architecture'], ['history'], ['nature'], ['history'], ['adventure'], ['history'], ['adventure'], ['history'], ['history'], ['history'], ['history'], ['adventure'], ['adventure'], ['history'], ['history'], [], ['entertainment'], ['history', 'art_and_architecture'], ['history', 'art_and_architecture'], ['adventure'], ['art_and_architecture', 'religious'], ['nature', 'adventure'], ['art_and_architecture', 'religious'], ['art_and_architecture', 'religious'], ['art_and_architecture', 'religious'], ['history'], ['art_and_architecture', 'religious'], ['history'], ['adventure'], ['adventure'], ['art_and_architecture', 'religious'], ['adventure'], ['adventure'], ['adventure'], ['history'], ['adventure'], ['entertainment'], [], ['history'], ['art_and_architecture', 'religious'], ['nature', 'adventure'], ['health_and_lifestyle'], ['industries'], ['history'], ['history', 'art_and_architecture'], ['history', 'art_and_architecture'], [], ['history', 'art_and_architecture', 'entertainment'], ['history', 'art_and_architecture', 'entertainment'], ['adventure'], ['art_and_architecture', 'religious'], ['history'], ['history', 'art_and_architecture', 'entertainment'], ['history', 'art_and_architecture', 'entertainment'], ['history', 'art_and_architecture'], ['adventure'], ['nature'], ['adventure'], ['adventure'], ['history'], ['history', 'art_and_architecture', 'entertainment'], ['art_and_architecture', 'religious'], ['history'], ['history', 'art_and_architecture', 'entertainment'], ['nature', 'adventure'], ['art_and_architecture', 'religious'], ['history'], ['history', 'art_and_architecture', 'entertainment'], ['history'], ['history'], ['food'], ['health_and_lifestyle'], ['history'], ['history', 'art_and_architecture', 'entertainment'], ['adventure'], ['history', 'art_and_architecture', 'entertainment'], ['history'], ['history'], ['history'], ['adventure'], ['adventure'], ['art_and_architecture', 'religious'], ['nature'], ['health_and_lifestyle'], ['nature', 'adventure'], ['adventure'], ['entertainment'], ['art_and_architecture', 'religious'], ['adventure'], ['history'], ['health_and_lifestyle'], ['health_and_lifestyle'], ['adventure'], ['history'], ['history'], ['history', 'art_and_architecture', 'entertainment'], ['history'], ['history', 'art_and_architecture'], ['history'], ['nature', 'adventure'], ['adventure'], ['adventure'], [], ['adventure'], ['history', 'art_and_architecture'], ['history', 'art_and_architecture', 'entertainment'], ['history'], ['adventure'], ['history'], ['adventure'], ['adventure'], ['history'], ['history', 'art_and_architecture'], ['art_and_architecture', 'religious'], ['nature', 'adventure'], ['adventure'], ['adventure'], ['art_and_architecture', 'religious'], ['history', 'art_and_architecture', 'entertainment'], ['history'], ['history', 'art_and_architecture'], ['nature', 'adventure'], ['history'], ['adventure'], ['history', 'art_and_architecture', 'entertainment'], ['history'], ['adventure'], ['art_and_architecture', 'religious'], [], ['adventure'], ['history', 'art_and_architecture'], ['adventure'], ['history'], ['adventure'], ['history'], [], ['nature', 'adventure'], ['history'], ['adventure'], ['history'], ['history'], ['health_and_lifestyle'], ['history'], ['adventure'], ['adventure'], ['history'], ['history'], ['history'], ['history', 'art_and_architecture'], ['health_and_lifestyle'], ['nature', 'adventure'], ['nature', 'adventure'], ['history', 'art_and_architecture', 'entertainment'], ['history'], ['health_and_lifestyle'], ['history'], ['history'], ['art_and_architecture'], ['history', 'art_and_architecture', 'entertainment'], ['history'], ['history'], ['nature', 'adventure'], ['art_and_architecture', 'religious'], ['art_and_architecture', 'religious'], ['history', 'art_and_architecture', 'entertainment'], ['health_and_lifestyle'], ['nature', 'adventure'], ['history'], ['history', 'art_and_architecture'], ['art_and_architecture', 'religious'], ['history', 'art_and_architecture', 'entertainment'], ['history'], [], ['history'], ['nature', 'adventure'], ['history'], ['history'], ['nature', 'adventure'], ['nature'], ['history'], ['art_and_architecture', 'nature', 'adventure'], ['nature', 'adventure'], ['nature'], ['history', 'art_and_architecture', 'entertainment'], ['history'], ['nature', 'adventure'], ['entertainment'], ['history'], ['health_and_lifestyle'], ['art_and_architecture', 'nature', 'adventure'], ['art_and_architecture', 'religious'], ['history'], ['health_and_lifestyle'], ['art_and_architecture', 'religious'], ['history'], ['nature', 'adventure'], ['history', 'art_and_architecture', 'entertainment'], ['history', 'art_and_architecture', 'entertainment'], ['history'], ['art_and_architecture', 'religious'], ['history'], ['history'], ['art_and_architecture', 'religious'], ['history', 'art_and_architecture'], ['nature'], ['history', 'art_and_architecture'], ['adventure'], ['health_and_lifestyle'], ['adventure'], ['history'], ['history', 'art_and_architecture', 'entertainment'], ['history', 'art_and_architecture'], ['history', 'art_and_architecture', 'entertainment'], ['history'], ['history'], ['history', 'art_and_architecture', 'entertainment'], ['nature'], ['history'], ['adventure'], ['history', 'art_and_architecture', 'entertainment'], ['history'], ['history'], ['history', 'art_and_architecture', 'entertainment'], ['history', 'art_and_architecture', 'entertainment'], ['health_and_lifestyle'], ['history'], ['history'], ['history'], ['adventure'], ['history', 'art_and_architecture', 'entertainment'], ['adventure'], ['health_and_lifestyle'], ['history'], ['history'], ['history'], ['history', 'art_and_architecture'], ['art_and_architecture', 'religious'], ['history', 'art_and_architecture', 'entertainment'], ['health_and_lifestyle'], ['history'], ['adventure'], ['adventure'], ['adventure'], ['history', 'art_and_architecture'], ['history'], ['adventure', 'health_and_lifestyle'], ['history'], ['history', 'art_and_architecture'], ['history'], ['nature'], ['adventure'], ['adventure'], ['history', 'art_and_architecture', 'entertainment'], ['history'], ['history', 'art_and_architecture', 'entertainment'], ['industries'], ['history'], ['adventure'], ['nature', 'adventure'], ['history'], ['history'], ['history'], ['history', 'art_and_architecture', 'entertainment'], ['history', 'art_and_architecture', 'entertainment'], ['history'], ['history'], ['health_and_lifestyle'], ['art_and_architecture', 'nature', 'adventure'], ['history'], ['adventure'], ['history'], ['adventure'], ['art_and_architecture', 'religious'], ['health_and_lifestyle'], ['history', 'art_and_architecture'], ['history'], ['health_and_lifestyle'], ['art_and_architecture', 'religious'], ['health_and_lifestyle'], ['history'], ['history'], ['health_and_lifestyle'], ['history'], ['history', 'art_and_architecture'], ['history', 'art_and_architecture', 'entertainment'], ['history'], ['adventure'], ['history', 'art_and_architecture'], ['history'], ['entertainment'], ['history', 'art_and_architecture', 'entertainment'], ['entertainment'], ['nature'], ['nature', 'adventure'], ['industries'], ['history'], ['nature', 'adventure'], ['health_and_lifestyle'], ['art_and_architecture', 'religious'], ['adventure'], ['adventure'], ['entertainment'], ['history'], ['history', 'art_and_architecture', 'entertainment'], ['art_and_architecture', 'religious'], ['history', 'art_and_architecture'], ['history'], ['nature'], ['history', 'art_and_architecture', 'entertainment'], ['history', 'art_and_architecture', 'entertainment'], ['history'], ['health_and_lifestyle'], ['history'], ['nature'], ['history'], ['adventure'], ['history'], ['history'], ['art_and_architecture', 'religious'], ['history'], ['history'], ['nature', 'adventure'], ['adventure'], ['history'], ['history'], ['history', 'art_and_architecture'], ['art_and_architecture', 'religious'], ['health_and_lifestyle'], ['history'], [], ['history'], ['history'], ['history'], ['art_and_architecture', 'nature', 'adventure'], ['history', 'art_and_architecture'], ['history'], ['history'], ['nature'], ['history'], ['adventure'], ['entertainment'], ['health_and_lifestyle'], ['nature'], ['art_and_architecture', 'religious'], [], ['history', 'art_and_architecture'], ['history'], ['health_and_lifestyle'], ['history'], ['history'], ['history', 'art_and_architecture', 'entertainment'], ['history'], ['adventure'], ['history', 'art_and_architecture', 'entertainment'], ['history', 'art_and_architecture', 'entertainment'], ['nature', 'adventure'], [], ['history', 'art_and_architecture', 'entertainment'], ['history', 'art_and_architecture', 'entertainment'], ['nature', 'adventure'], ['history'], ['history', 'art_and_architecture'], ['art_and_architecture', 'religious'], ['history', 'art_and_architecture', 'entertainment'], ['adventure'], ['history', 'art_and_architecture', 'entertainment'], ['history', 'art_and_architecture', 'entertainment'], ['health_and_lifestyle'], ['art_and_architecture', 'religious'], ['art_and_architecture', 'religious'], ['history'], ['history', 'art_and_architecture', 'entertainment'], ['history'], ['history'], ['art_and_architecture', 'religious'], ['health_and_lifestyle'], ['nature', 'adventure'], ['health_and_lifestyle'], ['history'], ['history'], ['health_and_lifestyle'], ['history'], ['entertainment'], ['history', 'art_and_architecture', 'entertainment'], ['art_and_architecture', 'nature', 'adventure'], ['adventure'], ['art_and_architecture', 'religious'], ['history'], ['history', 'art_and_architecture', 'entertainment'], ['history'], ['adventure'], ['nature', 'adventure'], ['history'], ['history', 'art_and_architecture', 'entertainment'], ['health_and_lifestyle'], ['health_and_lifestyle'], ['history', 'art_and_architecture', 'entertainment'], ['nature', 'adventure'], ['history', 'art_and_architecture', 'entertainment'], ['adventure'], ['adventure'], ['adventure'], ['art_and_architecture', 'religious'], ['history', 'art_and_architecture', 'entertainment'], ['health_and_lifestyle'], ['history'], ['adventure'], ['history'], ['art_and_architecture', 'religious'], ['history'], ['history'], ['history'], ['history'], ['history'], ['history'], ['nature', 'adventure'], ['history', 'art_and_architecture', 'adventure', 'religious'], ['history'], ['history'], ['adventure'], ['history', 'art_and_architecture', 'entertainment'], ['adventure'], ['history'], ['history'], ['history', 'art_and_architecture', 'entertainment'], ['industries'], ['food'], ['history', 'art_and_architecture', 'entertainment'], ['history', 'art_and_architecture'], ['history'], ['history'], ['adventure'], ['adventure'], ['history', 'art_and_architecture'], ['adventure'], ['history', 'art_and_architecture'], ['history'], ['adventure'], ['history'], [], ['health_and_lifestyle'], ['history', 'art_and_architecture', 'entertainment'], ['history', 'art_and_architecture'], ['nature', 'adventure'], ['history', 'art_and_architecture'], ['history', 'art_and_architecture', 'entertainment'], ['history'], ['health_and_lifestyle'], ['nature', 'adventure'], ['entertainment'], ['food'], ['entertainment'], ['health_and_lifestyle'], ['history'], ['history'], ['health_and_lifestyle'], ['history', 'art_and_architecture'], ['history'], ['adventure'], ['history'], ['adventure'], ['history'], ['history'], ['adventure'], ['history'], ['nature', 'adventure'], ['history'], ['health_and_lifestyle'], ['art_and_architecture', 'religious'], [], ['history'], ['history'], ['history'], ['history'], ['art_and_architecture', 'nature', 'adventure'], ['adventure'], ['history'], [], ['history'], ['history'], ['nature', 'adventure'], ['adventure'], ['history'], ['adventure'], ['history', 'art_and_architecture', 'entertainment'], ['history'], ['nature', 'adventure'], ['history'], [], ['history'], ['history'], ['adventure'], [], ['history'], ['nature', 'adventure'], ['history'], ['history'], ['history', 'art_and_architecture', 'entertainment'], ['nature', 'adventure'], ['history'], ['history'], ['health_and_lifestyle'], ['history', 'art_and_architecture', 'entertainment'], ['history'], ['nature', 'adventure'], ['history'], ['history'], ['history'], ['history', 'art_and_architecture', 'entertainment'], ['history', 'art_and_architecture', 'entertainment'], ['history'], ['entertainment'], ['history'], ['adventure'], ['history', 'art_and_architecture', 'entertainment'], ['history', 'art_and_architecture', 'entertainment'], ['history', 'art_and_architecture', 'entertainment'], ['history'], ['history', 'art_and_architecture'], ['history', 'art_and_architecture'], ['nature', 'adventure'], ['nature', 'adventure'], ['history'], ['nature', 'adventure'], ['history', 'art_and_architecture', 'entertainment'], ['history'], ['history', 'art_and_architecture', 'entertainment'], ['nature', 'adventure'], ['history'], [], ['history'], ['history', 'art_and_architecture', 'entertainment'], ['health_and_lifestyle'], ['nature'], ['history'], ['adventure'], ['history', 'art_and_architecture'], ['adventure'], ['history'], ['nature', 'adventure'], ['industries'], ['history'], ['nature', 'adventure'], ['history'], ['history'], ['history'], ['health_and_lifestyle'], ['health_and_lifestyle'], ['art_and_architecture', 'religious'], ['nature', 'adventure'], ['history', 'art_and_architecture'], ['adventure'], ['history'], ['adventure'], ['history', 'art_and_architecture', 'entertainment'], ['adventure'], ['history', 'art_and_architecture', 'entertainment'], ['nature', 'adventure'], ['history', 'art_and_architecture'], ['history', 'art_and_architecture'], ['health_and_lifestyle'], ['adventure'], ['history'], ['history'], ['history'], [], ['health_and_lifestyle'], ['adventure'], ['history'], ['history'], ['history', 'art_and_architecture'], ['history', 'art_and_architecture', 'entertainment'], [], ['entertainment'], ['adventure'], ['history', 'art_and_architecture'], ['history'], ['nature', 'adventure'], ['art_and_architecture', 'nature', 'adventure'], [], ['history'], ['history', 'art_and_architecture'], ['history', 'art_and_architecture'], ['adventure'], ['history'], ['history', 'art_and_architecture', 'entertainment'], ['history'], ['adventure', 'entertainment'], ['nature', 'adventure'], ['adventure'], ['history'], ['art_and_architecture', 'entertainment'], ['adventure'], ['history'], ['history', 'art_and_architecture'], ['art_and_architecture', 'nature', 'adventure'], ['adventure'], ['adventure'], ['adventure'], ['adventure'], ['adventure'], ['health_and_lifestyle'], ['history'], ['adventure'], ['history'], ['history', 'art_and_architecture', 'entertainment'], ['adventure'], ['adventure'], ['history'], ['adventure'], [], ['nature', 'adventure'], ['entertainment', 'food'], [], ['history'], ['history'], ['history', 'art_and_architecture'], ['adventure'], ['history'], ['history'], ['history'], ['entertainment'], ['history'], ['history', 'art_and_architecture', 'entertainment'], ['history'], [], ['history'], ['art_and_architecture', 'nature', 'adventure'], ['history'], ['nature', 'adventure'], ['adventure'], ['history', 'art_and_architecture', 'entertainment'], ['history'], ['art_and_architecture', 'religious'], ['nature', 'adventure'], ['history', 'art_and_architecture', 'entertainment'], ['adventure'], ['history'], ['health_and_lifestyle'], ['art_and_architecture', 'nature', 'adventure'], ['adventure'], ['history', 'art_and_architecture', 'entertainment'], ['history'], ['history'], ['adventure'], ['adventure'], ['history', 'art_and_architecture', 'entertainment'], ['history'], ['adventure'], ['history'], ['adventure'], [], ['nature', 'adventure'], ['history'], ['history'], ['history'], ['history', 'art_and_architecture'], ['history'], ['history'], ['history'], ['history'], ['history'], ['art_and_architecture', 'religious'], ['history', 'art_and_architecture', 'religious'], ['history', 'art_and_architecture'], ['history', 'art_and_architecture', 'entertainment'], ['history', 'art_and_architecture', 'entertainment'], ['nature', 'adventure'], ['history', 'art_and_architecture'], ['adventure'], ['art_and_architecture', 'religious'], ['history'], ['nature', 'adventure'], ['history', 'art_and_architecture'], ['adventure', 'entertainment'], ['history', 'art_and_architecture', 'entertainment'], ['history'], ['adventure'], [], ['history', 'art_and_architecture', 'entertainment'], ['adventure'], [], ['art_and_architecture', 'nature', 'adventure'], ['art_and_architecture', 'religious'], ['history'], ['art_and_architecture', 'religious'], ['history', 'art_and_architecture', 'entertainment'], ['adventure'], ['history', 'art_and_architecture'], ['history', 'art_and_architecture', 'entertainment'], ['art_and_architecture', 'nature', 'adventure'], ['adventure'], ['adventure'], ['adventure'], ['history', 'art_and_architecture', 'entertainment'], ['history'], ['entertainment'], ['entertainment'], ['history', 'art_and_architecture'], ['history', 'art_and_architecture'], ['health_and_lifestyle'], ['nature', 'adventure'], ['nature', 'adventure'], ['history', 'art_and_architecture'], ['adventure'], ['entertainment', 'food'], ['entertainment'], ['art_and_architecture', 'nature', 'adventure'], ['history', 'art_and_architecture'], ['history'], ['history'], ['nature', 'adventure'], ['history'], ['history'], ['history', 'art_and_architecture', 'entertainment'], ['art_and_architecture', 'entertainment'], ['history', 'art_and_architecture', 'entertainment'], ['history', 'art_and_architecture'], ['history', 'art_and_architecture', 'nature'], ['adventure'], ['history'], ['history'], ['history', 'art_and_architecture'], ['adventure'], ['adventure'], ['adventure'], ['nature'], ['entertainment'], ['health_and_lifestyle'], ['history', 'art_and_architecture', 'entertainment'], ['history', 'art_and_architecture'], ['history'], ['history'], ['history', 'art_and_architecture', 'religious'], ['adventure'], ['history', 'art_and_architecture', 'entertainment'], ['health_and_lifestyle'], ['history'], ['history'], ['history'], ['history', 'art_and_architecture', 'entertainment'], ['history'], ['nature', 'adventure', 'entertainment'], ['history', 'art_and_architecture', 'entertainment'], ['nature', 'adventure'], ['history'], ['history', 'art_and_architecture'], ['history'], ['history', 'art_and_architecture'], ['history', 'art_and_architecture'], ['history', 'art_and_architecture'], ['adventure'], ['history', 'art_and_architecture', 'entertainment'], ['history'], [], ['history', 'art_and_architecture'], ['history'], ['entertainment'], ['history'], ['history'], ['history', 'art_and_architecture', 'entertainment'], [], ['nature', 'adventure'], ['adventure'], ['adventure'], ['history', 'art_and_architecture'], ['history'], ['history'], ['adventure'], ['history'], ['history', 'art_and_architecture'], ['history', 'art_and_architecture'], ['adventure'], ['adventure'], ['nature', 'adventure'], ['nature', 'adventure'], ['art_and_architecture', 'religious'], ['history'], ['history'], ['history'], ['history'], ['art_and_architecture', 'nature', 'adventure'], ['nature', 'adventure'], ['adventure'], ['history'], ['history', 'art_and_architecture'], ['history', 'art_and_architecture', 'entertainment'], ['history'], ['art_and_architecture', 'religious'], ['adventure'], ['history'], ['adventure'], ['history', 'art_and_architecture'], ['history', 'art_and_architecture'], ['history'], ['adventure'], ['history'], ['history', 'art_and_architecture'], ['history'], ['history'], ['adventure'], [], ['history', 'art_and_architecture'], ['history'], ['art_and_architecture', 'religious'], ['history'], ['history', 'art_and_architecture'], ['adventure'], ['health_and_lifestyle'], ['adventure'], ['adventure'], ['history'], ['history', 'art_and_architecture', 'entertainment'], ['history'], ['adventure'], ['history'], ['adventure'], ['nature', 'adventure'], ['history'], ['history', 'art_and_architecture'], ['adventure'], ['history'], ['history', 'art_and_architecture', 'entertainment'], ['adventure'], ['history', 'art_and_architecture'], ['nature', 'adventure'], ['history'], ['history'], ['adventure', 'health_and_lifestyle'], ['history'], ['nature', 'adventure'], ['adventure'], ['history', 'art_and_architecture'], ['history'], ['history', 'art_and_architecture', 'entertainment'], ['health_and_lifestyle'], ['history', 'art_and_architecture'], ['adventure'], ['adventure'], ['art_and_architecture', 'nature', 'adventure'], ['history'], ['history', 'art_and_architecture', 'entertainment'], ['history'], ['adventure'], ['nature', 'adventure'], ['history', 'art_and_architecture', 'entertainment'], ['entertainment'], ['history'], ['history'], ['history'], ['adventure'], ['adventure'], ['history'], ['history'], ['history'], ['history', 'art_and_architecture'], ['history'], ['history'], ['history'], ['nature'], ['history', 'art_and_architecture', 'entertainment'], ['adventure'], ['adventure'], ['nature'], ['history', 'art_and_architecture'], [], ['art_and_architecture', 'religious'], ['history', 'art_and_architecture', 'entertainment'], ['adventure'], ['history'], ['art_and_architecture', 'religious'], ['history'], ['history', 'art_and_architecture', 'entertainment'], ['history'], ['art_and_architecture', 'religious'], ['adventure'], ['history'], ['history', 'art_and_architecture', 'entertainment'], ['health_and_lifestyle'], ['adventure'], ['history', 'art_and_architecture'], ['history'], ['art_and_architecture', 'entertainment'], ['history', 'art_and_architecture'], ['nature', 'adventure'], ['entertainment'], ['entertainment'], ['history'], ['adventure'], ['nature', 'adventure'], ['history'], ['history'], ['health_and_lifestyle'], ['history'], ['history'], ['history', 'art_and_architecture'], [], ['history'], ['history', 'art_and_architecture'], ['history'], ['art_and_architecture', 'nature', 'adventure'], ['health_and_lifestyle'], ['adventure'], ['nature', 'adventure'], ['adventure'], ['history', 'art_and_architecture', 'entertainment'], ['entertainment'], ['health_and_lifestyle'], ['history'], ['adventure'], ['history'], ['health_and_lifestyle'], ['history'], ['history'], ['history', 'art_and_architecture', 'entertainment'], ['art_and_architecture', 'religious'], ['art_and_architecture', 'entertainment'], ['history'], ['history', 'art_and_architecture'], ['history'], ['history'], ['art_and_architecture', 'nature', 'adventure'], ['health_and_lifestyle'], ['history', 'art_and_architecture'], ['nature'], ['adventure'], ['history', 'art_and_architecture', 'entertainment'], ['adventure'], ['adventure'], ['entertainment'], ['history', 'art_and_architecture', 'religious'], ['history', 'art_and_architecture', 'entertainment'], ['food'], ['entertainment'], ['adventure'], ['history', 'art_and_architecture'], ['nature', 'adventure'], ['history', 'art_and_architecture', 'nature'], ['history', 'art_and_architecture'], ['adventure'], ['history'], ['history'], ['adventure'], ['adventure'], ['art_and_architecture', 'nature', 'adventure'], ['history', 'art_and_architecture', 'entertainment'], ['history', 'art_and_architecture', 'entertainment'], ['adventure'], ['adventure'], ['history', 'art_and_architecture'], ['art_and_architecture', 'nature', 'adventure'], ['art_and_architecture', 'religious'], ['history'], ['nature'], [], ['history', 'art_and_architecture', 'entertainment'], [], ['art_and_architecture', 'religious'], ['history', 'art_and_architecture', 'entertainment'], ['health_and_lifestyle'], ['adventure'], ['history', 'art_and_architecture', 'entertainment'], ['entertainment'], ['history', 'art_and_architecture'], ['history'], ['history'], ['art_and_architecture', 'religious'], ['adventure'], ['art_and_architecture', 'religious'], ['history', 'art_and_architecture', 'entertainment'], ['nature', 'adventure'], ['history', 'art_and_architecture', 'entertainment'], ['health_and_lifestyle'], ['entertainment'], [], ['art_and_architecture', 'religious'], ['history', 'art_and_architecture'], ['nature'], ['adventure'], ['history', 'art_and_architecture', 'nature'], ['adventure'], ['history'], ['nature', 'adventure'], ['history'], ['adventure'], ['health_and_lifestyle'], ['adventure'], ['entertainment'], ['adventure'], ['adventure'], ['nature', 'adventure'], ['adventure'], ['history'], ['nature', 'adventure'], ['adventure'], ['history'], ['health_and_lifestyle'], ['entertainment'], ['history'], ['adventure'], ['adventure'], ['adventure'], ['history'], ['history'], ['adventure'], ['entertainment'], ['history'], ['history', 'art_and_architecture', 'entertainment'], ['history', 'art_and_architecture', 'entertainment'], ['entertainment'], ['art_and_architecture', 'entertainment'], ['history', 'art_and_architecture', 'entertainment'], ['entertainment'], ['adventure'], ['history'], ['nature', 'adventure'], ['history'], ['history', 'art_and_architecture', 'entertainment'], [], ['art_and_architecture', 'religious'], ['history'], ['history', 'art_and_architecture'], ['history', 'art_and_architecture'], ['history'], ['adventure', 'health_and_lifestyle'], ['art_and_architecture', 'religious'], ['history'], ['art_and_architecture', 'religious'], ['history'], ['history'], ['history'], ['nature', 'adventure'], ['nature', 'adventure'], [], ['history'], ['nature', 'adventure'], ['health_and_lifestyle'], ['history'], ['art_and_architecture', 'religious'], ['nature', 'adventure'], ['health_and_lifestyle'], [], ['history', 'art_and_architecture'], ['nature', 'adventure'], ['nature', 'adventure'], ['nature', 'adventure'], ['history'], ['history', 'art_and_architecture', 'entertainment'], ['nature', 'adventure'], ['art_and_architecture', 'nature', 'adventure'], ['history'], ['nature', 'adventure'], ['adventure'], ['health_and_lifestyle'], ['nature', 'adventure'], ['history', 'art_and_architecture', 'entertainment'], ['history'], ['adventure'], ['history'], ['history'], ['history'], ['history'], ['history'], ['adventure'], ['history', 'art_and_architecture', 'entertainment'], [], ['nature', 'adventure'], ['history', 'art_and_architecture', 'entertainment'], ['adventure'], ['history', 'art_and_architecture', 'entertainment'], ['adventure'], [], ['history', 'art_and_architecture', 'entertainment'], ['history', 'art_and_architecture'], ['nature', 'adventure'], ['history'], ['history'], ['history'], ['nature'], ['adventure'], ['history'], ['adventure'], ['history', 'art_and_architecture', 'entertainment'], [], ['history', 'art_and_architecture', 'entertainment'], ['nature', 'adventure'], ['nature', 'adventure'], ['history', 'art_and_architecture'], ['history'], ['history', 'art_and_architecture'], ['history'], ['art_and_architecture', 'nature', 'adventure'], ['history'], ['history'], [], ['adventure'], ['history', 'art_and_architecture', 'entertainment'], [], [], ['history'], ['history'], ['adventure'], ['history'], ['nature', 'adventure'], ['industries'], ['adventure', 'health_and_lifestyle'], ['history'], ['history', 'art_and_architecture', 'entertainment'], ['adventure'], ['art_and_architecture', 'religious'], ['history'], ['history'], ['art_and_architecture', 'nature', 'adventure'], ['history', 'art_and_architecture', 'entertainment'], ['history', 'art_and_architecture', 'religious'], ['history', 'art_and_architecture'], ['industries'], ['entertainment'], ['entertainment'], ['entertainment'], ['art_and_architecture', 'nature', 'adventure'], ['adventure'], ['entertainment'], ['adventure'], ['history', 'art_and_architecture'], ['health_and_lifestyle'], ['adventure', 'health_and_lifestyle'], ['adventure'], ['nature', 'entertainment'], [], [], ['history', 'art_and_architecture'], ['health_and_lifestyle'], ['history', 'art_and_architecture'], ['entertainment'], ['history', 'art_and_architecture', 'religious'], ['adventure'], ['history', 'art_and_architecture', 'religious'], ['art_and_architecture', 'nature', 'adventure'], ['art_and_architecture', 'nature', 'adventure'], ['art_and_architecture', 'nature', 'adventure'], ['history', 'art_and_architecture', 'religious'], ['history', 'art_and_architecture'], ['adventure'], ['history', 'art_and_architecture'], ['history', 'art_and_architecture'], ['nature', 'adventure'], ['health_and_lifestyle'], ['art_and_architecture', 'religious'], ['adventure'], ['adventure'], ['nature'], ['adventure'], ['history', 'art_and_architecture', 'entertainment'], ['art_and_architecture', 'religious'], [], ['history', 'art_and_architecture'], ['history', 'art_and_architecture'], ['nature'], ['history', 'art_and_architecture', 'religious'], ['art_and_architecture', 'nature', 'adventure'], ['art_and_architecture', 'nature', 'adventure'], ['history', 'art_and_architecture', 'entertainment'], ['nature', 'adventure'], ['art_and_architecture', 'entertainment'], ['history'], ['history', 'art_and_architecture'], ['adventure'], ['art_and_architecture', 'entertainment'], ['nature', 'adventure'], ['adventure'], ['nature', 'adventure'], ['nature', 'adventure'], ['health_and_lifestyle'], ['history', 'art_and_architecture', 'entertainment'], ['history', 'art_and_architecture', 'entertainment'], ['history', 'art_and_architecture', 'entertainment'], [], ['entertainment'], ['art_and_architecture', 'religious'], ['nature', 'adventure'], [], ['history', 'art_and_architecture', 'religious'], ['history'], ['history'], ['history'], ['history'], ['health_and_lifestyle'], ['history', 'art_and_architecture', 'entertainment'], ['history'], ['art_and_architecture', 'religious'], ['art_and_architecture', 'religious'], ['history'], ['history', 'art_and_architecture'], ['history'], ['history', 'art_and_architecture', 'entertainment'], ['history'], ['history', 'art_and_architecture', 'entertainment'], ['nature'], ['health_and_lifestyle'], ['history'], ['nature', 'adventure'], ['history', 'art_and_architecture', 'entertainment'], ['history'], ['history'], ['history', 'art_and_architecture', 'entertainment'], ['history'], ['history'], ['health_and_lifestyle'], ['history', 'art_and_architecture', 'entertainment'], ['history'], ['history'], ['history'], ['adventure'], ['history', 'art_and_architecture'], ['health_and_lifestyle'], ['nature'], ['history'], ['history'], ['art_and_architecture', 'entertainment'], ['adventure'], ['health_and_lifestyle'], ['history'], ['history', 'art_and_architecture', 'entertainment'], ['history'], [], ['history'], ['history'], ['history'], ['adventure'], [], ['history', 'art_and_architecture'], ['history'], ['adventure'], ['nature', 'adventure'], ['health_and_lifestyle'], ['history'], ['adventure'], ['adventure'], ['history'], ['adventure'], ['history'], ['entertainment'], ['history'], ['adventure'], ['history'], ['history'], ['history'], ['nature', 'adventure'], ['history'], ['art_and_architecture', 'religious'], ['history'], ['history', 'art_and_architecture', 'entertainment'], ['history', 'art_and_architecture', 'entertainment'], ['nature', 'adventure'], ['history'], ['history', 'art_and_architecture', 'entertainment'], ['adventure'], ['history'], ['history'], ['history', 'art_and_architecture', 'religious'], ['history'], ['history', 'art_and_architecture', 'nature'], ['history'], ['history', 'art_and_architecture', 'religious'], [], ['nature', 'adventure'], ['art_and_architecture', 'religious'], ['art_and_architecture', 'nature', 'adventure'], ['adventure'], ['health_and_lifestyle'], ['history'], ['history'], ['history'], ['art_and_architecture', 'nature', 'adventure'], ['history', 'art_and_architecture'], ['history'], ['history'], ['nature'], ['art_and_architecture', 'nature', 'adventure'], ['health_and_lifestyle'], ['history'], ['adventure'], ['history'], ['history'], ['history'], ['history', 'art_and_architecture'], ['art_and_architecture', 'entertainment'], ['history'], ['history', 'art_and_architecture', 'entertainment'], ['history', 'art_and_architecture', 'entertainment'], ['history'], ['art_and_architecture', 'religious'], ['history'], ['history'], ['history', 'art_and_architecture', 'entertainment'], ['adventure'], ['history'], ['history', 'art_and_architecture', 'religious'], ['history', 'art_and_architecture', 'entertainment'], ['nature', 'adventure'], ['history'], ['history', 'art_and_architecture', 'entertainment'], ['history', 'art_and_architecture', 'nature'], ['adventure', 'entertainment'], ['nature'], ['nature', 'adventure'], ['history', 'art_and_architecture', 'entertainment'], ['history'], ['history', 'art_and_architecture', 'entertainment'], ['adventure'], ['history', 'art_and_architecture', 'entertainment'], ['history', 'art_and_architecture', 'entertainment'], ['history'], ['nature', 'adventure'], [], ['health_and_lifestyle'], ['adventure'], ['history'], ['history', 'art_and_architecture', 'entertainment'], ['history', 'art_and_architecture', 'entertainment'], ['history'], ['history'], ['history', 'art_and_architecture', 'entertainment'], ['health_and_lifestyle'], ['history'], ['health_and_lifestyle'], ['history', 'art_and_architecture', 'entertainment'], [], ['history', 'art_and_architecture', 'entertainment'], ['health_and_lifestyle'], ['health_and_lifestyle'], ['art_and_architecture', 'religious'], [], ['history', 'art_and_architecture'], ['history', 'art_and_architecture', 'entertainment'], ['history'], ['entertainment'], ['nature'], ['history', 'art_and_architecture'], ['art_and_architecture', 'religious'], ['history'], ['history'], ['history', 'art_and_architecture'], ['health_and_lifestyle'], ['health_and_lifestyle'], ['history', 'art_and_architecture'], [], ['history', 'art_and_architecture', 'entertainment'], ['history'], ['history', 'art_and_architecture', 'entertainment'], ['history'], ['history'], ['history'], ['history'], ['history'], ['history'], ['history', 'art_and_architecture'], ['history'], ['history'], ['adventure'], ['history'], ['history'], ['history', 'art_and_architecture', 'nature'], ['history'], ['history'], ['adventure'], ['history'], ['nature', 'adventure'], ['history'], [], ['history'], ['history'], ['history'], ['adventure'], ['history'], ['history', 'art_and_architecture'], ['nature', 'adventure'], ['history', 'art_and_architecture', 'entertainment'], ['nature'], ['history'], ['nature', 'adventure'], ['nature', 'adventure'], ['history'], ['history'], ['nature', 'adventure'], ['adventure'], ['history'], ['nature', 'adventure'], ['history'], ['history', 'art_and_architecture'], ['entertainment'], ['history', 'art_and_architecture'], ['history', 'art_and_architecture', 'entertainment'], ['history'], ['history'], ['health_and_lifestyle'], ['history'], ['history', 'art_and_architecture'], ['adventure', 'health_and_lifestyle'], ['nature', 'adventure'], ['history'], ['history'], ['nature', 'entertainment'], ['history'], ['adventure'], ['history', 'art_and_architecture', 'entertainment'], ['history'], ['history'], ['history', 'art_and_architecture', 'entertainment'], ['history', 'art_and_architecture', 'entertainment'], ['history', 'art_and_architecture', 'entertainment'], ['art_and_architecture', 'nature', 'adventure'], ['history'], ['history'], [], ['nature', 'entertainment'], ['art_and_architecture', 'religious'], ['history', 'art_and_architecture', 'entertainment'], ['entertainment'], ['history'], ['history'], ['nature', 'adventure'], ['health_and_lifestyle'], ['adventure'], ['adventure'], ['history', 'art_and_architecture'], ['adventure'], ['history', 'art_and_architecture'], ['nature'], ['history'], ['nature', 'adventure'], ['history'], ['history'], ['history', 'art_and_architecture', 'entertainment'], ['nature', 'adventure'], ['history'], ['history'], ['art_and_architecture', 'religious'], [], ['adventure'], [], ['history'], ['health_and_lifestyle'], ['history'], ['history'], ['history', 'art_and_architecture'], ['history', 'art_and_architecture', 'entertainment'], ['history', 'art_and_architecture', 'entertainment'], ['history', 'art_and_architecture'], ['history', 'art_and_architecture'], ['history', 'art_and_architecture'], ['history', 'art_and_architecture'], ['nature', 'adventure'], ['history'], ['history'], ['history'], ['history'], ['history'], ['history'], ['nature', 'adventure'], ['history'], ['history'], ['history'], ['history'], ['history'], ['history', 'art_and_architecture'], ['adventure'], ['history'], ['history'], ['history', 'art_and_architecture'], ['history'], ['adventure'], ['history', 'art_and_architecture', 'entertainment'], ['adventure'], ['history'], ['history'], ['history', 'art_and_architecture', 'religious'], ['adventure'], ['adventure'], ['health_and_lifestyle'], ['adventure'], ['health_and_lifestyle'], ['nature'], ['nature', 'adventure'], ['history'], ['art_and_architecture', 'religious'], ['history', 'art_and_architecture'], ['history'], ['adventure'], [], ['history'], ['history'], ['adventure'], ['nature', 'adventure'], ['history', 'art_and_architecture'], ['history'], ['history', 'art_and_architecture', 'religious'], ['history'], ['adventure'], ['history'], ['adventure'], ['history', 'art_and_architecture', 'entertainment'], ['history'], ['history'], ['adventure'], ['history', 'art_and_architecture'], ['adventure'], ['history', 'art_and_architecture', 'entertainment'], ['history'], ['history'], ['adventure'], ['history'], ['history'], ['nature', 'adventure'], ['history'], ['history'], ['history', 'art_and_architecture'], ['nature', 'adventure'], ['history', 'art_and_architecture', 'entertainment'], ['history', 'art_and_architecture', 'entertainment'], ['history', 'art_and_architecture', 'entertainment'], ['history'], ['history'], ['adventure'], ['adventure'], ['history', 'art_and_architecture'], ['history'], ['history'], ['history', 'art_and_architecture', 'entertainment'], ['history'], ['history'], ['entertainment'], ['adventure'], ['history', 'art_and_architecture'], ['history', 'art_and_architecture', 'entertainment'], ['history'], ['history'], ['history'], ['history', 'art_and_architecture', 'entertainment'], ['nature', 'adventure'], ['history'], ['nature', 'adventure'], ['history'], ['nature', 'adventure'], ['nature', 'adventure'], ['nature', 'adventure'], ['entertainment'], ['history'], ['history', 'art_and_architecture', 'entertainment'], ['adventure'], ['art_and_architecture', 'religious'], ['history'], ['nature'], ['history'], ['nature', 'adventure'], ['history'], ['history'], [], ['history'], ['history'], ['history'], ['adventure', 'entertainment'], ['history', 'art_and_architecture'], ['adventure', 'health_and_lifestyle'], ['history'], ['history'], ['entertainment', 'food'], ['adventure'], ['adventure'], [], ['adventure'], ['adventure'], ['history'], [], ['history', 'art_and_architecture'], ['adventure'], ['history'], ['history', 'art_and_architecture'], ['history'], [], ['history'], ['adventure'], ['history'], ['adventure'], ['history', 'art_and_architecture'], ['nature'], ['adventure'], ['history'], ['history'], [], ['adventure'], ['history', 'art_and_architecture', 'entertainment'], ['history'], ['history', 'art_and_architecture', 'entertainment'], ['history'], ['history', 'art_and_architecture'], ['adventure'], ['history'], [], ['history'], ['nature', 'adventure'], ['adventure'], ['history'], ['history'], ['health_and_lifestyle'], ['history', 'art_and_architecture'], ['adventure'], ['history'], ['history'], ['history'], ['adventure'], ['history'], ['nature'], ['adventure'], ['adventure'], ['adventure'], ['history'], ['history'], ['history'], ['history', 'art_and_architecture'], ['nature', 'adventure'], ['history'], ['adventure'], ['history'], ['history'], ['history'], ['adventure'], ['history'], ['adventure'], [], ['adventure'], ['nature', 'adventure'], ['nature', 'adventure'], ['nature', 'adventure'], ['adventure'], ['history', 'art_and_architecture', 'entertainment'], ['adventure'], ['adventure'], [], ['history'], ['nature', 'adventure'], ['history', 'art_and_architecture', 'entertainment'], ['history'], [], ['history', 'art_and_architecture', 'religious'], ['nature', 'adventure'], ['history', 'art_and_architecture', 'religious'], ['adventure'], ['history'], ['art_and_architecture', 'religious'], ['history'], ['food'], [], ['history'], ['art_and_architecture', 'nature', 'adventure'], ['history', 'art_and_architecture', 'entertainment'], ['history'], ['nature'], ['history', 'art_and_architecture'], ['history'], ['history'], ['nature', 'adventure'], ['adventure'], ['history', 'art_and_architecture', 'entertainment'], ['history'], ['adventure'], ['history', 'art_and_architecture', 'entertainment'], ['history'], [], ['adventure'], [], ['history'], ['health_and_lifestyle'], ['history'], ['history', 'art_and_architecture', 'entertainment'], ['history'], ['adventure'], ['adventure'], ['history'], ['history'], ['adventure'], ['industries'], ['adventure'], [], ['history'], ['history'], ['adventure'], [], ['history'], ['entertainment'], ['history'], ['adventure'], ['entertainment'], ['adventure'], [], ['history'], ['history'], ['adventure', 'health_and_lifestyle'], ['entertainment'], [], ['nature', 'adventure'], [], ['adventure'], ['history'], ['history'], ['food'], ['history'], ['nature', 'adventure'], ['history'], [], ['nature', 'adventure'], ['history', 'art_and_architecture', 'entertainment'], ['nature', 'adventure'], ['adventure'], ['nature', 'adventure'], ['history', 'art_and_architecture', 'entertainment'], ['nature', 'adventure'], ['history'], ['history', 'art_and_architecture'], ['history'], [], ['history'], ['adventure'], [], ['nature', 'adventure'], ['nature', 'adventure'], ['history'], ['adventure'], ['health_and_lifestyle'], ['nature', 'adventure'], ['history', 'art_and_architecture'], ['history'], ['adventure'], ['adventure'], ['nature', 'adventure'], ['history', 'art_and_architecture', 'religious'], ['adventure'], ['history'], ['adventure'], ['history'], ['adventure'], ['entertainment'], ['adventure'], ['history'], ['art_and_architecture', 'religious'], ['history'], ['art_and_architecture', 'religious'], ['history'], ['adventure'], ['history', 'art_and_architecture'], ['history'], ['history'], ['history'], ['history'], ['history'], ['history', 'art_and_architecture', 'religious'], ['adventure'], ['adventure'], ['adventure'], [], ['adventure'], ['adventure'], [], ['adventure'], ['nature', 'adventure'], ['history', 'art_and_architecture', 'entertainment'], ['adventure'], ['art_and_architecture', 'religious'], ['history', 'art_and_architecture', 'entertainment'], ['nature', 'adventure'], ['nature', 'adventure'], ['art_and_architecture', 'nature', 'adventure'], ['nature', 'adventure'], ['history'], ['history'], ['history'], ['adventure'], ['adventure'], ['entertainment'], ['history'], [], ['history'], ['history'], ['history'], ['history', 'art_and_architecture', 'entertainment'], ['art_and_architecture', 'religious'], ['history', 'art_and_architecture', 'entertainment'], ['history', 'art_and_architecture'], ['history', 'art_and_architecture'], ['adventure'], ['history', 'art_and_architecture', 'nature'], ['entertainment'], ['history'], ['history', 'art_and_architecture', 'entertainment'], ['history'], ['history', 'art_and_architecture'], ['history', 'art_and_architecture'], ['adventure'], ['adventure', 'health_and_lifestyle'], ['history'], ['history'], ['nature', 'adventure'], ['adventure'], ['history'], ['history'], ['history', 'art_and_architecture', 'entertainment'], ['history'], ['history', 'art_and_architecture', 'entertainment'], ['adventure'], ['history'], ['nature', 'adventure'], ['history'], ['history', 'art_and_architecture', 'religious'], ['nature', 'adventure'], ['history', 'art_and_architecture'], ['adventure'], ['nature'], ['history'], ['history', 'art_and_architecture'], ['history'], ['health_and_lifestyle'], ['entertainment'], ['adventure'], ['adventure'], ['history', 'art_and_architecture', 'entertainment'], ['history', 'art_and_architecture', 'religious'], [], ['history', 'art_and_architecture', 'religious'], ['history', 'art_and_architecture', 'religious'], ['history', 'art_and_architecture'], [], ['adventure'], ['history'], [], ['adventure'], ['nature'], ['history', 'art_and_architecture', 'religious'], ['history', 'art_and_architecture', 'religious'], ['nature', 'adventure'], ['history'], ['history', 'art_and_architecture', 'entertainment'], ['entertainment', 'food'], ['adventure'], ['adventure']]\n"
     ]
    }
   ],
   "source": [
    "print(super_genre_list)"
   ]
  },
  {
   "cell_type": "code",
   "execution_count": 6,
   "id": "9f41d538",
   "metadata": {},
   "outputs": [],
   "source": [
    "dataset['genre']=super_genre_list"
   ]
  },
  {
   "cell_type": "code",
   "execution_count": 7,
   "id": "d7ce1d34",
   "metadata": {},
   "outputs": [
    {
     "name": "stdout",
     "output_type": "stream",
     "text": [
      "                                    title        avg_rating  voted_by history  \\\n",
      "0                        Boudhanath Stupa               4.5      8897    True   \n",
      "1                   Phewa Tal (Fewa Lake)               4.5      2988   False   \n",
      "2                               Sarangkot               4.5      2199   False   \n",
      "3                    Swayambhunath Temple               4.5      6203    True   \n",
      "4                               Poon Hill               4.5      1477   False   \n",
      "...                                   ...               ...       ...     ...   \n",
      "3308  SITA (Travel Corporation India Ltd)  4.77190569744597         0    True   \n",
      "3309                       Himalayan Hike  4.77190569744597         0    True   \n",
      "3310                               Harilo  4.77190569744597         0   False   \n",
      "3311                           Heli Sight  4.77190569744597         0   False   \n",
      "3312                            River Fun  4.77190569744597         0   False   \n",
      "\n",
      "      art_and_architecture  nature  adventure  entertainment  \\\n",
      "0                     True   False      False          False   \n",
      "1                    False    True      False          False   \n",
      "2                    False    True      False          False   \n",
      "3                     True   False      False          False   \n",
      "4                    False    True      False          False   \n",
      "...                    ...     ...        ...            ...   \n",
      "3308                 False   False      False          False   \n",
      "3309                  True   False      False           True   \n",
      "3310                 False   False      False           True   \n",
      "3311                 False   False       True          False   \n",
      "3312                 False   False       True          False   \n",
      "\n",
      "      health_and_lifestyle   food  industries  religious    latitude  \\\n",
      "0                    False  False       False       True  27.7215062   \n",
      "1                    False  False       False      False  28.2116268   \n",
      "2                    False  False       False      False  28.2443761   \n",
      "3                    False  False       False       True  27.7149298   \n",
      "4                    False  False       False      False   28.400195   \n",
      "...                    ...    ...         ...        ...         ...   \n",
      "3308                 False  False       False      False         NaN   \n",
      "3309                 False  False       False      False         NaN   \n",
      "3310                 False   True       False      False         NaN   \n",
      "3311                 False  False       False      False         NaN   \n",
      "3312                 False  False       False      False         NaN   \n",
      "\n",
      "      longitude                                           genre  \n",
      "0     85.359809      [history, art_and_architecture, religious]  \n",
      "1     83.932296                                        [nature]  \n",
      "2     83.944564                                        [nature]  \n",
      "3     85.288146      [history, art_and_architecture, religious]  \n",
      "4     83.671789                                        [nature]  \n",
      "...         ...                                             ...  \n",
      "3308        NaN                                       [history]  \n",
      "3309        NaN  [history, art_and_architecture, entertainment]  \n",
      "3310        NaN                           [entertainment, food]  \n",
      "3311        NaN                                     [adventure]  \n",
      "3312        NaN                                     [adventure]  \n",
      "\n",
      "[3313 rows x 15 columns]\n"
     ]
    }
   ],
   "source": [
    "print(dataset)"
   ]
  },
  {
   "cell_type": "code",
   "execution_count": 8,
   "id": "df65ac7c",
   "metadata": {},
   "outputs": [],
   "source": [
    "# assign IDs to the places\n",
    "id_list=list(range(1,len(dataset)+1))\n",
    "dataset['dest_id']=id_list"
   ]
  },
  {
   "cell_type": "code",
   "execution_count": 9,
   "id": "9bb71961",
   "metadata": {},
   "outputs": [
    {
     "name": "stdout",
     "output_type": "stream",
     "text": [
      "                                    title        avg_rating  voted_by history  \\\n",
      "0                        Boudhanath Stupa               4.5      8897    True   \n",
      "1                   Phewa Tal (Fewa Lake)               4.5      2988   False   \n",
      "2                               Sarangkot               4.5      2199   False   \n",
      "3                    Swayambhunath Temple               4.5      6203    True   \n",
      "4                               Poon Hill               4.5      1477   False   \n",
      "...                                   ...               ...       ...     ...   \n",
      "3308  SITA (Travel Corporation India Ltd)  4.77190569744597         0    True   \n",
      "3309                       Himalayan Hike  4.77190569744597         0    True   \n",
      "3310                               Harilo  4.77190569744597         0   False   \n",
      "3311                           Heli Sight  4.77190569744597         0   False   \n",
      "3312                            River Fun  4.77190569744597         0   False   \n",
      "\n",
      "      art_and_architecture  nature  adventure  entertainment  \\\n",
      "0                     True   False      False          False   \n",
      "1                    False    True      False          False   \n",
      "2                    False    True      False          False   \n",
      "3                     True   False      False          False   \n",
      "4                    False    True      False          False   \n",
      "...                    ...     ...        ...            ...   \n",
      "3308                 False   False      False          False   \n",
      "3309                  True   False      False           True   \n",
      "3310                 False   False      False           True   \n",
      "3311                 False   False       True          False   \n",
      "3312                 False   False       True          False   \n",
      "\n",
      "      health_and_lifestyle   food  industries  religious    latitude  \\\n",
      "0                    False  False       False       True  27.7215062   \n",
      "1                    False  False       False      False  28.2116268   \n",
      "2                    False  False       False      False  28.2443761   \n",
      "3                    False  False       False       True  27.7149298   \n",
      "4                    False  False       False      False   28.400195   \n",
      "...                    ...    ...         ...        ...         ...   \n",
      "3308                 False  False       False      False         NaN   \n",
      "3309                 False  False       False      False         NaN   \n",
      "3310                 False   True       False      False         NaN   \n",
      "3311                 False  False       False      False         NaN   \n",
      "3312                 False  False       False      False         NaN   \n",
      "\n",
      "      longitude                                           genre  dest_id  \n",
      "0     85.359809      [history, art_and_architecture, religious]        1  \n",
      "1     83.932296                                        [nature]        2  \n",
      "2     83.944564                                        [nature]        3  \n",
      "3     85.288146      [history, art_and_architecture, religious]        4  \n",
      "4     83.671789                                        [nature]        5  \n",
      "...         ...                                             ...      ...  \n",
      "3308        NaN                                       [history]     3309  \n",
      "3309        NaN  [history, art_and_architecture, entertainment]     3310  \n",
      "3310        NaN                           [entertainment, food]     3311  \n",
      "3311        NaN                                     [adventure]     3312  \n",
      "3312        NaN                                     [adventure]     3313  \n",
      "\n",
      "[3313 rows x 16 columns]\n"
     ]
    }
   ],
   "source": [
    "print(dataset)"
   ]
  },
  {
   "cell_type": "code",
   "execution_count": 10,
   "id": "a01a658c",
   "metadata": {},
   "outputs": [],
   "source": [
    "dataset=dataset[['dest_id','title','avg_rating','voted_by','genre','latitude','longitude']]"
   ]
  },
  {
   "cell_type": "code",
   "execution_count": 11,
   "id": "5fdb571c",
   "metadata": {},
   "outputs": [
    {
     "name": "stdout",
     "output_type": "stream",
     "text": [
      "     dest_id                                title avg_rating  voted_by  \\\n",
      "0          1                     Boudhanath Stupa        4.5      8897   \n",
      "1          2                Phewa Tal (Fewa Lake)        4.5      2988   \n",
      "2          3                            Sarangkot        4.5      2199   \n",
      "3          4                 Swayambhunath Temple        4.5      6203   \n",
      "4          5                            Poon Hill        4.5      1477   \n",
      "..       ...                                  ...        ...       ...   \n",
      "495      496               Earthbound Expeditions          5       565   \n",
      "496      497    Unique Path Trekking & Expedition          5       140   \n",
      "497      498              Travel Maker South Asia          5       225   \n",
      "498      499  Nepal Alibaba Treks & Tours Pvt Ltd          5       105   \n",
      "499      500                  Alpine Ramble Treks          5       240   \n",
      "\n",
      "                                              genre    latitude  longitude  \n",
      "0        [history, art_and_architecture, religious]  27.7215062  85.359809  \n",
      "1                                          [nature]  28.2116268  83.932296  \n",
      "2                                          [nature]  28.2443761  83.944564  \n",
      "3        [history, art_and_architecture, religious]  27.7149298  85.288146  \n",
      "4                                          [nature]   28.400195  83.671789  \n",
      "..                                              ...         ...        ...  \n",
      "495                                       [history]  27.7116939  85.307075  \n",
      "496  [history, art_and_architecture, entertainment]  27.7165406  85.307559  \n",
      "497               [art_and_architecture, religious]  27.7134196  85.311246  \n",
      "498                                       [history]  27.7375441  85.302841  \n",
      "499                                       [history]  27.7191624  85.306492  \n",
      "\n",
      "[500 rows x 7 columns]\n"
     ]
    }
   ],
   "source": [
    "print(dataset[:500])"
   ]
  },
  {
   "cell_type": "code",
   "execution_count": 12,
   "id": "e736ea2f",
   "metadata": {},
   "outputs": [
    {
     "name": "stdout",
     "output_type": "stream",
     "text": [
      "      dest_id                                title        avg_rating  \\\n",
      "0           1                     Boudhanath Stupa               4.5   \n",
      "1           2                Phewa Tal (Fewa Lake)               4.5   \n",
      "2           3                            Sarangkot               4.5   \n",
      "3           4                 Swayambhunath Temple               4.5   \n",
      "4           5                            Poon Hill               4.5   \n",
      "...       ...                                  ...               ...   \n",
      "3308     3309  SITA (Travel Corporation India Ltd)  4.77190569744597   \n",
      "3309     3310                       Himalayan Hike  4.77190569744597   \n",
      "3310     3311                               Harilo  4.77190569744597   \n",
      "3311     3312                           Heli Sight  4.77190569744597   \n",
      "3312     3313                            River Fun  4.77190569744597   \n",
      "\n",
      "      voted_by                                       genre    latitude  \\\n",
      "0         8897      history:art_and_architecture:religious  27.7215062   \n",
      "1         2988                                      nature  28.2116268   \n",
      "2         2199                                      nature  28.2443761   \n",
      "3         6203      history:art_and_architecture:religious  27.7149298   \n",
      "4         1477                                      nature   28.400195   \n",
      "...        ...                                         ...         ...   \n",
      "3308         0                                     history         NaN   \n",
      "3309         0  history:art_and_architecture:entertainment         NaN   \n",
      "3310         0                          entertainment:food         NaN   \n",
      "3311         0                                   adventure         NaN   \n",
      "3312         0                                   adventure         NaN   \n",
      "\n",
      "      longitude  \n",
      "0     85.359809  \n",
      "1     83.932296  \n",
      "2     83.944564  \n",
      "3     85.288146  \n",
      "4     83.671789  \n",
      "...         ...  \n",
      "3308        NaN  \n",
      "3309        NaN  \n",
      "3310        NaN  \n",
      "3311        NaN  \n",
      "3312        NaN  \n",
      "\n",
      "[3313 rows x 7 columns]\n"
     ]
    }
   ],
   "source": [
    "#convert lists stored in genre into strings separated by :\n",
    "for i in range(len(dataset)):\n",
    "    genre_string=\"\"\n",
    "    for entry in dataset.loc[i,\"genre\"]:\n",
    "        genre_string += ':' + str(entry)\n",
    "    dataset.loc[i,\"genre\"]=genre_string[1:]\n",
    "\n",
    "print(dataset)"
   ]
  },
  {
   "cell_type": "code",
   "execution_count": 13,
   "id": "25ca89c1",
   "metadata": {},
   "outputs": [
    {
     "name": "stdout",
     "output_type": "stream",
     "text": [
      "                                    title        avg_rating  voted_by  \\\n",
      "0                        Boudhanath Stupa               4.5      8897   \n",
      "1                   Phewa Tal (Fewa Lake)               4.5      2988   \n",
      "2                               Sarangkot               4.5      2199   \n",
      "3                    Swayambhunath Temple               4.5      6203   \n",
      "4                               Poon Hill               4.5      1477   \n",
      "...                                   ...               ...       ...   \n",
      "3308  SITA (Travel Corporation India Ltd)  4.77190569744597         0   \n",
      "3309                       Himalayan Hike  4.77190569744597         0   \n",
      "3310                               Harilo  4.77190569744597         0   \n",
      "3311                           Heli Sight  4.77190569744597         0   \n",
      "3312                            River Fun  4.77190569744597         0   \n",
      "\n",
      "                                                 genre history  \\\n",
      "0                                  ['Religious Sites']    True   \n",
      "1                                  ['Bodies of Water']   False   \n",
      "2                                        ['Mountains']   False   \n",
      "3                                  ['Religious Sites']    True   \n",
      "4                                        ['Mountains']   False   \n",
      "...                                                ...     ...   \n",
      "3308              ['Multi-day Tours', 'Balloon Rides']    True   \n",
      "3309                 ['City Tours', 'Multi-day Tours']    True   \n",
      "3310                               ['Farmers Markets']   False   \n",
      "3311  ['Parasailing & Paragliding', 'Multi-day Tours']   False   \n",
      "3312    ['River Rafting & Tubing', 'Taxis & Shuttles']   False   \n",
      "\n",
      "      art_and_architecture  nature  adventure  entertainment  \\\n",
      "0                     True   False      False          False   \n",
      "1                    False    True      False          False   \n",
      "2                    False    True      False          False   \n",
      "3                     True   False      False          False   \n",
      "4                    False    True      False          False   \n",
      "...                    ...     ...        ...            ...   \n",
      "3308                 False   False      False          False   \n",
      "3309                  True   False      False           True   \n",
      "3310                 False   False      False           True   \n",
      "3311                 False   False       True          False   \n",
      "3312                 False   False       True          False   \n",
      "\n",
      "      health_and_lifestyle   food  industries  religious    latitude  \\\n",
      "0                    False  False       False       True  27.7215062   \n",
      "1                    False  False       False      False  28.2116268   \n",
      "2                    False  False       False      False  28.2443761   \n",
      "3                    False  False       False       True  27.7149298   \n",
      "4                    False  False       False      False   28.400195   \n",
      "...                    ...    ...         ...        ...         ...   \n",
      "3308                 False  False       False      False         NaN   \n",
      "3309                 False  False       False      False         NaN   \n",
      "3310                 False   True       False      False         NaN   \n",
      "3311                 False  False       False      False         NaN   \n",
      "3312                 False  False       False      False         NaN   \n",
      "\n",
      "      longitude                                            img_url  \n",
      "0     85.359809  data:image/jpeg;base64,/9j/4AAQSkZJRgABAQAAAQA...  \n",
      "1     83.932296  data:image/jpeg;base64,/9j/4AAQSkZJRgABAQAAAQA...  \n",
      "2     83.944564  data:image/jpeg;base64,/9j/4AAQSkZJRgABAQAAAQA...  \n",
      "3     85.288146  data:image/jpeg;base64,/9j/4AAQSkZJRgABAQAAAQA...  \n",
      "4     83.671789  data:image/jpeg;base64,/9j/4AAQSkZJRgABAQAAAQA...  \n",
      "...         ...                                                ...  \n",
      "3308        NaN                                                NaN  \n",
      "3309        NaN                                                NaN  \n",
      "3310        NaN                                                NaN  \n",
      "3311        NaN                                                NaN  \n",
      "3312        NaN                                                NaN  \n",
      "\n",
      "[3313 rows x 16 columns]\n"
     ]
    }
   ],
   "source": [
    "# add the base64 images too \n",
    "dataset_with_img=pd.read_csv(\"../Datasets/destinations_of_nepal_updated_with_latlong_and_image.csv\")\n",
    "print(dataset_with_img)"
   ]
  },
  {
   "cell_type": "code",
   "execution_count": 14,
   "id": "cea15c80",
   "metadata": {},
   "outputs": [],
   "source": [
    "dataset[\"img_url\"]=dataset_with_img[\"img_url\"] #copying images from the one with the image to other`bb"
   ]
  },
  {
   "cell_type": "code",
   "execution_count": null,
   "id": "088c5c68",
   "metadata": {},
   "outputs": [],
   "source": [
    "dataset=dataset[[]]"
   ]
  },
  {
   "cell_type": "code",
   "execution_count": 71,
   "id": "62d72031",
   "metadata": {},
   "outputs": [],
   "source": [
    "# dataset.to_csv(\"final-ish_destinations_of_ktm.csv\",index=None)\n",
    "dataset.to_csv(\"final-ish_destinations_of_nepal.csv\",index=None)"
   ]
  },
  {
   "cell_type": "code",
   "execution_count": null,
   "id": "01bd96a7",
   "metadata": {},
   "outputs": [],
   "source": []
  }
 ],
 "metadata": {
  "kernelspec": {
   "display_name": "Python 3 (ipykernel)",
   "language": "python",
   "name": "python3"
  },
  "language_info": {
   "codemirror_mode": {
    "name": "ipython",
    "version": 3
   },
   "file_extension": ".py",
   "mimetype": "text/x-python",
   "name": "python",
   "nbconvert_exporter": "python",
   "pygments_lexer": "ipython3",
   "version": "3.9.7"
  }
 },
 "nbformat": 4,
 "nbformat_minor": 5
}
