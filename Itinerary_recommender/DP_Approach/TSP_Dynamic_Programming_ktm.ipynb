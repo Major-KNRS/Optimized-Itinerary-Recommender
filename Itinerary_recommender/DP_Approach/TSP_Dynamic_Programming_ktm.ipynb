{
 "cells": [
  {
   "cell_type": "markdown",
   "id": "c4eb9200",
   "metadata": {},
   "source": [
    "# Solving TSP with Dynamic Programming"
   ]
  },
  {
   "cell_type": "markdown",
   "id": "67278972",
   "metadata": {},
   "source": [
    "### Import the required libraries"
   ]
  },
  {
   "cell_type": "code",
   "execution_count": 106,
   "id": "b9545842",
   "metadata": {},
   "outputs": [],
   "source": [
    "import sys\n",
    "import copy\n",
    "import numpy as np \n",
    "import pandas as pd\n",
    "from matplotlib import pyplot as plt"
   ]
  },
  {
   "cell_type": "code",
   "execution_count": 107,
   "id": "308dea97",
   "metadata": {},
   "outputs": [
    {
     "name": "stdout",
     "output_type": "stream",
     "text": [
      "                  title avg_rating  voted_by            genre    latitude  \\\n",
      "0      Boudhanath Stupa        4.5      8897  Religious Sites  27.7215062   \n",
      "1  Swayambhunath Temple        4.5      6203  Religious Sites  27.7149298   \n",
      "2  Pashupatinath Temple        4.5      4937  Religious Sites  27.7104461   \n",
      "3     Chandragiri Hills        4.5       399        Mountains  27.6710496   \n",
      "4       Kopan Monastery        4.5       787  Religious Sites  27.7425438   \n",
      "\n",
      "   longitude  \n",
      "0  85.359809  \n",
      "1  85.288146  \n",
      "2  85.346503  \n",
      "3  85.262664  \n",
      "4  85.362208  \n"
     ]
    }
   ],
   "source": [
    "top_dests_ktm=pd.read_csv(\"../destinations_of_kathmandu_updated_with_latlong.csv\")\n",
    "print(top_dests_ktm.head())"
   ]
  },
  {
   "cell_type": "code",
   "execution_count": 108,
   "id": "74ccc9af",
   "metadata": {},
   "outputs": [
    {
     "name": "stdout",
     "output_type": "stream",
     "text": [
      "                         title avg_rating  voted_by  \\\n",
      "90     Ghanta Ghar Clock Tower        3.5        11   \n",
      "91  Jamchen Lhakhang Monastery        3.5         3   \n",
      "92                    Big Bell        3.5         9   \n",
      "93       Mrigasthali Deer Park          4         5   \n",
      "94            Universal Crafts          5         3   \n",
      "\n",
      "                              genre    latitude  longitude  \n",
      "90   Points of Interest & Landmarks   27.707477  85.314711  \n",
      "91                  Religious Sites  27.7215058  85.359192  \n",
      "92   Points of Interest & Landmarks  27.7268583  85.300625  \n",
      "93  Nature & Wildlife Areas • Parks   27.711512  85.349772  \n",
      "94    Art Galleries • Antique Shops  27.7173331  85.381252  \n"
     ]
    }
   ],
   "source": [
    "# select the first 95 destinations as they're the destinations having the latitude and longitude currently\n",
    "top_dests_ktm=top_dests_ktm[:95]\n",
    "print(top_dests_ktm.tail())"
   ]
  },
  {
   "cell_type": "code",
   "execution_count": 109,
   "id": "ea1c4c78",
   "metadata": {},
   "outputs": [
    {
     "name": "stdout",
     "output_type": "stream",
     "text": [
      "                         title avg_rating  voted_by  \\\n",
      "0             Boudhanath Stupa        4.5      8897   \n",
      "1         Swayambhunath Temple        4.5      6203   \n",
      "2         Pashupatinath Temple        4.5      4937   \n",
      "3            Chandragiri Hills        4.5       399   \n",
      "4              Kopan Monastery        4.5       787   \n",
      "..                         ...        ...       ...   \n",
      "90     Ghanta Ghar Clock Tower        3.5        11   \n",
      "91  Jamchen Lhakhang Monastery        3.5         3   \n",
      "92                    Big Bell        3.5         9   \n",
      "93       Mrigasthali Deer Park          4         5   \n",
      "94            Universal Crafts          5         3   \n",
      "\n",
      "                              genre    latitude  longitude  \n",
      "0                   Religious Sites  27.7215062  85.359809  \n",
      "1                   Religious Sites  27.7149298  85.288146  \n",
      "2                   Religious Sites  27.7104461  85.346503  \n",
      "3                         Mountains  27.6710496  85.262664  \n",
      "4                   Religious Sites  27.7425438  85.362208  \n",
      "..                              ...         ...        ...  \n",
      "90   Points of Interest & Landmarks   27.707477  85.314711  \n",
      "91                  Religious Sites  27.7215058  85.359192  \n",
      "92   Points of Interest & Landmarks  27.7268583  85.300625  \n",
      "93  Nature & Wildlife Areas • Parks   27.711512  85.349772  \n",
      "94    Art Galleries • Antique Shops  27.7173331  85.381252  \n",
      "\n",
      "[95 rows x 6 columns]\n"
     ]
    }
   ],
   "source": [
    "# let's just pick n=10 for now for better visualization\n",
    "n=95 #graph size\n",
    "top_n_dests=top_dests_ktm[:n]\n",
    "print(top_n_dests)"
   ]
  },
  {
   "cell_type": "code",
   "execution_count": 110,
   "id": "87c8b3d7",
   "metadata": {},
   "outputs": [
    {
     "name": "stdout",
     "output_type": "stream",
     "text": [
      "                         title    latitude  longitude\n",
      "0             Boudhanath Stupa  27.7215062  85.359809\n",
      "1         Swayambhunath Temple  27.7149298  85.288146\n",
      "2         Pashupatinath Temple  27.7104461  85.346503\n",
      "3            Chandragiri Hills  27.6710496  85.262664\n",
      "4              Kopan Monastery  27.7425438  85.362208\n",
      "..                         ...         ...        ...\n",
      "90     Ghanta Ghar Clock Tower   27.707477  85.314711\n",
      "91  Jamchen Lhakhang Monastery  27.7215058  85.359192\n",
      "92                    Big Bell  27.7268583  85.300625\n",
      "93       Mrigasthali Deer Park   27.711512  85.349772\n",
      "94            Universal Crafts  27.7173331  85.381252\n",
      "\n",
      "[95 rows x 3 columns]\n"
     ]
    }
   ],
   "source": [
    "# since we'll be dealing only with latitude and longitude at the moment\n",
    "# only filter those columns along with the title\n",
    "print(top_dests_ktm[['title','latitude','longitude']])"
   ]
  },
  {
   "cell_type": "code",
   "execution_count": 111,
   "id": "075c0c82",
   "metadata": {},
   "outputs": [],
   "source": [
    "# also meanwhile let's create a matrix called 'graph' to store the weights for each edges\n",
    "graph=np.zeros((n,n))\n",
    "\n",
    "def create_graph():\n",
    "\n",
    "    # iterators to iterate through the graph\n",
    "    i=0\n",
    "    j=0\n",
    "\n",
    "    for lat,long in zip(top_n_dests['latitude'].astype(float),top_n_dests['longitude'].astype(float)):\n",
    "        j=0\n",
    "        for another_lat,another_long in zip(top_n_dests['latitude'].astype(float),top_n_dests['longitude'].astype(float)):\n",
    "            #edge weight(Euclidean distance)\n",
    "            distance_between_the_places=np.sqrt((lat-another_lat)**2+(long-another_long)**2)\n",
    "            #print(distance_between_the_places)\n",
    "\n",
    "            #and store it in the 'graph' matrix\n",
    "            graph[i][j]=distance_between_the_places\n",
    "            #increment j \n",
    "            j+=1\n",
    "\n",
    "        #increment i\n",
    "        i+=1"
   ]
  },
  {
   "cell_type": "code",
   "execution_count": 112,
   "id": "10af9333",
   "metadata": {},
   "outputs": [
    {
     "name": "stdout",
     "output_type": "stream",
     "text": [
      "[[0.         0.07196422 0.01730239 ... 0.05942541 0.01416395 0.0218452 ]\n",
      " [0.07196422 0.         0.05852919 ... 0.01726324 0.0617212  0.09313701]\n",
      " [0.01730239 0.05852919 0.         ... 0.04872526 0.00343867 0.03542471]\n",
      " ...\n",
      " [0.05942541 0.01726324 0.04872526 ... 0.         0.05148753 0.0811875 ]\n",
      " [0.01416395 0.0617212  0.00343867 ... 0.05148753 0.         0.03201319]\n",
      " [0.0218452  0.09313701 0.03542471 ... 0.0811875  0.03201319 0.        ]]\n"
     ]
    }
   ],
   "source": [
    "create_graph()\n",
    "print(graph)"
   ]
  },
  {
   "cell_type": "code",
   "execution_count": 113,
   "id": "38256b4a",
   "metadata": {},
   "outputs": [],
   "source": [
    "# input matrix containing cost\n",
    "matrix = graph\n",
    "# input data points\n",
    "data = list(range(0,n))"
   ]
  },
  {
   "cell_type": "code",
   "execution_count": 114,
   "id": "2a1eb248",
   "metadata": {},
   "outputs": [],
   "source": [
    "# initializing necessary parameters\n",
    "all_sets = []\n",
    "g = {}\n",
    "p = []\n",
    "starting_node=1"
   ]
  },
  {
   "cell_type": "code",
   "execution_count": 115,
   "id": "d876edf0",
   "metadata": {},
   "outputs": [],
   "source": [
    "def main():\n",
    "    \"\"\"\n",
    "        Main function\n",
    "    \"\"\"\n",
    "    \n",
    "    route=[] #to store the final route\n",
    "    \n",
    "    for x in range(1, n):\n",
    "        g[x + 1, ()] = matrix[x][0]\n",
    "    \n",
    "    # minimum cost\n",
    "    min_cost=get_minimum(starting_node, tuple(range(2,10)))\n",
    "    print(\"Miniumum cost: \",min_cost)\n",
    "    print('\\n\\nSolution to TSP: {1, ', end='')\n",
    "    \n",
    "    route.append(1) #append the starting node\n",
    "    \n",
    "    solution = p.pop()\n",
    "    print(solution[1][0], end=', ')\n",
    "    route.append(solution[1][0])\n",
    "    for x in range(n - 2):\n",
    "        for new_solution in p:\n",
    "            if tuple(solution[1]) == new_solution[0]:\n",
    "                solution = new_solution\n",
    "                print(solution[1][0], end=', ')\n",
    "                route.append(solution[1][0])\n",
    "                break\n",
    "    print('1}')\n",
    "    route.append(1)#append the ending node (same as starting node)\n",
    "#     print(route)\n",
    "    return route"
   ]
  },
  {
   "cell_type": "code",
   "execution_count": 116,
   "id": "b37a164c",
   "metadata": {},
   "outputs": [],
   "source": [
    "def get_minimum(k, a):\n",
    "    \"\"\"\n",
    "        Get the minimum cost\n",
    "    \"\"\"\n",
    "    if (k, a) in g:\n",
    "        # Already calculated Set g[%d, (%s)]=%d' % (k, str(a), g[k, a]))\n",
    "        return g[k, a]\n",
    "\n",
    "    values = []\n",
    "    all_min = []\n",
    "    for j in a:\n",
    "        set_a = copy.deepcopy(list(a))\n",
    "        set_a.remove(j)\n",
    "        all_min.append([j, tuple(set_a)])\n",
    "        result = get_minimum(j, tuple(set_a))\n",
    "        values.append(matrix[k-1][j-1] + result)\n",
    "\n",
    "    # get minimun value from set as optimal solution for\n",
    "    g[k, a] = min(values)\n",
    "    p.append(((k, a), all_min[values.index(g[k, a])]))\n",
    "\n",
    "    return g[k, a]\n"
   ]
  },
  {
   "cell_type": "code",
   "execution_count": 117,
   "id": "cb31c56e",
   "metadata": {},
   "outputs": [
    {
     "name": "stdout",
     "output_type": "stream",
     "text": [
      "Miniumum cost:  0.7661192774309632\n",
      "\n",
      "\n",
      "Solution to TSP: {1, 3, 7, 6, 9, 2, 4, 8, 5, 1}\n"
     ]
    }
   ],
   "source": [
    "if __name__ == '__main__':\n",
    "    route=main()"
   ]
  },
  {
   "cell_type": "code",
   "execution_count": 118,
   "id": "bc688222",
   "metadata": {},
   "outputs": [
    {
     "name": "stdout",
     "output_type": "stream",
     "text": [
      "0.7661192774309633\n"
     ]
    }
   ],
   "source": [
    "#cross-checking the total cost\n",
    "total_cost=0 #initialize total cost to 0\n",
    "for i in range(0,len(route)-1):\n",
    "    total_cost=total_cost+matrix[route[i]-1][route[i+1]-1]\n",
    "print(total_cost)"
   ]
  },
  {
   "cell_type": "code",
   "execution_count": 119,
   "id": "7234f93d",
   "metadata": {},
   "outputs": [
    {
     "name": "stdout",
     "output_type": "stream",
     "text": [
      "Boudhanath Stupa--->Pashupatinath Temple--->Garden of Dreams--->Thamel--->Kathmandu Durbar Square--->Swayambhunath Temple--->Chandragiri Hills--->Namo Buddha (Stupa)--->Kopan Monastery--->Boudhanath Stupa--->"
     ]
    }
   ],
   "source": [
    "for i in route:\n",
    "    print(top_n_dests.iloc[i-1][\"title\"],end='')\n",
    "    print(\"--->\",end='')"
   ]
  }
 ],
 "metadata": {
  "kernelspec": {
   "display_name": "Python 3 (ipykernel)",
   "language": "python",
   "name": "python3"
  },
  "language_info": {
   "codemirror_mode": {
    "name": "ipython",
    "version": 3
   },
   "file_extension": ".py",
   "mimetype": "text/x-python",
   "name": "python",
   "nbconvert_exporter": "python",
   "pygments_lexer": "ipython3",
   "version": "3.9.7"
  }
 },
 "nbformat": 4,
 "nbformat_minor": 5
}
