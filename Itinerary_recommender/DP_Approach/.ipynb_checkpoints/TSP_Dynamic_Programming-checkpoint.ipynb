{
 "cells": [
  {
   "cell_type": "markdown",
   "id": "c4eb9200",
   "metadata": {},
   "source": [
    "# Solving TSP with Dynamic Programming"
   ]
  },
  {
   "cell_type": "markdown",
   "id": "67278972",
   "metadata": {},
   "source": [
    "### Import the required libraries"
   ]
  },
  {
   "cell_type": "code",
   "execution_count": 85,
   "id": "b9545842",
   "metadata": {},
   "outputs": [],
   "source": [
    "import sys\n",
    "import copy"
   ]
  },
  {
   "cell_type": "code",
   "execution_count": 86,
   "id": "38256b4a",
   "metadata": {},
   "outputs": [],
   "source": [
    "# input matrix containing cost\n",
    "matrix = [\n",
    "            [0,          0.268188,   1.0861600,  0.284266,  2.1870300, 2.90507,  1.06443,    0.641625,   0.191624, 3.44142],\n",
    "            [0.1609330,      0,      0.6911510,  0.464564,  1.4049800, 1.96431,  0.168696,   0.654258,   1.41509,  2.98196],\n",
    "            [0.3580770,  0.379707,       0,      1.249930,  0.0821726, 0.408356, 1.74232,    2.37079,    2.95341,  3.90037],\n",
    "            [0.0818823,  0.223001,   1.0921200,     0,      2.1872100, 2.89526,  0.942284,   0.56915,    0.872503, 2.75427],\n",
    "            [0.3714430,  0.397651,   0.0423335,  1.289620,      0,     0.315516, 1.82914,    2.46966,    3.06793,  3.87276],\n",
    "            [0.4166200,  0.46945,    0.1776410,  1.441470,  0.2664210,      0,   2.15881,    2.82956,    3.44337,  3.90929],\n",
    "            [0.1427810,  0.0377101,  0.7089300,  0.438806,  1.4446600, 2.01924,     0,       0.526249,   1.24782,  3.13342],\n",
    "            [0.0799607,  0.135875,   0.8962080,  0.246239,  1.8121500, 2.45884,  0.488912,       0,      0.76215,  3.14592],\n",
    "            [0.0228630,  0.281361,   1.0688800,  0.361399,  2.1552200, 2.86474,  1.10989,    0.729676,       0,    3.6366],\n",
    "            [0.4020280,  0.580519,   1.3821200,  1.117020,  2.6638000, 3.18444,  2.72886,    2.94897,    3.56066,    0],\n",
    "]"
   ]
  },
  {
   "cell_type": "code",
   "execution_count": 87,
   "id": "7219ce6b",
   "metadata": {},
   "outputs": [],
   "source": [
    "# input data points\n",
    "data = [1, 2, 3, 4, 5, 6, 7, 8, 9, 10]"
   ]
  },
  {
   "cell_type": "code",
   "execution_count": 88,
   "id": "2a1eb248",
   "metadata": {},
   "outputs": [],
   "source": [
    "# initializing necessary parameters\n",
    "n = len(data)\n",
    "all_sets = []\n",
    "g = {}\n",
    "p = []"
   ]
  },
  {
   "cell_type": "code",
   "execution_count": 89,
   "id": "d876edf0",
   "metadata": {},
   "outputs": [],
   "source": [
    "def main():\n",
    "    \"\"\"\n",
    "        Main function\n",
    "    \"\"\"\n",
    "    for x in range(1, n):\n",
    "        g[x + 1, ()] = matrix[x][0]\n",
    "    \n",
    "    # minimum cost\n",
    "    min_cost=get_minimum(1, (2,3,4,5,6,7,8,9,10))\n",
    "    print(\"Miniumum \")\n",
    "    print('\\n\\nSolution to TSP: {1, ', end='')\n",
    "    solution = p.pop()\n",
    "    print(solution[1][0], end=', ')\n",
    "    for x in range(n - 2):\n",
    "        for new_solution in p:\n",
    "            if tuple(solution[1]) == new_solution[0]:\n",
    "                solution = new_solution\n",
    "                print(solution[1][0], end=', ')\n",
    "                break\n",
    "    print('1}')\n",
    "    return"
   ]
  },
  {
   "cell_type": "code",
   "execution_count": 90,
   "id": "b37a164c",
   "metadata": {},
   "outputs": [],
   "source": [
    "def get_minimum(k, a):\n",
    "    \"\"\"\n",
    "        Get the minimum cost\n",
    "    \"\"\"\n",
    "    if (k, a) in g:\n",
    "        # Already calculated Set g[%d, (%s)]=%d' % (k, str(a), g[k, a]))\n",
    "        return g[k, a]\n",
    "\n",
    "    values = []\n",
    "    all_min = []\n",
    "    for j in a:\n",
    "        set_a = copy.deepcopy(list(a))\n",
    "        set_a.remove(j)\n",
    "        all_min.append([j, tuple(set_a)])\n",
    "        result = get_minimum(j, tuple(set_a))\n",
    "        values.append(matrix[k-1][j-1] + result)\n",
    "\n",
    "    # get minimun value from set as optimal solution for\n",
    "    g[k, a] = min(values)\n",
    "    p.append(((k, a), all_min[values.index(g[k, a])]))\n",
    "\n",
    "    return g[k, a]\n"
   ]
  },
  {
   "cell_type": "code",
   "execution_count": 91,
   "id": "cb31c56e",
   "metadata": {},
   "outputs": [
    {
     "name": "stdout",
     "output_type": "stream",
     "text": [
      "\n",
      "\n",
      "Solution to TSP: {1, 9, 8, 4, 10, 2, 7, 3, 5, 6, 1}\n"
     ]
    }
   ],
   "source": [
    "if __name__ == '__main__':\n",
    "    main()"
   ]
  },
  {
   "cell_type": "code",
   "execution_count": null,
   "id": "08c495c4",
   "metadata": {},
   "outputs": [],
   "source": []
  },
  {
   "cell_type": "code",
   "execution_count": null,
   "id": "1c66342e",
   "metadata": {},
   "outputs": [],
   "source": []
  }
 ],
 "metadata": {
  "kernelspec": {
   "display_name": "Python 3 (ipykernel)",
   "language": "python",
   "name": "python3"
  },
  "language_info": {
   "codemirror_mode": {
    "name": "ipython",
    "version": 3
   },
   "file_extension": ".py",
   "mimetype": "text/x-python",
   "name": "python",
   "nbconvert_exporter": "python",
   "pygments_lexer": "ipython3",
   "version": "3.9.7"
  }
 },
 "nbformat": 4,
 "nbformat_minor": 5
}
