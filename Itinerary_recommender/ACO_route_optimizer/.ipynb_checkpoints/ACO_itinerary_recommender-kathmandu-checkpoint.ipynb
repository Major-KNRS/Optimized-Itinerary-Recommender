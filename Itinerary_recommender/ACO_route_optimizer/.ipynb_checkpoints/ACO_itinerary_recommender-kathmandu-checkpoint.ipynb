{
 "cells": [
  {
   "cell_type": "markdown",
   "metadata": {},
   "source": [
    "# Ant Colony Optimization based Itinerary Recommender\n",
    "\n",
    "## \"The title is pretty much self-explanatory. We will be following the ACO framework shown below:\""
   ]
  },
  {
   "cell_type": "markdown",
   "metadata": {},
   "source": [
    "###### ACO Framework \n",
    "\n",
    "% Create Graph\n",
    "\n",
    "% Draw Graph\n",
    "\n",
    "%% ACO algorithm\n",
    "\n",
    "    % Define Initial Parameters\n",
    "    \n",
    "    % Main loop\n",
    "    \n",
    "    for i = 1 to max_iter:\n",
    "        % Create ants\n",
    "        % Calculate fitness value of all ants\n",
    "        % Find the best ant \n",
    "        % Update the pheromone matrix\n",
    "        % Implement Evaporation\n",
    "        % Display results \n",
    "    end"
   ]
  },
  {
   "cell_type": "code",
   "execution_count": 1,
   "metadata": {},
   "outputs": [],
   "source": [
    "# Import the libraries \n",
    "\n",
    "import numpy as np \n",
    "import pandas as pd\n",
    "from matplotlib import pyplot as plt"
   ]
  },
  {
   "cell_type": "code",
   "execution_count": 2,
   "metadata": {},
   "outputs": [],
   "source": [
    "# Import the dataset\n",
    "top_dests_ktm=pd.read_csv(\"../../Datasets/destinations_of_kathmandu_updated_with_latlong.csv\")"
   ]
  },
  {
   "cell_type": "code",
   "execution_count": 3,
   "metadata": {},
   "outputs": [
    {
     "name": "stdout",
     "output_type": "stream",
     "text": [
      "                  title avg_rating  voted_by            genre    latitude  \\\n",
      "0      Boudhanath Stupa        4.5      8897  Religious Sites  27.7215062   \n",
      "1  Swayambhunath Temple        4.5      6203  Religious Sites  27.7149298   \n",
      "2  Pashupatinath Temple        4.5      4937  Religious Sites  27.7104461   \n",
      "3     Chandragiri Hills        4.5       399        Mountains  27.6710496   \n",
      "4       Kopan Monastery        4.5       787  Religious Sites  27.7425438   \n",
      "\n",
      "   longitude  \n",
      "0  85.359809  \n",
      "1  85.288146  \n",
      "2  85.346503  \n",
      "3  85.262664  \n",
      "4  85.362208  \n"
     ]
    }
   ],
   "source": [
    "print(top_dests_ktm.head())"
   ]
  },
  {
   "cell_type": "code",
   "execution_count": 4,
   "metadata": {},
   "outputs": [],
   "source": [
    "# select the first 95 destinations as they're the destinations having the latitude and longitude currently\n",
    "top_dests_ktm=top_dests_ktm[:95]"
   ]
  },
  {
   "cell_type": "code",
   "execution_count": 5,
   "metadata": {},
   "outputs": [
    {
     "name": "stdout",
     "output_type": "stream",
     "text": [
      "                         title avg_rating  voted_by  \\\n",
      "90     Ghanta Ghar Clock Tower        3.5        11   \n",
      "91  Jamchen Lhakhang Monastery        3.5         3   \n",
      "92                    Big Bell        3.5         9   \n",
      "93       Mrigasthali Deer Park          4         5   \n",
      "94            Universal Crafts          5         3   \n",
      "\n",
      "                              genre    latitude  longitude  \n",
      "90   Points of Interest & Landmarks   27.707477  85.314711  \n",
      "91                  Religious Sites  27.7215058  85.359192  \n",
      "92   Points of Interest & Landmarks  27.7268583  85.300625  \n",
      "93  Nature & Wildlife Areas • Parks   27.711512  85.349772  \n",
      "94    Art Galleries • Antique Shops  27.7173331  85.381252  \n"
     ]
    }
   ],
   "source": [
    "print(top_dests_ktm.tail())"
   ]
  },
  {
   "cell_type": "code",
   "execution_count": 6,
   "metadata": {
    "scrolled": true
   },
   "outputs": [
    {
     "name": "stdout",
     "output_type": "stream",
     "text": [
      "                         title    latitude  longitude\n",
      "0             Boudhanath Stupa  27.7215062  85.359809\n",
      "1         Swayambhunath Temple  27.7149298  85.288146\n",
      "2         Pashupatinath Temple  27.7104461  85.346503\n",
      "3            Chandragiri Hills  27.6710496  85.262664\n",
      "4              Kopan Monastery  27.7425438  85.362208\n",
      "..                         ...         ...        ...\n",
      "90     Ghanta Ghar Clock Tower   27.707477  85.314711\n",
      "91  Jamchen Lhakhang Monastery  27.7215058  85.359192\n",
      "92                    Big Bell  27.7268583  85.300625\n",
      "93       Mrigasthali Deer Park   27.711512  85.349772\n",
      "94            Universal Crafts  27.7173331  85.381252\n",
      "\n",
      "[95 rows x 3 columns]\n"
     ]
    }
   ],
   "source": [
    "# since we'll be dealing only with latitude and longitude at the moment\n",
    "# only filter those columns along with the title\n",
    "print(top_dests_ktm[['title','latitude','longitude']])"
   ]
  },
  {
   "cell_type": "code",
   "execution_count": null,
   "metadata": {},
   "outputs": [],
   "source": [
    "# # let's plot the graph again \n",
    "# %matplotlib inline \n",
    "# plt.figure(figsize=(12,12)) \n",
    "\n",
    "# for lat,long in zip(top_dests_ktm['latitude'],top_dests_ktm['longitude']):\n",
    "    \n",
    "#     for another_lat,another_long in zip(top_dests_ktm['latitude'],top_dests_ktm['longitude']):\n",
    "        \n",
    "#         # create a list holding the two latitude\n",
    "#         lat_list=[lat,another_lat]\n",
    "#         # also create a list holding the two longitudes \n",
    "#         long_list=[long,another_long]\n",
    "#         plt.plot(lat_list,long_list,color='blue', marker='o', linestyle='solid',linewidth=2, markersize=8,mfc = 'white')\n",
    "# #     plt.plot(lat_list,top_n_dests['longitude'],color='blue', marker='o', linestyle='solid',linewidth=2, markersize=8,mfc = 'white')\n",
    "\n",
    "# for title,x,y in zip(top_dests_ktm['title'],top_dests_ktm['latitude'],top_dests_ktm['longitude']):\n",
    "\n",
    "#     label = \"{}\".format(title)\n",
    "\n",
    "#     plt.annotate(label, # this is the text\n",
    "#                  (x,y), # these are the coordinates to position the label\n",
    "#                  textcoords=\"offset points\", # how to position the text\n",
    "#                  xytext=(0,10), # distance from text to points (x,y)\n",
    "#                  ha='center') # horizontal alignment can be left, right or center\n",
    "# plt.show()"
   ]
  },
  {
   "cell_type": "code",
   "execution_count": null,
   "metadata": {},
   "outputs": [],
   "source": [
    "# let's just pick n=10 for now for better visualization\n",
    "n=95 #graph size\n",
    "top_n_dests=top_dests_ktm[:n]\n",
    "print(top_n_dests)\n",
    "\n",
    "# define a starting point \n",
    "starting_point=0"
   ]
  },
  {
   "cell_type": "code",
   "execution_count": null,
   "metadata": {},
   "outputs": [],
   "source": [
    "# remove the duplicate entry\n",
    "\n",
    "print(len(top_n_dests['latitude'].unique()))\n",
    "print(len(top_n_dests['longitude'].unique()))\n",
    "\n",
    "#print out the duplicated latitude,longitude\n",
    "duplicate_lat_long = top_n_dests[top_n_dests.duplicated(['latitude','longitude'])]\n",
    "print(duplicate_lat_long)\n",
    "\n",
    "print(top_n_dests[top_n_dests['latitude']=='27.7154575'])"
   ]
  },
  {
   "cell_type": "code",
   "execution_count": null,
   "metadata": {
    "scrolled": true
   },
   "outputs": [],
   "source": [
    "def plot_graph(ax,fig):\n",
    "    \"\"\"\n",
    "        Function to plot the graph of matrix for every edge between the given nodes\n",
    "    \"\"\"\n",
    "\n",
    "    for lat,long in zip(top_n_dests['latitude'],top_n_dests['longitude']):\n",
    "        for another_lat,another_long in zip(top_n_dests['latitude'],top_n_dests['longitude']):\n",
    "\n",
    "            # create a list holding the two latitude\n",
    "            lat_list=[lat,another_lat]\n",
    "            # also create a list holding the two longitudes \n",
    "            long_list=[long,another_long]\n",
    "\n",
    "            ax.plot(lat_list,long_list,color='blue', marker='o', linestyle='solid',linewidth=2, markersize=8,mfc = 'white')\n",
    "            #     plt.plot(lat_list,top_n_dests['longitude'],color='blue', marker='o', linestyle='solid',linewidth=2, markersize=8,mfc = 'white')\n",
    "            fig.canvas.draw()\n",
    "            \n",
    "    #adding label to each node\n",
    "    for title,x,y in zip(top_n_dests['title'],top_n_dests['latitude'],top_n_dests['longitude']):\n",
    "\n",
    "        label = \"{}\".format(title)\n",
    "\n",
    "        ax.annotate(label, # this is the text\n",
    "                     (x,y), # these are the coordinates to position the label\n",
    "                     textcoords=\"offset points\", # how to position the text\n",
    "                     xytext=(-5,5), # distance from text to points (x,y)\n",
    "                     ha='center') # horizontal alignment can be left, right or center\n",
    "\n"
   ]
  },
  {
   "cell_type": "code",
   "execution_count": null,
   "metadata": {},
   "outputs": [],
   "source": [
    "# also meanwhile let's create a matrix called 'graph' to store the weights for each edges\n",
    "graph=np.zeros((n,n))\n",
    "\n",
    "def create_graph():\n",
    "\n",
    "    # iterators to iterate through the graph\n",
    "    i=0\n",
    "    j=0\n",
    "\n",
    "    for lat,long in zip(top_n_dests['latitude'].astype(float),top_n_dests['longitude'].astype(float)):\n",
    "        j=0\n",
    "        for another_lat,another_long in zip(top_n_dests['latitude'].astype(float),top_n_dests['longitude'].astype(float)):\n",
    "            #edge weight(Euclidean distance)\n",
    "            distance_between_the_places=np.sqrt((lat-another_lat)**2+(long-another_long)**2)\n",
    "            #print(distance_between_the_places)\n",
    "\n",
    "            #and store it in the 'graph' matrix\n",
    "            graph[i][j]=distance_between_the_places\n",
    "            #increment j \n",
    "            j+=1\n",
    "\n",
    "        #increment i\n",
    "        i+=1"
   ]
  },
  {
   "cell_type": "code",
   "execution_count": null,
   "metadata": {},
   "outputs": [],
   "source": [
    "create_graph()\n",
    "print(graph)"
   ]
  },
  {
   "cell_type": "code",
   "execution_count": null,
   "metadata": {},
   "outputs": [],
   "source": [
    "# Define the initial parameters of ACO\n",
    "max_iter=100 #max no of iterations\n",
    "ant_no=10 #number of ants \n",
    "\n",
    "#initial pheromone concentration\n",
    "tau_0=10*1/(n*np.mean(graph))\n",
    "\n",
    "#initial pheromone matrix\n",
    "tau = tau_0*np.ones((n,n))\n",
    "print(\"Initial pheromone matrix (Tau):\")\n",
    "print(tau)\n",
    "\n",
    "#desirability/quality of each edge,eta\n",
    "eta=1/graph #inverse of cost (distance)\n",
    "print(\"Desirability matrix (Eta):\")\n",
    "print(eta)\n",
    "\n",
    "rho=0.05 #evaporation rate\n",
    "alpha=2 #pheromone exponential parameter\n",
    "beta=1 #edge desirabiltu/quality exponential parameter\n"
   ]
  },
  {
   "cell_type": "code",
   "execution_count": null,
   "metadata": {},
   "outputs": [],
   "source": [
    "print(tau[2,:]**alpha)"
   ]
  },
  {
   "cell_type": "code",
   "execution_count": null,
   "metadata": {},
   "outputs": [],
   "source": [
    "print(eta[2,:]**beta)"
   ]
  },
  {
   "cell_type": "markdown",
   "metadata": {},
   "source": [
    "## Now moving on to the main loop of ACO"
   ]
  },
  {
   "cell_type": "code",
   "execution_count": null,
   "metadata": {},
   "outputs": [],
   "source": [
    "# defining a function to create the ant colony \n",
    "def create_colony(graph,node_no,ant_no,tau,eta,alpha,beta,initial_node):\n",
    "    \"\"\"\n",
    "        creates an ant colony\n",
    "    \"\"\"\n",
    "    # create a list called 'colony'\n",
    "    # inside it, there will be ants ( represented by the indices)\n",
    "    # each position contains other list called 'tour' that contains\n",
    "    # the tour completed by each ant\n",
    "    colony=[[] for _ in range(ant_no)] #size of the colony=no of ants\n",
    "    \n",
    "    # Run iterations equal to the number of ants \n",
    "    for i in range(ant_no):\n",
    "        \n",
    "        # define the initial node\n",
    "        # we should take it as a parameter actually \n",
    "        # but let's take it random for now\n",
    "        # initial_node=np.random.randint(0,node_no)\n",
    "        \n",
    "        # nope we changed our mind \n",
    "        initial_node=initial_node\n",
    "        colony[i].append(initial_node)\n",
    "        \n",
    "        print(colony)\n",
    "        \n",
    "        for j in range(node_no-1):\n",
    "            #to choose the rest of the nodes\n",
    "            \n",
    "            #current node is the last node in the list\n",
    "            current_node=int(colony[i][-1])\n",
    "#             print(\"current node:\",current_node)\n",
    "            \n",
    "            #use the following formula to calculate the probability \n",
    "            p_all_nodes=(tau[current_node,:]**alpha)*(eta[current_node,:]**beta)\n",
    "#             print(\"Prob:\",p_all_nodes)\n",
    "            \n",
    "            #make the probability of the visited nodes 0\n",
    "#             print(\"colony:\",colony)\n",
    "            for node in colony[i]:\n",
    "                p_all_nodes[node]=0\n",
    "                \n",
    "            #calculate the final probability\n",
    "            p=p_all_nodes/np.sum(p_all_nodes)\n",
    "#             print(\"Sum prob:\",np.sum(p_all_nodes))\n",
    "#             print(\"final prob:\",p)\n",
    "            \n",
    "            #Note: 'p'is a vector having size (1,node_no)   \n",
    "#             print(\"probability vector:\",p)\n",
    "            \n",
    "            #select the next node based on roulette wheel\n",
    "            next_node=roulette_wheel(p)\n",
    "            \n",
    "            #append next node to the tour \n",
    "            #made by the ant in the colony\n",
    "            colony[i].append(next_node)\n",
    "            \n",
    "        # to complete the tour, \n",
    "        # add the initial node to the end as well\n",
    "        \n",
    "        colony[i].append(initial_node)\n",
    "    return colony"
   ]
  },
  {
   "cell_type": "code",
   "execution_count": null,
   "metadata": {},
   "outputs": [],
   "source": [
    "# let's implement the roulette wheel function\n",
    "def roulette_wheel(prob_vec):\n",
    "    \"\"\"\n",
    "        Selects the next node based on \n",
    "        the cumulative sum of the probabilities \n",
    "        in the probability vector\n",
    "    \"\"\"\n",
    "    #cumulative version of the prob_vec (p)\n",
    "    \n",
    "    cum_sum_p=np.cumsum(prob_vec)\n",
    "    \n",
    "    #choose a random value from 0 to 1\n",
    "    random_val=np.random.rand()\n",
    "#     print(\"random value:\",random_val)\n",
    "    \n",
    "    #choose the first index as next_node in the probability vector\n",
    "    #that has value more or equal to the random_val\n",
    "    \n",
    "#     print(\"cum sum:\",cum_sum_p)\n",
    "    \n",
    "    next_node = np.argwhere(cum_sum_p>=random_val)[0][0]\n",
    "    \n",
    "    #return the next_node\n",
    "    return next_node\n",
    "    "
   ]
  },
  {
   "cell_type": "markdown",
   "metadata": {},
   "source": [
    "### Now. let's define a function that calculates the fitness value of the route calculated"
   ]
  },
  {
   "cell_type": "code",
   "execution_count": null,
   "metadata": {},
   "outputs": [],
   "source": [
    "def fitness_function(tour,graph):\n",
    "    \"\"\"\n",
    "        calculates the fitness of the tour\n",
    "        > basically, it's the sum of cost of all edges\n",
    "        in the tour.\n",
    "    \"\"\"\n",
    "    fitness=0\n",
    "    \n",
    "    for i in range(len(tour)-1):\n",
    "        \n",
    "        current_node=tour[i] # current node\n",
    "        next_node=tour[i+1] # next node\n",
    "        \n",
    "        # add the cost of current edge (current_node->next_node)\n",
    "        # to the overall fitness\n",
    "        \n",
    "        fitness = fitness + graph[current_node][next_node]\n",
    "        \n",
    "    return fitness"
   ]
  },
  {
   "cell_type": "markdown",
   "metadata": {},
   "source": [
    "### And a function to draw Pheromone graph"
   ]
  },
  {
   "cell_type": "code",
   "execution_count": null,
   "metadata": {},
   "outputs": [],
   "source": [
    "def draw_pheromone(ax,fig,tau,graph):\n",
    "    \"\"\"\n",
    "        Draws pheromone graph\n",
    "    \"\"\"\n",
    "    ax.clear()\n",
    "\n",
    "    # Maximum value of pheromone\n",
    "    max_tau=np.max(tau)\n",
    "    # Minimum value of pheromone\n",
    "    min_tau=np.min(tau)\n",
    "    \n",
    "    # Normalize the tau matrix\n",
    "    tau_normalized = (tau - min_tau)/(max_tau - min_tau)\n",
    "    for lat,long,i in zip(top_n_dests['latitude'],top_n_dests['longitude'],range(len(graph))):\n",
    "        for another_lat,another_long,j in zip(top_n_dests['latitude'],top_n_dests['longitude'],range(len(graph))):\n",
    "\n",
    "            # create a list holding the two latitude\n",
    "            lat_list=[lat,another_lat]\n",
    "            # also create a list holding the two longitudes \n",
    "            long_list=[long,another_long]\n",
    "            ax.plot(lat_list,long_list,color=(0,0,1-tau_normalized[i][j]), marker='o', linestyle='solid',linewidth=10*tau_normalized[i][j]+0.5, markersize=8,mfc = 'white')\n",
    "            fig.canvas.draw()\n",
    "            fig.canvas.flush_events()\n",
    "\n",
    "    \n",
    "    for title,x,y in zip(top_n_dests['title'],top_n_dests['latitude'],top_n_dests['longitude']):\n",
    "        label = \"{}\".format(title)\n",
    "        ax.annotate(label, # this is the text\n",
    "                 (x,y), # these are the coordinates to position the label\n",
    "                 textcoords=\"offset points\", # how to position the text\n",
    "                 xytext=(-5,5), # distance from text to points (x,y)\n",
    "                 ha='center') # horizontal alignment can be left, right or center\n",
    "    \n",
    "            "
   ]
  },
  {
   "cell_type": "markdown",
   "metadata": {},
   "source": [
    "### Also, a function to draw the best tour "
   ]
  },
  {
   "cell_type": "code",
   "execution_count": null,
   "metadata": {},
   "outputs": [],
   "source": [
    "def draw_best_tour(ax,fig,best_tour,graph):\n",
    "    \"\"\"\n",
    "        function to draw the best tour\n",
    "    \"\"\"\n",
    "    ax.clear()\n",
    "\n",
    "    for i in range(len(best_tour)-1):\n",
    "        #extract the current node and the next node\n",
    "        current_node=best_tour[i]\n",
    "        next_node=best_tour[i+1]\n",
    "        \n",
    "        #draw a line between current node and next node\n",
    "        \n",
    "        #latitude and longitude of the current node\n",
    "        lat_current,long_current=top_n_dests.iloc[current_node]['latitude'],top_n_dests.iloc[current_node]['longitude']\n",
    "        \n",
    "        #latitude and longitude of the next node\n",
    "        lat_next,long_next=top_n_dests.iloc[next_node]['latitude'],top_n_dests.iloc[next_node]['longitude']\n",
    "        \n",
    "        lat_list=[lat_current,lat_next]\n",
    "        long_list=[long_current,long_next]\n",
    "        \n",
    "        plt.plot(lat_list,long_list,color='green', marker='o', linestyle='solid',linewidth=2, markersize=8,mfc = 'white')\n",
    "        fig.canvas.draw()\n",
    "        fig.canvas.flush_events()\n",
    "\n",
    "        \n",
    "    #for annotation\n",
    "    for title,x,y in zip(top_n_dests['title'],top_n_dests['latitude'],top_n_dests['longitude']):\n",
    "        label = \"{}\".format(title)\n",
    "        \n",
    "        ax.annotate(label, # this is the text\n",
    "                 (x,y), # these are the coordinates to position the label\n",
    "                 textcoords=\"offset points\", # how to position the text\n",
    "                 xytext=(-5,5), # distance from text to points (x,y)\n",
    "                 ha='center') # horizontal alignment can be left, right or center"
   ]
  },
  {
   "cell_type": "markdown",
   "metadata": {},
   "source": [
    "### Also , a function to update the pheromone matrix"
   ]
  },
  {
   "cell_type": "code",
   "execution_count": null,
   "metadata": {},
   "outputs": [],
   "source": [
    "def update_pheromone(tau,colony,fitness_list):\n",
    "    \"\"\"\n",
    "        function to update the pheromone matrix\n",
    "    \"\"\"\n",
    "    node_no=len(colony[1])\n",
    "    ant_no=len(colony)\n",
    "    \n",
    "    for i in range(ant_no):\n",
    "        # for each ant\n",
    "        for j in range(node_no-1):\n",
    "            # for each node in the tour \n",
    "            current_node=colony[i][j]\n",
    "            next_node=colony[i][j+1]\n",
    "            \n",
    "            tau[current_node,next_node]=tau[current_node,next_node]+1/fitness_list[i]\n",
    "            tau[next_node,current_node]=tau[next_node,current_node]+1/fitness_list[i]\n",
    "    \n",
    "    return tau"
   ]
  },
  {
   "cell_type": "markdown",
   "metadata": {},
   "source": [
    "## Main ACO loop "
   ]
  },
  {
   "cell_type": "code",
   "execution_count": null,
   "metadata": {
    "scrolled": true
   },
   "outputs": [],
   "source": [
    "# Main loop\n",
    "\n",
    "best_fitness=np.inf\n",
    "best_tour=[]\n",
    "\n",
    "# %matplotlib notebook\n",
    "\n",
    "# fig = plt.figure(figsize=(10,10))\n",
    "# ax1 = fig.add_subplot(131)\n",
    "# ax2 = fig.add_subplot(132)\n",
    "# ax3 = fig.add_subplot(133)\n",
    "\n",
    "# ax1.title.set_text('Initial Mesh')\n",
    "# ax2.title.set_text('Pheromone Graph Plot')\n",
    "# ax3.title.set_text('Best Tour Plot')\n",
    "# plt.ion()\n",
    "\n",
    "# # plt.title(\"Pheromone graph plot:\")\n",
    "# fig.show()\n",
    "# fig.canvas.draw()\n",
    "\n",
    "#let's draw the initial graph (mesh) first\n",
    "# plot_graph(ax1,fig)\n",
    "\n",
    "for i in range(max_iter):\n",
    "    # create ant colony\n",
    "    colony=[] # store it as a list\n",
    "    colony=create_colony(graph,n,ant_no,tau,eta,alpha,beta,starting_point)\n",
    "    print(f\"Iteration #{i}:\")\n",
    "#     print(colony)\n",
    "    \n",
    "    # initializing fitness_list\n",
    "    fitness_list=[0]*ant_no\n",
    "    \n",
    "    # calculate the fitness value of all ants\n",
    "    for ant_i in range(ant_no):\n",
    "        fitness_list[ant_i]=fitness_function(colony[ant_i],graph)\n",
    "        \n",
    "#     print(fitness_list)\n",
    "    \n",
    "    # find the best ant \n",
    "    min_value=np.min(fitness_list)\n",
    "    min_index=np.argmin(fitness_list) #best ant\n",
    "    \n",
    "    if min_value<best_fitness:\n",
    "        # replace best_fitness even smaller min_value is found\n",
    "        best_fitness=min_value\n",
    "        best_tour=colony[min_index] #tour of the best ant\n",
    "        \n",
    "    print(\"Best fitness: \",best_fitness)\n",
    "    print(\"Best tour: \",best_tour)\n",
    "    \n",
    "    # update phermone matrix\n",
    "    tau=update_pheromone(tau,colony,fitness_list)\n",
    "    \n",
    "    # print(\"Updated pheromone matrix:\",tau)\n",
    "    \n",
    "    # apply evaporation\n",
    "    tau=(1-rho)*tau\n",
    "    \n",
    "    # print(\"Updated pheromone matrix:\",tau)\n",
    "    \n",
    "    # plot the pheromone graph\n",
    "    # draw_pheromone(ax2,fig,tau,graph)\n",
    "    \n",
    "    # plot the best tour\n",
    "    # draw_best_tour(ax3,fig,best_tour,graph)\n",
    "\n",
    "#     plt.subplot(1,3,1)\n",
    "#     %matplotlib tk\n",
    "#     plt.figure(1)\n",
    "    \n",
    "#     draw_pheromone(tau,graph)\n",
    "\n",
    "    \n",
    "    \n",
    "# drawing the best tour plot \n",
    "# draw_best_tour(ax3,fig,best_tour,graph)\n",
    "\n",
    "# drawing end pheromone graph\n",
    "# draw_pheromone(ax2,fig,tau,graph)\n",
    "\n",
    "# display the names of destinations in the last tour\n",
    "print(\"Best tour obtained:\")\n",
    "print(best_tour)\n",
    "for i in best_tour:\n",
    "    print(top_n_dests.iloc[i][\"title\"],end='')\n",
    "    print(\"--->\",end='')"
   ]
  },
  {
   "cell_type": "code",
   "execution_count": null,
   "metadata": {},
   "outputs": [],
   "source": [
    "# plt.savefig('sample.png')"
   ]
  },
  {
   "cell_type": "code",
   "execution_count": null,
   "metadata": {},
   "outputs": [],
   "source": []
  }
 ],
 "metadata": {
  "kernelspec": {
   "display_name": "Python 3",
   "language": "python",
   "name": "python3"
  },
  "language_info": {
   "codemirror_mode": {
    "name": "ipython",
    "version": 3
   },
   "file_extension": ".py",
   "mimetype": "text/x-python",
   "name": "python",
   "nbconvert_exporter": "python",
   "pygments_lexer": "ipython3",
   "version": "3.8.10"
  }
 },
 "nbformat": 4,
 "nbformat_minor": 5
}
