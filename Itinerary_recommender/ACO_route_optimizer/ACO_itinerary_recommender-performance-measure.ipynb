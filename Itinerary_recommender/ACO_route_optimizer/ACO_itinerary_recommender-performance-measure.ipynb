{
 "cells": [
  {
   "cell_type": "markdown",
   "id": "1a7dd05c",
   "metadata": {},
   "source": [
    "# Ant Colony Optimization based Itinerary Recommender\n",
    "\n",
    "## \"The title is pretty much self-explanatory. We will be following the ACO framework shown below:\""
   ]
  },
  {
   "cell_type": "markdown",
   "id": "59d657b3",
   "metadata": {},
   "source": [
    "###### ACO Framework \n",
    "\n",
    "% Create Graph\n",
    "\n",
    "% Draw Graph\n",
    "\n",
    "%% ACO algorithm\n",
    "\n",
    "    % Define Initial Parameters\n",
    "    \n",
    "    % Main loop\n",
    "    \n",
    "    for i = 1 to max_iter:\n",
    "        % Create ants\n",
    "        % Calculate fitness value of all ants\n",
    "        % Find the best ant \n",
    "        % Update the pheromone matrix\n",
    "        % Implement Evaporation\n",
    "        % Display results \n",
    "    end"
   ]
  },
  {
   "cell_type": "code",
   "execution_count": 24,
   "id": "95e2c120",
   "metadata": {},
   "outputs": [],
   "source": [
    "# Import the libraries \n",
    "\n",
    "import numpy as np \n",
    "import pandas as pd\n",
    "from matplotlib import pyplot as plt"
   ]
  },
  {
   "cell_type": "code",
   "execution_count": 25,
   "id": "acf03461",
   "metadata": {},
   "outputs": [],
   "source": [
    "# Import the dataset\n",
    "top_dests=pd.read_csv(\"../../Datasets/final-ish_destinations_of_ktm.csv\")"
   ]
  },
  {
   "cell_type": "code",
   "execution_count": 26,
   "id": "177ab9f5",
   "metadata": {},
   "outputs": [
    {
     "name": "stdout",
     "output_type": "stream",
     "text": [
      "   dest_id                 title                                   genre  \\\n",
      "0        1      Boudhanath Stupa  history:art_and_architecture:religious   \n",
      "1        2  Swayambhunath Temple  history:art_and_architecture:religious   \n",
      "2        3  Pashupatinath Temple  history:art_and_architecture:religious   \n",
      "3        4     Chandragiri Hills                                  nature   \n",
      "4        5       Kopan Monastery  history:art_and_architecture:religious   \n",
      "\n",
      "     latitude  longitude  \n",
      "0  27.7215062  85.359809  \n",
      "1  27.7149298  85.288146  \n",
      "2  27.7104461  85.346503  \n",
      "3  27.6710496  85.262664  \n",
      "4  27.7425438  85.362208  \n"
     ]
    }
   ],
   "source": [
    "print(top_dests.head())"
   ]
  },
  {
   "cell_type": "code",
   "execution_count": 27,
   "id": "d9c1e907",
   "metadata": {},
   "outputs": [],
   "source": [
    "# select the first 200 destinations as they're the destinations having the latitude and longitude currently\n",
    "top_dests=top_dests[:200]"
   ]
  },
  {
   "cell_type": "code",
   "execution_count": 28,
   "id": "e3bcab8b",
   "metadata": {},
   "outputs": [
    {
     "name": "stdout",
     "output_type": "stream",
     "text": [
      "     dest_id                                title  \\\n",
      "195      196              Travel Maker South Asia   \n",
      "196      197  Nepal Alibaba Treks & Tours Pvt Ltd   \n",
      "197      198                  Alpine Ramble Treks   \n",
      "198      199      Info Nepal Treks and Expedition   \n",
      "199      200          Epic Adventures - Day Tours   \n",
      "\n",
      "                                          genre latitude  longitude  \n",
      "195              art_and_architecture:religious      NaN        NaN  \n",
      "196                                     history      NaN        NaN  \n",
      "197                                     history      NaN        NaN  \n",
      "198  history:art_and_architecture:entertainment      NaN        NaN  \n",
      "199              art_and_architecture:religious      NaN        NaN  \n"
     ]
    }
   ],
   "source": [
    "print(top_dests.tail())"
   ]
  },
  {
   "cell_type": "code",
   "execution_count": 6,
   "id": "7d8801ea",
   "metadata": {
    "scrolled": true
   },
   "outputs": [
    {
     "name": "stdout",
     "output_type": "stream",
     "text": [
      "                                   title    latitude  longitude\n",
      "0                       Boudhanath Stupa  27.7215062  85.359809\n",
      "1                   Swayambhunath Temple  27.7149298  85.288146\n",
      "2                   Pashupatinath Temple  27.7104461  85.346503\n",
      "3                      Chandragiri Hills  27.6710496  85.262664\n",
      "4                        Kopan Monastery  27.7425438  85.362208\n",
      "..                                   ...         ...        ...\n",
      "195              Travel Maker South Asia         NaN        NaN\n",
      "196  Nepal Alibaba Treks & Tours Pvt Ltd         NaN        NaN\n",
      "197                  Alpine Ramble Treks         NaN        NaN\n",
      "198      Info Nepal Treks and Expedition         NaN        NaN\n",
      "199          Epic Adventures - Day Tours         NaN        NaN\n",
      "\n",
      "[200 rows x 3 columns]\n"
     ]
    }
   ],
   "source": [
    "# since we'll be dealing only with latitude and longitude at the moment\n",
    "# only filter those columns along with the title\n",
    "print(top_dests[['title','latitude','longitude']])"
   ]
  },
  {
   "cell_type": "code",
   "execution_count": 7,
   "id": "5b7a1c87",
   "metadata": {},
   "outputs": [],
   "source": [
    "# # let's plot the graph again \n",
    "# %matplotlib inline \n",
    "# plt.figure(figsize=(12,12)) \n",
    "\n",
    "# for lat,long in zip(top_dests['latitude'],top_dests['longitude']):\n",
    "    \n",
    "#     for another_lat,another_long in zip(top_dests['latitude'],top_dests['longitude']):\n",
    "        \n",
    "#         # create a list holding the two latitude\n",
    "#         lat_list=[lat,another_lat]\n",
    "#         # also create a list holding the two longitudes \n",
    "#         long_list=[long,another_long]\n",
    "#         plt.plot(lat_list,long_list,color='blue', marker='o', linestyle='solid',linewidth=2, markersize=8,mfc = 'white')\n",
    "# #     plt.plot(lat_list,top_n_dests['longitude'],color='blue', marker='o', linestyle='solid',linewidth=2, markersize=8,mfc = 'white')\n",
    "\n",
    "# for title,x,y in zip(top_dests['title'],top_dests['latitude'],top_dests['longitude']):\n",
    "\n",
    "#     label = \"{}\".format(title)\n",
    "\n",
    "#     plt.annotate(label, # this is the text\n",
    "#                  (x,y), # these are the coordinates to position the label\n",
    "#                  textcoords=\"offset points\", # how to position the text\n",
    "#                  xytext=(0,10), # distance from text to points (x,y)\n",
    "#                  ha='center') # horizontal alignment can be left, right or center\n",
    "# plt.show()"
   ]
  },
  {
   "cell_type": "code",
   "execution_count": 8,
   "id": "f94bc9e5",
   "metadata": {},
   "outputs": [
    {
     "name": "stdout",
     "output_type": "stream",
     "text": [
      "     dest_id                                title  \\\n",
      "0          1                     Boudhanath Stupa   \n",
      "1          2                 Swayambhunath Temple   \n",
      "2          3                 Pashupatinath Temple   \n",
      "3          4                    Chandragiri Hills   \n",
      "4          5                      Kopan Monastery   \n",
      "..       ...                                  ...   \n",
      "195      196              Travel Maker South Asia   \n",
      "196      197  Nepal Alibaba Treks & Tours Pvt Ltd   \n",
      "197      198                  Alpine Ramble Treks   \n",
      "198      199      Info Nepal Treks and Expedition   \n",
      "199      200          Epic Adventures - Day Tours   \n",
      "\n",
      "                                          genre    latitude  longitude  \n",
      "0        history:art_and_architecture:religious  27.7215062  85.359809  \n",
      "1        history:art_and_architecture:religious  27.7149298  85.288146  \n",
      "2        history:art_and_architecture:religious  27.7104461  85.346503  \n",
      "3                                        nature  27.6710496  85.262664  \n",
      "4        history:art_and_architecture:religious  27.7425438  85.362208  \n",
      "..                                          ...         ...        ...  \n",
      "195              art_and_architecture:religious         NaN        NaN  \n",
      "196                                     history         NaN        NaN  \n",
      "197                                     history         NaN        NaN  \n",
      "198  history:art_and_architecture:entertainment         NaN        NaN  \n",
      "199              art_and_architecture:religious         NaN        NaN  \n",
      "\n",
      "[200 rows x 5 columns]\n"
     ]
    }
   ],
   "source": [
    "# let's just pick n=500 \n",
    "n=200 #graph size\n",
    "top_n_dests=top_dests[:n]\n",
    "print(top_n_dests)\n",
    "\n",
    "# define a starting point \n",
    "starting_point=0"
   ]
  },
  {
   "cell_type": "code",
   "execution_count": 9,
   "id": "d26024f5",
   "metadata": {},
   "outputs": [
    {
     "name": "stdout",
     "output_type": "stream",
     "text": [
      "96\n",
      "96\n",
      "     dest_id                                title  \\\n",
      "96        97                       Casino Everest   \n",
      "97        98              Maju Dega Mandir Temple   \n",
      "98        99                           Gauri Gaht   \n",
      "99       100        Monasterio Tibetano Boudhanat   \n",
      "100      101                   Kalikasthan Temple   \n",
      "..       ...                                  ...   \n",
      "195      196              Travel Maker South Asia   \n",
      "196      197  Nepal Alibaba Treks & Tours Pvt Ltd   \n",
      "197      198                  Alpine Ramble Treks   \n",
      "198      199      Info Nepal Treks and Expedition   \n",
      "199      200          Epic Adventures - Day Tours   \n",
      "\n",
      "                                          genre latitude  longitude  \n",
      "96                                entertainment      NaN        NaN  \n",
      "97                 history:art_and_architecture      NaN        NaN  \n",
      "98          history:art_and_architecture:nature      NaN        NaN  \n",
      "99       history:art_and_architecture:religious      NaN        NaN  \n",
      "100      history:art_and_architecture:religious      NaN        NaN  \n",
      "..                                          ...      ...        ...  \n",
      "195              art_and_architecture:religious      NaN        NaN  \n",
      "196                                     history      NaN        NaN  \n",
      "197                                     history      NaN        NaN  \n",
      "198  history:art_and_architecture:entertainment      NaN        NaN  \n",
      "199              art_and_architecture:religious      NaN        NaN  \n",
      "\n",
      "[104 rows x 5 columns]\n",
      "    dest_id              title                                   genre  \\\n",
      "75       76  Woodcraft Gallery  history:art_and_architecture:religious   \n",
      "\n",
      "      latitude  longitude  \n",
      "75  27.7154575  85.306667  \n"
     ]
    }
   ],
   "source": [
    "# remove the duplicate entry\n",
    "\n",
    "print(len(top_n_dests['latitude'].unique()))\n",
    "print(len(top_n_dests['longitude'].unique()))\n",
    "\n",
    "#print out the duplicated latitude,longitude\n",
    "duplicate_lat_long = top_n_dests[top_n_dests.duplicated(['latitude','longitude'])]\n",
    "print(duplicate_lat_long)\n",
    "\n",
    "# print(top_n_dests[top_n_dests['latitude']=='27.7154575'])"
   ]
  },
  {
   "cell_type": "code",
   "execution_count": 10,
   "id": "16a94249",
   "metadata": {
    "scrolled": true
   },
   "outputs": [],
   "source": [
    "def plot_graph(ax,fig):\n",
    "    \"\"\"\n",
    "        Function to plot the graph of matrix for every edge between the given nodes\n",
    "    \"\"\"\n",
    "\n",
    "    for lat,long in zip(top_n_dests['latitude'],top_n_dests['longitude']):\n",
    "        for another_lat,another_long in zip(top_n_dests['latitude'],top_n_dests['longitude']):\n",
    "\n",
    "            # create a list holding the two latitude\n",
    "            lat_list=[lat,another_lat]\n",
    "            # also create a list holding the two longitudes \n",
    "            long_list=[long,another_long]\n",
    "\n",
    "            ax.plot(lat_list,long_list,color='blue', marker='o', linestyle='solid',linewidth=2, markersize=8,mfc = 'white')\n",
    "            #     plt.plot(lat_list,top_n_dests['longitude'],color='blue', marker='o', linestyle='solid',linewidth=2, markersize=8,mfc = 'white')\n",
    "            fig.canvas.draw()\n",
    "            \n",
    "    #adding label to each node\n",
    "    for title,x,y in zip(top_n_dests['title'],top_n_dests['latitude'],top_n_dests['longitude']):\n",
    "\n",
    "        label = \"{}\".format(title)\n",
    "\n",
    "        ax.annotate(label, # this is the text\n",
    "                     (x,y), # these are the coordinates to position the label\n",
    "                     textcoords=\"offset points\", # how to position the text\n",
    "                     xytext=(-5,5), # distance from text to points (x,y)\n",
    "                     ha='center') # horizontal alignment can be left, right or center\n",
    "\n"
   ]
  },
  {
   "cell_type": "code",
   "execution_count": 11,
   "id": "f02e8fc2",
   "metadata": {},
   "outputs": [],
   "source": [
    "# also meanwhile let's create a matrix called 'graph' to store the weights for each edges\n",
    "graph=np.zeros((n,n))\n",
    "\n",
    "# \n",
    "def create_graph():\n",
    "\n",
    "    # iterators to iterate through the graph\n",
    "    i=0\n",
    "    j=0\n",
    "\n",
    "    for lat,long in zip(top_n_dests['latitude'].astype(float),top_n_dests['longitude'].astype(float)):\n",
    "        j=0\n",
    "        for another_lat,another_long in zip(top_n_dests['latitude'].astype(float),top_n_dests['longitude'].astype(float)):\n",
    "            #edge weight(Euclidean distance)\n",
    "            distance_between_the_places=np.sqrt((lat-another_lat)**2+(long-another_long)**2)\n",
    "            #print(distance_between_the_places)\n",
    "\n",
    "            #and store it in the 'graph' matrix\n",
    "            graph[i][j]=distance_between_the_places\n",
    "            #increment j \n",
    "            j+=1\n",
    "\n",
    "        #increment i\n",
    "        i+=1"
   ]
  },
  {
   "cell_type": "code",
   "execution_count": 12,
   "id": "def01802",
   "metadata": {},
   "outputs": [
    {
     "name": "stdout",
     "output_type": "stream",
     "text": [
      "[[0.         0.07196422 0.01730239 ...        nan        nan        nan]\n",
      " [0.07196422 0.         0.05852919 ...        nan        nan        nan]\n",
      " [0.01730239 0.05852919 0.         ...        nan        nan        nan]\n",
      " ...\n",
      " [       nan        nan        nan ...        nan        nan        nan]\n",
      " [       nan        nan        nan ...        nan        nan        nan]\n",
      " [       nan        nan        nan ...        nan        nan        nan]]\n"
     ]
    }
   ],
   "source": [
    "create_graph()\n",
    "print(graph)"
   ]
  },
  {
   "cell_type": "code",
   "execution_count": 13,
   "id": "12cb5c1f",
   "metadata": {},
   "outputs": [
    {
     "name": "stdout",
     "output_type": "stream",
     "text": [
      "Initial pheromone matrix (Tau):\n",
      "[[nan nan nan ... nan nan nan]\n",
      " [nan nan nan ... nan nan nan]\n",
      " [nan nan nan ... nan nan nan]\n",
      " ...\n",
      " [nan nan nan ... nan nan nan]\n",
      " [nan nan nan ... nan nan nan]\n",
      " [nan nan nan ... nan nan nan]]\n",
      "Desirability matrix (Eta):\n",
      "[[        inf 13.89579436 57.79547534 ...         nan         nan\n",
      "          nan]\n",
      " [13.89579436         inf 17.08549118 ...         nan         nan\n",
      "          nan]\n",
      " [57.79547534 17.08549118         inf ...         nan         nan\n",
      "          nan]\n",
      " ...\n",
      " [        nan         nan         nan ...         nan         nan\n",
      "          nan]\n",
      " [        nan         nan         nan ...         nan         nan\n",
      "          nan]\n",
      " [        nan         nan         nan ...         nan         nan\n",
      "          nan]]\n"
     ]
    },
    {
     "name": "stderr",
     "output_type": "stream",
     "text": [
      "/tmp/ipykernel_21331/1501364078.py:14: RuntimeWarning: divide by zero encountered in true_divide\n",
      "  eta=1/graph #inverse of cost (distance)\n"
     ]
    }
   ],
   "source": [
    "# Define the initial parameters of ACO\n",
    "max_iter=100 #max no of iterations\n",
    "ant_no=10 #number of ants \n",
    "\n",
    "#initial pheromone concentration\n",
    "tau_0=10*1/(n*np.mean(graph))\n",
    "\n",
    "#initial pheromone matrix\n",
    "tau = tau_0*np.ones((n,n))\n",
    "print(\"Initial pheromone matrix (Tau):\")\n",
    "print(tau)\n",
    "\n",
    "#desirability/quality of each edge,eta\n",
    "eta=1/graph #inverse of cost (distance)\n",
    "print(\"Desirability matrix (Eta):\")\n",
    "print(eta)\n",
    "\n",
    "rho=0.05 #evaporation rate\n",
    "alpha=2 #pheromone exponential parameter\n",
    "beta=1 #edge desirabiltu/quality exponential parameter\n"
   ]
  },
  {
   "cell_type": "code",
   "execution_count": 14,
   "id": "6af841d0",
   "metadata": {},
   "outputs": [
    {
     "name": "stdout",
     "output_type": "stream",
     "text": [
      "[nan nan nan nan nan nan nan nan nan nan nan nan nan nan nan nan nan nan\n",
      " nan nan nan nan nan nan nan nan nan nan nan nan nan nan nan nan nan nan\n",
      " nan nan nan nan nan nan nan nan nan nan nan nan nan nan nan nan nan nan\n",
      " nan nan nan nan nan nan nan nan nan nan nan nan nan nan nan nan nan nan\n",
      " nan nan nan nan nan nan nan nan nan nan nan nan nan nan nan nan nan nan\n",
      " nan nan nan nan nan nan nan nan nan nan nan nan nan nan nan nan nan nan\n",
      " nan nan nan nan nan nan nan nan nan nan nan nan nan nan nan nan nan nan\n",
      " nan nan nan nan nan nan nan nan nan nan nan nan nan nan nan nan nan nan\n",
      " nan nan nan nan nan nan nan nan nan nan nan nan nan nan nan nan nan nan\n",
      " nan nan nan nan nan nan nan nan nan nan nan nan nan nan nan nan nan nan\n",
      " nan nan nan nan nan nan nan nan nan nan nan nan nan nan nan nan nan nan\n",
      " nan nan]\n"
     ]
    }
   ],
   "source": [
    "print(tau[2,:]**alpha)"
   ]
  },
  {
   "cell_type": "code",
   "execution_count": 15,
   "id": "79c9f159",
   "metadata": {},
   "outputs": [
    {
     "name": "stdout",
     "output_type": "stream",
     "text": [
      "[ 57.79547534  17.08549118          inf  10.79519087  27.9845177\n",
      "  25.72165684  29.08254106   3.69544626  23.52673409  27.45535014\n",
      "   9.64190155   7.0873518    7.38031557  12.53604771  23.96143606\n",
      " 245.06730379  12.33939733  32.57626655  32.58185477  23.55013979\n",
      "   6.87737315  17.9003876   29.78811715   8.4896589   18.97757379\n",
      "  25.33948027  13.21829352  25.29222366  26.20129356   4.89178811\n",
      "  16.80811402  23.83432662   8.13897748  27.3031804   12.34520966\n",
      "  40.25411418   9.74101212  53.62108352  16.01650421  10.20694944\n",
      "  24.37872866  17.67171366  25.87290033  12.51613037  23.53708192\n",
      " 990.18126311  23.89323548  81.30777968  50.99793501  25.61392674\n",
      "  57.48913827  29.63823527  16.42596266 207.91662249   9.13698039\n",
      "  32.27319516  16.03897602  23.39434038  25.33476657  27.24370472\n",
      "  23.13301269  29.08701435  26.29890377  24.06166346  19.23581543\n",
      "  26.23952044  20.61186701  24.94948693  25.94595315  33.65715732\n",
      "  26.21416358  28.61787362  26.83908258  56.4788673   29.9004662\n",
      "  24.90661164  23.06384757  14.27444271  16.93548124  23.9014215\n",
      "  32.1673448   24.82152916  57.72821727  33.16871869  32.29576273\n",
      "  23.54775323  34.88753141  11.45923824  15.72175015  14.50742612\n",
      "  31.31856322  59.40944474  20.52323479 290.80993841  28.22888551\n",
      "          nan          nan          nan          nan          nan\n",
      "          nan          nan          nan          nan          nan\n",
      "          nan          nan          nan          nan          nan\n",
      "          nan          nan          nan          nan          nan\n",
      "          nan          nan          nan          nan          nan\n",
      "          nan          nan          nan          nan          nan\n",
      "          nan          nan          nan          nan          nan\n",
      "          nan          nan          nan          nan          nan\n",
      "          nan          nan          nan          nan          nan\n",
      "          nan          nan          nan          nan          nan\n",
      "          nan          nan          nan          nan          nan\n",
      "          nan          nan          nan          nan          nan\n",
      "          nan          nan          nan          nan          nan\n",
      "          nan          nan          nan          nan          nan\n",
      "          nan          nan          nan          nan          nan\n",
      "          nan          nan          nan          nan          nan\n",
      "          nan          nan          nan          nan          nan\n",
      "          nan          nan          nan          nan          nan\n",
      "          nan          nan          nan          nan          nan\n",
      "          nan          nan          nan          nan          nan\n",
      "          nan          nan          nan          nan          nan]\n"
     ]
    }
   ],
   "source": [
    "print(eta[2,:]**beta)"
   ]
  },
  {
   "cell_type": "markdown",
   "id": "f986e064",
   "metadata": {},
   "source": [
    "## Now moving on to the main loop of ACO"
   ]
  },
  {
   "cell_type": "code",
   "execution_count": 16,
   "id": "b2399e76",
   "metadata": {},
   "outputs": [],
   "source": [
    "# defining a function to create the ant colony \n",
    "def create_colony(graph,node_no,ant_no,tau,eta,alpha,beta,initial_node):\n",
    "    \"\"\"\n",
    "        creates an ant colony\n",
    "    \"\"\"\n",
    "    # create a list called 'colony'\n",
    "    # inside it, there will be ants ( represented by the indices)\n",
    "    # each position contains other list called 'tour' that contains\n",
    "    # the tour completed by each ant\n",
    "    colony=[[] for _ in range(ant_no)] #size of the colony=no of ants\n",
    "    \n",
    "    # Run iterations equal to the number of ants \n",
    "    for i in range(ant_no):\n",
    "        \n",
    "        # define the initial node\n",
    "        # we should take it as a parameter actually \n",
    "        # but let's take it random for now\n",
    "        # initial_node=np.random.randint(0,node_no)\n",
    "        \n",
    "        # nope we changed our mind \n",
    "        initial_node=initial_node\n",
    "        colony[i].append(initial_node)\n",
    "        \n",
    "#         print(colony)\n",
    "        \n",
    "        for j in range(node_no-1):\n",
    "            #to choose the rest of the nodes\n",
    "            \n",
    "            #current node is the last node in the list\n",
    "            current_node=int(colony[i][-1])\n",
    "#             print(\"current node:\",current_node)\n",
    "            \n",
    "            #use the following formula to calculate the probability \n",
    "            p_all_nodes=(tau[current_node,:]**alpha)*(eta[current_node,:]**beta)\n",
    "#             print(\"Prob:\",p_all_nodes)\n",
    "            \n",
    "            #make the probability of the visited nodes 0\n",
    "#             print(\"colony:\",colony)\n",
    "            for node in colony[i]:\n",
    "                p_all_nodes[node]=0\n",
    "                \n",
    "            #calculate the final probability\n",
    "            p=p_all_nodes/np.sum(p_all_nodes)\n",
    "#             print(\"Sum prob:\",np.sum(p_all_nodes))\n",
    "#             print(\"final prob:\",p)\n",
    "            \n",
    "            #Note: 'p'is a vector having size (1,node_no)   \n",
    "#             print(\"probability vector:\",p)\n",
    "            \n",
    "            #select the next node based on roulette wheel\n",
    "            next_node=roulette_wheel(p)\n",
    "            \n",
    "            #append next node to the tour \n",
    "            #made by the ant in the colony\n",
    "            colony[i].append(next_node)\n",
    "            \n",
    "        # to complete the tour, \n",
    "        # add the initial node to the end as well\n",
    "        \n",
    "        colony[i].append(initial_node)\n",
    "    return colony"
   ]
  },
  {
   "cell_type": "code",
   "execution_count": 17,
   "id": "9de7e847",
   "metadata": {},
   "outputs": [],
   "source": [
    "# let's implement the roulette wheel function\n",
    "def roulette_wheel(prob_vec):\n",
    "    \"\"\"\n",
    "        Selects the next node based on \n",
    "        the cumulative sum of the probabilities \n",
    "        in the probability vector\n",
    "    \"\"\"\n",
    "    #cumulative version of the prob_vec (p)\n",
    "    \n",
    "    cum_sum_p=np.cumsum(prob_vec)\n",
    "    \n",
    "    #choose a random value from 0 to 1\n",
    "    random_val=np.random.rand()\n",
    "#     print(\"random value:\",random_val)\n",
    "    \n",
    "    #choose the first index as next_node in the probability vector\n",
    "    #that has value more or equal to the random_val\n",
    "    \n",
    "#     print(\"cum sum:\",cum_sum_p)\n",
    "    \n",
    "    next_node = np.argwhere(cum_sum_p>=random_val)[0][0]\n",
    "    \n",
    "    #return the next_node\n",
    "    return next_node\n",
    "    "
   ]
  },
  {
   "cell_type": "markdown",
   "id": "66a7ed0e",
   "metadata": {},
   "source": [
    "### Now. let's define a function that calculates the fitness value of the route calculated"
   ]
  },
  {
   "cell_type": "code",
   "execution_count": 18,
   "id": "c8ad14dc",
   "metadata": {},
   "outputs": [],
   "source": [
    "def fitness_function(tour,graph):\n",
    "    \"\"\"\n",
    "        calculates the fitness of the tour\n",
    "        > basically, it's the sum of cost of all edges\n",
    "        in the tour.\n",
    "    \"\"\"\n",
    "    fitness=0\n",
    "    \n",
    "    for i in range(len(tour)-1):\n",
    "        \n",
    "        current_node=tour[i] # current node\n",
    "        next_node=tour[i+1] # next node\n",
    "        \n",
    "        # add the cost of current edge (current_node->next_node)\n",
    "        # to the overall fitness\n",
    "        \n",
    "        fitness = fitness + graph[current_node][next_node]\n",
    "        \n",
    "    return fitness"
   ]
  },
  {
   "cell_type": "markdown",
   "id": "b9f49a5d",
   "metadata": {},
   "source": [
    "### And a function to draw Pheromone graph"
   ]
  },
  {
   "cell_type": "code",
   "execution_count": 19,
   "id": "efef289c",
   "metadata": {},
   "outputs": [],
   "source": [
    "def draw_pheromone(ax,fig,tau,graph):\n",
    "    \"\"\"\n",
    "        Draws pheromone graph\n",
    "    \"\"\"\n",
    "    ax.clear()\n",
    "\n",
    "    # Maximum value of pheromone\n",
    "    max_tau=np.max(tau)\n",
    "    # Minimum value of pheromone\n",
    "    min_tau=np.min(tau)\n",
    "    \n",
    "    # Normalize the tau matrix\n",
    "    tau_normalized = (tau - min_tau)/(max_tau - min_tau)\n",
    "    for lat,long,i in zip(top_n_dests['latitude'],top_n_dests['longitude'],range(len(graph))):\n",
    "        for another_lat,another_long,j in zip(top_n_dests['latitude'],top_n_dests['longitude'],range(len(graph))):\n",
    "\n",
    "            # create a list holding the two latitude\n",
    "            lat_list=[lat,another_lat]\n",
    "            # also create a list holding the two longitudes \n",
    "            long_list=[long,another_long]\n",
    "            ax.plot(lat_list,long_list,color=(0,0,1-tau_normalized[i][j]), marker='o', linestyle='solid',linewidth=10*tau_normalized[i][j]+0.5, markersize=8,mfc = 'white')\n",
    "            fig.canvas.draw()\n",
    "            fig.canvas.flush_events()\n",
    "\n",
    "    \n",
    "    for title,x,y in zip(top_n_dests['title'],top_n_dests['latitude'],top_n_dests['longitude']):\n",
    "        label = \"{}\".format(title)\n",
    "        ax.annotate(label, # this is the text\n",
    "                 (x,y), # these are the coordinates to position the label\n",
    "                 textcoords=\"offset points\", # how to position the text\n",
    "                 xytext=(-5,5), # distance from text to points (x,y)\n",
    "                 ha='center') # horizontal alignment can be left, right or center\n",
    "    \n",
    "            "
   ]
  },
  {
   "cell_type": "markdown",
   "id": "c8f5abb7",
   "metadata": {},
   "source": [
    "### Also, a function to draw the best tour "
   ]
  },
  {
   "cell_type": "code",
   "execution_count": 20,
   "id": "049435a8",
   "metadata": {},
   "outputs": [],
   "source": [
    "def draw_best_tour(ax,fig,best_tour,graph):\n",
    "    \"\"\"\n",
    "        function to draw the best tour\n",
    "    \"\"\"\n",
    "    ax.clear()\n",
    "\n",
    "    for i in range(len(best_tour)-1):\n",
    "        #extract the current node and the next node\n",
    "        current_node=best_tour[i]\n",
    "        next_node=best_tour[i+1]\n",
    "        \n",
    "        #draw a line between current node and next node\n",
    "        \n",
    "        #latitude and longitude of the current node\n",
    "        lat_current,long_current=top_n_dests.iloc[current_node]['latitude'],top_n_dests.iloc[current_node]['longitude']\n",
    "        \n",
    "        #latitude and longitude of the next node\n",
    "        lat_next,long_next=top_n_dests.iloc[next_node]['latitude'],top_n_dests.iloc[next_node]['longitude']\n",
    "        \n",
    "        lat_list=[lat_current,lat_next]\n",
    "        long_list=[long_current,long_next]\n",
    "        \n",
    "        plt.plot(lat_list,long_list,color='green', marker='o', linestyle='solid',linewidth=2, markersize=8,mfc = 'white')\n",
    "        fig.canvas.draw()\n",
    "        fig.canvas.flush_events()\n",
    "\n",
    "        \n",
    "    #for annotation\n",
    "    for title,x,y in zip(top_n_dests['title'],top_n_dests['latitude'],top_n_dests['longitude']):\n",
    "        label = \"{}\".format(title)\n",
    "        \n",
    "        ax.annotate(label, # this is the text\n",
    "                 (x,y), # these are the coordinates to position the label\n",
    "                 textcoords=\"offset points\", # how to position the text\n",
    "                 xytext=(-5,5), # distance from text to points (x,y)\n",
    "                 ha='center') # horizontal alignment can be left, right or center"
   ]
  },
  {
   "cell_type": "markdown",
   "id": "92e4df06",
   "metadata": {},
   "source": [
    "### Also , a function to update the pheromone matrix"
   ]
  },
  {
   "cell_type": "code",
   "execution_count": 21,
   "id": "43fd5f48",
   "metadata": {},
   "outputs": [],
   "source": [
    "def update_pheromone(tau,colony,fitness_list):\n",
    "    \"\"\"\n",
    "        function to update the pheromone matrix\n",
    "    \"\"\"\n",
    "    node_no=len(colony[1])\n",
    "    ant_no=len(colony)\n",
    "    \n",
    "    for i in range(ant_no):\n",
    "        # for each ant\n",
    "        for j in range(node_no-1):\n",
    "            # for each node in the tour \n",
    "            current_node=colony[i][j]\n",
    "            next_node=colony[i][j+1]\n",
    "            \n",
    "            tau[current_node,next_node]=tau[current_node,next_node]+1/fitness_list[i]\n",
    "            tau[next_node,current_node]=tau[next_node,current_node]+1/fitness_list[i]\n",
    "    \n",
    "    return tau"
   ]
  },
  {
   "cell_type": "code",
   "execution_count": 22,
   "id": "ae337204",
   "metadata": {},
   "outputs": [],
   "source": [
    "import time"
   ]
  },
  {
   "cell_type": "markdown",
   "id": "aca9b6ef",
   "metadata": {},
   "source": [
    "## Main ACO loop "
   ]
  },
  {
   "cell_type": "code",
   "execution_count": 23,
   "id": "eaf6962f",
   "metadata": {
    "scrolled": true
   },
   "outputs": [
    {
     "ename": "IndexError",
     "evalue": "index 0 is out of bounds for axis 0 with size 0",
     "output_type": "error",
     "traceback": [
      "\u001b[0;31m---------------------------------------------------------------------------\u001b[0m",
      "\u001b[0;31mIndexError\u001b[0m                                Traceback (most recent call last)",
      "\u001b[0;32m/tmp/ipykernel_21331/1927696623.py\u001b[0m in \u001b[0;36m<module>\u001b[0;34m\u001b[0m\n\u001b[1;32m     26\u001b[0m     \u001b[0;31m# create ant colony\u001b[0m\u001b[0;34m\u001b[0m\u001b[0;34m\u001b[0m\u001b[0m\n\u001b[1;32m     27\u001b[0m     \u001b[0mcolony\u001b[0m\u001b[0;34m=\u001b[0m\u001b[0;34m[\u001b[0m\u001b[0;34m]\u001b[0m \u001b[0;31m# store it as a list\u001b[0m\u001b[0;34m\u001b[0m\u001b[0;34m\u001b[0m\u001b[0m\n\u001b[0;32m---> 28\u001b[0;31m     \u001b[0mcolony\u001b[0m\u001b[0;34m=\u001b[0m\u001b[0mcreate_colony\u001b[0m\u001b[0;34m(\u001b[0m\u001b[0mgraph\u001b[0m\u001b[0;34m,\u001b[0m\u001b[0mn\u001b[0m\u001b[0;34m,\u001b[0m\u001b[0mant_no\u001b[0m\u001b[0;34m,\u001b[0m\u001b[0mtau\u001b[0m\u001b[0;34m,\u001b[0m\u001b[0meta\u001b[0m\u001b[0;34m,\u001b[0m\u001b[0malpha\u001b[0m\u001b[0;34m,\u001b[0m\u001b[0mbeta\u001b[0m\u001b[0;34m,\u001b[0m\u001b[0mstarting_point\u001b[0m\u001b[0;34m)\u001b[0m\u001b[0;34m\u001b[0m\u001b[0;34m\u001b[0m\u001b[0m\n\u001b[0m\u001b[1;32m     29\u001b[0m \u001b[0;31m#     print(f\"Iteration #{i}:\")\u001b[0m\u001b[0;34m\u001b[0m\u001b[0;34m\u001b[0m\u001b[0m\n\u001b[1;32m     30\u001b[0m \u001b[0;31m#     print(colony)\u001b[0m\u001b[0;34m\u001b[0m\u001b[0;34m\u001b[0m\u001b[0m\n",
      "\u001b[0;32m/tmp/ipykernel_21331/2539492761.py\u001b[0m in \u001b[0;36mcreate_colony\u001b[0;34m(graph, node_no, ant_no, tau, eta, alpha, beta, initial_node)\u001b[0m\n\u001b[1;32m     49\u001b[0m \u001b[0;34m\u001b[0m\u001b[0m\n\u001b[1;32m     50\u001b[0m             \u001b[0;31m#select the next node based on roulette wheel\u001b[0m\u001b[0;34m\u001b[0m\u001b[0;34m\u001b[0m\u001b[0m\n\u001b[0;32m---> 51\u001b[0;31m             \u001b[0mnext_node\u001b[0m\u001b[0;34m=\u001b[0m\u001b[0mroulette_wheel\u001b[0m\u001b[0;34m(\u001b[0m\u001b[0mp\u001b[0m\u001b[0;34m)\u001b[0m\u001b[0;34m\u001b[0m\u001b[0;34m\u001b[0m\u001b[0m\n\u001b[0m\u001b[1;32m     52\u001b[0m \u001b[0;34m\u001b[0m\u001b[0m\n\u001b[1;32m     53\u001b[0m             \u001b[0;31m#append next node to the tour\u001b[0m\u001b[0;34m\u001b[0m\u001b[0;34m\u001b[0m\u001b[0m\n",
      "\u001b[0;32m/tmp/ipykernel_21331/1321990981.py\u001b[0m in \u001b[0;36mroulette_wheel\u001b[0;34m(prob_vec)\u001b[0m\n\u001b[1;32m     19\u001b[0m \u001b[0;31m#     print(\"cum sum:\",cum_sum_p)\u001b[0m\u001b[0;34m\u001b[0m\u001b[0;34m\u001b[0m\u001b[0m\n\u001b[1;32m     20\u001b[0m \u001b[0;34m\u001b[0m\u001b[0m\n\u001b[0;32m---> 21\u001b[0;31m     \u001b[0mnext_node\u001b[0m \u001b[0;34m=\u001b[0m \u001b[0mnp\u001b[0m\u001b[0;34m.\u001b[0m\u001b[0margwhere\u001b[0m\u001b[0;34m(\u001b[0m\u001b[0mcum_sum_p\u001b[0m\u001b[0;34m>=\u001b[0m\u001b[0mrandom_val\u001b[0m\u001b[0;34m)\u001b[0m\u001b[0;34m[\u001b[0m\u001b[0;36m0\u001b[0m\u001b[0;34m]\u001b[0m\u001b[0;34m[\u001b[0m\u001b[0;36m0\u001b[0m\u001b[0;34m]\u001b[0m\u001b[0;34m\u001b[0m\u001b[0;34m\u001b[0m\u001b[0m\n\u001b[0m\u001b[1;32m     22\u001b[0m \u001b[0;34m\u001b[0m\u001b[0m\n\u001b[1;32m     23\u001b[0m     \u001b[0;31m#return the next_node\u001b[0m\u001b[0;34m\u001b[0m\u001b[0;34m\u001b[0m\u001b[0m\n",
      "\u001b[0;31mIndexError\u001b[0m: index 0 is out of bounds for axis 0 with size 0"
     ]
    }
   ],
   "source": [
    "# Main loop\n",
    "\n",
    "best_fitness=np.inf\n",
    "best_tour=[]\n",
    "\n",
    "# %matplotlib notebook\n",
    "\n",
    "# fig = plt.figure(figsize=(10,10))\n",
    "# ax1 = fig.add_subplot(131)\n",
    "# ax2 = fig.add_subplot(132)\n",
    "# ax3 = fig.add_subplot(133)\n",
    "\n",
    "# ax1.title.set_text('Initial Mesh')\n",
    "# ax2.title.set_text('Pheromone Graph Plot')\n",
    "# ax3.title.set_text('Best Tour Plot')\n",
    "# plt.ion()\n",
    "\n",
    "# # plt.title(\"Pheromone graph plot:\")\n",
    "# fig.show()\n",
    "# fig.canvas.draw()\n",
    "\n",
    "#let's draw the initial graph (mesh) first\n",
    "# plot_graph(ax1,fig)\n",
    "time_in=time.time()\n",
    "for i in range(max_iter):\n",
    "    # create ant colony\n",
    "    colony=[] # store it as a list\n",
    "    colony=create_colony(graph,n,ant_no,tau,eta,alpha,beta,starting_point)\n",
    "#     print(f\"Iteration #{i}:\")\n",
    "#     print(colony)\n",
    "    \n",
    "    # initializing fitness_list\n",
    "    fitness_list=[0]*ant_no\n",
    "    \n",
    "    # calculate the fitness value of all ants\n",
    "    for ant_i in range(ant_no):\n",
    "        fitness_list[ant_i]=fitness_function(colony[ant_i],graph)\n",
    "        \n",
    "#     print(fitness_list)\n",
    "    \n",
    "    # find the best ant \n",
    "    min_value=np.min(fitness_list)\n",
    "    min_index=np.argmin(fitness_list) #best ant\n",
    "    \n",
    "    if min_value<best_fitness:\n",
    "        # replace best_fitness even smaller min_value is found\n",
    "        best_fitness=min_value\n",
    "        best_tour=colony[min_index] #tour of the best ant\n",
    "        \n",
    "#     print(\"Best fitness: \",best_fitness)\n",
    "#     print(\"Best tour: \",best_tour)\n",
    "    \n",
    "    # update phermone matrix\n",
    "    tau=update_pheromone(tau,colony,fitness_list)\n",
    "    \n",
    "    # print(\"Updated pheromone matrix:\",tau)\n",
    "    \n",
    "    # apply evaporation\n",
    "    tau=(1-rho)*tau\n",
    "    \n",
    "    # print(\"Updated pheromone matrix:\",tau)\n",
    "    \n",
    "    # plot the pheromone graph\n",
    "    # draw_pheromone(ax2,fig,tau,graph)\n",
    "    \n",
    "    # plot the best tour\n",
    "    # draw_best_tour(ax3,fig,best_tour,graph)\n",
    "\n",
    "#     plt.subplot(1,3,1)\n",
    "#     %matplotlib tk\n",
    "#     plt.figure(1)\n",
    "    \n",
    "#     draw_pheromone(tau,graph)\n",
    "\n",
    "    \n",
    "    \n",
    "# drawing the best tour plot \n",
    "# draw_best_tour(ax3,fig,best_tour,graph)\n",
    "\n",
    "# drawing end pheromone graph\n",
    "# draw_pheromone(ax2,fig,tau,graph)\n",
    "\n",
    "# display the names of destinations in the last tour\n",
    "# print(\"Best tour obtained:\")\n",
    "print(best_tour)\n",
    "time_out=time.time()\n",
    "print(time_out-time_in)\n",
    "for i in best_tour:\n",
    "    print(top_n_dests.iloc[i][\"title\"],end='')\n",
    "    print(\"--->\",end='')"
   ]
  },
  {
   "cell_type": "code",
   "execution_count": null,
   "id": "883d1b1e",
   "metadata": {},
   "outputs": [],
   "source": [
    "# plt.savefig('sample.png')"
   ]
  },
  {
   "cell_type": "code",
   "execution_count": null,
   "id": "7f308be3",
   "metadata": {},
   "outputs": [],
   "source": [
    "#actual distance given by Vincenty distance using more accurate ellipsoidal models such as WGS-84 than Haversine\n",
    "import geopy.distance\n",
    "total_distance=0 #total actual distance\n",
    "\n",
    "for i in range(len(best_tour)-1):\n",
    "    coords_1 = (top_n_dests.iloc[best_tour[i]][\"latitude\"],top_n_dests.iloc[best_tour[i]][\"longitude\"])\n",
    "    coords_2 = (top_n_dests.iloc[best_tour[i+1]][\"latitude\"],top_n_dests.iloc[best_tour[i+1]][\"longitude\"])\n",
    "    \n",
    "    #names of destinations connected\n",
    "    src=top_n_dests.iloc[best_tour[i]][\"title\"]\n",
    "    dest=top_n_dests.iloc[best_tour[i+1]][\"title\"]\n",
    "    distance=geopy.distance.geodesic(coords_1, coords_2).km\n",
    "    print (f'{str(src)+\"->\"+str(dest)}',distance)\n",
    "    total_distance=total_distance+distance\n",
    "\n",
    "print(\"Total distance(km): \",total_distance)"
   ]
  },
  {
   "cell_type": "code",
   "execution_count": null,
   "id": "be027d58",
   "metadata": {},
   "outputs": [],
   "source": []
  },
  {
   "cell_type": "code",
   "execution_count": null,
   "id": "ba9712b3",
   "metadata": {},
   "outputs": [],
   "source": []
  }
 ],
 "metadata": {
  "kernelspec": {
   "display_name": "Python 3 (ipykernel)",
   "language": "python",
   "name": "python3"
  },
  "language_info": {
   "codemirror_mode": {
    "name": "ipython",
    "version": 3
   },
   "file_extension": ".py",
   "mimetype": "text/x-python",
   "name": "python",
   "nbconvert_exporter": "python",
   "pygments_lexer": "ipython3",
   "version": "3.9.7"
  }
 },
 "nbformat": 4,
 "nbformat_minor": 5
}
